{
 "cells": [
  {
   "cell_type": "markdown",
   "id": "501268a1-2347-46dd-ae4e-d4424b0261a9",
   "metadata": {},
   "source": [
    "# Make Dataset"
   ]
  },
  {
   "cell_type": "markdown",
   "id": "acf646a6-efa3-41e0-9454-51f41d501a00",
   "metadata": {},
   "source": [
    "## Imports"
   ]
  },
  {
   "cell_type": "code",
   "execution_count": 1,
   "id": "d5b91abe-37c4-4478-9207-7b7d4b5daf5a",
   "metadata": {},
   "outputs": [],
   "source": [
    "from PlantReactivityAnalysis.data.wav_data_reader import WavDataReader\n",
    "from PlantReactivityAnalysis.data.signal_dataset import SignalDataset\n",
    "from PlantReactivityAnalysis.features.wav_feature_extractor import WavFeatureExtractor\n",
    "from PlantReactivityAnalysis.features.features_dataset import FeaturesDataset\n",
    "import PlantReactivityAnalysis.data.preparation_eurythmy_data as ped"
   ]
  },
  {
   "cell_type": "code",
   "execution_count": 2,
   "id": "add03c7b-fe89-4ee7-b7e9-3b900f815d7b",
   "metadata": {},
   "outputs": [],
   "source": [
    "import pandas as pd\n",
    "pd.set_option('display.max_columns', None)"
   ]
  },
  {
   "cell_type": "markdown",
   "id": "c1f8ae78-fa89-411a-b113-dfc46333de1f",
   "metadata": {},
   "source": [
    "## Reader"
   ]
  },
  {
   "cell_type": "code",
   "execution_count": 3,
   "id": "2ab39bbd",
   "metadata": {},
   "outputs": [],
   "source": [
    "wav_folder= r\"..\\data\\raw\\wav_files\"\n",
    "#wav_folder= r\"..\\data\\interim\\testing\""
   ]
  },
  {
   "cell_type": "code",
   "execution_count": 3,
   "id": "eb1dc723-ac03-42e8-b4cc-0364d069e2b1",
   "metadata": {},
   "outputs": [
    {
     "name": "stdout",
     "output_type": "stream",
     "text": [
      "Total WAV files read: 625\n"
     ]
    }
   ],
   "source": [
    "# Initialize the reader with the folder of wavs\n",
    "reader= WavDataReader(folder= wav_folder, sample_rate= 10000)\n",
    "\n",
    "# Get the signals and the keys from the reader\n",
    "signals, ids= reader.get_values_and_keys()\n",
    "\n",
    "# Get the measurement labels from the keys of the files\n",
    "meas_df= ped.return_meas_labels_by_keys(ids)"
   ]
  },
  {
   "cell_type": "code",
   "execution_count": 4,
   "id": "1317c359-637a-4471-974c-fc9beebfb9e4",
   "metadata": {},
   "outputs": [
    {
     "data": {
      "text/html": [
       "<div>\n",
       "<style scoped>\n",
       "    .dataframe tbody tr th:only-of-type {\n",
       "        vertical-align: middle;\n",
       "    }\n",
       "\n",
       "    .dataframe tbody tr th {\n",
       "        vertical-align: top;\n",
       "    }\n",
       "\n",
       "    .dataframe thead th {\n",
       "        text-align: right;\n",
       "    }\n",
       "</style>\n",
       "<table border=\"1\" class=\"dataframe\">\n",
       "  <thead>\n",
       "    <tr style=\"text-align: right;\">\n",
       "      <th></th>\n",
       "      <th>id_measurement</th>\n",
       "      <th>id_performance</th>\n",
       "      <th>datetime</th>\n",
       "      <th>plant</th>\n",
       "      <th>generation</th>\n",
       "      <th>num_eurythmy</th>\n",
       "    </tr>\n",
       "  </thead>\n",
       "  <tbody>\n",
       "    <tr>\n",
       "      <th>0</th>\n",
       "      <td>1</td>\n",
       "      <td>1</td>\n",
       "      <td>2023-04-29</td>\n",
       "      <td>salad</td>\n",
       "      <td>1</td>\n",
       "      <td>1</td>\n",
       "    </tr>\n",
       "    <tr>\n",
       "      <th>1</th>\n",
       "      <td>2</td>\n",
       "      <td>1</td>\n",
       "      <td>2023-04-29</td>\n",
       "      <td>salad</td>\n",
       "      <td>1</td>\n",
       "      <td>1</td>\n",
       "    </tr>\n",
       "    <tr>\n",
       "      <th>2</th>\n",
       "      <td>3</td>\n",
       "      <td>1</td>\n",
       "      <td>2023-04-29</td>\n",
       "      <td>salad</td>\n",
       "      <td>1</td>\n",
       "      <td>1</td>\n",
       "    </tr>\n",
       "    <tr>\n",
       "      <th>3</th>\n",
       "      <td>4</td>\n",
       "      <td>1</td>\n",
       "      <td>2023-04-29</td>\n",
       "      <td>salad</td>\n",
       "      <td>2</td>\n",
       "      <td>0</td>\n",
       "    </tr>\n",
       "    <tr>\n",
       "      <th>4</th>\n",
       "      <td>5</td>\n",
       "      <td>1</td>\n",
       "      <td>2023-04-29</td>\n",
       "      <td>salad</td>\n",
       "      <td>2</td>\n",
       "      <td>0</td>\n",
       "    </tr>\n",
       "  </tbody>\n",
       "</table>\n",
       "</div>"
      ],
      "text/plain": [
       "   id_measurement  id_performance    datetime  plant  generation  num_eurythmy\n",
       "0               1               1  2023-04-29  salad           1             1\n",
       "1               2               1  2023-04-29  salad           1             1\n",
       "2               3               1  2023-04-29  salad           1             1\n",
       "3               4               1  2023-04-29  salad           2             0\n",
       "4               5               1  2023-04-29  salad           2             0"
      ]
     },
     "execution_count": 4,
     "metadata": {},
     "output_type": "execute_result"
    }
   ],
   "source": [
    "meas_df.head()"
   ]
  },
  {
   "cell_type": "markdown",
   "id": "f94af8a1-535a-49ce-99ec-6083def60efc",
   "metadata": {},
   "source": [
    "## Signal Dataset"
   ]
  },
  {
   "cell_type": "markdown",
   "id": "35f44e87-71a0-43bf-b3ea-482d7ca9ef8b",
   "metadata": {},
   "source": [
    "### Raw"
   ]
  },
  {
   "cell_type": "code",
   "execution_count": 5,
   "id": "b3c0a939-9e62-4147-a928-d957ecf2660c",
   "metadata": {},
   "outputs": [],
   "source": [
    "# Initialize SignalDataset with the signals and features/labels\n",
    "signal_dataset= SignalDataset(signals= signals, features= meas_df)"
   ]
  },
  {
   "cell_type": "code",
   "execution_count": 6,
   "id": "66901cbb-bbe8-4bfe-921a-074cd094d73f",
   "metadata": {},
   "outputs": [
    {
     "data": {
      "text/plain": [
       "(625, 6)"
      ]
     },
     "execution_count": 6,
     "metadata": {},
     "output_type": "execute_result"
    }
   ],
   "source": [
    "signal_dataset.features.shape"
   ]
  },
  {
   "cell_type": "code",
   "execution_count": 7,
   "id": "1182aab9-cfce-4a18-a16c-1dee12231b43",
   "metadata": {},
   "outputs": [
    {
     "data": {
      "text/html": [
       "<div>\n",
       "<style scoped>\n",
       "    .dataframe tbody tr th:only-of-type {\n",
       "        vertical-align: middle;\n",
       "    }\n",
       "\n",
       "    .dataframe tbody tr th {\n",
       "        vertical-align: top;\n",
       "    }\n",
       "\n",
       "    .dataframe thead th {\n",
       "        text-align: right;\n",
       "    }\n",
       "</style>\n",
       "<table border=\"1\" class=\"dataframe\">\n",
       "  <thead>\n",
       "    <tr style=\"text-align: right;\">\n",
       "      <th></th>\n",
       "      <th>id_measurement</th>\n",
       "      <th>id_performance</th>\n",
       "      <th>datetime</th>\n",
       "      <th>plant</th>\n",
       "      <th>generation</th>\n",
       "      <th>num_eurythmy</th>\n",
       "    </tr>\n",
       "  </thead>\n",
       "  <tbody>\n",
       "    <tr>\n",
       "      <th>0</th>\n",
       "      <td>1</td>\n",
       "      <td>1</td>\n",
       "      <td>2023-04-29</td>\n",
       "      <td>salad</td>\n",
       "      <td>1</td>\n",
       "      <td>1</td>\n",
       "    </tr>\n",
       "    <tr>\n",
       "      <th>1</th>\n",
       "      <td>2</td>\n",
       "      <td>1</td>\n",
       "      <td>2023-04-29</td>\n",
       "      <td>salad</td>\n",
       "      <td>1</td>\n",
       "      <td>1</td>\n",
       "    </tr>\n",
       "    <tr>\n",
       "      <th>2</th>\n",
       "      <td>3</td>\n",
       "      <td>1</td>\n",
       "      <td>2023-04-29</td>\n",
       "      <td>salad</td>\n",
       "      <td>1</td>\n",
       "      <td>1</td>\n",
       "    </tr>\n",
       "    <tr>\n",
       "      <th>3</th>\n",
       "      <td>4</td>\n",
       "      <td>1</td>\n",
       "      <td>2023-04-29</td>\n",
       "      <td>salad</td>\n",
       "      <td>2</td>\n",
       "      <td>0</td>\n",
       "    </tr>\n",
       "    <tr>\n",
       "      <th>4</th>\n",
       "      <td>5</td>\n",
       "      <td>1</td>\n",
       "      <td>2023-04-29</td>\n",
       "      <td>salad</td>\n",
       "      <td>2</td>\n",
       "      <td>0</td>\n",
       "    </tr>\n",
       "  </tbody>\n",
       "</table>\n",
       "</div>"
      ],
      "text/plain": [
       "   id_measurement  id_performance    datetime  plant  generation  num_eurythmy\n",
       "0               1               1  2023-04-29  salad           1             1\n",
       "1               2               1  2023-04-29  salad           1             1\n",
       "2               3               1  2023-04-29  salad           1             1\n",
       "3               4               1  2023-04-29  salad           2             0\n",
       "4               5               1  2023-04-29  salad           2             0"
      ]
     },
     "execution_count": 7,
     "metadata": {},
     "output_type": "execute_result"
    }
   ],
   "source": [
    "signal_dataset.features.head()"
   ]
  },
  {
   "cell_type": "code",
   "execution_count": 8,
   "id": "e97f9208-7645-4d63-a094-d118e77dfb51",
   "metadata": {},
   "outputs": [],
   "source": [
    "# Save and Load the dataset\n",
    "raw_signal_dataset_path= r\"..\\data\\raw\\raw_signal_dataset.pkl\"\n",
    "signal_dataset.save(raw_signal_dataset_path)\n",
    "signal_dataset= SignalDataset.load(raw_signal_dataset_path)"
   ]
  },
  {
   "cell_type": "markdown",
   "id": "acb167f2-e9f2-4891-97b2-eb686b56db8b",
   "metadata": {},
   "source": [
    "### Normalized"
   ]
  },
  {
   "cell_type": "code",
   "execution_count": 9,
   "id": "76e7c6e2-aed0-499c-b906-f02a098d1247",
   "metadata": {},
   "outputs": [],
   "source": [
    "# Standardize Signals using Zscore\n",
    "signal_dataset.standardize_signals(\"zscore\")"
   ]
  },
  {
   "cell_type": "code",
   "execution_count": 10,
   "id": "8bfc37a4-9df2-43a2-8c7d-4390c78a0e37",
   "metadata": {},
   "outputs": [
    {
     "data": {
      "text/plain": [
       "(625, 6)"
      ]
     },
     "execution_count": 10,
     "metadata": {},
     "output_type": "execute_result"
    }
   ],
   "source": [
    "signal_dataset.features.shape"
   ]
  },
  {
   "cell_type": "code",
   "execution_count": 11,
   "id": "86ce56bc-e07b-41a6-8fdf-81b35968a54b",
   "metadata": {},
   "outputs": [],
   "source": [
    "# Save the dataset\n",
    "norm_signal_dataset_path= r\"..\\data\\interim\\norm_signal_dataset.pkl\"\n",
    "signal_dataset.save(norm_signal_dataset_path)"
   ]
  },
  {
   "cell_type": "markdown",
   "id": "59bbc9b1-288d-4f20-9177-ad748ce70cb3",
   "metadata": {},
   "source": [
    "### Segmented by Letters (raw)"
   ]
  },
  {
   "cell_type": "code",
   "execution_count": 12,
   "id": "e96354dd-196f-47d4-a0f4-5aae72db519a",
   "metadata": {},
   "outputs": [],
   "source": [
    "# Load raw dataset\n",
    "signal_dataset= SignalDataset.load(raw_signal_dataset_path)"
   ]
  },
  {
   "cell_type": "code",
   "execution_count": 13,
   "id": "c6bd1a90-9d96-4a54-a59c-560f374f155d",
   "metadata": {},
   "outputs": [],
   "source": [
    "# Get Letter segments from raw data\n",
    "letter_dictionary= ped.return_letter_dictionary(indexes= signal_dataset.features['id_measurement'].tolist())"
   ]
  },
  {
   "cell_type": "code",
   "execution_count": 14,
   "id": "6e909344-4caf-4173-8cb8-4817f8ed2a05",
   "metadata": {},
   "outputs": [],
   "source": [
    "# Segment the dataset\n",
    "signal_dataset.segment_signals_by_dict('id_measurement', letter_dictionary, 'eurythmy_letter')"
   ]
  },
  {
   "cell_type": "code",
   "execution_count": 15,
   "id": "5ae0ae7c-6445-494c-8cae-8347751809ca",
   "metadata": {},
   "outputs": [
    {
     "data": {
      "text/plain": [
       "(8390, 7)"
      ]
     },
     "execution_count": 15,
     "metadata": {},
     "output_type": "execute_result"
    }
   ],
   "source": [
    "signal_dataset.features.shape"
   ]
  },
  {
   "cell_type": "code",
   "execution_count": 16,
   "id": "db7ddbb3-b94a-45c3-8d99-5d770d124fd5",
   "metadata": {},
   "outputs": [
    {
     "data": {
      "text/html": [
       "<div>\n",
       "<style scoped>\n",
       "    .dataframe tbody tr th:only-of-type {\n",
       "        vertical-align: middle;\n",
       "    }\n",
       "\n",
       "    .dataframe tbody tr th {\n",
       "        vertical-align: top;\n",
       "    }\n",
       "\n",
       "    .dataframe thead th {\n",
       "        text-align: right;\n",
       "    }\n",
       "</style>\n",
       "<table border=\"1\" class=\"dataframe\">\n",
       "  <thead>\n",
       "    <tr style=\"text-align: right;\">\n",
       "      <th></th>\n",
       "      <th>id_measurement</th>\n",
       "      <th>id_performance</th>\n",
       "      <th>datetime</th>\n",
       "      <th>plant</th>\n",
       "      <th>generation</th>\n",
       "      <th>num_eurythmy</th>\n",
       "      <th>eurythmy_letter</th>\n",
       "    </tr>\n",
       "  </thead>\n",
       "  <tbody>\n",
       "    <tr>\n",
       "      <th>0</th>\n",
       "      <td>1</td>\n",
       "      <td>1</td>\n",
       "      <td>2023-04-29</td>\n",
       "      <td>salad</td>\n",
       "      <td>1</td>\n",
       "      <td>1</td>\n",
       "      <td>A1</td>\n",
       "    </tr>\n",
       "    <tr>\n",
       "      <th>1</th>\n",
       "      <td>1</td>\n",
       "      <td>1</td>\n",
       "      <td>2023-04-29</td>\n",
       "      <td>salad</td>\n",
       "      <td>1</td>\n",
       "      <td>1</td>\n",
       "      <td>G1</td>\n",
       "    </tr>\n",
       "    <tr>\n",
       "      <th>2</th>\n",
       "      <td>1</td>\n",
       "      <td>1</td>\n",
       "      <td>2023-04-29</td>\n",
       "      <td>salad</td>\n",
       "      <td>1</td>\n",
       "      <td>1</td>\n",
       "      <td>D1</td>\n",
       "    </tr>\n",
       "    <tr>\n",
       "      <th>3</th>\n",
       "      <td>1</td>\n",
       "      <td>1</td>\n",
       "      <td>2023-04-29</td>\n",
       "      <td>salad</td>\n",
       "      <td>1</td>\n",
       "      <td>1</td>\n",
       "      <td>A2</td>\n",
       "    </tr>\n",
       "    <tr>\n",
       "      <th>4</th>\n",
       "      <td>1</td>\n",
       "      <td>1</td>\n",
       "      <td>2023-04-29</td>\n",
       "      <td>salad</td>\n",
       "      <td>1</td>\n",
       "      <td>1</td>\n",
       "      <td>G2</td>\n",
       "    </tr>\n",
       "  </tbody>\n",
       "</table>\n",
       "</div>"
      ],
      "text/plain": [
       "   id_measurement  id_performance    datetime  plant  generation  \\\n",
       "0               1               1  2023-04-29  salad           1   \n",
       "1               1               1  2023-04-29  salad           1   \n",
       "2               1               1  2023-04-29  salad           1   \n",
       "3               1               1  2023-04-29  salad           1   \n",
       "4               1               1  2023-04-29  salad           1   \n",
       "\n",
       "   num_eurythmy eurythmy_letter  \n",
       "0             1              A1  \n",
       "1             1              G1  \n",
       "2             1              D1  \n",
       "3             1              A2  \n",
       "4             1              G2  "
      ]
     },
     "execution_count": 16,
     "metadata": {},
     "output_type": "execute_result"
    }
   ],
   "source": [
    "signal_dataset.features.head()"
   ]
  },
  {
   "cell_type": "code",
   "execution_count": 4,
   "id": "66c9defe-519b-4a1c-ab26-b00e17be4a00",
   "metadata": {},
   "outputs": [],
   "source": [
    "raw_letters_signal_dataset_path= r\"..\\data\\raw\\raw_letters_signal_dataset.pkl\""
   ]
  },
  {
   "cell_type": "code",
   "execution_count": 18,
   "id": "743e5e02-ab10-4c0d-a2fd-dca2fe2646e5",
   "metadata": {},
   "outputs": [],
   "source": [
    "# Save the dataset\n",
    "signal_dataset.save(raw_letters_signal_dataset_path)"
   ]
  },
  {
   "cell_type": "markdown",
   "id": "10f95007-df51-4574-beb7-6442b8a91e24",
   "metadata": {},
   "source": [
    "### Segmented by Letters (normalized)"
   ]
  },
  {
   "cell_type": "code",
   "execution_count": 19,
   "id": "4a925a94-488e-4690-b44e-58a4103fa46b",
   "metadata": {},
   "outputs": [],
   "source": [
    "# Load normalized dataset\n",
    "signal_dataset= SignalDataset.load(norm_signal_dataset_path)"
   ]
  },
  {
   "cell_type": "code",
   "execution_count": 20,
   "id": "3e4071d4-8311-496f-9e17-30b0fe22a306",
   "metadata": {},
   "outputs": [],
   "source": [
    "# Get Letter segments from raw data\n",
    "letter_dictionary= ped.return_letter_dictionary(indexes= signal_dataset.features['id_measurement'].tolist())"
   ]
  },
  {
   "cell_type": "code",
   "execution_count": 21,
   "id": "37becb34-49ed-435b-a46f-dd60d42e12d9",
   "metadata": {},
   "outputs": [],
   "source": [
    "# Segment the dataset\n",
    "signal_dataset.segment_signals_by_dict('id_measurement', letter_dictionary, 'eurythmy_letter')"
   ]
  },
  {
   "cell_type": "code",
   "execution_count": 5,
   "id": "ddacc08c-2086-4e19-8d68-20f8b6320b0b",
   "metadata": {},
   "outputs": [],
   "source": [
    "norm_letters_signal_dataset_path= r\"..\\data\\interim\\norm_letters_signal_dataset.pkl\""
   ]
  },
  {
   "cell_type": "code",
   "execution_count": 23,
   "id": "cb44ea86-3753-4a24-b853-a464000b1a13",
   "metadata": {},
   "outputs": [],
   "source": [
    "# Save the dataset\n",
    "signal_dataset.save(norm_letters_signal_dataset_path)"
   ]
  },
  {
   "cell_type": "markdown",
   "id": "fc72275c-adea-4555-89f7-dfb8d5c5cb5f",
   "metadata": {},
   "source": [
    "### Segmented in 1s (raw)"
   ]
  },
  {
   "cell_type": "code",
   "execution_count": 24,
   "id": "fdd173ec-a32b-4792-8989-6a87996ae0c8",
   "metadata": {},
   "outputs": [],
   "source": [
    "# Load raw dataset\n",
    "signal_dataset= SignalDataset.load(raw_signal_dataset_path)"
   ]
  },
  {
   "cell_type": "code",
   "execution_count": 25,
   "id": "107a8315-1869-47e7-b9bb-98d1776d730a",
   "metadata": {},
   "outputs": [],
   "source": [
    "# Segment Signals in 1sec segments\n",
    "signal_dataset.segment_signals_by_duration(segment_duration= 1)"
   ]
  },
  {
   "cell_type": "code",
   "execution_count": 26,
   "id": "a261eb1a-877e-407c-bcdb-f725097a5f59",
   "metadata": {},
   "outputs": [],
   "source": [
    "#Add eurythmy letter data to the features\n",
    "df= ped.add_meas_letters(signal_dataset.features)"
   ]
  },
  {
   "cell_type": "code",
   "execution_count": 27,
   "id": "62e22715-11e0-4bdc-9f60-f7be9bd0f34f",
   "metadata": {},
   "outputs": [
    {
     "data": {
      "text/plain": [
       "(148682, 8)"
      ]
     },
     "execution_count": 27,
     "metadata": {},
     "output_type": "execute_result"
    }
   ],
   "source": [
    "signal_dataset.features.shape"
   ]
  },
  {
   "cell_type": "code",
   "execution_count": 28,
   "id": "c4cb0a08-8e00-4d8f-8bf5-9626c4f572f4",
   "metadata": {},
   "outputs": [
    {
     "data": {
      "text/html": [
       "<div>\n",
       "<style scoped>\n",
       "    .dataframe tbody tr th:only-of-type {\n",
       "        vertical-align: middle;\n",
       "    }\n",
       "\n",
       "    .dataframe tbody tr th {\n",
       "        vertical-align: top;\n",
       "    }\n",
       "\n",
       "    .dataframe thead th {\n",
       "        text-align: right;\n",
       "    }\n",
       "</style>\n",
       "<table border=\"1\" class=\"dataframe\">\n",
       "  <thead>\n",
       "    <tr style=\"text-align: right;\">\n",
       "      <th></th>\n",
       "      <th>id_measurement</th>\n",
       "      <th>id_performance</th>\n",
       "      <th>datetime</th>\n",
       "      <th>plant</th>\n",
       "      <th>generation</th>\n",
       "      <th>num_eurythmy</th>\n",
       "      <th>initial_second</th>\n",
       "      <th>eurythmy_letter</th>\n",
       "    </tr>\n",
       "  </thead>\n",
       "  <tbody>\n",
       "    <tr>\n",
       "      <th>15</th>\n",
       "      <td>1</td>\n",
       "      <td>1</td>\n",
       "      <td>2023-04-29</td>\n",
       "      <td>salad</td>\n",
       "      <td>1</td>\n",
       "      <td>1</td>\n",
       "      <td>15.0</td>\n",
       "      <td>None</td>\n",
       "    </tr>\n",
       "    <tr>\n",
       "      <th>16</th>\n",
       "      <td>1</td>\n",
       "      <td>1</td>\n",
       "      <td>2023-04-29</td>\n",
       "      <td>salad</td>\n",
       "      <td>1</td>\n",
       "      <td>1</td>\n",
       "      <td>16.0</td>\n",
       "      <td>None</td>\n",
       "    </tr>\n",
       "    <tr>\n",
       "      <th>17</th>\n",
       "      <td>1</td>\n",
       "      <td>1</td>\n",
       "      <td>2023-04-29</td>\n",
       "      <td>salad</td>\n",
       "      <td>1</td>\n",
       "      <td>1</td>\n",
       "      <td>17.0</td>\n",
       "      <td>A1</td>\n",
       "    </tr>\n",
       "    <tr>\n",
       "      <th>18</th>\n",
       "      <td>1</td>\n",
       "      <td>1</td>\n",
       "      <td>2023-04-29</td>\n",
       "      <td>salad</td>\n",
       "      <td>1</td>\n",
       "      <td>1</td>\n",
       "      <td>18.0</td>\n",
       "      <td>A1</td>\n",
       "    </tr>\n",
       "    <tr>\n",
       "      <th>19</th>\n",
       "      <td>1</td>\n",
       "      <td>1</td>\n",
       "      <td>2023-04-29</td>\n",
       "      <td>salad</td>\n",
       "      <td>1</td>\n",
       "      <td>1</td>\n",
       "      <td>19.0</td>\n",
       "      <td>A1</td>\n",
       "    </tr>\n",
       "  </tbody>\n",
       "</table>\n",
       "</div>"
      ],
      "text/plain": [
       "    id_measurement  id_performance    datetime  plant  generation  \\\n",
       "15               1               1  2023-04-29  salad           1   \n",
       "16               1               1  2023-04-29  salad           1   \n",
       "17               1               1  2023-04-29  salad           1   \n",
       "18               1               1  2023-04-29  salad           1   \n",
       "19               1               1  2023-04-29  salad           1   \n",
       "\n",
       "    num_eurythmy  initial_second eurythmy_letter  \n",
       "15             1            15.0            None  \n",
       "16             1            16.0            None  \n",
       "17             1            17.0              A1  \n",
       "18             1            18.0              A1  \n",
       "19             1            19.0              A1  "
      ]
     },
     "execution_count": 28,
     "metadata": {},
     "output_type": "execute_result"
    }
   ],
   "source": [
    "signal_dataset.features.iloc[15:20]"
   ]
  },
  {
   "cell_type": "code",
   "execution_count": 14,
   "id": "1350c9fe-76f4-4622-bbfc-b3dc04d7189e",
   "metadata": {},
   "outputs": [],
   "source": [
    "# Save the dataset\n",
    "raw_1s_signal_dataset_path= r\"..\\data\\raw\\raw_1s_signal_dataset.pkl\"\n",
    "signal_dataset.save(raw_1s_signal_dataset_path)"
   ]
  },
  {
   "cell_type": "markdown",
   "id": "c3186d22-6bf2-4cd9-aaee-41e765db1f2d",
   "metadata": {},
   "source": [
    "### Segmented in 1s (normalized)"
   ]
  },
  {
   "cell_type": "code",
   "execution_count": 30,
   "id": "e77ccbd9-8235-42f2-bced-ed66a9f38cde",
   "metadata": {},
   "outputs": [],
   "source": [
    "# Load normalized dataset\n",
    "signal_dataset= SignalDataset.load(norm_signal_dataset_path)"
   ]
  },
  {
   "cell_type": "code",
   "execution_count": 31,
   "id": "c9f7fa7a-50ca-4666-b2f2-b2526b585df4",
   "metadata": {},
   "outputs": [],
   "source": [
    "# Segment Signals in 1sec segments\n",
    "signal_dataset.segment_signals_by_duration(segment_duration=1)"
   ]
  },
  {
   "cell_type": "code",
   "execution_count": 32,
   "id": "80f68a51-0341-40b1-a63e-b5d4d6efbd1d",
   "metadata": {},
   "outputs": [],
   "source": [
    "#Add eurythmy letter data to the features\n",
    "df= ped.add_meas_letters(signal_dataset.features)"
   ]
  },
  {
   "cell_type": "code",
   "execution_count": 33,
   "id": "40d386ae-41ed-4cc2-b2b1-9fe83f5948bc",
   "metadata": {},
   "outputs": [],
   "source": [
    "# Save the dataset\n",
    "norm_1s_signal_dataset_path= r\"..\\data\\interim\\norm_1s_signal_dataset.pkl\"\n",
    "signal_dataset.save(norm_1s_signal_dataset_path)"
   ]
  },
  {
   "cell_type": "markdown",
   "id": "d16e753e-a150-4713-89fe-ee55f0a47f4e",
   "metadata": {},
   "source": [
    "## Features Dataset"
   ]
  },
  {
   "cell_type": "code",
   "execution_count": 6,
   "id": "b59aea21-3da4-44e6-9bcc-5e833e08aa4f",
   "metadata": {},
   "outputs": [],
   "source": [
    "window_size= 2\n",
    "hop_length= 2\n",
    "\n",
    "feature_extractor= WavFeatureExtractor(sample_rate= 10000, lib_mfccs= True, pyau_mfccs= True, temporal= True,\n",
    "                                       statistical= True, window_size= window_size, hop_length= hop_length)"
   ]
  },
  {
   "cell_type": "markdown",
   "id": "b8b59ffe-7937-4b70-a514-4ea6d57f39c0",
   "metadata": {},
   "source": [
    "### Normalized letters"
   ]
  },
  {
   "cell_type": "code",
   "execution_count": 7,
   "id": "92850aad-7e1e-4f16-94e3-d375c35f1936",
   "metadata": {},
   "outputs": [],
   "source": [
    "# Load dataset\n",
    "signal_dataset= SignalDataset.load(norm_letters_signal_dataset_path)"
   ]
  },
  {
   "cell_type": "code",
   "execution_count": null,
   "id": "454141af-0b56-4d74-9516-05bdf48907c9",
   "metadata": {},
   "outputs": [
    {
     "name": "stderr",
     "output_type": "stream",
     "text": [
      "C:\\Users\\alvar\\anaconda3\\envs\\Plant-Reactivity-Analysis\\lib\\site-packages\\librosa\\core\\spectrum.py:257: UserWarning: n_fft=20000 is too large for input signal of length=16940\n",
      "  warnings.warn(\n",
      "C:\\Users\\alvar\\Documents\\GitHub\\Plant-Reactivity-Analysis\\src\\PlantReactivityAnalysis\\features\\wav_feature_extractor.py:297: RuntimeWarning: Precision loss occurred in moment calculation due to catastrophic cancellation. This occurs when the data are nearly identical. Results may be unreliable.\n",
      "  feature_values.append(func(waveform_data))\n",
      "C:\\Users\\alvar\\anaconda3\\envs\\Plant-Reactivity-Analysis\\lib\\site-packages\\librosa\\core\\spectrum.py:257: UserWarning: n_fft=20000 is too large for input signal of length=3860\n",
      "  warnings.warn(\n",
      "C:\\Users\\alvar\\anaconda3\\envs\\Plant-Reactivity-Analysis\\lib\\site-packages\\librosa\\core\\spectrum.py:257: UserWarning: n_fft=20000 is too large for input signal of length=18100\n",
      "  warnings.warn(\n",
      "C:\\Users\\alvar\\anaconda3\\envs\\Plant-Reactivity-Analysis\\lib\\site-packages\\librosa\\core\\spectrum.py:257: UserWarning: n_fft=20000 is too large for input signal of length=7380\n",
      "  warnings.warn(\n"
     ]
    }
   ],
   "source": [
    "%%time\n",
    "\n",
    "# Extract features and store in dataset\n",
    "feat_dataset= FeaturesDataset.from_signal_dataset(signal_dataset, feature_extractor)"
   ]
  },
  {
   "cell_type": "code",
   "execution_count": null,
   "id": "ee73e0b3-03d4-4a9b-a875-bd762a54e059",
   "metadata": {},
   "outputs": [],
   "source": [
    "feat_dataset.features.shape"
   ]
  },
  {
   "cell_type": "code",
   "execution_count": null,
   "id": "f9ac1f0b-1d00-4889-9e41-93812deec290",
   "metadata": {},
   "outputs": [],
   "source": [
    "feat_dataset.features.head()"
   ]
  },
  {
   "cell_type": "code",
   "execution_count": null,
   "id": "a53a03b8-53f2-48d4-9899-cb194fed2f48",
   "metadata": {},
   "outputs": [],
   "source": [
    "# Save the dataset\n",
    "feat_norm_letters_dataset_path= r\"..\\data\\processed\\feat_norm_letters_\" + str(window_size) + \"_\" + str(hop_length) + \"_dataset.pkl\"\n",
    "feat_dataset.save(feat_norm_letters_dataset_path)"
   ]
  },
  {
   "cell_type": "markdown",
   "id": "69946c54-7ed3-4e36-9f0a-e75c61de645b",
   "metadata": {},
   "source": [
    "### Letters"
   ]
  },
  {
   "cell_type": "code",
   "execution_count": null,
   "id": "c88d4cbb-40d1-43e0-acc1-944e6fc20126",
   "metadata": {},
   "outputs": [],
   "source": [
    "# Load dataset\n",
    "signal_dataset= SignalDataset.load(raw_letters_signal_dataset_path)"
   ]
  },
  {
   "cell_type": "code",
   "execution_count": null,
   "id": "9d755b2f-f06e-4411-b3fc-f70ee71d1f90",
   "metadata": {},
   "outputs": [],
   "source": [
    "%%time\n",
    "\n",
    "# Extract features and store in dataset\n",
    "feat_dataset= FeaturesDataset.from_signal_dataset(signal_dataset, feature_extractor)"
   ]
  },
  {
   "cell_type": "code",
   "execution_count": null,
   "id": "54cd4b2c-0272-403f-838b-d69d9364d5bc",
   "metadata": {},
   "outputs": [],
   "source": [
    "# Save the dataset\n",
    "feat_raw_letters_dataset_path= r\"..\\data\\processed\\feat_raw_letters_\" + str(window_size) + \"_\" + str(hop_length) + \"_dataset.pkl\"\n",
    "feat_dataset.save(feat_raw_letters_dataset_path)"
   ]
  }
 ],
 "metadata": {
  "kernelspec": {
   "display_name": "Python (Plant-Reactivity-Analysis)",
   "language": "python",
   "name": "myenv"
  },
  "language_info": {
   "codemirror_mode": {
    "name": "ipython",
    "version": 3
   },
   "file_extension": ".py",
   "mimetype": "text/x-python",
   "name": "python",
   "nbconvert_exporter": "python",
   "pygments_lexer": "ipython3",
   "version": "3.10.13"
  }
 },
 "nbformat": 4,
 "nbformat_minor": 5
}
