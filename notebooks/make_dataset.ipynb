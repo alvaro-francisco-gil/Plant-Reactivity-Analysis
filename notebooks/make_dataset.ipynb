{
 "cells": [
  {
   "cell_type": "markdown",
   "id": "501268a1-2347-46dd-ae4e-d4424b0261a9",
   "metadata": {},
   "source": [
    "# Make Dataset"
   ]
  },
  {
   "cell_type": "markdown",
   "id": "acf646a6-efa3-41e0-9454-51f41d501a00",
   "metadata": {},
   "source": [
    "## Imports"
   ]
  },
  {
   "cell_type": "code",
   "execution_count": 1,
   "id": "d682a9ac-99fa-4394-aaff-3844701b070f",
   "metadata": {
    "scrolled": true
   },
   "outputs": [],
   "source": [
    "import sys\n",
    "sys.path.append(\"../src\")"
   ]
  },
  {
   "cell_type": "code",
   "execution_count": 2,
   "id": "d5b91abe-37c4-4478-9207-7b7d4b5daf5a",
   "metadata": {},
   "outputs": [],
   "source": [
    "from data.wav_data_reader import WavDataReader\n",
    "from data.signal_dataset import SignalDataset\n",
    "from features.wav_feature_extractor import WavFeatureExtractor\n",
    "from features.features_dataset import FeaturesDataset\n",
    "import data.preparation_eurythmy_data as ped"
   ]
  },
  {
   "cell_type": "markdown",
   "id": "c1f8ae78-fa89-411a-b113-dfc46333de1f",
   "metadata": {},
   "source": [
    "## Reader"
   ]
  },
  {
   "cell_type": "code",
   "execution_count": 3,
   "id": "2ab39bbd",
   "metadata": {},
   "outputs": [],
   "source": [
    "wav_folder= r\"..\\data\\raw\\wav_files\"\n",
    "#wav_folder= r\"..\\data\\interim\\testing\""
   ]
  },
  {
   "cell_type": "code",
   "execution_count": 4,
   "id": "eb1dc723-ac03-42e8-b4cc-0364d069e2b1",
   "metadata": {},
   "outputs": [],
   "source": [
    "# Initialize the reader with the folder of wavs\n",
    "reader= WavDataReader(folder= wav_folder)\n",
    "\n",
    "# Get the signals and the keys from the reader\n",
    "signals, ids= reader.get_values_and_keys()\n",
    "\n",
    "# Get the measurement labels from the keys of the files\n",
    "meas_df= ped.return_meas_labels_by_keys(ids)"
   ]
  },
  {
   "cell_type": "markdown",
   "id": "f94af8a1-535a-49ce-99ec-6083def60efc",
   "metadata": {},
   "source": [
    "## Signal Dataset"
   ]
  },
  {
   "cell_type": "code",
   "execution_count": 5,
   "id": "66874193-cf2b-427a-9a6a-cff8cfca8d20",
   "metadata": {},
   "outputs": [
    {
     "name": "stdout",
     "output_type": "stream",
     "text": [
      "CPU times: total: 4min 23s\n",
      "Wall time: 5min 29s\n"
     ]
    }
   ],
   "source": [
    "%%time\n",
    "# Initialize SignalDataset with the signals and features/labels\n",
    "signal_dataset= SignalDataset(signals= signals, features= meas_df)\n",
    "\n",
    "# Standardize Signals using Zscore\n",
    "signal_dataset.standardize_signals(\"zscore\")\n",
    "\n",
    "# Segment Signals in 1sec segments\n",
    "signal_dataset.segment_signals(segment_duration=1)\n",
    "\n",
    "# Remove signals whose values are all equal\n",
    "#signal_dataset.remove_constant_signals()\n",
    "\n",
    "#Add eurythmy letter data to the features\n",
    "df= ped.add_meas_letters(signal_dataset.features)"
   ]
  },
  {
   "cell_type": "code",
   "execution_count": 6,
   "id": "16b77f4f-7aae-454b-88d5-5e0e3ab86723",
   "metadata": {},
   "outputs": [
    {
     "data": {
      "text/plain": [
       "(148682, 8)"
      ]
     },
     "execution_count": 6,
     "metadata": {},
     "output_type": "execute_result"
    }
   ],
   "source": [
    "signal_dataset.features.shape"
   ]
  },
  {
   "cell_type": "code",
   "execution_count": 9,
   "id": "4a3e30e0-8bb5-4fb9-8f4e-3d6f76b75999",
   "metadata": {},
   "outputs": [
    {
     "data": {
      "text/html": [
       "<div>\n",
       "<style scoped>\n",
       "    .dataframe tbody tr th:only-of-type {\n",
       "        vertical-align: middle;\n",
       "    }\n",
       "\n",
       "    .dataframe tbody tr th {\n",
       "        vertical-align: top;\n",
       "    }\n",
       "\n",
       "    .dataframe thead th {\n",
       "        text-align: right;\n",
       "    }\n",
       "</style>\n",
       "<table border=\"1\" class=\"dataframe\">\n",
       "  <thead>\n",
       "    <tr style=\"text-align: right;\">\n",
       "      <th></th>\n",
       "      <th>id_measurement</th>\n",
       "      <th>id_performance</th>\n",
       "      <th>datetime</th>\n",
       "      <th>plant</th>\n",
       "      <th>generation</th>\n",
       "      <th>num_eurythmy</th>\n",
       "      <th>initial_second</th>\n",
       "      <th>eurythmy_letter</th>\n",
       "    </tr>\n",
       "  </thead>\n",
       "  <tbody>\n",
       "    <tr>\n",
       "      <th>0</th>\n",
       "      <td>1</td>\n",
       "      <td>1</td>\n",
       "      <td>2023-04-29</td>\n",
       "      <td>salad</td>\n",
       "      <td>1</td>\n",
       "      <td>1</td>\n",
       "      <td>0.0</td>\n",
       "      <td>None</td>\n",
       "    </tr>\n",
       "    <tr>\n",
       "      <th>1</th>\n",
       "      <td>1</td>\n",
       "      <td>1</td>\n",
       "      <td>2023-04-29</td>\n",
       "      <td>salad</td>\n",
       "      <td>1</td>\n",
       "      <td>1</td>\n",
       "      <td>1.0</td>\n",
       "      <td>None</td>\n",
       "    </tr>\n",
       "    <tr>\n",
       "      <th>2</th>\n",
       "      <td>1</td>\n",
       "      <td>1</td>\n",
       "      <td>2023-04-29</td>\n",
       "      <td>salad</td>\n",
       "      <td>1</td>\n",
       "      <td>1</td>\n",
       "      <td>2.0</td>\n",
       "      <td>None</td>\n",
       "    </tr>\n",
       "    <tr>\n",
       "      <th>3</th>\n",
       "      <td>1</td>\n",
       "      <td>1</td>\n",
       "      <td>2023-04-29</td>\n",
       "      <td>salad</td>\n",
       "      <td>1</td>\n",
       "      <td>1</td>\n",
       "      <td>3.0</td>\n",
       "      <td>None</td>\n",
       "    </tr>\n",
       "    <tr>\n",
       "      <th>4</th>\n",
       "      <td>1</td>\n",
       "      <td>1</td>\n",
       "      <td>2023-04-29</td>\n",
       "      <td>salad</td>\n",
       "      <td>1</td>\n",
       "      <td>1</td>\n",
       "      <td>4.0</td>\n",
       "      <td>None</td>\n",
       "    </tr>\n",
       "  </tbody>\n",
       "</table>\n",
       "</div>"
      ],
      "text/plain": [
       "   id_measurement  id_performance    datetime  plant  generation  \\\n",
       "0               1               1  2023-04-29  salad           1   \n",
       "1               1               1  2023-04-29  salad           1   \n",
       "2               1               1  2023-04-29  salad           1   \n",
       "3               1               1  2023-04-29  salad           1   \n",
       "4               1               1  2023-04-29  salad           1   \n",
       "\n",
       "   num_eurythmy  initial_second eurythmy_letter  \n",
       "0             1             0.0            None  \n",
       "1             1             1.0            None  \n",
       "2             1             2.0            None  \n",
       "3             1             3.0            None  \n",
       "4             1             4.0            None  "
      ]
     },
     "execution_count": 9,
     "metadata": {},
     "output_type": "execute_result"
    }
   ],
   "source": [
    "signal_dataset.features.head()"
   ]
  },
  {
   "cell_type": "code",
   "execution_count": 10,
   "id": "c58db4ee-8206-41f6-85d1-610dc95882a2",
   "metadata": {},
   "outputs": [],
   "source": [
    "signal_dataset_path= r\"..\\data\\processed\\signal_dataset\"\n",
    "signal_dataset.save(signal_dataset_path)"
   ]
  },
  {
   "cell_type": "markdown",
   "id": "e3700661-04d5-4b49-bc51-9c5b2b7c8e03",
   "metadata": {},
   "source": [
    "## Feature Extractor"
   ]
  },
  {
   "cell_type": "code",
   "execution_count": 9,
   "id": "c88d4cbb-40d1-43e0-acc1-944e6fc20126",
   "metadata": {},
   "outputs": [],
   "source": [
    "extractor= WavFeatureExtractor(sample_rate= 10000, mfccs= True, temporal= True, statistical= True)"
   ]
  },
  {
   "cell_type": "markdown",
   "id": "d16e753e-a150-4713-89fe-ee55f0a47f4e",
   "metadata": {},
   "source": [
    "## Features Dataset"
   ]
  },
  {
   "cell_type": "code",
   "execution_count": 10,
   "id": "d407d710-98f1-4a82-bba8-a976cbdfaf82",
   "metadata": {},
   "outputs": [
    {
     "name": "stderr",
     "output_type": "stream",
     "text": [
      "C:\\Users\\alvar\\Documents\\GitHub\\Plant-Reactivity-Analysis\\notebooks\\../src\\features\\wav_feature_extractor.py:32: RuntimeWarning: Precision loss occurred in moment calculation due to catastrophic cancellation. This occurs when the data are nearly identical. Results may be unreliable.\n",
      "  feature_values.append(func(waveform_data))\n"
     ]
    },
    {
     "name": "stdout",
     "output_type": "stream",
     "text": [
      "len signals:  148682 len var feat:  148682 signal feat:  148682\n",
      "id_measurement         0\n",
      "id_performance         0\n",
      "datetime               0\n",
      "plant                  0\n",
      "generation             0\n",
      "num_eurythmy           0\n",
      "initial_second         0\n",
      "eurythmy_letter    48117\n",
      "dtype: int64\n",
      "mfcc_1_avg                     0\n",
      "mfcc_2_avg                     0\n",
      "mfcc_3_avg                     0\n",
      "mfcc_4_avg                     0\n",
      "mfcc_5_avg                     0\n",
      "mfcc_6_avg                     0\n",
      "mfcc_7_avg                     0\n",
      "mfcc_8_avg                     0\n",
      "mfcc_9_avg                     0\n",
      "mfcc_10_avg                    0\n",
      "mfcc_11_avg                    0\n",
      "mfcc_12_avg                    0\n",
      "mfcc_13_avg                    0\n",
      "mfcc_1_std                     0\n",
      "mfcc_2_std                     0\n",
      "mfcc_3_std                     0\n",
      "mfcc_4_std                     0\n",
      "mfcc_5_std                     0\n",
      "mfcc_6_std                     0\n",
      "mfcc_7_std                     0\n",
      "mfcc_8_std                     0\n",
      "mfcc_9_std                     0\n",
      "mfcc_10_std                    0\n",
      "mfcc_11_std                    0\n",
      "mfcc_12_std                    0\n",
      "mfcc_13_std                    0\n",
      "zero_crossing_rate             0\n",
      "root_mean_square_energy        0\n",
      "slope_sign_changes_ratio       0\n",
      "duration_seconds               0\n",
      "flatness_ratio_10000           0\n",
      "flatness_ratio_5000            0\n",
      "flatness_ratio_1000            0\n",
      "flatness_ratio_500             0\n",
      "flatness_ratio_100             0\n",
      "hjorth_mobility                0\n",
      "hjorth_complexity              0\n",
      "mean                           0\n",
      "variance                       0\n",
      "standard_deviation             0\n",
      "interquartile_range            0\n",
      "skewness                    5087\n",
      "kurtosis                    5087\n",
      "dfa                            0\n",
      "dtype: int64\n",
      "CPU times: total: 9h 54min 25s\n",
      "Wall time: 5h 19min 33s\n"
     ]
    },
    {
     "data": {
      "text/plain": [
       "(148682, 52)"
      ]
     },
     "execution_count": 10,
     "metadata": {},
     "output_type": "execute_result"
    }
   ],
   "source": [
    "%%time\n",
    "feat_dataset= FeaturesDataset(signal_dataset,extractor)\n",
    "feat_dataset.features.shape"
   ]
  },
  {
   "cell_type": "code",
   "execution_count": 11,
   "id": "304f0e56-ebf7-40b7-ad84-e59c6a629878",
   "metadata": {},
   "outputs": [
    {
     "data": {
      "text/html": [
       "<div>\n",
       "<style scoped>\n",
       "    .dataframe tbody tr th:only-of-type {\n",
       "        vertical-align: middle;\n",
       "    }\n",
       "\n",
       "    .dataframe tbody tr th {\n",
       "        vertical-align: top;\n",
       "    }\n",
       "\n",
       "    .dataframe thead th {\n",
       "        text-align: right;\n",
       "    }\n",
       "</style>\n",
       "<table border=\"1\" class=\"dataframe\">\n",
       "  <thead>\n",
       "    <tr style=\"text-align: right;\">\n",
       "      <th></th>\n",
       "      <th>id_measurement</th>\n",
       "      <th>id_performance</th>\n",
       "      <th>datetime</th>\n",
       "      <th>plant</th>\n",
       "      <th>generation</th>\n",
       "      <th>num_eurythmy</th>\n",
       "      <th>initial_second</th>\n",
       "      <th>eurythmy_letter</th>\n",
       "      <th>mfcc_1_avg</th>\n",
       "      <th>mfcc_2_avg</th>\n",
       "      <th>...</th>\n",
       "      <th>flatness_ratio_100</th>\n",
       "      <th>hjorth_mobility</th>\n",
       "      <th>hjorth_complexity</th>\n",
       "      <th>mean</th>\n",
       "      <th>variance</th>\n",
       "      <th>standard_deviation</th>\n",
       "      <th>interquartile_range</th>\n",
       "      <th>skewness</th>\n",
       "      <th>kurtosis</th>\n",
       "      <th>dfa</th>\n",
       "    </tr>\n",
       "  </thead>\n",
       "  <tbody>\n",
       "    <tr>\n",
       "      <th>0</th>\n",
       "      <td>1</td>\n",
       "      <td>1</td>\n",
       "      <td>2023-04-29</td>\n",
       "      <td>salad</td>\n",
       "      <td>1</td>\n",
       "      <td>1</td>\n",
       "      <td>0.0</td>\n",
       "      <td>None</td>\n",
       "      <td>-232.006348</td>\n",
       "      <td>87.030777</td>\n",
       "      <td>...</td>\n",
       "      <td>1.0000</td>\n",
       "      <td>0.000128</td>\n",
       "      <td>8171.888932</td>\n",
       "      <td>1.013423</td>\n",
       "      <td>0.013814</td>\n",
       "      <td>0.117533</td>\n",
       "      <td>0.181950</td>\n",
       "      <td>0.224347</td>\n",
       "      <td>-0.509566</td>\n",
       "      <td>1.586800</td>\n",
       "    </tr>\n",
       "    <tr>\n",
       "      <th>1</th>\n",
       "      <td>1</td>\n",
       "      <td>1</td>\n",
       "      <td>2023-04-29</td>\n",
       "      <td>salad</td>\n",
       "      <td>1</td>\n",
       "      <td>1</td>\n",
       "      <td>1.0</td>\n",
       "      <td>None</td>\n",
       "      <td>-250.255188</td>\n",
       "      <td>85.806961</td>\n",
       "      <td>...</td>\n",
       "      <td>0.9894</td>\n",
       "      <td>0.000129</td>\n",
       "      <td>8190.134755</td>\n",
       "      <td>0.865816</td>\n",
       "      <td>0.015855</td>\n",
       "      <td>0.125916</td>\n",
       "      <td>0.181950</td>\n",
       "      <td>0.418608</td>\n",
       "      <td>-0.598494</td>\n",
       "      <td>1.466508</td>\n",
       "    </tr>\n",
       "    <tr>\n",
       "      <th>2</th>\n",
       "      <td>1</td>\n",
       "      <td>1</td>\n",
       "      <td>2023-04-29</td>\n",
       "      <td>salad</td>\n",
       "      <td>1</td>\n",
       "      <td>1</td>\n",
       "      <td>2.0</td>\n",
       "      <td>None</td>\n",
       "      <td>-278.646332</td>\n",
       "      <td>68.209419</td>\n",
       "      <td>...</td>\n",
       "      <td>0.9941</td>\n",
       "      <td>0.000077</td>\n",
       "      <td>13453.068166</td>\n",
       "      <td>1.289050</td>\n",
       "      <td>0.054860</td>\n",
       "      <td>0.234221</td>\n",
       "      <td>0.454875</td>\n",
       "      <td>-0.314866</td>\n",
       "      <td>-1.620937</td>\n",
       "      <td>1.336079</td>\n",
       "    </tr>\n",
       "    <tr>\n",
       "      <th>3</th>\n",
       "      <td>1</td>\n",
       "      <td>1</td>\n",
       "      <td>2023-04-29</td>\n",
       "      <td>salad</td>\n",
       "      <td>1</td>\n",
       "      <td>1</td>\n",
       "      <td>3.0</td>\n",
       "      <td>None</td>\n",
       "      <td>-276.146942</td>\n",
       "      <td>74.985809</td>\n",
       "      <td>...</td>\n",
       "      <td>1.0000</td>\n",
       "      <td>0.000112</td>\n",
       "      <td>9082.708501</td>\n",
       "      <td>1.374193</td>\n",
       "      <td>0.010778</td>\n",
       "      <td>0.103816</td>\n",
       "      <td>0.090975</td>\n",
       "      <td>-0.524587</td>\n",
       "      <td>0.561958</td>\n",
       "      <td>1.404778</td>\n",
       "    </tr>\n",
       "    <tr>\n",
       "      <th>4</th>\n",
       "      <td>1</td>\n",
       "      <td>1</td>\n",
       "      <td>2023-04-29</td>\n",
       "      <td>salad</td>\n",
       "      <td>1</td>\n",
       "      <td>1</td>\n",
       "      <td>4.0</td>\n",
       "      <td>None</td>\n",
       "      <td>-299.724091</td>\n",
       "      <td>62.226551</td>\n",
       "      <td>...</td>\n",
       "      <td>1.0000</td>\n",
       "      <td>0.000085</td>\n",
       "      <td>12209.774692</td>\n",
       "      <td>1.289022</td>\n",
       "      <td>0.029832</td>\n",
       "      <td>0.172718</td>\n",
       "      <td>0.272925</td>\n",
       "      <td>-0.852706</td>\n",
       "      <td>-0.735823</td>\n",
       "      <td>1.509514</td>\n",
       "    </tr>\n",
       "  </tbody>\n",
       "</table>\n",
       "<p>5 rows × 52 columns</p>\n",
       "</div>"
      ],
      "text/plain": [
       "   id_measurement  id_performance    datetime  plant  generation  \\\n",
       "0               1               1  2023-04-29  salad           1   \n",
       "1               1               1  2023-04-29  salad           1   \n",
       "2               1               1  2023-04-29  salad           1   \n",
       "3               1               1  2023-04-29  salad           1   \n",
       "4               1               1  2023-04-29  salad           1   \n",
       "\n",
       "   num_eurythmy  initial_second eurythmy_letter  mfcc_1_avg  mfcc_2_avg  ...  \\\n",
       "0             1             0.0            None -232.006348   87.030777  ...   \n",
       "1             1             1.0            None -250.255188   85.806961  ...   \n",
       "2             1             2.0            None -278.646332   68.209419  ...   \n",
       "3             1             3.0            None -276.146942   74.985809  ...   \n",
       "4             1             4.0            None -299.724091   62.226551  ...   \n",
       "\n",
       "   flatness_ratio_100  hjorth_mobility  hjorth_complexity      mean  variance  \\\n",
       "0              1.0000         0.000128        8171.888932  1.013423  0.013814   \n",
       "1              0.9894         0.000129        8190.134755  0.865816  0.015855   \n",
       "2              0.9941         0.000077       13453.068166  1.289050  0.054860   \n",
       "3              1.0000         0.000112        9082.708501  1.374193  0.010778   \n",
       "4              1.0000         0.000085       12209.774692  1.289022  0.029832   \n",
       "\n",
       "   standard_deviation  interquartile_range  skewness  kurtosis       dfa  \n",
       "0            0.117533             0.181950  0.224347 -0.509566  1.586800  \n",
       "1            0.125916             0.181950  0.418608 -0.598494  1.466508  \n",
       "2            0.234221             0.454875 -0.314866 -1.620937  1.336079  \n",
       "3            0.103816             0.090975 -0.524587  0.561958  1.404778  \n",
       "4            0.172718             0.272925 -0.852706 -0.735823  1.509514  \n",
       "\n",
       "[5 rows x 52 columns]"
      ]
     },
     "execution_count": 11,
     "metadata": {},
     "output_type": "execute_result"
    }
   ],
   "source": [
    "feat_dataset.features.head()"
   ]
  },
  {
   "cell_type": "code",
   "execution_count": 15,
   "id": "11c94f00-f95a-4db8-8708-1696682e98f6",
   "metadata": {},
   "outputs": [],
   "source": [
    "# Save Dataset\n",
    "feat_dataset_path= r\"..\\data\\processed\\features_dataset\"\n",
    "feat_dataset.save(feat_dataset_path)\n",
    "feat_dataset_path_csv= r\"..\\data\\processed\\features_dataset.csv\"\n",
    "feat_dataset.save_to_csv(feat_dataset_path_csv)"
   ]
  }
 ],
 "metadata": {
  "kernelspec": {
   "display_name": "Python 3 (ipykernel)",
   "language": "python",
   "name": "python3"
  },
  "language_info": {
   "codemirror_mode": {
    "name": "ipython",
    "version": 3
   },
   "file_extension": ".py",
   "mimetype": "text/x-python",
   "name": "python",
   "nbconvert_exporter": "python",
   "pygments_lexer": "ipython3",
   "version": "3.10.13"
  }
 },
 "nbformat": 4,
 "nbformat_minor": 5
}
