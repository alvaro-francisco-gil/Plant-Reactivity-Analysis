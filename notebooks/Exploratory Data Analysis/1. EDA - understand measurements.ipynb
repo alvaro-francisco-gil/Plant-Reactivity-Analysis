{
 "cells": [
  {
   "cell_type": "code",
   "execution_count": null,
   "id": "b2dbb66c-f97d-478d-a6b9-99d0de7e1064",
   "metadata": {},
   "outputs": [],
   "source": [
    "import pandas as pd\n",
    "import os\n",
    "import numpy as np\n",
    "import matplotlib.pyplot as plt"
   ]
  },
  {
   "cell_type": "markdown",
   "id": "a48fe2b7-7e59-4889-9ac3-760df2705de5",
   "metadata": {},
   "source": [
    "# Understand Measurements"
   ]
  },
  {
   "cell_type": "markdown",
   "id": "56c9f4e1-900d-4ea0-b492-7b2cfed861b2",
   "metadata": {},
   "source": [
    "- Measurement is the wave output of a Spikerbox that records the electrical signal from a specific plant\n",
    "- id_measurement is a unique identifier of the signa.\n",
    "- The data is composed of 625 measurements"
   ]
  },
  {
   "cell_type": "markdown",
   "id": "c7c62795-69bc-4be6-9459-694b3d16d69a",
   "metadata": {},
   "source": [
    "## Data import"
   ]
  },
  {
   "cell_type": "code",
   "execution_count": null,
   "id": "ad9343df-d7f9-4137-b183-96cdc4fc5132",
   "metadata": {},
   "outputs": [],
   "source": [
    "measurements_file= r\"../../data/raw/measurements_info.csv\"\n",
    "figures_folder= r\"../../reports/figures/\""
   ]
  },
  {
   "cell_type": "code",
   "execution_count": null,
   "id": "754e2956-6425-410b-b412-30aec0dea069",
   "metadata": {},
   "outputs": [],
   "source": [
    "df= pd.read_csv(measurements_file,index_col='id_measurement')"
   ]
  },
  {
   "cell_type": "code",
   "execution_count": null,
   "id": "d1c75d9b-fa3a-48a8-9336-76edca1b2925",
   "metadata": {},
   "outputs": [],
   "source": [
    "df.head()"
   ]
  },
  {
   "cell_type": "code",
   "execution_count": null,
   "id": "fbc43435-ff83-4bd7-ad57-6e240bcd5880",
   "metadata": {},
   "outputs": [],
   "source": [
    "df.shape"
   ]
  },
  {
   "cell_type": "markdown",
   "id": "28a45567-ceaa-4ecc-9340-8fd1e0b300f2",
   "metadata": {},
   "source": [
    "## Data Comprehension"
   ]
  },
  {
   "cell_type": "markdown",
   "id": "cc28cd4f-4278-480a-a10e-db9cd6497d8d",
   "metadata": {},
   "source": [
    "### Date"
   ]
  },
  {
   "cell_type": "code",
   "execution_count": null,
   "id": "9d08aa1b-1fdb-4a09-b39f-b2f2dfec4db4",
   "metadata": {},
   "outputs": [],
   "source": [
    "df['datetime'] = pd.to_datetime(df['datetime'], format='%Y-%m-%d')"
   ]
  },
  {
   "cell_type": "code",
   "execution_count": null,
   "id": "37e9370d-85e3-4319-ace2-9fc7005ef4da",
   "metadata": {},
   "outputs": [],
   "source": [
    "date_counts = df['datetime'].dt.date.value_counts()\n",
    "date_counts = date_counts.sort_index()\n",
    "\n",
    "date_counts.plot(kind='bar')  \n",
    "ax = date_counts.plot(kind='bar')  # or 'hist' for a true histogram representation\n",
    "plt.title('Electrical Plant Recordings by Date')\n",
    "plt.ylabel('wav files')\n",
    "plt.xlabel('')\n",
    "plt.xticks(rotation=90)  # Rotate the x-axis labels for readability\n",
    "\n",
    "# Add the count numbers on top of each bar\n",
    "for i, v in enumerate(date_counts):\n",
    "    ax.text(i, v, str(v), ha='center', va='bottom', fontsize=10)\n",
    "\n",
    "file_path= os.path.join(figures_folder, 'number_of_waves_by_date.png')\n",
    "plt.savefig(file_path)\n",
    "plt.show()"
   ]
  },
  {
   "cell_type": "markdown",
   "id": "b839533d-6b70-4e82-8bed-d1093342488f",
   "metadata": {},
   "source": [
    "### Plants"
   ]
  },
  {
   "cell_type": "markdown",
   "id": "8a92aabb-8a30-4bf2-b1a5-ce1e0a0feb15",
   "metadata": {},
   "source": [
    "This attribute represents the different plant species that were analyzed"
   ]
  },
  {
   "cell_type": "code",
   "execution_count": null,
   "id": "bcf2f5c9-ce75-456a-8d2a-cd70bb4a0931",
   "metadata": {},
   "outputs": [],
   "source": [
    "plant_counts = df['plant'].value_counts()\n",
    "colors = {'salad': 'lightgreen', 'tomato': 'lightcoral', 'basil': 'green'}\n",
    "bar_colors = [colors[plant] if plant in colors else 'gray' for plant in plant_counts.index]\n",
    "plt.figure(figsize=(10, 6))\n",
    "bars = plt.bar(plant_counts.index, plant_counts.values, color=bar_colors)\n",
    "\n",
    "for bar in bars:\n",
    "    yval = bar.get_height()\n",
    "    plt.text(bar.get_x() + bar.get_width()/2, yval + 1, yval, ha='center', va='bottom')\n",
    "\n",
    "plt.title('Measurements by Plant')\n",
    "plt.xlabel('')\n",
    "plt.ylabel('wav files')\n",
    "file_path= os.path.join(figures_folder, 'measurements_by_plant.png')\n",
    "plt.savefig(file_path)\n",
    "plt.show()\n"
   ]
  },
  {
   "cell_type": "markdown",
   "id": "c86f6a54-4687-4a1a-bd5b-c15638e1e977",
   "metadata": {},
   "source": [
    "### Generations"
   ]
  },
  {
   "cell_type": "markdown",
   "id": "235ecb7f-bb8a-4d93-b067-b1bd31e612f0",
   "metadata": {},
   "source": [
    "This feature represents the specific group of plants within the crop field that were measured"
   ]
  },
  {
   "cell_type": "code",
   "execution_count": null,
   "id": "e12f1b2b-81db-43c6-b2d0-fc6f151d83be",
   "metadata": {},
   "outputs": [],
   "source": [
    "grouped_counts = df.groupby(['plant', 'generation']).size().unstack(fill_value=0)\n",
    "\n",
    "# Assuming generations are numbered sequentially\n",
    "num_generations = len(grouped_counts.columns)\n",
    "blues = plt.cm.Blues(np.linspace(0.3, 1, num_generations))  # Generating shades of blue\n",
    "\n",
    "fig, ax = plt.subplots()\n",
    "\n",
    "# Plot stacked bars\n",
    "bottom = np.zeros(len(grouped_counts))\n",
    "for i, generation in enumerate(grouped_counts.columns):\n",
    "    ax.bar(grouped_counts.index, grouped_counts[generation], bottom=bottom, label=f'G{generation}', color=blues[i])\n",
    "    \n",
    "    # Add text annotation for each segment\n",
    "    for j, value in enumerate(grouped_counts[generation]):\n",
    "        if value > 0:  # Only annotate non-zero segments\n",
    "            ax.text(j, bottom[j] + value/2, str(value), ha='center', va='center', color='white')\n",
    "\n",
    "    bottom += grouped_counts[generation]\n",
    "    \n",
    "plt.title('Electrical Plant Recordings by Generation')\n",
    "plt.xlabel('')\n",
    "plt.ylabel('number of wav files')\n",
    "plt.legend(title='Generation')\n",
    "file_path= os.path.join(figures_folder, 'measurements_of_plants_by_generation.png')\n",
    "plt.savefig(file_path)\n",
    "plt.show()"
   ]
  },
  {
   "cell_type": "markdown",
   "id": "55a5cda2-ea3b-4f80-8c3a-077a43fae59a",
   "metadata": {},
   "source": [
    "### Number of Eurythmy"
   ]
  },
  {
   "cell_type": "markdown",
   "id": "137b669f-4fe2-45ca-8aba-322b4d8c1c1f",
   "metadata": {},
   "source": [
    "This attribute represents the number of times the plant has received eurytmy at the time of the measurement\n",
    "- 0: the plant never recieved eurythmy\n",
    "- 1: that measurement was the first time it recieved eurythmy\n",
    "- 2: that measurement was the second time it recieved eurythmy (the first it recieved eurythmy was other day)\n",
    "\n",
    "  ..."
   ]
  },
  {
   "cell_type": "code",
   "execution_count": null,
   "id": "1f7b461f-46e0-4379-b741-f4c1f6189e29",
   "metadata": {},
   "outputs": [],
   "source": [
    "eurythmy_counts = df['num_eurythmy'].value_counts()\n",
    "eurythmy_counts = eurythmy_counts.sort_index()\n",
    "\n",
    "# Plotting\n",
    "ax = eurythmy_counts.plot(kind='bar')  # Use 'hist' for a histogram\n",
    "plt.title('Measurements by Number of Eurythmy')\n",
    "plt.xlabel('')\n",
    "plt.ylabel('wav files')\n",
    "plt.xticks(rotation=0)\n",
    "for i, v in enumerate(eurythmy_counts):\n",
    "    ax.text(i, v, str(v), ha='center', va='bottom')\n",
    "\n",
    "file_path= os.path.join(figures_folder, 'measurements_by_number_of_eurythmy.png')\n",
    "plt.savefig(file_path)\n",
    "\n",
    "plt.show()"
   ]
  }
 ],
 "metadata": {
  "kernelspec": {
   "display_name": "Python 3 (ipykernel)",
   "language": "python",
   "name": "python3"
  },
  "language_info": {
   "codemirror_mode": {
    "name": "ipython",
    "version": 3
   },
   "file_extension": ".py",
   "mimetype": "text/x-python",
   "name": "python",
   "nbconvert_exporter": "python",
   "pygments_lexer": "ipython3",
   "version": "3.10.13"
  }
 },
 "nbformat": 4,
 "nbformat_minor": 5
}
