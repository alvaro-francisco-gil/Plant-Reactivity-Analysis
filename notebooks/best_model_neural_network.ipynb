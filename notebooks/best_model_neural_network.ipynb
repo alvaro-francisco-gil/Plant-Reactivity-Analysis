{
 "cells": [
  {
   "cell_type": "markdown",
   "id": "501268a1-2347-46dd-ae4e-d4424b0261a9",
   "metadata": {},
   "source": [
    "# Best Model Neural Network"
   ]
  },
  {
   "cell_type": "code",
   "execution_count": 1,
   "id": "d682a9ac-99fa-4394-aaff-3844701b070f",
   "metadata": {
    "scrolled": true
   },
   "outputs": [],
   "source": [
    "import sys\n",
    "sys.path.append(\"../src\")"
   ]
  },
  {
   "cell_type": "code",
   "execution_count": 2,
   "id": "d5b91abe-37c4-4478-9207-7b7d4b5daf5a",
   "metadata": {},
   "outputs": [],
   "source": [
    "from features.features_dataset import FeaturesDataset\n",
    "from models.fully_connected_classifier import FullyConnectedClassifier\n",
    "from collections import Counter\n",
    "from torch.utils.data import DataLoader"
   ]
  },
  {
   "cell_type": "markdown",
   "id": "d16e753e-a150-4713-89fe-ee55f0a47f4e",
   "metadata": {},
   "source": [
    "## Import Dataset"
   ]
  },
  {
   "cell_type": "code",
   "execution_count": 3,
   "id": "65df135b-2862-4ce3-9a96-51bf4048106f",
   "metadata": {},
   "outputs": [],
   "source": [
    "csv_path= r\"..\\data\\processed\\features_dataset.csv\"\n",
    "feat_dataset = FeaturesDataset.load_from_csv(csv_path, label_columns= ['id_measurement', 'id_performance', 'datetime', 'plant', 'generation', 'num_eurythmy', 'initial_second', 'eurythmy_letter'],\n",
    "                                        variable_columns= ['mfcc_1_avg', 'mfcc_2_avg', 'mfcc_3_avg', 'mfcc_4_avg', 'mfcc_5_avg', 'mfcc_6_avg', 'mfcc_7_avg', 'mfcc_8_avg', 'mfcc_9_avg', 'mfcc_10_avg', 'mfcc_11_avg', 'mfcc_12_avg', 'mfcc_13_avg', 'mfcc_1_std', 'mfcc_2_std', 'mfcc_3_std', 'mfcc_4_std', 'mfcc_5_std', 'mfcc_6_std', 'mfcc_7_std', 'mfcc_8_std', 'mfcc_9_std', 'mfcc_10_std', 'mfcc_11_std', 'mfcc_12_std', 'mfcc_13_std', 'zero_crossing_rate', 'root_mean_square_energy', 'slope_sign_changes_ratio', 'hjorth_mobility', 'hjorth_complexity', 'mean', 'variance', 'standard_deviation', 'interquartile_range', 'skewness', 'kurtosis', 'dfa'],\n",
    "                                        target_column=None)"
   ]
  },
  {
   "cell_type": "code",
   "execution_count": 4,
   "id": "becfc4f0-3364-4948-a197-9da98cfbc374",
   "metadata": {},
   "outputs": [
    {
     "data": {
      "text/plain": [
       "(148682, 52)"
      ]
     },
     "execution_count": 4,
     "metadata": {},
     "output_type": "execute_result"
    }
   ],
   "source": [
    "feat_dataset.features.shape"
   ]
  },
  {
   "cell_type": "code",
   "execution_count": 5,
   "id": "201f79aa-6c54-45b9-8590-1d4e4076c1a3",
   "metadata": {},
   "outputs": [
    {
     "data": {
      "text/plain": [
       "(148682, 52)"
      ]
     },
     "execution_count": 5,
     "metadata": {},
     "output_type": "execute_result"
    }
   ],
   "source": [
    "feat_dataset_path= r\"..\\data\\processed\\features_dataset\"\n",
    "#feat_dataset = FeaturesDataset.load(file_path= feat_dataset_path)\n",
    "feat_dataset.features.shape"
   ]
  },
  {
   "cell_type": "markdown",
   "id": "b53f9dd1-6bd5-4b1f-ae2a-ab0aeb3ceac0",
   "metadata": {},
   "source": [
    "## Prepare Data"
   ]
  },
  {
   "cell_type": "code",
   "execution_count": 6,
   "id": "cd497b5a-6843-45c2-9d22-b847f9cc7dbd",
   "metadata": {},
   "outputs": [],
   "source": [
    "feat_dataset.prepare_dataset(drop_constant= True, drop_flatness= True)"
   ]
  },
  {
   "cell_type": "markdown",
   "id": "24f3bd65-4f12-4f95-b675-74f23d101aa4",
   "metadata": {},
   "source": [
    "## RQ1"
   ]
  },
  {
   "cell_type": "markdown",
   "id": "52d9dc60-42bf-49e3-b9be-65982f5de922",
   "metadata": {},
   "source": [
    "Is there any difference in the signals when someone is performing eurythmy?"
   ]
  },
  {
   "cell_type": "code",
   "execution_count": 7,
   "id": "aa452b95-7c4e-4e57-bc09-477f319a28e4",
   "metadata": {},
   "outputs": [],
   "source": [
    "rq1= feat_dataset.return_subset_given_research_question(1)"
   ]
  },
  {
   "cell_type": "code",
   "execution_count": 8,
   "id": "92795233-5312-40c2-bcc4-f12027da517e",
   "metadata": {},
   "outputs": [],
   "source": [
    "train_feat_dataset, _, test_feat_dataset= rq1.split_dataset(split_by_wav= False,test_size= 0.2, val_size= 0, random_state= True)"
   ]
  },
  {
   "cell_type": "markdown",
   "id": "ec7262c4-f677-4d44-8d17-ce350dd882ff",
   "metadata": {},
   "source": [
    "### Data preparation"
   ]
  },
  {
   "cell_type": "code",
   "execution_count": 9,
   "id": "2d747c2b-158c-46d3-a7ab-1554a5c30d21",
   "metadata": {},
   "outputs": [
    {
     "name": "stdout",
     "output_type": "stream",
     "text": [
      "Reduced variable features from 38 to 14.\n",
      "Variable features were properly normalized using 'zscore' method.\n",
      "Applied z-score normalization.\n"
     ]
    }
   ],
   "source": [
    "# Reduce the features that are correlated in the training data\n",
    "train_cols= train_feat_dataset.reduce_features(corr_threshold=0.8)\n",
    "test_feat_dataset.keep_only_specified_variable_columns(train_cols)\n",
    "\n",
    "# Normalize features ?????\n",
    "normalization_params= train_feat_dataset.normalize_features()\n",
    "test_feat_dataset.apply_normalization(normalization_params)"
   ]
  },
  {
   "cell_type": "code",
   "execution_count": 10,
   "id": "6c970865-b9c7-4ef9-9944-e6014c62817b",
   "metadata": {},
   "outputs": [
    {
     "data": {
      "text/html": [
       "<div>\n",
       "<style scoped>\n",
       "    .dataframe tbody tr th:only-of-type {\n",
       "        vertical-align: middle;\n",
       "    }\n",
       "\n",
       "    .dataframe tbody tr th {\n",
       "        vertical-align: top;\n",
       "    }\n",
       "\n",
       "    .dataframe thead th {\n",
       "        text-align: right;\n",
       "    }\n",
       "</style>\n",
       "<table border=\"1\" class=\"dataframe\">\n",
       "  <thead>\n",
       "    <tr style=\"text-align: right;\">\n",
       "      <th></th>\n",
       "      <th>mfcc_1_avg</th>\n",
       "      <th>mfcc_2_avg</th>\n",
       "      <th>mfcc_1_std</th>\n",
       "      <th>mfcc_2_std</th>\n",
       "      <th>zero_crossing_rate</th>\n",
       "      <th>root_mean_square_energy</th>\n",
       "      <th>slope_sign_changes_ratio</th>\n",
       "      <th>hjorth_mobility</th>\n",
       "      <th>hjorth_complexity</th>\n",
       "      <th>mean</th>\n",
       "      <th>variance</th>\n",
       "      <th>skewness</th>\n",
       "      <th>kurtosis</th>\n",
       "      <th>dfa</th>\n",
       "    </tr>\n",
       "  </thead>\n",
       "  <tbody>\n",
       "    <tr>\n",
       "      <th>0</th>\n",
       "      <td>0.490502</td>\n",
       "      <td>0.521933</td>\n",
       "      <td>-1.153778</td>\n",
       "      <td>-0.729785</td>\n",
       "      <td>0.072790</td>\n",
       "      <td>-0.748774</td>\n",
       "      <td>-0.322884</td>\n",
       "      <td>0.627700</td>\n",
       "      <td>-0.551484</td>\n",
       "      <td>0.188651</td>\n",
       "      <td>-0.161166</td>\n",
       "      <td>-0.159396</td>\n",
       "      <td>-0.059971</td>\n",
       "      <td>-0.560620</td>\n",
       "    </tr>\n",
       "    <tr>\n",
       "      <th>1</th>\n",
       "      <td>0.519042</td>\n",
       "      <td>0.651012</td>\n",
       "      <td>0.089378</td>\n",
       "      <td>-0.716642</td>\n",
       "      <td>-0.092952</td>\n",
       "      <td>0.235420</td>\n",
       "      <td>-0.306998</td>\n",
       "      <td>-0.207315</td>\n",
       "      <td>-0.234163</td>\n",
       "      <td>0.994964</td>\n",
       "      <td>-0.169605</td>\n",
       "      <td>-0.079065</td>\n",
       "      <td>-0.039311</td>\n",
       "      <td>-0.076734</td>\n",
       "    </tr>\n",
       "    <tr>\n",
       "      <th>2</th>\n",
       "      <td>-0.285698</td>\n",
       "      <td>0.094385</td>\n",
       "      <td>0.798018</td>\n",
       "      <td>0.803377</td>\n",
       "      <td>0.072790</td>\n",
       "      <td>-0.877135</td>\n",
       "      <td>-0.370543</td>\n",
       "      <td>1.318135</td>\n",
       "      <td>-0.703990</td>\n",
       "      <td>-0.007876</td>\n",
       "      <td>-0.163670</td>\n",
       "      <td>-0.472937</td>\n",
       "      <td>-0.046654</td>\n",
       "      <td>-0.554425</td>\n",
       "    </tr>\n",
       "    <tr>\n",
       "      <th>3</th>\n",
       "      <td>0.252752</td>\n",
       "      <td>0.078736</td>\n",
       "      <td>0.269404</td>\n",
       "      <td>-0.289341</td>\n",
       "      <td>-0.092952</td>\n",
       "      <td>-0.038785</td>\n",
       "      <td>0.268876</td>\n",
       "      <td>0.379892</td>\n",
       "      <td>-0.603772</td>\n",
       "      <td>0.743943</td>\n",
       "      <td>-0.128771</td>\n",
       "      <td>0.793485</td>\n",
       "      <td>-0.028507</td>\n",
       "      <td>1.211738</td>\n",
       "    </tr>\n",
       "    <tr>\n",
       "      <th>4</th>\n",
       "      <td>0.551977</td>\n",
       "      <td>0.517722</td>\n",
       "      <td>-0.762758</td>\n",
       "      <td>-0.703435</td>\n",
       "      <td>-0.010081</td>\n",
       "      <td>-0.398437</td>\n",
       "      <td>-0.171966</td>\n",
       "      <td>0.125735</td>\n",
       "      <td>-0.420576</td>\n",
       "      <td>-0.464539</td>\n",
       "      <td>-0.146951</td>\n",
       "      <td>1.014841</td>\n",
       "      <td>-0.002596</td>\n",
       "      <td>0.030150</td>\n",
       "    </tr>\n",
       "  </tbody>\n",
       "</table>\n",
       "</div>"
      ],
      "text/plain": [
       "   mfcc_1_avg  mfcc_2_avg  mfcc_1_std  mfcc_2_std  zero_crossing_rate  \\\n",
       "0    0.490502    0.521933   -1.153778   -0.729785            0.072790   \n",
       "1    0.519042    0.651012    0.089378   -0.716642           -0.092952   \n",
       "2   -0.285698    0.094385    0.798018    0.803377            0.072790   \n",
       "3    0.252752    0.078736    0.269404   -0.289341           -0.092952   \n",
       "4    0.551977    0.517722   -0.762758   -0.703435           -0.010081   \n",
       "\n",
       "   root_mean_square_energy  slope_sign_changes_ratio  hjorth_mobility  \\\n",
       "0                -0.748774                 -0.322884         0.627700   \n",
       "1                 0.235420                 -0.306998        -0.207315   \n",
       "2                -0.877135                 -0.370543         1.318135   \n",
       "3                -0.038785                  0.268876         0.379892   \n",
       "4                -0.398437                 -0.171966         0.125735   \n",
       "\n",
       "   hjorth_complexity      mean  variance  skewness  kurtosis       dfa  \n",
       "0          -0.551484  0.188651 -0.161166 -0.159396 -0.059971 -0.560620  \n",
       "1          -0.234163  0.994964 -0.169605 -0.079065 -0.039311 -0.076734  \n",
       "2          -0.703990 -0.007876 -0.163670 -0.472937 -0.046654 -0.554425  \n",
       "3          -0.603772  0.743943 -0.128771  0.793485 -0.028507  1.211738  \n",
       "4          -0.420576 -0.464539 -0.146951  1.014841 -0.002596  0.030150  "
      ]
     },
     "execution_count": 10,
     "metadata": {},
     "output_type": "execute_result"
    }
   ],
   "source": [
    "train_feat_dataset.objective_features.head()"
   ]
  },
  {
   "cell_type": "code",
   "execution_count": 13,
   "id": "55003dfa-44b3-4c3c-9264-e0fe524dd042",
   "metadata": {},
   "outputs": [
    {
     "data": {
      "text/html": [
       "<div>\n",
       "<style scoped>\n",
       "    .dataframe tbody tr th:only-of-type {\n",
       "        vertical-align: middle;\n",
       "    }\n",
       "\n",
       "    .dataframe tbody tr th {\n",
       "        vertical-align: top;\n",
       "    }\n",
       "\n",
       "    .dataframe thead th {\n",
       "        text-align: right;\n",
       "    }\n",
       "</style>\n",
       "<table border=\"1\" class=\"dataframe\">\n",
       "  <thead>\n",
       "    <tr style=\"text-align: right;\">\n",
       "      <th></th>\n",
       "      <th>mfcc_1_avg</th>\n",
       "      <th>mfcc_2_avg</th>\n",
       "      <th>mfcc_1_std</th>\n",
       "      <th>mfcc_2_std</th>\n",
       "      <th>zero_crossing_rate</th>\n",
       "      <th>root_mean_square_energy</th>\n",
       "      <th>slope_sign_changes_ratio</th>\n",
       "      <th>hjorth_mobility</th>\n",
       "      <th>hjorth_complexity</th>\n",
       "      <th>mean</th>\n",
       "      <th>variance</th>\n",
       "      <th>skewness</th>\n",
       "      <th>kurtosis</th>\n",
       "      <th>dfa</th>\n",
       "    </tr>\n",
       "  </thead>\n",
       "  <tbody>\n",
       "    <tr>\n",
       "      <th>0</th>\n",
       "      <td>-1.821271</td>\n",
       "      <td>-0.160021</td>\n",
       "      <td>1.272391</td>\n",
       "      <td>-0.045063</td>\n",
       "      <td>-0.092952</td>\n",
       "      <td>-0.566910</td>\n",
       "      <td>0.030583</td>\n",
       "      <td>-0.354435</td>\n",
       "      <td>-0.111343</td>\n",
       "      <td>0.381587</td>\n",
       "      <td>-0.176078</td>\n",
       "      <td>-1.563640</td>\n",
       "      <td>0.070001</td>\n",
       "      <td>1.244266</td>\n",
       "    </tr>\n",
       "    <tr>\n",
       "      <th>1</th>\n",
       "      <td>-0.589727</td>\n",
       "      <td>0.610047</td>\n",
       "      <td>-0.806714</td>\n",
       "      <td>-0.732582</td>\n",
       "      <td>-0.092952</td>\n",
       "      <td>-0.715897</td>\n",
       "      <td>-0.299055</td>\n",
       "      <td>-0.297326</td>\n",
       "      <td>-0.007276</td>\n",
       "      <td>-0.251565</td>\n",
       "      <td>-0.172534</td>\n",
       "      <td>-0.677664</td>\n",
       "      <td>-0.018627</td>\n",
       "      <td>-0.044473</td>\n",
       "    </tr>\n",
       "    <tr>\n",
       "      <th>2</th>\n",
       "      <td>-1.006415</td>\n",
       "      <td>0.675447</td>\n",
       "      <td>-0.725802</td>\n",
       "      <td>-0.762587</td>\n",
       "      <td>-0.092952</td>\n",
       "      <td>-0.825330</td>\n",
       "      <td>-0.362600</td>\n",
       "      <td>-0.365141</td>\n",
       "      <td>0.110774</td>\n",
       "      <td>-0.179422</td>\n",
       "      <td>-0.177210</td>\n",
       "      <td>-0.582960</td>\n",
       "      <td>-0.031017</td>\n",
       "      <td>-1.029386</td>\n",
       "    </tr>\n",
       "    <tr>\n",
       "      <th>3</th>\n",
       "      <td>-0.294411</td>\n",
       "      <td>0.002671</td>\n",
       "      <td>-1.812635</td>\n",
       "      <td>-0.256293</td>\n",
       "      <td>0.114226</td>\n",
       "      <td>-0.716813</td>\n",
       "      <td>0.161644</td>\n",
       "      <td>-0.201959</td>\n",
       "      <td>0.093364</td>\n",
       "      <td>-0.084040</td>\n",
       "      <td>-0.133621</td>\n",
       "      <td>0.805695</td>\n",
       "      <td>-0.008000</td>\n",
       "      <td>1.416964</td>\n",
       "    </tr>\n",
       "    <tr>\n",
       "      <th>4</th>\n",
       "      <td>-0.111090</td>\n",
       "      <td>0.654667</td>\n",
       "      <td>0.137952</td>\n",
       "      <td>-0.762173</td>\n",
       "      <td>-0.092952</td>\n",
       "      <td>-0.224810</td>\n",
       "      <td>-0.283169</td>\n",
       "      <td>-0.162103</td>\n",
       "      <td>-0.286673</td>\n",
       "      <td>0.643638</td>\n",
       "      <td>-0.174237</td>\n",
       "      <td>0.859114</td>\n",
       "      <td>-0.015812</td>\n",
       "      <td>-0.808486</td>\n",
       "    </tr>\n",
       "  </tbody>\n",
       "</table>\n",
       "</div>"
      ],
      "text/plain": [
       "   mfcc_1_avg  mfcc_2_avg  mfcc_1_std  mfcc_2_std  zero_crossing_rate  \\\n",
       "0   -1.821271   -0.160021    1.272391   -0.045063           -0.092952   \n",
       "1   -0.589727    0.610047   -0.806714   -0.732582           -0.092952   \n",
       "2   -1.006415    0.675447   -0.725802   -0.762587           -0.092952   \n",
       "3   -0.294411    0.002671   -1.812635   -0.256293            0.114226   \n",
       "4   -0.111090    0.654667    0.137952   -0.762173           -0.092952   \n",
       "\n",
       "   root_mean_square_energy  slope_sign_changes_ratio  hjorth_mobility  \\\n",
       "0                -0.566910                  0.030583        -0.354435   \n",
       "1                -0.715897                 -0.299055        -0.297326   \n",
       "2                -0.825330                 -0.362600        -0.365141   \n",
       "3                -0.716813                  0.161644        -0.201959   \n",
       "4                -0.224810                 -0.283169        -0.162103   \n",
       "\n",
       "   hjorth_complexity      mean  variance  skewness  kurtosis       dfa  \n",
       "0          -0.111343  0.381587 -0.176078 -1.563640  0.070001  1.244266  \n",
       "1          -0.007276 -0.251565 -0.172534 -0.677664 -0.018627 -0.044473  \n",
       "2           0.110774 -0.179422 -0.177210 -0.582960 -0.031017 -1.029386  \n",
       "3           0.093364 -0.084040 -0.133621  0.805695 -0.008000  1.416964  \n",
       "4          -0.286673  0.643638 -0.174237  0.859114 -0.015812 -0.808486  "
      ]
     },
     "execution_count": 13,
     "metadata": {},
     "output_type": "execute_result"
    }
   ],
   "source": [
    "test_feat_dataset.objective_features.head()"
   ]
  },
  {
   "cell_type": "code",
   "execution_count": 14,
   "id": "47035379-d2dd-41d0-a018-23f14fd98eaa",
   "metadata": {},
   "outputs": [
    {
     "name": "stdout",
     "output_type": "stream",
     "text": [
      "Counts and Percentages:\n",
      "Class 0: Count = 34956, Percentage = 53.78%\n",
      "Class 1: Count = 30047, Percentage = 46.22%\n",
      "Counts and Percentages:\n",
      "Class 0: Count = 8535, Percentage = 52.52%\n",
      "Class 1: Count = 7716, Percentage = 47.48%\n"
     ]
    }
   ],
   "source": [
    "train_feat_dataset.print_target_distribution()\n",
    "test_feat_dataset.print_target_distribution()"
   ]
  },
  {
   "cell_type": "code",
   "execution_count": 15,
   "id": "12075ed8-ce61-408c-b237-4fb3668045a5",
   "metadata": {},
   "outputs": [],
   "source": [
    "train_loader= DataLoader(train_feat_dataset, batch_size=32, shuffle=True)\n",
    "test_loader= DataLoader(test_feat_dataset, batch_size=32, shuffle=True)"
   ]
  },
  {
   "cell_type": "markdown",
   "id": "7f86f6f5-14f2-44ed-9dda-c6fd5ba81886",
   "metadata": {},
   "source": [
    "### Training"
   ]
  },
  {
   "cell_type": "code",
   "execution_count": 16,
   "id": "47a5c218-a6b0-43ba-9b66-0002bc2bf05a",
   "metadata": {},
   "outputs": [],
   "source": [
    "num_epochs = 50"
   ]
  },
  {
   "cell_type": "code",
   "execution_count": 17,
   "id": "769746a2-965f-4928-9b6a-a5a1e4f5d711",
   "metadata": {},
   "outputs": [],
   "source": [
    "input_size= len(train_feat_dataset.variable_columns)\n",
    "output_size= 2\n",
    "num_epochs = 50\n",
    "\n",
    "parameters = {\n",
    "    'learning_rate': 0.001,\n",
    "    'dense_units': 128,\n",
    "    'dense_layers': 1,\n",
    "    'dropout_rate': 0.2,\n",
    "    'early_stopping_patience': 7\n",
    "}\n",
    "\n",
    "model = FullyConnectedClassifier(input_size= input_size, output_size= output_size, parameters= parameters)"
   ]
  },
  {
   "cell_type": "code",
   "execution_count": 18,
   "id": "922201a6-7c48-4915-9733-434a8ce3831a",
   "metadata": {},
   "outputs": [
    {
     "name": "stdout",
     "output_type": "stream",
     "text": [
      "Epoch 1/50, Training Loss: 0.6142, Training Accuracy: 0.6646, Validation Loss: 0.6064\n",
      "Epoch 2/50, Training Loss: 0.6062, Training Accuracy: 0.6686, Validation Loss: 0.5996\n",
      "Epoch 3/50, Training Loss: 0.6027, Training Accuracy: 0.6738, Validation Loss: 0.5986\n",
      "Epoch 4/50, Training Loss: 0.6015, Training Accuracy: 0.6740, Validation Loss: 0.6006\n",
      "Epoch 5/50, Training Loss: 0.6000, Training Accuracy: 0.6768, Validation Loss: 0.6007\n",
      "Epoch 6/50, Training Loss: 0.5998, Training Accuracy: 0.6749, Validation Loss: 0.5956\n",
      "Epoch 7/50, Training Loss: 0.5981, Training Accuracy: 0.6760, Validation Loss: 0.5932\n",
      "Epoch 8/50, Training Loss: 0.5973, Training Accuracy: 0.6759, Validation Loss: 0.5937\n",
      "Epoch 9/50, Training Loss: 0.5965, Training Accuracy: 0.6787, Validation Loss: 0.5924\n",
      "Epoch 10/50, Training Loss: 0.5948, Training Accuracy: 0.6798, Validation Loss: 0.5934\n",
      "Epoch 11/50, Training Loss: 0.5944, Training Accuracy: 0.6810, Validation Loss: 0.5909\n",
      "Epoch 12/50, Training Loss: 0.5933, Training Accuracy: 0.6794, Validation Loss: 0.5904\n",
      "Epoch 13/50, Training Loss: 0.5928, Training Accuracy: 0.6796, Validation Loss: 0.5928\n",
      "Epoch 14/50, Training Loss: 0.5925, Training Accuracy: 0.6828, Validation Loss: 0.5933\n",
      "Epoch 15/50, Training Loss: 0.5915, Training Accuracy: 0.6816, Validation Loss: 0.5888\n",
      "Epoch 16/50, Training Loss: 0.5912, Training Accuracy: 0.6825, Validation Loss: 0.5906\n",
      "Epoch 17/50, Training Loss: 0.5905, Training Accuracy: 0.6835, Validation Loss: 0.5872\n",
      "Epoch 18/50, Training Loss: 0.5885, Training Accuracy: 0.6836, Validation Loss: 0.5908\n",
      "Epoch 19/50, Training Loss: 0.5888, Training Accuracy: 0.6858, Validation Loss: 0.5850\n",
      "Epoch 20/50, Training Loss: 0.5880, Training Accuracy: 0.6859, Validation Loss: 0.5848\n",
      "Epoch 21/50, Training Loss: 0.5872, Training Accuracy: 0.6863, Validation Loss: 0.5856\n",
      "Epoch 22/50, Training Loss: 0.5867, Training Accuracy: 0.6875, Validation Loss: 0.5839\n",
      "Epoch 23/50, Training Loss: 0.5853, Training Accuracy: 0.6871, Validation Loss: 0.5848\n",
      "Epoch 24/50, Training Loss: 0.5857, Training Accuracy: 0.6863, Validation Loss: 0.5873\n",
      "Epoch 25/50, Training Loss: 0.5853, Training Accuracy: 0.6867, Validation Loss: 0.5833\n",
      "Epoch 26/50, Training Loss: 0.5850, Training Accuracy: 0.6877, Validation Loss: 0.5826\n",
      "Epoch 27/50, Training Loss: 0.5835, Training Accuracy: 0.6890, Validation Loss: 0.5828\n",
      "Epoch 28/50, Training Loss: 0.5846, Training Accuracy: 0.6881, Validation Loss: 0.5825\n",
      "Epoch 29/50, Training Loss: 0.5829, Training Accuracy: 0.6884, Validation Loss: 0.5812\n",
      "Epoch 30/50, Training Loss: 0.5837, Training Accuracy: 0.6893, Validation Loss: 0.5814\n",
      "Epoch 31/50, Training Loss: 0.5825, Training Accuracy: 0.6903, Validation Loss: 0.5813\n",
      "Epoch 32/50, Training Loss: 0.5835, Training Accuracy: 0.6900, Validation Loss: 0.5821\n",
      "Epoch 33/50, Training Loss: 0.5823, Training Accuracy: 0.6903, Validation Loss: 0.5791\n",
      "Epoch 34/50, Training Loss: 0.5813, Training Accuracy: 0.6911, Validation Loss: 0.5827\n",
      "Epoch 35/50, Training Loss: 0.5832, Training Accuracy: 0.6898, Validation Loss: 0.5797\n",
      "Epoch 36/50, Training Loss: 0.5821, Training Accuracy: 0.6913, Validation Loss: 0.5793\n",
      "Epoch 37/50, Training Loss: 0.5821, Training Accuracy: 0.6897, Validation Loss: 0.5817\n",
      "Epoch 38/50, Training Loss: 0.5813, Training Accuracy: 0.6924, Validation Loss: 0.5819\n",
      "Epoch 39/50, Training Loss: 0.5819, Training Accuracy: 0.6908, Validation Loss: 0.5829\n",
      "Epoch 40/50, Training Loss: 0.5802, Training Accuracy: 0.6911, Validation Loss: 0.5794\n",
      "Early stopping triggered\n"
     ]
    }
   ],
   "source": [
    "model.train_model(train_loader, test_loader, num_epochs)"
   ]
  },
  {
   "cell_type": "markdown",
   "id": "a55a29ad-f615-4ea0-8b6f-f92ce79d125b",
   "metadata": {},
   "source": [
    "### Evaluation"
   ]
  },
  {
   "cell_type": "code",
   "execution_count": 19,
   "id": "780fd1cc-6d6c-47e3-aa01-9be0615186f4",
   "metadata": {},
   "outputs": [],
   "source": [
    "test_predictions = model.predict(test_loader)"
   ]
  },
  {
   "cell_type": "code",
   "execution_count": 20,
   "id": "fc8da217-de67-4d9f-ae1d-036f51e4f073",
   "metadata": {},
   "outputs": [],
   "source": [
    "actual_labels = []\n",
    "for _, labels in test_loader:\n",
    "    actual_labels.extend(labels.tolist())"
   ]
  },
  {
   "cell_type": "code",
   "execution_count": 21,
   "id": "2609c48b-aecf-463b-a3c4-70a543a054e6",
   "metadata": {},
   "outputs": [
    {
     "name": "stdout",
     "output_type": "stream",
     "text": [
      "Accuracy: 0.4979\n"
     ]
    }
   ],
   "source": [
    "correct_predictions = sum(p == t for p, t in zip(test_predictions, actual_labels))\n",
    "accuracy = correct_predictions / len(actual_labels)\n",
    "print(f\"Accuracy: {accuracy:.4f}\")"
   ]
  },
  {
   "cell_type": "code",
   "execution_count": 22,
   "id": "1ec56b49-e194-4244-88eb-a4fb3483cdf0",
   "metadata": {},
   "outputs": [
    {
     "name": "stdout",
     "output_type": "stream",
     "text": [
      "Precision: 0.4989\n",
      "Recall: 0.4989\n",
      "F1-Score: 0.4979\n",
      "Confusion Matrix:\n",
      " [[4085 4450]\n",
      " [3710 4006]]\n"
     ]
    }
   ],
   "source": [
    "from sklearn.metrics import precision_score, recall_score, f1_score, confusion_matrix\n",
    "\n",
    "# Assuming your task is a classification task\n",
    "precision = precision_score(actual_labels, test_predictions, average='macro')\n",
    "recall = recall_score(actual_labels, test_predictions, average='macro')\n",
    "f1 = f1_score(actual_labels, test_predictions, average='macro')\n",
    "\n",
    "print(f\"Precision: {precision:.4f}\")\n",
    "print(f\"Recall: {recall:.4f}\")\n",
    "print(f\"F1-Score: {f1:.4f}\")\n",
    "\n",
    "# Confusion Matrix\n",
    "conf_matrix = confusion_matrix(actual_labels, test_predictions)\n",
    "print(\"Confusion Matrix:\\n\", conf_matrix)"
   ]
  },
  {
   "cell_type": "code",
   "execution_count": 23,
   "id": "a78965f5-422c-484b-a57d-c94867efafc6",
   "metadata": {},
   "outputs": [
    {
     "ename": "NameError",
     "evalue": "name 'klk' is not defined",
     "output_type": "error",
     "traceback": [
      "\u001b[1;31m---------------------------------------------------------------------------\u001b[0m",
      "\u001b[1;31mNameError\u001b[0m                                 Traceback (most recent call last)",
      "Cell \u001b[1;32mIn[23], line 1\u001b[0m\n\u001b[1;32m----> 1\u001b[0m \u001b[43mklk\u001b[49m\n",
      "\u001b[1;31mNameError\u001b[0m: name 'klk' is not defined"
     ]
    }
   ],
   "source": [
    "klk"
   ]
  },
  {
   "cell_type": "markdown",
   "id": "423922b4-2b77-493e-bee9-333fc2ec32b9",
   "metadata": {},
   "source": [
    "## RQ2"
   ]
  },
  {
   "cell_type": "code",
   "execution_count": null,
   "id": "b0986c19-6265-48e0-a18a-43cd53a50fa6",
   "metadata": {},
   "outputs": [],
   "source": [
    "### Data preparation\n",
    "\n",
    "# Reduce the Dataset for the datapoints concerning rq2\n",
    "\n",
    "rq2_train_feat_dataset= train_feat_dataset.copy()\n",
    "processed_train_indexes, train_targets= ped.get_indexes_and_targets_by_rq(2, rq2_train_feat_dataset.features)\n",
    "rq2_train_feat_dataset.features= rq2_train_feat_dataset.features.iloc[processed_train_indexes]\n",
    "rq2_train_feat_dataset.features.reset_index(drop=True, inplace=True)\n",
    "\n",
    "rq2_test_feat_dataset= test_feat_dataset.copy()\n",
    "processed_test_indexes, test_targets= ped.get_indexes_and_targets_by_rq(2, rq2_test_feat_dataset.features)\n",
    "rq2_test_feat_dataset.features= rq2_test_feat_dataset.features.iloc[processed_test_indexes]\n",
    "rq2_test_feat_dataset.features.reset_index(drop=True, inplace=True)\n",
    "\n",
    "# Reduce the features that are correlated in the training data\n",
    "train_cols= rq2_train_feat_dataset.reduce_features(targets= train_targets, corr_threshold=0.75)\n",
    "rq2_test_feat_dataset.keep_only_specified_variable_columns(train_cols)\n",
    "\n",
    "# Normalize features\n",
    "normalization_params= rq2_train_feat_dataset.normalize_features()\n",
    "rq2_test_feat_dataset.apply_normalization(normalization_params)\n",
    "\n",
    "rq2_train_feat_dataset.objective_features.head()\n",
    "\n",
    "rq2_test_feat_dataset.objective_features.head()\n",
    "\n",
    "train_loader= rq2_train_feat_dataset.get_variable_features_loader(train_targets)\n",
    "test_loader= rq2_test_feat_dataset.get_variable_features_loader(test_targets)\n",
    "\n",
    "# Train dataset\n",
    "print_counts_and_percentages(train_targets)\n",
    "\n",
    "# Test dataset\n",
    "print_counts_and_percentages(test_targets)\n",
    "\n",
    "### Training\n",
    "\n",
    "num_epochs = 50\n",
    "\n",
    "input_size= len(rq2_train_feat_dataset.variable_columns)\n",
    "output_size= 3\n",
    "num_epochs = 50\n",
    "\n",
    "parameters = {\n",
    "    'learning_rate': 0.0003,\n",
    "    'dense_units': 128,\n",
    "    'dense_layers': 2,\n",
    "    'dropout_rate': 0.2\n",
    "}\n",
    "\n",
    "model = FullyConnectedClassifier(input_size= input_size, output_size= output_size, parameters= parameters)\n",
    "\n",
    "model.train_model(train_loader, test_loader, num_epochs)\n",
    "\n",
    "### Evaluation\n",
    "\n",
    "test_predictions = model.predict(test_loader)\n",
    "\n",
    "actual_labels = []\n",
    "for _, labels in test_loader:\n",
    "    actual_labels.extend(labels.tolist())\n",
    "\n",
    "correct_predictions = sum(p == t for p, t in zip(test_predictions, actual_labels))\n",
    "accuracy = correct_predictions / len(actual_labels)\n",
    "print(f\"Accuracy: {accuracy:.4f}\")\n",
    "\n",
    "\n",
    "from sklearn.metrics import precision_score, recall_score, f1_score, confusion_matrix\n",
    "\n",
    "# Assuming your task is a classification task\n",
    "precision = precision_score(actual_labels, test_predictions, average='macro')\n",
    "recall = recall_score(actual_labels, test_predictions, average='macro')\n",
    "f1 = f1_score(actual_labels, test_predictions, average='macro')\n",
    "\n",
    "print(f\"Precision: {precision:.4f}\")\n",
    "print(f\"Recall: {recall:.4f}\")\n",
    "print(f\"F1-Score: {f1:.4f}\")\n",
    "\n",
    "# Confusion Matrix\n",
    "conf_matrix = confusion_matrix(actual_labels, test_predictions)\n",
    "print(\"Confusion Matrix:\\n\", conf_matrix)"
   ]
  },
  {
   "cell_type": "markdown",
   "id": "ab9446fe-ddeb-4ae5-bf39-a8c4a7d5cd12",
   "metadata": {},
   "source": [
    "## RQ3"
   ]
  },
  {
   "cell_type": "code",
   "execution_count": null,
   "id": "d4b82a9e-242a-4094-b87d-78f17c04c53f",
   "metadata": {},
   "outputs": [],
   "source": [
    "### Data preparation\n",
    "\n",
    "# Reduce the Dataset for the datapoints concerning rq3\n",
    "\n",
    "rq3_train_feat_dataset= train_feat_dataset.copy()\n",
    "processed_train_indexes, train_targets= ped.get_indexes_and_targets_by_rq(3, rq3_train_feat_dataset.features)\n",
    "rq3_train_feat_dataset.features= rq3_train_feat_dataset.features.iloc[processed_train_indexes]\n",
    "rq3_train_feat_dataset.features.reset_index(drop=True, inplace=True)\n",
    "\n",
    "rq3_test_feat_dataset= test_feat_dataset.copy()\n",
    "processed_test_indexes, test_targets= ped.get_indexes_and_targets_by_rq(3, rq3_test_feat_dataset.features)\n",
    "rq3_test_feat_dataset.features= rq3_test_feat_dataset.features.iloc[processed_test_indexes]\n",
    "rq3_test_feat_dataset.features.reset_index(drop=True, inplace=True)\n",
    "\n",
    "# Reduce the features that are correlated in the training data\n",
    "train_cols= rq3_train_feat_dataset.reduce_features(targets= train_targets, corr_threshold=0.75)\n",
    "rq3_test_feat_dataset.keep_only_specified_variable_columns(train_cols)\n",
    "\n",
    "# Normalize features\n",
    "normalization_params= rq3_train_feat_dataset.normalize_features()\n",
    "rq3_test_feat_dataset.apply_normalization(normalization_params)\n",
    "\n",
    "rq3_train_feat_dataset.objective_features.head()\n",
    "\n",
    "rq3_test_feat_dataset.objective_features.head()\n",
    "\n",
    "train_loader= rq3_train_feat_dataset.get_variable_features_loader(train_targets)\n",
    "test_loader= rq3_test_feat_dataset.get_variable_features_loader(test_targets)\n",
    "\n",
    "# Train dataset\n",
    "print_counts_and_percentages(train_targets)\n",
    "\n",
    "# Test dataset\n",
    "print_counts_and_percentages(test_targets)\n",
    "\n",
    "### Training\n",
    "\n",
    "num_epochs = 50\n",
    "\n",
    "input_size= len(rq3_train_feat_dataset.variable_columns)\n",
    "output_size= 4\n",
    "num_epochs = 50\n",
    "\n",
    "parameters = {\n",
    "    'learning_rate': 0.0003,\n",
    "    'dense_units': 64,\n",
    "    'dense_layers': 1,\n",
    "    'dropout_rate': 0\n",
    "}\n",
    "\n",
    "model = FullyConnectedClassifier(input_size= input_size, output_size= output_size, parameters= parameters)\n",
    "\n",
    "model.train_model(train_loader, test_loader, num_epochs)\n",
    "\n",
    "### Evaluation\n",
    "\n",
    "test_predictions = model.predict(test_loader)\n",
    "\n",
    "actual_labels = []\n",
    "for _, labels in test_loader:\n",
    "    actual_labels.extend(labels.tolist())\n",
    "\n",
    "correct_predictions = sum(p == t for p, t in zip(test_predictions, actual_labels))\n",
    "accuracy = correct_predictions / len(actual_labels)\n",
    "print(f\"Accuracy: {accuracy:.4f}\")\n",
    "\n",
    "\n",
    "from sklearn.metrics import precision_score, recall_score, f1_score, confusion_matrix\n",
    "\n",
    "# Assuming your task is a classification task\n",
    "precision = precision_score(actual_labels, test_predictions, average='macro')\n",
    "recall = recall_score(actual_labels, test_predictions, average='macro')\n",
    "f1 = f1_score(actual_labels, test_predictions, average='macro')\n",
    "\n",
    "print(f\"Precision: {precision:.4f}\")\n",
    "print(f\"Recall: {recall:.4f}\")\n",
    "print(f\"F1-Score: {f1:.4f}\")\n",
    "\n",
    "# Confusion Matrix\n",
    "conf_matrix = confusion_matrix(actual_labels, test_predictions)\n",
    "print(\"Confusion Matrix:\\n\", conf_matrix)"
   ]
  },
  {
   "cell_type": "markdown",
   "id": "2518c098-1edb-4e4e-8998-18553d44bd8a",
   "metadata": {},
   "source": [
    "## RQ4"
   ]
  },
  {
   "cell_type": "code",
   "execution_count": null,
   "id": "3d02cffc-7d99-4976-8fa0-d9add1866aff",
   "metadata": {},
   "outputs": [],
   "source": [
    "### Data preparation\n",
    "\n",
    "# Reduce the Dataset for the datapoints concerning rq4\n",
    "\n",
    "rq4_train_feat_dataset= train_feat_dataset.copy()\n",
    "processed_train_indexes, train_targets= ped.get_indexes_and_targets_by_rq(4, rq4_train_feat_dataset.features)\n",
    "rq4_train_feat_dataset.features= rq4_train_feat_dataset.features.iloc[processed_train_indexes]\n",
    "rq4_train_feat_dataset.features.reset_index(drop=True, inplace=True)\n",
    "\n",
    "rq4_test_feat_dataset= test_feat_dataset.copy()\n",
    "processed_test_indexes, test_targets= ped.get_indexes_and_targets_by_rq(4, rq4_test_feat_dataset.features)\n",
    "rq4_test_feat_dataset.features= rq4_test_feat_dataset.features.iloc[processed_test_indexes]\n",
    "rq4_test_feat_dataset.features.reset_index(drop=True, inplace=True)\n",
    "\n",
    "# Reduce the features that are correlated in the training data\n",
    "train_cols= rq4_train_feat_dataset.reduce_features(targets= train_targets, corr_threshold=0.75)\n",
    "rq4_test_feat_dataset.keep_only_specified_variable_columns(train_cols)\n",
    "\n",
    "# Normalize features\n",
    "normalization_params= rq4_train_feat_dataset.normalize_features()\n",
    "rq4_test_feat_dataset.apply_normalization(normalization_params)\n",
    "\n",
    "rq4_train_feat_dataset.objective_features.head()\n",
    "\n",
    "rq4_test_feat_dataset.objective_features.head()\n",
    "\n",
    "train_loader= rq4_train_feat_dataset.get_variable_features_loader(train_targets)\n",
    "test_loader= rq4_test_feat_dataset.get_variable_features_loader(test_targets)\n",
    "\n",
    "# Train dataset\n",
    "print_counts_and_percentages(train_targets)\n",
    "\n",
    "# Test dataset\n",
    "print_counts_and_percentages(test_targets)\n",
    "\n",
    "### Training\n",
    "\n",
    "num_epochs = 50\n",
    "\n",
    "input_size= len(rq4_train_feat_dataset.variable_columns)\n",
    "output_size= 4\n",
    "num_epochs = 50\n",
    "\n",
    "parameters = {\n",
    "    'learning_rate': 0.0003,\n",
    "    'dense_units': 64,\n",
    "    'dense_layers': 2,\n",
    "    'dropout_rate': 0.2\n",
    "}\n",
    "\n",
    "model = FullyConnectedClassifier(input_size= input_size, output_size= output_size, parameters= parameters)\n",
    "\n",
    "model.train_model(train_loader, test_loader, num_epochs)\n",
    "\n",
    "### Evaluation\n",
    "\n",
    "test_predictions = model.predict(test_loader)\n",
    "\n",
    "actual_labels = []\n",
    "for _, labels in test_loader:\n",
    "    actual_labels.extend(labels.tolist())\n",
    "\n",
    "correct_predictions = sum(p == t for p, t in zip(test_predictions, actual_labels))\n",
    "accuracy = correct_predictions / len(actual_labels)\n",
    "print(f\"Accuracy: {accuracy:.4f}\")\n",
    "\n",
    "\n",
    "from sklearn.metrics import precision_score, recall_score, f1_score, confusion_matrix\n",
    "\n",
    "# Assuming your task is a classification task\n",
    "precision = precision_score(actual_labels, test_predictions, average='macro')\n",
    "recall = recall_score(actual_labels, test_predictions, average='macro')\n",
    "f1 = f1_score(actual_labels, test_predictions, average='macro')\n",
    "\n",
    "print(f\"Precision: {precision:.4f}\")\n",
    "print(f\"Recall: {recall:.4f}\")\n",
    "print(f\"F1-Score: {f1:.4f}\")\n",
    "\n",
    "# Confusion Matrix\n",
    "conf_matrix = confusion_matrix(actual_labels, test_predictions)\n",
    "print(\"Confusion Matrix:\\n\", conf_matrix)"
   ]
  }
 ],
 "metadata": {
  "kernelspec": {
   "display_name": "Python 3 (ipykernel)",
   "language": "python",
   "name": "python3"
  },
  "language_info": {
   "codemirror_mode": {
    "name": "ipython",
    "version": 3
   },
   "file_extension": ".py",
   "mimetype": "text/x-python",
   "name": "python",
   "nbconvert_exporter": "python",
   "pygments_lexer": "ipython3",
   "version": "3.10.13"
  }
 },
 "nbformat": 4,
 "nbformat_minor": 5
}
