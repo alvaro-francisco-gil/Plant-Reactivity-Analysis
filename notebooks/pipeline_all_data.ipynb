{
 "cells": [
  {
   "cell_type": "markdown",
   "id": "acf646a6-efa3-41e0-9454-51f41d501a00",
   "metadata": {},
   "source": [
    "Imports"
   ]
  },
  {
   "cell_type": "code",
   "execution_count": 1,
   "id": "d682a9ac-99fa-4394-aaff-3844701b070f",
   "metadata": {
    "scrolled": true
   },
   "outputs": [],
   "source": [
    "import sys\n",
    "sys.path.append(\"../src\") "
   ]
  },
  {
   "cell_type": "code",
   "execution_count": 2,
   "id": "d5b91abe-37c4-4478-9207-7b7d4b5daf5a",
   "metadata": {},
   "outputs": [],
   "source": [
    "import pandas as pd\n",
    "from data.wav_data_reader import WavDataReader\n",
    "from data.signal_dataset import SignalDataset\n",
    "from features.wav_feature_extractor import WavFeatureExtractor\n",
    "from features.features_dataset import FeaturesDataset\n",
    "import data.preparation_eurythmy_data as ped\n",
    "from models.fully_connected_classifier import FullyConnectedClassifier\n",
    "from evaluation.hyperparameter_tuner import HyperparameterTuner"
   ]
  },
  {
   "cell_type": "markdown",
   "id": "c1f8ae78-fa89-411a-b113-dfc46333de1f",
   "metadata": {},
   "source": [
    "Reader"
   ]
  },
  {
   "cell_type": "code",
   "execution_count": 3,
   "id": "2ab39bbd",
   "metadata": {},
   "outputs": [],
   "source": [
    "test_folder= r\"..\\data\\interim\\testing\""
   ]
  },
  {
   "cell_type": "code",
   "execution_count": 4,
   "id": "eb1dc723-ac03-42e8-b4cc-0364d069e2b1",
   "metadata": {},
   "outputs": [],
   "source": [
    "reader= WavDataReader(folder= test_folder)\n",
    "signals, ids= reader.get_values_and_keys()\n",
    "meas_df= ped.return_meas_labels_by_keys(ids)"
   ]
  },
  {
   "cell_type": "markdown",
   "id": "f94af8a1-535a-49ce-99ec-6083def60efc",
   "metadata": {},
   "source": [
    "Signal Dataset"
   ]
  },
  {
   "cell_type": "code",
   "execution_count": 5,
   "id": "66874193-cf2b-427a-9a6a-cff8cfca8d20",
   "metadata": {},
   "outputs": [
    {
     "data": {
      "text/html": [
       "<div>\n",
       "<style scoped>\n",
       "    .dataframe tbody tr th:only-of-type {\n",
       "        vertical-align: middle;\n",
       "    }\n",
       "\n",
       "    .dataframe tbody tr th {\n",
       "        vertical-align: top;\n",
       "    }\n",
       "\n",
       "    .dataframe thead th {\n",
       "        text-align: right;\n",
       "    }\n",
       "</style>\n",
       "<table border=\"1\" class=\"dataframe\">\n",
       "  <thead>\n",
       "    <tr style=\"text-align: right;\">\n",
       "      <th></th>\n",
       "      <th>id_measurement</th>\n",
       "      <th>id_performance</th>\n",
       "      <th>datetime</th>\n",
       "      <th>plant</th>\n",
       "      <th>generation</th>\n",
       "      <th>num_eurythmy</th>\n",
       "    </tr>\n",
       "  </thead>\n",
       "  <tbody>\n",
       "    <tr>\n",
       "      <th>0</th>\n",
       "      <td>1</td>\n",
       "      <td>1</td>\n",
       "      <td>2023-04-29</td>\n",
       "      <td>salad</td>\n",
       "      <td>1</td>\n",
       "      <td>1</td>\n",
       "    </tr>\n",
       "    <tr>\n",
       "      <th>1</th>\n",
       "      <td>15</td>\n",
       "      <td>3</td>\n",
       "      <td>2023-05-09</td>\n",
       "      <td>salad</td>\n",
       "      <td>1</td>\n",
       "      <td>1</td>\n",
       "    </tr>\n",
       "    <tr>\n",
       "      <th>2</th>\n",
       "      <td>44</td>\n",
       "      <td>8</td>\n",
       "      <td>2023-05-19</td>\n",
       "      <td>tomato</td>\n",
       "      <td>1</td>\n",
       "      <td>1</td>\n",
       "    </tr>\n",
       "    <tr>\n",
       "      <th>3</th>\n",
       "      <td>129</td>\n",
       "      <td>23</td>\n",
       "      <td>2023-06-12</td>\n",
       "      <td>tomato</td>\n",
       "      <td>1</td>\n",
       "      <td>1</td>\n",
       "    </tr>\n",
       "    <tr>\n",
       "      <th>4</th>\n",
       "      <td>252</td>\n",
       "      <td>44</td>\n",
       "      <td>2023-07-11</td>\n",
       "      <td>basil</td>\n",
       "      <td>1</td>\n",
       "      <td>0</td>\n",
       "    </tr>\n",
       "    <tr>\n",
       "      <th>5</th>\n",
       "      <td>278</td>\n",
       "      <td>48</td>\n",
       "      <td>2023-07-17</td>\n",
       "      <td>basil</td>\n",
       "      <td>1</td>\n",
       "      <td>0</td>\n",
       "    </tr>\n",
       "  </tbody>\n",
       "</table>\n",
       "</div>"
      ],
      "text/plain": [
       "   id_measurement  id_performance    datetime   plant  generation  \\\n",
       "0               1               1  2023-04-29   salad           1   \n",
       "1              15               3  2023-05-09   salad           1   \n",
       "2              44               8  2023-05-19  tomato           1   \n",
       "3             129              23  2023-06-12  tomato           1   \n",
       "4             252              44  2023-07-11   basil           1   \n",
       "5             278              48  2023-07-17   basil           1   \n",
       "\n",
       "   num_eurythmy  \n",
       "0             1  \n",
       "1             1  \n",
       "2             1  \n",
       "3             1  \n",
       "4             0  \n",
       "5             0  "
      ]
     },
     "execution_count": 5,
     "metadata": {},
     "output_type": "execute_result"
    }
   ],
   "source": [
    "#Initialize\n",
    "signal_dataset= SignalDataset(signals= signals, features= meas_df)\n",
    "\n",
    "#Process Data\n",
    "signal_dataset.standardize_signals(\"zscore\")\n",
    "signal_dataset.segment_signals(segment_duration=1)\n",
    "signal_dataset.remove_constant_signals()\n",
    "\n",
    "#Add eurythmy letter data to the features\n",
    "signal_dataset.features= ped.add_meas_letters(signal_dataset.features)"
   ]
  },
  {
   "cell_type": "code",
   "execution_count": 8,
   "id": "c051d13c-4806-4481-8aae-d1b7bb542b5a",
   "metadata": {},
   "outputs": [],
   "source": [
    "# Function in ped that returns indexes to keep for each question and targets\n",
    "# Function in signal dataset that implements?"
   ]
  },
  {
   "cell_type": "code",
   "execution_count": 14,
   "id": "a333d703-76ff-4c8b-8130-6dcd16b3f9d6",
   "metadata": {},
   "outputs": [
    {
     "data": {
      "text/plain": [
       "1348"
      ]
     },
     "execution_count": 14,
     "metadata": {},
     "output_type": "execute_result"
    }
   ],
   "source": [
    "len(signal_dataset.features)"
   ]
  },
  {
   "cell_type": "code",
   "execution_count": 9,
   "id": "e7b4a7b8-b87a-443f-bdbf-829d7c40a296",
   "metadata": {},
   "outputs": [],
   "source": [
    "indexes, target_list= ped.get_targets_rq2_what_letter(signal_dataset.features)"
   ]
  },
  {
   "cell_type": "code",
   "execution_count": 13,
   "id": "d73fbfd7-10a8-449e-81e6-b37d17af70a0",
   "metadata": {},
   "outputs": [
    {
     "name": "stdout",
     "output_type": "stream",
     "text": [
      "[0, 0, 0, 0, 0, 0, 0, 0, 0, 0, 1, 1, 1, 1, 1, 1, 1, 1, 1, 2, 2, 2, 2, 2, 2, 2, 2, 2, 2, 0, 0, 0, 0, 0, 0, 0, 0, 0, 0, 1, 1, 1, 1, 1, 1, 1, 1, 1, 1, 2, 2, 2, 2, 2, 2, 2, 2, 2, 2, 2, 0, 0, 0, 0, 0, 0, 0, 0, 0, 0, 1, 1, 1, 1, 1, 1, 1, 1, 1, 2, 2, 2, 2, 2, 2, 2, 2, 2, 2, 2, 0, 0, 0, 0, 0, 0, 0, 0, 0, 1, 1, 1, 1, 1, 1, 1, 1, 1, 1, 1, 2, 2, 2, 2, 2, 2, 2, 2, 2, 2, 2, 2, 0, 0, 0, 0, 0, 0, 0, 0, 0, 0, 0, 1, 1, 1, 1, 1, 1, 1, 1, 2, 2, 2, 2, 2, 2, 2, 2, 2, 2, 0, 0, 0, 0, 0, 0, 0, 0, 0, 0, 0, 1, 1, 1, 1, 1, 1, 1, 1, 1, 2, 2, 2, 2, 2, 2, 2, 2, 2, 2, 2, 2, 0, 0, 0, 0, 0, 0, 0, 0, 0, 0, 0, 1, 1, 1, 1, 1, 1, 1, 1, 1, 2, 2, 2, 2, 2, 2, 2, 2, 2, 2, 0, 0, 0, 0, 0, 0, 0, 0, 0, 0, 1, 1, 1, 1, 1, 1, 1, 1, 1, 2, 2, 2, 2, 2, 2, 2, 2, 2, 2, 2, 0, 0, 0, 0, 0, 0, 0, 0, 0, 0, 0, 0, 0, 0, 0, 1, 1, 1, 1, 1, 1, 1, 1, 1, 1, 1, 2, 2, 2, 2, 2, 2, 2, 2, 2, 2, 2, 2, 2, 2, 2, 0, 0, 0, 0, 0, 0, 0, 0, 0, 0, 0, 0, 0, 1, 1, 1, 1, 1, 1, 1, 1, 1, 2, 2, 2, 2, 2, 2, 2, 2, 2, 2, 2, 2, 0, 0, 0, 0, 0, 0, 0, 0, 0, 0, 0, 0, 1, 1, 1, 1, 1, 1, 1, 1, 1, 1, 1, 1, 1, 2, 2, 2, 2, 2, 2, 2, 2, 2, 2, 2, 0, 0, 0, 0, 0, 0, 0, 0, 0, 0, 1, 1, 1, 1, 1, 1, 1, 2, 2, 2, 2, 2, 2, 0, 0, 0, 0, 0, 0, 0, 0, 0, 0, 0, 0, 0, 0, 1, 1, 1, 1, 1, 1, 1, 1, 1, 1, 1, 1, 2, 2, 2, 2, 2, 2, 2, 2, 2, 2, 2, 2, 0, 0, 0, 0, 0, 0, 0, 0, 0, 0, 0, 1, 1, 1, 1, 1, 1, 1, 1, 1, 1, 2, 2, 2, 2, 2, 2, 2, 2, 2, 2, 2, 2, 0, 0, 0, 0, 0, 0, 0, 0, 0, 0, 0, 1, 1, 1, 1, 1, 1, 1, 1, 1, 1, 1, 2, 2, 2, 2, 2, 2, 2, 2, 2, 2, 2, 2, 0, 0, 0, 0, 0, 0, 0, 0, 0, 0, 0, 1, 1, 1, 1, 1, 1, 1, 1, 1, 1, 1, 2, 2, 2, 2, 2, 2, 2, 2, 2, 2, 2, 2, 2]\n"
     ]
    }
   ],
   "source": [
    "print(target_list)"
   ]
  },
  {
   "cell_type": "code",
   "execution_count": null,
   "id": "8d7b3ff7-0d0f-428f-b41d-02851685988f",
   "metadata": {},
   "outputs": [],
   "source": []
  },
  {
   "cell_type": "code",
   "execution_count": 10,
   "id": "4d45f987-c946-41bd-8fb7-02a13e206751",
   "metadata": {},
   "outputs": [
    {
     "ename": "NameError",
     "evalue": "name 'klk' is not defined",
     "output_type": "error",
     "traceback": [
      "\u001b[1;31m---------------------------------------------------------------------------\u001b[0m",
      "\u001b[1;31mNameError\u001b[0m                                 Traceback (most recent call last)",
      "Cell \u001b[1;32mIn[10], line 1\u001b[0m\n\u001b[1;32m----> 1\u001b[0m \u001b[43mklk\u001b[49m\n",
      "\u001b[1;31mNameError\u001b[0m: name 'klk' is not defined"
     ]
    }
   ],
   "source": [
    "klk"
   ]
  },
  {
   "cell_type": "code",
   "execution_count": null,
   "id": "b1182428-7b2e-444c-a4e0-6dcac783c5dd",
   "metadata": {
    "scrolled": true
   },
   "outputs": [],
   "source": [
    "signals, eurythmy_features= signal_dataset.get_data()"
   ]
  },
  {
   "cell_type": "markdown",
   "id": "e3700661-04d5-4b49-bc51-9c5b2b7c8e03",
   "metadata": {},
   "source": [
    "Feature Extractor"
   ]
  },
  {
   "cell_type": "code",
   "execution_count": null,
   "id": "c88d4cbb-40d1-43e0-acc1-944e6fc20126",
   "metadata": {},
   "outputs": [],
   "source": [
    "%%time\n",
    "extractor= WavFeatureExtractor(sample_rate= 10000)\n",
    "all_features, feature_labels= extractor.extract_features_multiple_waveforms(waveforms= signals)"
   ]
  },
  {
   "cell_type": "code",
   "execution_count": null,
   "id": "498ca1d1-8da9-417c-86ff-aa7a76dbcc03",
   "metadata": {},
   "outputs": [],
   "source": [
    "feature_labels= feature_labels.append(eurythmy_labels)\n",
    "all_features.append(eurythmy_features)"
   ]
  },
  {
   "cell_type": "markdown",
   "id": "d16e753e-a150-4713-89fe-ee55f0a47f4e",
   "metadata": {},
   "source": [
    "Features Dataset"
   ]
  },
  {
   "cell_type": "code",
   "execution_count": null,
   "id": "d407d710-98f1-4a82-bba8-a976cbdfaf82",
   "metadata": {},
   "outputs": [],
   "source": [
    "feat_dataset= FeaturesDataset(features= all_features, feature_labels= feature_labels)\n",
    "feat_dataset.save_to_csv(\"raw_dataset.csv\")\n",
    "feat_dataset.process_features()\n",
    "feat_dataset.shape()"
   ]
  },
  {
   "cell_type": "code",
   "execution_count": null,
   "id": "bc622e02-74ab-4db5-b1ad-a7dedb709efd",
   "metadata": {
    "scrolled": true
   },
   "outputs": [],
   "source": [
    "num_feat= len(feat_dataset.get_labels())\n",
    "feat_dataset.head()\n",
    "feat_dataset.save_to_csv(\"processed_dataset.csv\")"
   ]
  },
  {
   "cell_type": "code",
   "execution_count": null,
   "id": "51931a58-a107-4466-9169-922529b2836d",
   "metadata": {},
   "outputs": [],
   "source": [
    "train_loader, val_loader, test_loader = feat_dataset.split_dataset_in_loaders(test_size=0.3, val_size=0.5, random_state=42)"
   ]
  },
  {
   "cell_type": "markdown",
   "id": "7f86f6f5-14f2-44ed-9dda-c6fd5ba81886",
   "metadata": {},
   "source": [
    "## Search"
   ]
  },
  {
   "cell_type": "code",
   "execution_count": null,
   "id": "ef49cbb5-24ed-421c-a1af-96cd567a224e",
   "metadata": {
    "scrolled": true
   },
   "outputs": [],
   "source": [
    "input_size= num_feat\n",
    "output_size= 2\n",
    "num_epochs = 5\n",
    "\n",
    "param_grid = {\n",
    "    'learning_rate': [0.1, 0.01],\n",
    "    'dense_units': [64, 128],\n",
    "    'dense_layers': [1, 2],\n",
    "    'dropout_rate': [0.25, 0.5]\n",
    "}\n",
    "\n",
    "tuner = HyperparameterTuner(FullyConnectedClassifier, param_grid, train_loader, val_loader, num_epochs, input_size, output_size)\n",
    "best_params, all_results = tuner.tune()"
   ]
  },
  {
   "cell_type": "code",
   "execution_count": null,
   "id": "4172f121-7629-460b-83de-63c157de000a",
   "metadata": {},
   "outputs": [],
   "source": [
    "print(\"Best Hyperparameters: \\n\", best_params)"
   ]
  },
  {
   "cell_type": "code",
   "execution_count": null,
   "id": "c2858e1b-897d-4756-bc8a-220bec77b148",
   "metadata": {},
   "outputs": [],
   "source": [
    "all_results.head(15)"
   ]
  },
  {
   "cell_type": "code",
   "execution_count": null,
   "id": "94fbf31d-8086-459e-a4c0-dc5cc6ad78e8",
   "metadata": {},
   "outputs": [],
   "source": [
    "klk"
   ]
  },
  {
   "cell_type": "markdown",
   "id": "a55a29ad-f615-4ea0-8b6f-f92ce79d125b",
   "metadata": {},
   "source": [
    "## Model"
   ]
  },
  {
   "cell_type": "code",
   "execution_count": null,
   "id": "47a5c218-a6b0-43ba-9b66-0002bc2bf05a",
   "metadata": {},
   "outputs": [],
   "source": [
    "num_epochs = 5  # Number of training epochs"
   ]
  },
  {
   "cell_type": "code",
   "execution_count": null,
   "id": "9063b66a-2db4-4295-bafb-09347e0b0ca4",
   "metadata": {},
   "outputs": [],
   "source": [
    "model = FullyConnectedClassifier(\n",
    "    input_size=5,  # Example input size\n",
    "    hidden_layers=[128, 64],  # Two hidden layers with 128 and 64 units respectively\n",
    "    output_size=2,  # Example output size\n",
    "    dropout_rate=0.5,\n",
    "    learning_rate=0.001\n",
    ")"
   ]
  },
  {
   "cell_type": "code",
   "execution_count": null,
   "id": "922201a6-7c48-4915-9733-434a8ce3831a",
   "metadata": {},
   "outputs": [],
   "source": [
    "model.train_model(train_loader, val_loader, num_epochs)"
   ]
  },
  {
   "cell_type": "code",
   "execution_count": null,
   "id": "780fd1cc-6d6c-47e3-aa01-9be0615186f4",
   "metadata": {},
   "outputs": [],
   "source": [
    "test_predictions = model.predict(test_loader)"
   ]
  },
  {
   "cell_type": "code",
   "execution_count": null,
   "id": "fc8da217-de67-4d9f-ae1d-036f51e4f073",
   "metadata": {},
   "outputs": [],
   "source": [
    "actual_labels = []\n",
    "for _, labels in test_loader:\n",
    "    actual_labels.extend(labels.tolist())"
   ]
  },
  {
   "cell_type": "code",
   "execution_count": null,
   "id": "2609c48b-aecf-463b-a3c4-70a543a054e6",
   "metadata": {},
   "outputs": [],
   "source": [
    "correct_predictions = sum(p == t for p, t in zip(test_predictions, actual_labels))\n",
    "accuracy = correct_predictions / len(actual_labels)\n",
    "print(f\"Accuracy: {accuracy:.4f}\")\n"
   ]
  },
  {
   "cell_type": "code",
   "execution_count": null,
   "id": "1ec56b49-e194-4244-88eb-a4fb3483cdf0",
   "metadata": {},
   "outputs": [],
   "source": [
    "from sklearn.metrics import precision_score, recall_score, f1_score, confusion_matrix\n",
    "\n",
    "# Assuming your task is a classification task\n",
    "precision = precision_score(actual_labels, test_predictions, average='macro')\n",
    "recall = recall_score(actual_labels, test_predictions, average='macro')\n",
    "f1 = f1_score(actual_labels, test_predictions, average='macro')\n",
    "\n",
    "print(f\"Precision: {precision:.4f}\")\n",
    "print(f\"Recall: {recall:.4f}\")\n",
    "print(f\"F1-Score: {f1:.4f}\")\n",
    "\n",
    "# Confusion Matrix\n",
    "conf_matrix = confusion_matrix(actual_labels, test_predictions)\n",
    "print(\"Confusion Matrix:\\n\", conf_matrix)\n"
   ]
  }
 ],
 "metadata": {
  "kernelspec": {
   "display_name": "Python 3 (ipykernel)",
   "language": "python",
   "name": "python3"
  },
  "language_info": {
   "codemirror_mode": {
    "name": "ipython",
    "version": 3
   },
   "file_extension": ".py",
   "mimetype": "text/x-python",
   "name": "python",
   "nbconvert_exporter": "python",
   "pygments_lexer": "ipython3",
   "version": "3.10.13"
  }
 },
 "nbformat": 4,
 "nbformat_minor": 5
}
