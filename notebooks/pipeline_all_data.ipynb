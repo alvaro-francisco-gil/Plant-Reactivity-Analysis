{
 "cells": [
  {
   "cell_type": "markdown",
   "id": "acf646a6-efa3-41e0-9454-51f41d501a00",
   "metadata": {},
   "source": [
    "Imports"
   ]
  },
  {
   "cell_type": "code",
   "execution_count": 1,
   "id": "d682a9ac-99fa-4394-aaff-3844701b070f",
   "metadata": {
    "scrolled": true
   },
   "outputs": [],
   "source": [
    "import sys\n",
    "sys.path.append(\"../src\") "
   ]
  },
  {
   "cell_type": "code",
   "execution_count": 2,
   "id": "d5b91abe-37c4-4478-9207-7b7d4b5daf5a",
   "metadata": {},
   "outputs": [],
   "source": [
    "import pandas as pd\n",
    "from data.wav_data_reader import WavDataReader\n",
    "from data.signal_dataset import SignalDataset\n",
    "from features.independent_wav_feature_extractor import IndependentWavFeatureExtractor\n",
    "from features.features_dataset import FeaturesDataset\n",
    "import data.preparation_eurythmy_data as ped"
   ]
  },
  {
   "cell_type": "markdown",
   "id": "c1f8ae78-fa89-411a-b113-dfc46333de1f",
   "metadata": {},
   "source": [
    "Reader"
   ]
  },
  {
   "cell_type": "code",
   "execution_count": 3,
   "id": "2ab39bbd",
   "metadata": {},
   "outputs": [],
   "source": [
    "test_folder= r\"..\\data\\interim\\testing\""
   ]
  },
  {
   "cell_type": "code",
   "execution_count": 4,
   "id": "eb1dc723-ac03-42e8-b4cc-0364d069e2b1",
   "metadata": {},
   "outputs": [],
   "source": [
    "reader= WavDataReader(folder= test_folder, sample_rate= 10000, extract_key= True) #In your case extract_key= False"
   ]
  },
  {
   "cell_type": "code",
   "execution_count": 5,
   "id": "81ffc764-2d02-484e-9f94-f6ec0f704d6f",
   "metadata": {
    "scrolled": true
   },
   "outputs": [],
   "source": [
    "keys= reader.get_keys()"
   ]
  },
  {
   "cell_type": "code",
   "execution_count": 6,
   "id": "cd99dc44-5136-483b-8f86-bc84e76e3140",
   "metadata": {},
   "outputs": [],
   "source": [
    "meas_labels= ped.return_meas_labels_by_keys(keys)"
   ]
  },
  {
   "cell_type": "markdown",
   "id": "f94af8a1-535a-49ce-99ec-6083def60efc",
   "metadata": {},
   "source": [
    "Signal Dataset"
   ]
  },
  {
   "cell_type": "code",
   "execution_count": 7,
   "id": "c8552bcf",
   "metadata": {
    "scrolled": true
   },
   "outputs": [],
   "source": [
    "signal_dataset= SignalDataset(signals= reader.get_values(), labels= keys, sample_rate= 10000)\n",
    "signal_dataset.standardize_signals(\"zscore\") "
   ]
  },
  {
   "cell_type": "code",
   "execution_count": 8,
   "id": "b79b3e70-2076-4970-88eb-e5086c45fa08",
   "metadata": {},
   "outputs": [],
   "source": [
    "signal_dataset.add_labels(meas_labels)"
   ]
  },
  {
   "cell_type": "code",
   "execution_count": 9,
   "id": "896549a8-ea34-4845-8c76-14c5addf135b",
   "metadata": {},
   "outputs": [],
   "source": [
    "time_intervals= ped.return_meas_time_intervals(keys)\n",
    "signal_dataset.reduce_signals_given_intervals(time_intervals) ###\n",
    "signal_dataset.segment_signals(segment_duration=1)\n",
    "labels= signal_dataset.get_labels()"
   ]
  },
  {
   "cell_type": "code",
   "execution_count": 10,
   "id": "fd1c044e-039d-4efd-ad5a-a00d86818efa",
   "metadata": {},
   "outputs": [],
   "source": [
    "letter_labels= ped.return_meas_letters(keys, labels, time_intervals)"
   ]
  },
  {
   "cell_type": "code",
   "execution_count": 11,
   "id": "cdc50b93-78b6-4acf-a0f0-3eab168cc4f1",
   "metadata": {},
   "outputs": [],
   "source": [
    "signal_dataset.add_labels(letter_labels)"
   ]
  },
  {
   "cell_type": "code",
   "execution_count": 12,
   "id": "745fdfa9-8a5e-46c6-97fe-4b23d8cde1db",
   "metadata": {},
   "outputs": [],
   "source": [
    "signal_dataset.remove_signals_with_nan_labels()"
   ]
  },
  {
   "cell_type": "code",
   "execution_count": 13,
   "id": "b1182428-7b2e-444c-a4e0-6dcac783c5dd",
   "metadata": {
    "scrolled": true
   },
   "outputs": [],
   "source": [
    "signals, targets= signal_dataset.get_data()"
   ]
  },
  {
   "cell_type": "markdown",
   "id": "e3700661-04d5-4b49-bc51-9c5b2b7c8e03",
   "metadata": {},
   "source": [
    "Feature Extractor"
   ]
  },
  {
   "cell_type": "code",
   "execution_count": 14,
   "id": "c88d4cbb-40d1-43e0-acc1-944e6fc20126",
   "metadata": {},
   "outputs": [
    {
     "name": "stderr",
     "output_type": "stream",
     "text": [
      "C:\\Users\\alvar\\Documents\\GitHub\\Plant-Reactivity-Analysis\\notebooks\\../src\\features\\independent_wav_feature_extractor.py:33: RuntimeWarning: Precision loss occurred in moment calculation due to catastrophic cancellation. This occurs when the data are nearly identical. Results may be unreliable.\n",
      "  feature_values.append(func(waveform_data))\n"
     ]
    }
   ],
   "source": [
    "extractor= IndependentWavFeatureExtractor(sample_rate= 10000, n_mfcc= 13, n_fft= 2000, hop_length= 500)\n",
    "all_features, feature_labels= extractor.extract_features_multiple_waveforms(waveforms= signals, mfccs= True, temporal= True, statistical= True)"
   ]
  },
  {
   "cell_type": "markdown",
   "id": "d16e753e-a150-4713-89fe-ee55f0a47f4e",
   "metadata": {},
   "source": [
    "Features Dataset"
   ]
  },
  {
   "cell_type": "code",
   "execution_count": 15,
   "id": "d407d710-98f1-4a82-bba8-a976cbdfaf82",
   "metadata": {},
   "outputs": [
    {
     "data": {
      "text/html": [
       "<div>\n",
       "<style scoped>\n",
       "    .dataframe tbody tr th:only-of-type {\n",
       "        vertical-align: middle;\n",
       "    }\n",
       "\n",
       "    .dataframe tbody tr th {\n",
       "        vertical-align: top;\n",
       "    }\n",
       "\n",
       "    .dataframe thead th {\n",
       "        text-align: right;\n",
       "    }\n",
       "</style>\n",
       "<table border=\"1\" class=\"dataframe\">\n",
       "  <thead>\n",
       "    <tr style=\"text-align: right;\">\n",
       "      <th></th>\n",
       "      <th>mfcc_1_avg</th>\n",
       "      <th>mfcc_2_avg</th>\n",
       "      <th>mfcc_3_avg</th>\n",
       "      <th>mfcc_4_avg</th>\n",
       "      <th>mfcc_5_avg</th>\n",
       "      <th>mfcc_6_avg</th>\n",
       "      <th>mfcc_7_avg</th>\n",
       "      <th>mfcc_8_avg</th>\n",
       "      <th>mfcc_9_avg</th>\n",
       "      <th>mfcc_10_avg</th>\n",
       "      <th>...</th>\n",
       "      <th>hjorth_complexity</th>\n",
       "      <th>hurst</th>\n",
       "      <th>hurst_r2</th>\n",
       "      <th>mean</th>\n",
       "      <th>variance</th>\n",
       "      <th>standard_deviation</th>\n",
       "      <th>interquartile_range</th>\n",
       "      <th>skewness</th>\n",
       "      <th>kurtosis</th>\n",
       "      <th>dfa</th>\n",
       "    </tr>\n",
       "  </thead>\n",
       "  <tbody>\n",
       "    <tr>\n",
       "      <th>0</th>\n",
       "      <td>-394.696472</td>\n",
       "      <td>41.188519</td>\n",
       "      <td>17.060287</td>\n",
       "      <td>15.980519</td>\n",
       "      <td>13.269508</td>\n",
       "      <td>12.131279</td>\n",
       "      <td>11.005676</td>\n",
       "      <td>10.424345</td>\n",
       "      <td>9.895156</td>\n",
       "      <td>9.539418</td>\n",
       "      <td>...</td>\n",
       "      <td>10047.712778</td>\n",
       "      <td>NaN</td>\n",
       "      <td>NaN</td>\n",
       "      <td>0.798532</td>\n",
       "      <td>0.000256</td>\n",
       "      <td>0.015989</td>\n",
       "      <td>0.000000</td>\n",
       "      <td>4.044715</td>\n",
       "      <td>14.359695</td>\n",
       "      <td>1.166856</td>\n",
       "    </tr>\n",
       "    <tr>\n",
       "      <th>1</th>\n",
       "      <td>-339.346985</td>\n",
       "      <td>69.101479</td>\n",
       "      <td>25.654896</td>\n",
       "      <td>22.290117</td>\n",
       "      <td>17.220842</td>\n",
       "      <td>14.407759</td>\n",
       "      <td>12.259462</td>\n",
       "      <td>11.038075</td>\n",
       "      <td>10.120054</td>\n",
       "      <td>9.394704</td>\n",
       "      <td>...</td>\n",
       "      <td>8979.443811</td>\n",
       "      <td>NaN</td>\n",
       "      <td>NaN</td>\n",
       "      <td>0.708258</td>\n",
       "      <td>0.011870</td>\n",
       "      <td>0.108948</td>\n",
       "      <td>0.072144</td>\n",
       "      <td>-2.697753</td>\n",
       "      <td>7.410974</td>\n",
       "      <td>1.404157</td>\n",
       "    </tr>\n",
       "    <tr>\n",
       "      <th>2</th>\n",
       "      <td>-134.742676</td>\n",
       "      <td>74.356049</td>\n",
       "      <td>15.740224</td>\n",
       "      <td>13.646601</td>\n",
       "      <td>7.173235</td>\n",
       "      <td>5.148582</td>\n",
       "      <td>4.481388</td>\n",
       "      <td>6.775134</td>\n",
       "      <td>8.556374</td>\n",
       "      <td>8.578783</td>\n",
       "      <td>...</td>\n",
       "      <td>27533.780331</td>\n",
       "      <td>NaN</td>\n",
       "      <td>NaN</td>\n",
       "      <td>-2.428805</td>\n",
       "      <td>1.463942</td>\n",
       "      <td>1.209935</td>\n",
       "      <td>1.731466</td>\n",
       "      <td>0.195608</td>\n",
       "      <td>-0.472574</td>\n",
       "      <td>1.899436</td>\n",
       "    </tr>\n",
       "    <tr>\n",
       "      <th>3</th>\n",
       "      <td>-129.837006</td>\n",
       "      <td>74.563416</td>\n",
       "      <td>15.547497</td>\n",
       "      <td>13.592448</td>\n",
       "      <td>6.508352</td>\n",
       "      <td>3.720716</td>\n",
       "      <td>3.012830</td>\n",
       "      <td>5.938602</td>\n",
       "      <td>9.694375</td>\n",
       "      <td>10.272288</td>\n",
       "      <td>...</td>\n",
       "      <td>8740.400726</td>\n",
       "      <td>NaN</td>\n",
       "      <td>NaN</td>\n",
       "      <td>-2.602803</td>\n",
       "      <td>1.104209</td>\n",
       "      <td>1.050813</td>\n",
       "      <td>1.515033</td>\n",
       "      <td>-0.081993</td>\n",
       "      <td>-0.633422</td>\n",
       "      <td>1.951924</td>\n",
       "    </tr>\n",
       "    <tr>\n",
       "      <th>4</th>\n",
       "      <td>-213.327225</td>\n",
       "      <td>87.220932</td>\n",
       "      <td>26.024193</td>\n",
       "      <td>23.286495</td>\n",
       "      <td>16.471249</td>\n",
       "      <td>13.276547</td>\n",
       "      <td>10.217538</td>\n",
       "      <td>9.119078</td>\n",
       "      <td>7.978412</td>\n",
       "      <td>7.074394</td>\n",
       "      <td>...</td>\n",
       "      <td>8157.016352</td>\n",
       "      <td>NaN</td>\n",
       "      <td>NaN</td>\n",
       "      <td>0.197959</td>\n",
       "      <td>0.176345</td>\n",
       "      <td>0.419935</td>\n",
       "      <td>0.577155</td>\n",
       "      <td>-1.123730</td>\n",
       "      <td>0.406367</td>\n",
       "      <td>1.749738</td>\n",
       "    </tr>\n",
       "  </tbody>\n",
       "</table>\n",
       "<p>5 rows × 40 columns</p>\n",
       "</div>"
      ],
      "text/plain": [
       "   mfcc_1_avg  mfcc_2_avg  mfcc_3_avg  mfcc_4_avg  mfcc_5_avg  mfcc_6_avg  \\\n",
       "0 -394.696472   41.188519   17.060287   15.980519   13.269508   12.131279   \n",
       "1 -339.346985   69.101479   25.654896   22.290117   17.220842   14.407759   \n",
       "2 -134.742676   74.356049   15.740224   13.646601    7.173235    5.148582   \n",
       "3 -129.837006   74.563416   15.547497   13.592448    6.508352    3.720716   \n",
       "4 -213.327225   87.220932   26.024193   23.286495   16.471249   13.276547   \n",
       "\n",
       "   mfcc_7_avg  mfcc_8_avg  mfcc_9_avg  mfcc_10_avg  ...  hjorth_complexity  \\\n",
       "0   11.005676   10.424345    9.895156     9.539418  ...       10047.712778   \n",
       "1   12.259462   11.038075   10.120054     9.394704  ...        8979.443811   \n",
       "2    4.481388    6.775134    8.556374     8.578783  ...       27533.780331   \n",
       "3    3.012830    5.938602    9.694375    10.272288  ...        8740.400726   \n",
       "4   10.217538    9.119078    7.978412     7.074394  ...        8157.016352   \n",
       "\n",
       "   hurst  hurst_r2      mean  variance  standard_deviation  \\\n",
       "0    NaN       NaN  0.798532  0.000256            0.015989   \n",
       "1    NaN       NaN  0.708258  0.011870            0.108948   \n",
       "2    NaN       NaN -2.428805  1.463942            1.209935   \n",
       "3    NaN       NaN -2.602803  1.104209            1.050813   \n",
       "4    NaN       NaN  0.197959  0.176345            0.419935   \n",
       "\n",
       "   interquartile_range  skewness   kurtosis       dfa  \n",
       "0             0.000000  4.044715  14.359695  1.166856  \n",
       "1             0.072144 -2.697753   7.410974  1.404157  \n",
       "2             1.731466  0.195608  -0.472574  1.899436  \n",
       "3             1.515033 -0.081993  -0.633422  1.951924  \n",
       "4             0.577155 -1.123730   0.406367  1.749738  \n",
       "\n",
       "[5 rows x 40 columns]"
      ]
     },
     "execution_count": 15,
     "metadata": {},
     "output_type": "execute_result"
    }
   ],
   "source": [
    "feat_dataset= FeaturesDataset(features= all_features, targets=targets, feature_labels= feature_labels)\n",
    "feat_dataset.head()"
   ]
  },
  {
   "cell_type": "code",
   "execution_count": 16,
   "id": "d0fd1aa9-ed0d-4b3f-a6d2-c3d22eb9b361",
   "metadata": {},
   "outputs": [
    {
     "data": {
      "text/plain": [
       "(1238, 40)"
      ]
     },
     "execution_count": 16,
     "metadata": {},
     "output_type": "execute_result"
    }
   ],
   "source": [
    "feat_dataset.shape()"
   ]
  },
  {
   "cell_type": "code",
   "execution_count": 17,
   "id": "f5f7f815-fbad-4bf2-a836-07261509a278",
   "metadata": {},
   "outputs": [
    {
     "name": "stdout",
     "output_type": "stream",
     "text": [
      "Removed columns with NaNs: ['hurst', 'hurst_r2', 'skewness', 'kurtosis']\n",
      "The Features were properly normalized using 'zscore' method.\n",
      "Outliers have been treated based on the 1.5 * IQR criterion.\n"
     ]
    },
    {
     "ename": "KeyError",
     "evalue": "False",
     "output_type": "error",
     "traceback": [
      "\u001b[1;31m---------------------------------------------------------------------------\u001b[0m",
      "\u001b[1;31mKeyError\u001b[0m                                  Traceback (most recent call last)",
      "Cell \u001b[1;32mIn[17], line 1\u001b[0m\n\u001b[1;32m----> 1\u001b[0m \u001b[43mfeat_dataset\u001b[49m\u001b[38;5;241;43m.\u001b[39;49m\u001b[43mpreprocess_features\u001b[49m\u001b[43m(\u001b[49m\u001b[43mtargets\u001b[49m\u001b[38;5;241;43m=\u001b[39;49m\u001b[43m \u001b[49m\u001b[43mtargets\u001b[49m\u001b[43m)\u001b[49m\n\u001b[0;32m      2\u001b[0m \u001b[38;5;124;03m\"\"\"\u001b[39;00m\n\u001b[0;32m      3\u001b[0m \u001b[38;5;124;03mYou can also process it separately like this:\u001b[39;00m\n\u001b[0;32m      4\u001b[0m \u001b[38;5;124;03mfeat_dataset.remove_nan_columns()\u001b[39;00m\n\u001b[1;32m   (...)\u001b[0m\n\u001b[0;32m      7\u001b[0m \u001b[38;5;124;03mfeat_dataset.reduce_features(targets, corr_threshold=0.8) #You reduce the features that are correlated by more than the corr_treshold selecting by p_value\u001b[39;00m\n\u001b[0;32m      8\u001b[0m \u001b[38;5;124;03m\"\"\"\u001b[39;00m\n\u001b[0;32m      9\u001b[0m processed_features\u001b[38;5;241m=\u001b[39m feat_dataset\u001b[38;5;241m.\u001b[39mget_features_dataframe()\n",
      "File \u001b[1;32m~\\Documents\\GitHub\\Plant-Reactivity-Analysis\\notebooks\\../src\\features\\features_dataset.py:231\u001b[0m, in \u001b[0;36mFeaturesDataset.preprocess_features\u001b[1;34m(self, targets, normalize_method, iqr_multiplier, corr_threshold)\u001b[0m\n\u001b[0;32m    228\u001b[0m \u001b[38;5;28mself\u001b[39m\u001b[38;5;241m.\u001b[39mtreat_outliers(iqr_multiplier\u001b[38;5;241m=\u001b[39miqr_multiplier)\n\u001b[0;32m    230\u001b[0m \u001b[38;5;66;03m# Reduce features based on statistical tests and correlation\u001b[39;00m\n\u001b[1;32m--> 231\u001b[0m \u001b[38;5;28;43mself\u001b[39;49m\u001b[38;5;241;43m.\u001b[39;49m\u001b[43mreduce_features\u001b[49m\u001b[43m(\u001b[49m\u001b[43mtargets\u001b[49m\u001b[43m,\u001b[49m\u001b[43m \u001b[49m\u001b[43mcorr_threshold\u001b[49m\u001b[38;5;241;43m=\u001b[39;49m\u001b[43mcorr_threshold\u001b[49m\u001b[43m)\u001b[49m\n\u001b[0;32m    233\u001b[0m \u001b[38;5;28mself\u001b[39m\u001b[38;5;241m.\u001b[39mpreprocessed\u001b[38;5;241m=\u001b[39m \u001b[38;5;28;01mTrue\u001b[39;00m\n\u001b[0;32m    235\u001b[0m \u001b[38;5;28mprint\u001b[39m(\u001b[38;5;124m\"\u001b[39m\u001b[38;5;124mPreprocessing complete. Features have been cleaned, normalized, outliers treated, and reduced.\u001b[39m\u001b[38;5;124m\"\u001b[39m)\n",
      "File \u001b[1;32m~\\Documents\\GitHub\\Plant-Reactivity-Analysis\\notebooks\\../src\\features\\features_dataset.py:175\u001b[0m, in \u001b[0;36mFeaturesDataset.reduce_features\u001b[1;34m(self, targets, corr_threshold)\u001b[0m\n\u001b[0;32m    171\u001b[0m     p_value \u001b[38;5;241m=\u001b[39m stats\u001b[38;5;241m.\u001b[39mttest_ind(\u001b[38;5;28mself\u001b[39m\u001b[38;5;241m.\u001b[39mfeatures[feature][targets[\u001b[38;5;241m0\u001b[39m]],\n\u001b[0;32m    172\u001b[0m                               \u001b[38;5;28mself\u001b[39m\u001b[38;5;241m.\u001b[39mfeatures[feature][targets[\u001b[38;5;241m1\u001b[39m]])\u001b[38;5;241m.\u001b[39mpvalue\n\u001b[0;32m    173\u001b[0m \u001b[38;5;28;01melse\u001b[39;00m:\n\u001b[0;32m    174\u001b[0m     \u001b[38;5;66;03m# Perform ANOVA for multi-class classification\u001b[39;00m\n\u001b[1;32m--> 175\u001b[0m     groups \u001b[38;5;241m=\u001b[39m [\u001b[38;5;28mself\u001b[39m\u001b[38;5;241m.\u001b[39mfeatures[feature][targets \u001b[38;5;241m==\u001b[39m val] \u001b[38;5;28;01mfor\u001b[39;00m val \u001b[38;5;129;01min\u001b[39;00m \u001b[38;5;28mset\u001b[39m(targets)]\n\u001b[0;32m    176\u001b[0m     p_value \u001b[38;5;241m=\u001b[39m stats\u001b[38;5;241m.\u001b[39mf_oneway(\u001b[38;5;241m*\u001b[39mgroups)\u001b[38;5;241m.\u001b[39mpvalue\n\u001b[0;32m    177\u001b[0m p_values\u001b[38;5;241m.\u001b[39mappend(p_value)\n",
      "File \u001b[1;32m~\\Documents\\GitHub\\Plant-Reactivity-Analysis\\notebooks\\../src\\features\\features_dataset.py:175\u001b[0m, in \u001b[0;36m<listcomp>\u001b[1;34m(.0)\u001b[0m\n\u001b[0;32m    171\u001b[0m     p_value \u001b[38;5;241m=\u001b[39m stats\u001b[38;5;241m.\u001b[39mttest_ind(\u001b[38;5;28mself\u001b[39m\u001b[38;5;241m.\u001b[39mfeatures[feature][targets[\u001b[38;5;241m0\u001b[39m]],\n\u001b[0;32m    172\u001b[0m                               \u001b[38;5;28mself\u001b[39m\u001b[38;5;241m.\u001b[39mfeatures[feature][targets[\u001b[38;5;241m1\u001b[39m]])\u001b[38;5;241m.\u001b[39mpvalue\n\u001b[0;32m    173\u001b[0m \u001b[38;5;28;01melse\u001b[39;00m:\n\u001b[0;32m    174\u001b[0m     \u001b[38;5;66;03m# Perform ANOVA for multi-class classification\u001b[39;00m\n\u001b[1;32m--> 175\u001b[0m     groups \u001b[38;5;241m=\u001b[39m [\u001b[38;5;28;43mself\u001b[39;49m\u001b[38;5;241;43m.\u001b[39;49m\u001b[43mfeatures\u001b[49m\u001b[43m[\u001b[49m\u001b[43mfeature\u001b[49m\u001b[43m]\u001b[49m\u001b[43m[\u001b[49m\u001b[43mtargets\u001b[49m\u001b[43m \u001b[49m\u001b[38;5;241;43m==\u001b[39;49m\u001b[43m \u001b[49m\u001b[43mval\u001b[49m\u001b[43m]\u001b[49m \u001b[38;5;28;01mfor\u001b[39;00m val \u001b[38;5;129;01min\u001b[39;00m \u001b[38;5;28mset\u001b[39m(targets)]\n\u001b[0;32m    176\u001b[0m     p_value \u001b[38;5;241m=\u001b[39m stats\u001b[38;5;241m.\u001b[39mf_oneway(\u001b[38;5;241m*\u001b[39mgroups)\u001b[38;5;241m.\u001b[39mpvalue\n\u001b[0;32m    177\u001b[0m p_values\u001b[38;5;241m.\u001b[39mappend(p_value)\n",
      "File \u001b[1;32m~\\anaconda3\\envs\\Plant-Reactivity-Analysis\\lib\\site-packages\\pandas\\core\\series.py:1040\u001b[0m, in \u001b[0;36mSeries.__getitem__\u001b[1;34m(self, key)\u001b[0m\n\u001b[0;32m   1037\u001b[0m     \u001b[38;5;28;01mreturn\u001b[39;00m \u001b[38;5;28mself\u001b[39m\u001b[38;5;241m.\u001b[39m_values[key]\n\u001b[0;32m   1039\u001b[0m \u001b[38;5;28;01melif\u001b[39;00m key_is_scalar:\n\u001b[1;32m-> 1040\u001b[0m     \u001b[38;5;28;01mreturn\u001b[39;00m \u001b[38;5;28;43mself\u001b[39;49m\u001b[38;5;241;43m.\u001b[39;49m\u001b[43m_get_value\u001b[49m\u001b[43m(\u001b[49m\u001b[43mkey\u001b[49m\u001b[43m)\u001b[49m\n\u001b[0;32m   1042\u001b[0m \u001b[38;5;66;03m# Convert generator to list before going through hashable part\u001b[39;00m\n\u001b[0;32m   1043\u001b[0m \u001b[38;5;66;03m# (We will iterate through the generator there to check for slices)\u001b[39;00m\n\u001b[0;32m   1044\u001b[0m \u001b[38;5;28;01mif\u001b[39;00m is_iterator(key):\n",
      "File \u001b[1;32m~\\anaconda3\\envs\\Plant-Reactivity-Analysis\\lib\\site-packages\\pandas\\core\\series.py:1156\u001b[0m, in \u001b[0;36mSeries._get_value\u001b[1;34m(self, label, takeable)\u001b[0m\n\u001b[0;32m   1153\u001b[0m     \u001b[38;5;28;01mreturn\u001b[39;00m \u001b[38;5;28mself\u001b[39m\u001b[38;5;241m.\u001b[39m_values[label]\n\u001b[0;32m   1155\u001b[0m \u001b[38;5;66;03m# Similar to Index.get_value, but we do not fall back to positional\u001b[39;00m\n\u001b[1;32m-> 1156\u001b[0m loc \u001b[38;5;241m=\u001b[39m \u001b[38;5;28;43mself\u001b[39;49m\u001b[38;5;241;43m.\u001b[39;49m\u001b[43mindex\u001b[49m\u001b[38;5;241;43m.\u001b[39;49m\u001b[43mget_loc\u001b[49m\u001b[43m(\u001b[49m\u001b[43mlabel\u001b[49m\u001b[43m)\u001b[49m\n\u001b[0;32m   1158\u001b[0m \u001b[38;5;28;01mif\u001b[39;00m is_integer(loc):\n\u001b[0;32m   1159\u001b[0m     \u001b[38;5;28;01mreturn\u001b[39;00m \u001b[38;5;28mself\u001b[39m\u001b[38;5;241m.\u001b[39m_values[loc]\n",
      "File \u001b[1;32m~\\anaconda3\\envs\\Plant-Reactivity-Analysis\\lib\\site-packages\\pandas\\core\\indexes\\range.py:418\u001b[0m, in \u001b[0;36mRangeIndex.get_loc\u001b[1;34m(self, key)\u001b[0m\n\u001b[0;32m    416\u001b[0m         \u001b[38;5;28;01mraise\u001b[39;00m \u001b[38;5;167;01mKeyError\u001b[39;00m(key) \u001b[38;5;28;01mfrom\u001b[39;00m \u001b[38;5;21;01merr\u001b[39;00m\n\u001b[0;32m    417\u001b[0m \u001b[38;5;28;01mif\u001b[39;00m \u001b[38;5;28misinstance\u001b[39m(key, Hashable):\n\u001b[1;32m--> 418\u001b[0m     \u001b[38;5;28;01mraise\u001b[39;00m \u001b[38;5;167;01mKeyError\u001b[39;00m(key)\n\u001b[0;32m    419\u001b[0m \u001b[38;5;28mself\u001b[39m\u001b[38;5;241m.\u001b[39m_check_indexing_error(key)\n\u001b[0;32m    420\u001b[0m \u001b[38;5;28;01mraise\u001b[39;00m \u001b[38;5;167;01mKeyError\u001b[39;00m(key)\n",
      "\u001b[1;31mKeyError\u001b[0m: False"
     ]
    }
   ],
   "source": [
    "feat_dataset.preprocess_features(targets= targets)\n",
    "\"\"\"\n",
    "You can also process it separately like this:\n",
    "feat_dataset.remove_nan_columns()\n",
    "feat_dataset.normalize_features(method='zscore')\n",
    "feat_dataset.treat_outliers(iqr_multiplier=1.5)\n",
    "feat_dataset.reduce_features(targets, corr_threshold=0.8) #You reduce the features that are correlated by more than the corr_treshold selecting by p_value\n",
    "\"\"\"\n",
    "processed_features= feat_dataset.get_features_dataframe()\n",
    "processed_features.head()"
   ]
  },
  {
   "cell_type": "code",
   "execution_count": null,
   "id": "c229694f-3a0e-409a-8f96-408505554bef",
   "metadata": {},
   "outputs": [],
   "source": [
    "processed_features.shape"
   ]
  },
  {
   "cell_type": "code",
   "execution_count": null,
   "id": "39681fc3-e141-48aa-8174-762655504fe6",
   "metadata": {},
   "outputs": [],
   "source": [
    "feat_dataset.save_to_csv(filepath='features.csv')\n",
    "old_feat_dataset= FeaturesDataset.load_from_csv(filepath='features.csv')\n",
    "old_feat_dataset.head()"
   ]
  }
 ],
 "metadata": {
  "kernelspec": {
   "display_name": "Python 3 (ipykernel)",
   "language": "python",
   "name": "python3"
  },
  "language_info": {
   "codemirror_mode": {
    "name": "ipython",
    "version": 3
   },
   "file_extension": ".py",
   "mimetype": "text/x-python",
   "name": "python",
   "nbconvert_exporter": "python",
   "pygments_lexer": "ipython3",
   "version": "3.10.13"
  }
 },
 "nbformat": 4,
 "nbformat_minor": 5
}
