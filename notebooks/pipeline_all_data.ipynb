{
 "cells": [
  {
   "cell_type": "markdown",
   "id": "acf646a6-efa3-41e0-9454-51f41d501a00",
   "metadata": {},
   "source": [
    "Imports"
   ]
  },
  {
   "cell_type": "code",
   "execution_count": 1,
   "id": "d682a9ac-99fa-4394-aaff-3844701b070f",
   "metadata": {
    "scrolled": true
   },
   "outputs": [],
   "source": [
    "import sys\n",
    "sys.path.append(\"../src\") "
   ]
  },
  {
   "cell_type": "code",
   "execution_count": 2,
   "id": "d5b91abe-37c4-4478-9207-7b7d4b5daf5a",
   "metadata": {},
   "outputs": [],
   "source": [
    "import pandas as pd\n",
    "from data.wav_data_reader import WavDataReader\n",
    "from data.signal_dataset import SignalDataset\n",
    "from features.wav_feature_extractor import WavFeatureExtractor\n",
    "from features.features_dataset import FeaturesDataset\n",
    "import data.preparation_eurythmy_data as ped\n",
    "from models.fully_connected_classifier import FullyConnectedClassifier\n",
    "from evaluation.hyperparameter_tuner import HyperparameterTuner"
   ]
  },
  {
   "cell_type": "markdown",
   "id": "c1f8ae78-fa89-411a-b113-dfc46333de1f",
   "metadata": {},
   "source": [
    "Reader"
   ]
  },
  {
   "cell_type": "code",
   "execution_count": 3,
   "id": "2ab39bbd",
   "metadata": {},
   "outputs": [],
   "source": [
    "test_folder= r\"..\\data\\interim\\testing\""
   ]
  },
  {
   "cell_type": "code",
   "execution_count": 4,
   "id": "eb1dc723-ac03-42e8-b4cc-0364d069e2b1",
   "metadata": {},
   "outputs": [],
   "source": [
    "reader= WavDataReader(folder= test_folder) "
   ]
  },
  {
   "cell_type": "markdown",
   "id": "f94af8a1-535a-49ce-99ec-6083def60efc",
   "metadata": {},
   "source": [
    "Signal Dataset"
   ]
  },
  {
   "cell_type": "code",
   "execution_count": 5,
   "id": "66874193-cf2b-427a-9a6a-cff8cfca8d20",
   "metadata": {},
   "outputs": [],
   "source": [
    "signal_dataset= SignalDataset(signals= reader.get_values(), labels= reader.get_keys(), sample_rate= reader.get_sample_rate())"
   ]
  },
  {
   "cell_type": "code",
   "execution_count": 6,
   "id": "bfa4e119-0d79-4606-b63f-bd335da942b9",
   "metadata": {},
   "outputs": [],
   "source": [
    "signal_dataset.process_dataset_adding_eurythmy_labels()"
   ]
  },
  {
   "cell_type": "code",
   "execution_count": 7,
   "id": "73d0621d-c294-4c8b-b8f8-fb9a589efd2a",
   "metadata": {},
   "outputs": [],
   "source": [
    "eurythmy_labels = ['id_measurement','id_performance', 'datetime', 'plant', 'generation', 'num_eurythmy','initial_second','eurythmy,letter'] "
   ]
  },
  {
   "cell_type": "code",
   "execution_count": 8,
   "id": "4d45f987-c946-41bd-8fb7-02a13e206751",
   "metadata": {},
   "outputs": [],
   "source": [
    "signal_dataset.set_index_target(5)\n",
    "targets= signal_dataset.get_targets()\n",
    "normalized_targets= [1 if x > 0 else x for x in targets]"
   ]
  },
  {
   "cell_type": "code",
   "execution_count": 9,
   "id": "b1182428-7b2e-444c-a4e0-6dcac783c5dd",
   "metadata": {
    "scrolled": true
   },
   "outputs": [],
   "source": [
    "signals, eurythmy_features= signal_dataset.get_data()"
   ]
  },
  {
   "cell_type": "markdown",
   "id": "e3700661-04d5-4b49-bc51-9c5b2b7c8e03",
   "metadata": {},
   "source": [
    "Feature Extractor"
   ]
  },
  {
   "cell_type": "code",
   "execution_count": 10,
   "id": "c88d4cbb-40d1-43e0-acc1-944e6fc20126",
   "metadata": {},
   "outputs": [
    {
     "name": "stdout",
     "output_type": "stream",
     "text": [
      "CPU times: total: 5min 56s\n",
      "Wall time: 1min 57s\n"
     ]
    }
   ],
   "source": [
    "%%time\n",
    "extractor= WavFeatureExtractor(sample_rate= 10000)\n",
    "all_features, feature_labels= extractor.extract_features_multiple_waveforms(waveforms= signals)"
   ]
  },
  {
   "cell_type": "code",
   "execution_count": 11,
   "id": "498ca1d1-8da9-417c-86ff-aa7a76dbcc03",
   "metadata": {},
   "outputs": [],
   "source": [
    "feature_labels= feature_labels.append(eurythmy_labels)\n",
    "all_features.append(eurythmy_features)"
   ]
  },
  {
   "cell_type": "markdown",
   "id": "d16e753e-a150-4713-89fe-ee55f0a47f4e",
   "metadata": {},
   "source": [
    "Features Dataset"
   ]
  },
  {
   "cell_type": "code",
   "execution_count": 12,
   "id": "d407d710-98f1-4a82-bba8-a976cbdfaf82",
   "metadata": {},
   "outputs": [
    {
     "ename": "TypeError",
     "evalue": "'NoneType' object is not iterable",
     "output_type": "error",
     "traceback": [
      "\u001b[1;31m---------------------------------------------------------------------------\u001b[0m",
      "\u001b[1;31mTypeError\u001b[0m                                 Traceback (most recent call last)",
      "Cell \u001b[1;32mIn[12], line 3\u001b[0m\n\u001b[0;32m      1\u001b[0m feat_dataset\u001b[38;5;241m=\u001b[39m FeaturesDataset(features\u001b[38;5;241m=\u001b[39m all_features, feature_labels\u001b[38;5;241m=\u001b[39m feature_labels)\n\u001b[0;32m      2\u001b[0m feat_dataset\u001b[38;5;241m.\u001b[39msave_to_csv(\u001b[38;5;124m\"\u001b[39m\u001b[38;5;124mraw_dataset.csv\u001b[39m\u001b[38;5;124m\"\u001b[39m)\n\u001b[1;32m----> 3\u001b[0m \u001b[43mfeat_dataset\u001b[49m\u001b[38;5;241;43m.\u001b[39;49m\u001b[43mprocess_features\u001b[49m\u001b[43m(\u001b[49m\u001b[43m)\u001b[49m\n\u001b[0;32m      4\u001b[0m feat_dataset\u001b[38;5;241m.\u001b[39mshape()\n",
      "File \u001b[1;32m~\\Documents\\GitHub\\Plant-Reactivity-Analysis\\notebooks\\../src\\features\\features_dataset.py:286\u001b[0m, in \u001b[0;36mFeaturesDataset.process_features\u001b[1;34m(self, corr_threshold)\u001b[0m\n\u001b[0;32m    283\u001b[0m \u001b[38;5;28mself\u001b[39m\u001b[38;5;241m.\u001b[39mdrop_columns(columns_to_drop\u001b[38;5;241m=\u001b[39mcolumns)\n\u001b[0;32m    285\u001b[0m \u001b[38;5;66;03m# Reduce features based on statistical tests and correlation\u001b[39;00m\n\u001b[1;32m--> 286\u001b[0m \u001b[38;5;28;43mself\u001b[39;49m\u001b[38;5;241;43m.\u001b[39;49m\u001b[43mreduce_features\u001b[49m\u001b[43m(\u001b[49m\u001b[38;5;28;43mself\u001b[39;49m\u001b[38;5;241;43m.\u001b[39;49m\u001b[43mtargets\u001b[49m\u001b[43m,\u001b[49m\u001b[43m \u001b[49m\u001b[43mcorr_threshold\u001b[49m\u001b[38;5;241;43m=\u001b[39;49m\u001b[43mcorr_threshold\u001b[49m\u001b[43m)\u001b[49m\n\u001b[0;32m    288\u001b[0m \u001b[38;5;28mself\u001b[39m\u001b[38;5;241m.\u001b[39mprocessed\u001b[38;5;241m=\u001b[39m \u001b[38;5;28;01mTrue\u001b[39;00m\n",
      "File \u001b[1;32m~\\Documents\\GitHub\\Plant-Reactivity-Analysis\\notebooks\\../src\\features\\features_dataset.py:231\u001b[0m, in \u001b[0;36mFeaturesDataset.reduce_features\u001b[1;34m(self, targets, corr_threshold)\u001b[0m\n\u001b[0;32m    229\u001b[0m \u001b[38;5;66;03m# Perform t-test or ANOVA and store p-values\u001b[39;00m\n\u001b[0;32m    230\u001b[0m p_values \u001b[38;5;241m=\u001b[39m []\n\u001b[1;32m--> 231\u001b[0m num_classes \u001b[38;5;241m=\u001b[39m \u001b[38;5;28mlen\u001b[39m(\u001b[38;5;28;43mset\u001b[39;49m\u001b[43m(\u001b[49m\u001b[43mtargets\u001b[49m\u001b[43m)\u001b[49m)\n\u001b[0;32m    232\u001b[0m \u001b[38;5;28;01mfor\u001b[39;00m feature \u001b[38;5;129;01min\u001b[39;00m \u001b[38;5;28mself\u001b[39m\u001b[38;5;241m.\u001b[39mfeatures\u001b[38;5;241m.\u001b[39mcolumns:\n\u001b[0;32m    233\u001b[0m     \u001b[38;5;28;01mif\u001b[39;00m num_classes \u001b[38;5;241m==\u001b[39m \u001b[38;5;241m2\u001b[39m:\n\u001b[0;32m    234\u001b[0m         \u001b[38;5;66;03m# Perform t-test for binary classification\u001b[39;00m\n",
      "\u001b[1;31mTypeError\u001b[0m: 'NoneType' object is not iterable"
     ]
    }
   ],
   "source": [
    "feat_dataset= FeaturesDataset(features= all_features, feature_labels= feature_labels)\n",
    "feat_dataset.save_to_csv(\"raw_dataset.csv\")\n",
    "feat_dataset.process_features()\n",
    "feat_dataset.shape()"
   ]
  },
  {
   "cell_type": "code",
   "execution_count": null,
   "id": "bc622e02-74ab-4db5-b1ad-a7dedb709efd",
   "metadata": {
    "scrolled": true
   },
   "outputs": [],
   "source": [
    "num_feat= len(feat_dataset.get_labels())\n",
    "feat_dataset.head()\n",
    "feat_dataset.save_to_csv(\"processed_dataset.csv\")"
   ]
  },
  {
   "cell_type": "code",
   "execution_count": null,
   "id": "51931a58-a107-4466-9169-922529b2836d",
   "metadata": {},
   "outputs": [],
   "source": [
    "train_loader, val_loader, test_loader = feat_dataset.split_dataset_in_loaders(test_size=0.3, val_size=0.5, random_state=42)"
   ]
  },
  {
   "cell_type": "markdown",
   "id": "7f86f6f5-14f2-44ed-9dda-c6fd5ba81886",
   "metadata": {},
   "source": [
    "## Search"
   ]
  },
  {
   "cell_type": "code",
   "execution_count": null,
   "id": "ef49cbb5-24ed-421c-a1af-96cd567a224e",
   "metadata": {
    "scrolled": true
   },
   "outputs": [],
   "source": [
    "input_size= num_feat\n",
    "output_size= 2\n",
    "num_epochs = 5\n",
    "\n",
    "param_grid = {\n",
    "    'learning_rate': [0.1, 0.01],\n",
    "    'dense_units': [64, 128],\n",
    "    'dense_layers': [1, 2],\n",
    "    'dropout_rate': [0.25, 0.5]\n",
    "}\n",
    "\n",
    "tuner = HyperparameterTuner(FullyConnectedClassifier, param_grid, train_loader, val_loader, num_epochs, input_size, output_size)\n",
    "best_params, all_results = tuner.tune()"
   ]
  },
  {
   "cell_type": "code",
   "execution_count": null,
   "id": "4172f121-7629-460b-83de-63c157de000a",
   "metadata": {},
   "outputs": [],
   "source": [
    "print(\"Best Hyperparameters: \\n\", best_params)"
   ]
  },
  {
   "cell_type": "code",
   "execution_count": null,
   "id": "c2858e1b-897d-4756-bc8a-220bec77b148",
   "metadata": {},
   "outputs": [],
   "source": [
    "all_results.head(15)"
   ]
  },
  {
   "cell_type": "code",
   "execution_count": null,
   "id": "94fbf31d-8086-459e-a4c0-dc5cc6ad78e8",
   "metadata": {},
   "outputs": [],
   "source": [
    "klk"
   ]
  },
  {
   "cell_type": "markdown",
   "id": "a55a29ad-f615-4ea0-8b6f-f92ce79d125b",
   "metadata": {},
   "source": [
    "## Model"
   ]
  },
  {
   "cell_type": "code",
   "execution_count": null,
   "id": "47a5c218-a6b0-43ba-9b66-0002bc2bf05a",
   "metadata": {},
   "outputs": [],
   "source": [
    "num_epochs = 5  # Number of training epochs"
   ]
  },
  {
   "cell_type": "code",
   "execution_count": null,
   "id": "9063b66a-2db4-4295-bafb-09347e0b0ca4",
   "metadata": {},
   "outputs": [],
   "source": [
    "model = FullyConnectedClassifier(\n",
    "    input_size=5,  # Example input size\n",
    "    hidden_layers=[128, 64],  # Two hidden layers with 128 and 64 units respectively\n",
    "    output_size=2,  # Example output size\n",
    "    dropout_rate=0.5,\n",
    "    learning_rate=0.001\n",
    ")"
   ]
  },
  {
   "cell_type": "code",
   "execution_count": null,
   "id": "922201a6-7c48-4915-9733-434a8ce3831a",
   "metadata": {},
   "outputs": [],
   "source": [
    "model.train_model(train_loader, val_loader, num_epochs)"
   ]
  },
  {
   "cell_type": "code",
   "execution_count": null,
   "id": "780fd1cc-6d6c-47e3-aa01-9be0615186f4",
   "metadata": {},
   "outputs": [],
   "source": [
    "test_predictions = model.predict(test_loader)"
   ]
  },
  {
   "cell_type": "code",
   "execution_count": null,
   "id": "fc8da217-de67-4d9f-ae1d-036f51e4f073",
   "metadata": {},
   "outputs": [],
   "source": [
    "actual_labels = []\n",
    "for _, labels in test_loader:\n",
    "    actual_labels.extend(labels.tolist())"
   ]
  },
  {
   "cell_type": "code",
   "execution_count": null,
   "id": "2609c48b-aecf-463b-a3c4-70a543a054e6",
   "metadata": {},
   "outputs": [],
   "source": [
    "correct_predictions = sum(p == t for p, t in zip(test_predictions, actual_labels))\n",
    "accuracy = correct_predictions / len(actual_labels)\n",
    "print(f\"Accuracy: {accuracy:.4f}\")\n"
   ]
  },
  {
   "cell_type": "code",
   "execution_count": null,
   "id": "1ec56b49-e194-4244-88eb-a4fb3483cdf0",
   "metadata": {},
   "outputs": [],
   "source": [
    "from sklearn.metrics import precision_score, recall_score, f1_score, confusion_matrix\n",
    "\n",
    "# Assuming your task is a classification task\n",
    "precision = precision_score(actual_labels, test_predictions, average='macro')\n",
    "recall = recall_score(actual_labels, test_predictions, average='macro')\n",
    "f1 = f1_score(actual_labels, test_predictions, average='macro')\n",
    "\n",
    "print(f\"Precision: {precision:.4f}\")\n",
    "print(f\"Recall: {recall:.4f}\")\n",
    "print(f\"F1-Score: {f1:.4f}\")\n",
    "\n",
    "# Confusion Matrix\n",
    "conf_matrix = confusion_matrix(actual_labels, test_predictions)\n",
    "print(\"Confusion Matrix:\\n\", conf_matrix)\n"
   ]
  }
 ],
 "metadata": {
  "kernelspec": {
   "display_name": "Python 3 (ipykernel)",
   "language": "python",
   "name": "python3"
  },
  "language_info": {
   "codemirror_mode": {
    "name": "ipython",
    "version": 3
   },
   "file_extension": ".py",
   "mimetype": "text/x-python",
   "name": "python",
   "nbconvert_exporter": "python",
   "pygments_lexer": "ipython3",
   "version": "3.10.13"
  }
 },
 "nbformat": 4,
 "nbformat_minor": 5
}
