{
 "cells": [
  {
   "cell_type": "markdown",
   "id": "acf646a6-efa3-41e0-9454-51f41d501a00",
   "metadata": {},
   "source": [
    "Imports"
   ]
  },
  {
   "cell_type": "code",
   "execution_count": 1,
   "id": "d682a9ac-99fa-4394-aaff-3844701b070f",
   "metadata": {
    "scrolled": true
   },
   "outputs": [],
   "source": [
    "import sys\n",
    "sys.path.append(\"../src\") "
   ]
  },
  {
   "cell_type": "code",
   "execution_count": 2,
   "id": "d5b91abe-37c4-4478-9207-7b7d4b5daf5a",
   "metadata": {},
   "outputs": [],
   "source": [
    "import pandas as pd\n",
    "from data.wav_data_reader import WavDataReader\n",
    "from data.signal_dataset import SignalDataset\n",
    "from features.independent_wav_feature_extractor import IndependentWavFeatureExtractor\n",
    "from features.features_dataset import FeaturesDataset\n",
    "import data.preparation_eurythmy_data as ped"
   ]
  },
  {
   "cell_type": "markdown",
   "id": "c1f8ae78-fa89-411a-b113-dfc46333de1f",
   "metadata": {},
   "source": [
    "Reader"
   ]
  },
  {
   "cell_type": "code",
   "execution_count": 3,
   "id": "2ab39bbd",
   "metadata": {},
   "outputs": [],
   "source": [
    "test_folder= r\"..\\data\\interim\\testing\""
   ]
  },
  {
   "cell_type": "code",
   "execution_count": 4,
   "id": "eb1dc723-ac03-42e8-b4cc-0364d069e2b1",
   "metadata": {},
   "outputs": [],
   "source": [
    "reader= WavDataReader(folder= test_folder, sample_rate= 10000, extract_key= True) "
   ]
  },
  {
   "cell_type": "markdown",
   "id": "f94af8a1-535a-49ce-99ec-6083def60efc",
   "metadata": {},
   "source": [
    "Signal Dataset"
   ]
  },
  {
   "cell_type": "code",
   "execution_count": 7,
   "id": "66874193-cf2b-427a-9a6a-cff8cfca8d20",
   "metadata": {},
   "outputs": [],
   "source": [
    "signal_dataset= SignalDataset(signals= reader.get_values(), labels= keys, sample_rate= 10000)\n",
    "signal_dataset.process_dataset_adding_eurythmy_labels()"
   ]
  },
  {
   "cell_type": "code",
   "execution_count": 13,
   "id": "745fdfa9-8a5e-46c6-97fe-4b23d8cde1db",
   "metadata": {},
   "outputs": [],
   "source": [
    "#signal_dataset.remove_signals_with_nan_labels() #optional"
   ]
  },
  {
   "cell_type": "code",
   "execution_count": 14,
   "id": "b1182428-7b2e-444c-a4e0-6dcac783c5dd",
   "metadata": {
    "scrolled": true
   },
   "outputs": [],
   "source": [
    "signals, targets= signal_dataset.get_data()"
   ]
  },
  {
   "cell_type": "markdown",
   "id": "e3700661-04d5-4b49-bc51-9c5b2b7c8e03",
   "metadata": {},
   "source": [
    "Feature Extractor"
   ]
  },
  {
   "cell_type": "code",
   "execution_count": 15,
   "id": "c88d4cbb-40d1-43e0-acc1-944e6fc20126",
   "metadata": {},
   "outputs": [
    {
     "name": "stderr",
     "output_type": "stream",
     "text": [
      "C:\\Users\\alvar\\Documents\\GitHub\\Plant-Reactivity-Analysis\\notebooks\\../src\\features\\independent_wav_feature_extractor.py:33: RuntimeWarning: Precision loss occurred in moment calculation due to catastrophic cancellation. This occurs when the data are nearly identical. Results may be unreliable.\n",
      "  feature_values.append(func(waveform_data))\n"
     ]
    }
   ],
   "source": [
    "extractor= IndependentWavFeatureExtractor(sample_rate= 10000, n_mfcc= 13, n_fft= 2000, hop_length= 500)\n",
    "all_features, feature_labels= extractor.extract_features_multiple_waveforms(waveforms= signals, mfccs= False, temporal= True, statistical= True)"
   ]
  },
  {
   "cell_type": "markdown",
   "id": "d16e753e-a150-4713-89fe-ee55f0a47f4e",
   "metadata": {},
   "source": [
    "Features Dataset"
   ]
  },
  {
   "cell_type": "code",
   "execution_count": 16,
   "id": "d407d710-98f1-4a82-bba8-a976cbdfaf82",
   "metadata": {},
   "outputs": [
    {
     "data": {
      "text/html": [
       "<div>\n",
       "<style scoped>\n",
       "    .dataframe tbody tr th:only-of-type {\n",
       "        vertical-align: middle;\n",
       "    }\n",
       "\n",
       "    .dataframe tbody tr th {\n",
       "        vertical-align: top;\n",
       "    }\n",
       "\n",
       "    .dataframe thead th {\n",
       "        text-align: right;\n",
       "    }\n",
       "</style>\n",
       "<table border=\"1\" class=\"dataframe\">\n",
       "  <thead>\n",
       "    <tr style=\"text-align: right;\">\n",
       "      <th></th>\n",
       "      <th>zero_crossing_rate</th>\n",
       "      <th>root_mean_square_energy</th>\n",
       "      <th>slope_sign_changes_ratio</th>\n",
       "      <th>duration_seconds</th>\n",
       "      <th>flatness_ratio_10000</th>\n",
       "      <th>flatness_ratio_5000</th>\n",
       "      <th>flatness_ratio_1000</th>\n",
       "      <th>flatness_ratio_500</th>\n",
       "      <th>flatness_ratio_100</th>\n",
       "      <th>hjorth_mobility</th>\n",
       "      <th>hjorth_complexity</th>\n",
       "      <th>hurst</th>\n",
       "      <th>hurst_r2</th>\n",
       "      <th>mean</th>\n",
       "      <th>variance</th>\n",
       "      <th>standard_deviation</th>\n",
       "      <th>interquartile_range</th>\n",
       "      <th>skewness</th>\n",
       "      <th>kurtosis</th>\n",
       "      <th>dfa</th>\n",
       "    </tr>\n",
       "  </thead>\n",
       "  <tbody>\n",
       "    <tr>\n",
       "      <th>0</th>\n",
       "      <td>0.0</td>\n",
       "      <td>0.774489</td>\n",
       "      <td>0.0008</td>\n",
       "      <td>1.0</td>\n",
       "      <td>0.0</td>\n",
       "      <td>0.7468</td>\n",
       "      <td>0.8580</td>\n",
       "      <td>0.9265</td>\n",
       "      <td>1.0000</td>\n",
       "      <td>0.000104</td>\n",
       "      <td>9739.544674</td>\n",
       "      <td>NaN</td>\n",
       "      <td>NaN</td>\n",
       "      <td>0.773325</td>\n",
       "      <td>1.801044e-03</td>\n",
       "      <td>4.243871e-02</td>\n",
       "      <td>0.000000</td>\n",
       "      <td>-1.833932</td>\n",
       "      <td>2.182034</td>\n",
       "      <td>1.335226</td>\n",
       "    </tr>\n",
       "    <tr>\n",
       "      <th>1</th>\n",
       "      <td>0.0</td>\n",
       "      <td>0.684184</td>\n",
       "      <td>0.0024</td>\n",
       "      <td>1.0</td>\n",
       "      <td>0.0</td>\n",
       "      <td>0.0000</td>\n",
       "      <td>0.5262</td>\n",
       "      <td>0.8785</td>\n",
       "      <td>0.9813</td>\n",
       "      <td>0.000102</td>\n",
       "      <td>10430.355407</td>\n",
       "      <td>NaN</td>\n",
       "      <td>NaN</td>\n",
       "      <td>0.677048</td>\n",
       "      <td>9.712967e-03</td>\n",
       "      <td>9.855439e-02</td>\n",
       "      <td>0.216433</td>\n",
       "      <td>-0.483805</td>\n",
       "      <td>-0.708812</td>\n",
       "      <td>1.477967</td>\n",
       "    </tr>\n",
       "    <tr>\n",
       "      <th>2</th>\n",
       "      <td>0.0</td>\n",
       "      <td>0.794795</td>\n",
       "      <td>0.0000</td>\n",
       "      <td>1.0</td>\n",
       "      <td>0.0</td>\n",
       "      <td>1.0000</td>\n",
       "      <td>1.0000</td>\n",
       "      <td>1.0000</td>\n",
       "      <td>1.0000</td>\n",
       "      <td>0.000100</td>\n",
       "      <td>10000.000179</td>\n",
       "      <td>NaN</td>\n",
       "      <td>NaN</td>\n",
       "      <td>0.794795</td>\n",
       "      <td>3.552714e-15</td>\n",
       "      <td>5.960464e-08</td>\n",
       "      <td>0.000000</td>\n",
       "      <td>NaN</td>\n",
       "      <td>NaN</td>\n",
       "      <td>1.892973</td>\n",
       "    </tr>\n",
       "    <tr>\n",
       "      <th>3</th>\n",
       "      <td>0.0</td>\n",
       "      <td>0.856583</td>\n",
       "      <td>0.0016</td>\n",
       "      <td>1.0</td>\n",
       "      <td>0.0</td>\n",
       "      <td>0.5101</td>\n",
       "      <td>0.7716</td>\n",
       "      <td>0.8315</td>\n",
       "      <td>1.0000</td>\n",
       "      <td>0.000096</td>\n",
       "      <td>10756.775509</td>\n",
       "      <td>NaN</td>\n",
       "      <td>NaN</td>\n",
       "      <td>0.848875</td>\n",
       "      <td>1.314581e-02</td>\n",
       "      <td>1.146552e-01</td>\n",
       "      <td>0.000000</td>\n",
       "      <td>1.978055</td>\n",
       "      <td>2.402042</td>\n",
       "      <td>1.466434</td>\n",
       "    </tr>\n",
       "    <tr>\n",
       "      <th>4</th>\n",
       "      <td>0.0</td>\n",
       "      <td>1.095662</td>\n",
       "      <td>0.0050</td>\n",
       "      <td>1.0</td>\n",
       "      <td>0.0</td>\n",
       "      <td>0.0000</td>\n",
       "      <td>0.1532</td>\n",
       "      <td>0.5316</td>\n",
       "      <td>1.0000</td>\n",
       "      <td>0.000117</td>\n",
       "      <td>8896.555762</td>\n",
       "      <td>NaN</td>\n",
       "      <td>NaN</td>\n",
       "      <td>1.084073</td>\n",
       "      <td>2.526109e-02</td>\n",
       "      <td>1.589374e-01</td>\n",
       "      <td>0.216433</td>\n",
       "      <td>-0.296076</td>\n",
       "      <td>-0.846334</td>\n",
       "      <td>1.572073</td>\n",
       "    </tr>\n",
       "  </tbody>\n",
       "</table>\n",
       "</div>"
      ],
      "text/plain": [
       "   zero_crossing_rate  root_mean_square_energy  slope_sign_changes_ratio  \\\n",
       "0                 0.0                 0.774489                    0.0008   \n",
       "1                 0.0                 0.684184                    0.0024   \n",
       "2                 0.0                 0.794795                    0.0000   \n",
       "3                 0.0                 0.856583                    0.0016   \n",
       "4                 0.0                 1.095662                    0.0050   \n",
       "\n",
       "   duration_seconds  flatness_ratio_10000  flatness_ratio_5000  \\\n",
       "0               1.0                   0.0               0.7468   \n",
       "1               1.0                   0.0               0.0000   \n",
       "2               1.0                   0.0               1.0000   \n",
       "3               1.0                   0.0               0.5101   \n",
       "4               1.0                   0.0               0.0000   \n",
       "\n",
       "   flatness_ratio_1000  flatness_ratio_500  flatness_ratio_100  \\\n",
       "0               0.8580              0.9265              1.0000   \n",
       "1               0.5262              0.8785              0.9813   \n",
       "2               1.0000              1.0000              1.0000   \n",
       "3               0.7716              0.8315              1.0000   \n",
       "4               0.1532              0.5316              1.0000   \n",
       "\n",
       "   hjorth_mobility  hjorth_complexity  hurst  hurst_r2      mean  \\\n",
       "0         0.000104        9739.544674    NaN       NaN  0.773325   \n",
       "1         0.000102       10430.355407    NaN       NaN  0.677048   \n",
       "2         0.000100       10000.000179    NaN       NaN  0.794795   \n",
       "3         0.000096       10756.775509    NaN       NaN  0.848875   \n",
       "4         0.000117        8896.555762    NaN       NaN  1.084073   \n",
       "\n",
       "       variance  standard_deviation  interquartile_range  skewness  kurtosis  \\\n",
       "0  1.801044e-03        4.243871e-02             0.000000 -1.833932  2.182034   \n",
       "1  9.712967e-03        9.855439e-02             0.216433 -0.483805 -0.708812   \n",
       "2  3.552714e-15        5.960464e-08             0.000000       NaN       NaN   \n",
       "3  1.314581e-02        1.146552e-01             0.000000  1.978055  2.402042   \n",
       "4  2.526109e-02        1.589374e-01             0.216433 -0.296076 -0.846334   \n",
       "\n",
       "        dfa  \n",
       "0  1.335226  \n",
       "1  1.477967  \n",
       "2  1.892973  \n",
       "3  1.466434  \n",
       "4  1.572073  "
      ]
     },
     "execution_count": 16,
     "metadata": {},
     "output_type": "execute_result"
    }
   ],
   "source": [
    "feat_dataset= FeaturesDataset(features= all_features, targets=targets, feature_labels= feature_labels)\n",
    "feat_dataset.head()"
   ]
  },
  {
   "cell_type": "code",
   "execution_count": 17,
   "id": "9a852d32-3f8a-4131-bd30-fcd23509a59e",
   "metadata": {},
   "outputs": [
    {
     "data": {
      "text/plain": [
       "(1671, 20)"
      ]
     },
     "execution_count": 17,
     "metadata": {},
     "output_type": "execute_result"
    }
   ],
   "source": [
    "feat_dataset.shape() #1671,20"
   ]
  },
  {
   "cell_type": "code",
   "execution_count": 18,
   "id": "c5e74da7-a823-49b9-9e38-2f81f5290865",
   "metadata": {},
   "outputs": [
    {
     "ename": "NameError",
     "evalue": "name 'df' is not defined",
     "output_type": "error",
     "traceback": [
      "\u001b[1;31m---------------------------------------------------------------------------\u001b[0m",
      "\u001b[1;31mNameError\u001b[0m                                 Traceback (most recent call last)",
      "Cell \u001b[1;32mIn[18], line 1\u001b[0m\n\u001b[1;32m----> 1\u001b[0m flat_signals \u001b[38;5;241m=\u001b[39m \u001b[43mdf\u001b[49m\u001b[38;5;241m.\u001b[39mindex[df[\u001b[38;5;124m'\u001b[39m\u001b[38;5;124mflatness_ratio_5000\u001b[39m\u001b[38;5;124m'\u001b[39m] \u001b[38;5;241m==\u001b[39m \u001b[38;5;241m1\u001b[39m]\u001b[38;5;241m.\u001b[39mtolist()\n\u001b[0;32m      2\u001b[0m feat_dataset\u001b[38;5;241m.\u001b[39mdrop_rows(row_indices\u001b[38;5;241m=\u001b[39m flat_signals)\n",
      "\u001b[1;31mNameError\u001b[0m: name 'df' is not defined"
     ]
    }
   ],
   "source": [
    "flat_signals = df.index[df['flatness_ratio_5000'] == 1].tolist()\n",
    "feat_dataset.drop_rows(row_indices= flat_signals)"
   ]
  },
  {
   "cell_type": "code",
   "execution_count": null,
   "id": "d0fd1aa9-ed0d-4b3f-a6d2-c3d22eb9b361",
   "metadata": {},
   "outputs": [],
   "source": [
    "feat_dataset.drop_columns=\n",
    "feat_dataset.shape()"
   ]
  },
  {
   "cell_type": "code",
   "execution_count": null,
   "id": "a075a156-5979-454b-b7e8-adaaf4ed8e32",
   "metadata": {},
   "outputs": [],
   "source": [
    "## Filter some features in dataset\n",
    "# Filter some rows"
   ]
  },
  {
   "cell_type": "code",
   "execution_count": null,
   "id": "638d7785-f6be-4ecf-8c13-d01e91e7edbf",
   "metadata": {},
   "outputs": [],
   "source": []
  },
  {
   "cell_type": "code",
   "execution_count": null,
   "id": "db7eb228-266b-457c-8cee-f3ff6fef6117",
   "metadata": {},
   "outputs": [],
   "source": [
    "last_elements = [t[-3] for t in targets]\n",
    "eurythmy_targets = [1 if x > 1 else x for x in last_elements]"
   ]
  },
  {
   "cell_type": "code",
   "execution_count": null,
   "id": "f5f7f815-fbad-4bf2-a836-07261509a278",
   "metadata": {},
   "outputs": [],
   "source": [
    "feat_dataset.preprocess_features(targets= eurythmy_targets)\n",
    "\"\"\"\n",
    "You can also process it separately like this:\n",
    "feat_dataset.remove_nan_columns()\n",
    "feat_dataset.normalize_features(method='zscore')\n",
    "feat_dataset.treat_outliers(iqr_multiplier=1.5)\n",
    "feat_dataset.reduce_features(targets, corr_threshold=0.8) #You reduce the features that are correlated by more than the corr_treshold selecting by p_value\n",
    "\"\"\"\n",
    "processed_features= feat_dataset.get_features_dataframe()"
   ]
  },
  {
   "cell_type": "code",
   "execution_count": null,
   "id": "c5fff981-e0c9-4e02-85f8-e3e015788f02",
   "metadata": {},
   "outputs": [],
   "source": [
    "processed_features.head(100)"
   ]
  },
  {
   "cell_type": "code",
   "execution_count": null,
   "id": "c229694f-3a0e-409a-8f96-408505554bef",
   "metadata": {},
   "outputs": [],
   "source": [
    "processed_features.shape"
   ]
  }
 ],
 "metadata": {
  "kernelspec": {
   "display_name": "Python 3 (ipykernel)",
   "language": "python",
   "name": "python3"
  },
  "language_info": {
   "codemirror_mode": {
    "name": "ipython",
    "version": 3
   },
   "file_extension": ".py",
   "mimetype": "text/x-python",
   "name": "python",
   "nbconvert_exporter": "python",
   "pygments_lexer": "ipython3",
   "version": "3.10.13"
  }
 },
 "nbformat": 4,
 "nbformat_minor": 5
}
