{
 "cells": [
  {
   "cell_type": "markdown",
   "id": "acf646a6-efa3-41e0-9454-51f41d501a00",
   "metadata": {},
   "source": [
    "Imports"
   ]
  },
  {
   "cell_type": "code",
   "execution_count": 1,
   "id": "d682a9ac-99fa-4394-aaff-3844701b070f",
   "metadata": {
    "scrolled": true
   },
   "outputs": [],
   "source": [
    "import sys\n",
    "sys.path.append(\"../src\") "
   ]
  },
  {
   "cell_type": "code",
   "execution_count": 2,
   "id": "d5b91abe-37c4-4478-9207-7b7d4b5daf5a",
   "metadata": {},
   "outputs": [],
   "source": [
    "import pandas as pd\n",
    "from data.wav_data_reader import WavDataReader\n",
    "from data.signal_dataset import SignalDataset\n",
    "from features.independent_wav_feature_extractor import IndependentWavFeatureExtractor\n",
    "from features.features_dataset import FeaturesDataset\n",
    "import data.preparation_eurythmy_data as ped\n",
    "from models.fully_connected_classifier import FullyConnectedClassifier\n",
    "from evaluation.hyperparameter_tuner import HyperparameterTuner"
   ]
  },
  {
   "cell_type": "markdown",
   "id": "c1f8ae78-fa89-411a-b113-dfc46333de1f",
   "metadata": {},
   "source": [
    "Reader"
   ]
  },
  {
   "cell_type": "code",
   "execution_count": 3,
   "id": "2ab39bbd",
   "metadata": {},
   "outputs": [],
   "source": [
    "test_folder= r\"..\\data\\interim\\testing\""
   ]
  },
  {
   "cell_type": "code",
   "execution_count": 4,
   "id": "eb1dc723-ac03-42e8-b4cc-0364d069e2b1",
   "metadata": {},
   "outputs": [],
   "source": [
    "reader= WavDataReader(folder= test_folder) "
   ]
  },
  {
   "cell_type": "markdown",
   "id": "f94af8a1-535a-49ce-99ec-6083def60efc",
   "metadata": {},
   "source": [
    "Signal Dataset"
   ]
  },
  {
   "cell_type": "code",
   "execution_count": 5,
   "id": "66874193-cf2b-427a-9a6a-cff8cfca8d20",
   "metadata": {},
   "outputs": [],
   "source": [
    "signal_dataset= SignalDataset(signals= reader.get_values(), labels= reader.get_keys(), sample_rate= reader.get_sample_rate())"
   ]
  },
  {
   "cell_type": "code",
   "execution_count": 6,
   "id": "bfa4e119-0d79-4606-b63f-bd335da942b9",
   "metadata": {},
   "outputs": [],
   "source": [
    "signal_dataset.process_dataset_adding_eurythmy_labels()"
   ]
  },
  {
   "cell_type": "code",
   "execution_count": 7,
   "id": "4d45f987-c946-41bd-8fb7-02a13e206751",
   "metadata": {},
   "outputs": [],
   "source": [
    "signal_dataset.set_index_target(5)\n",
    "targets= signal_dataset.get_targets()\n",
    "normalized_targets= [1 if x > 0 else x for x in targets]"
   ]
  },
  {
   "cell_type": "code",
   "execution_count": 8,
   "id": "b1182428-7b2e-444c-a4e0-6dcac783c5dd",
   "metadata": {
    "scrolled": true
   },
   "outputs": [],
   "source": [
    "signals, labels= signal_dataset.get_data()"
   ]
  },
  {
   "cell_type": "markdown",
   "id": "e3700661-04d5-4b49-bc51-9c5b2b7c8e03",
   "metadata": {},
   "source": [
    "Feature Extractor"
   ]
  },
  {
   "cell_type": "code",
   "execution_count": 9,
   "id": "c88d4cbb-40d1-43e0-acc1-944e6fc20126",
   "metadata": {},
   "outputs": [
    {
     "name": "stdout",
     "output_type": "stream",
     "text": [
      "CPU times: total: 5min 50s\n",
      "Wall time: 1min 59s\n"
     ]
    }
   ],
   "source": [
    "%%time\n",
    "extractor= IndependentWavFeatureExtractor(sample_rate= 10000)\n",
    "all_features, feature_labels= extractor.extract_features_multiple_waveforms(waveforms= signals, mfccs= True, temporal= True, statistical= True)"
   ]
  },
  {
   "cell_type": "markdown",
   "id": "d16e753e-a150-4713-89fe-ee55f0a47f4e",
   "metadata": {},
   "source": [
    "Features Dataset"
   ]
  },
  {
   "cell_type": "code",
   "execution_count": 10,
   "id": "d407d710-98f1-4a82-bba8-a976cbdfaf82",
   "metadata": {},
   "outputs": [
    {
     "name": "stdout",
     "output_type": "stream",
     "text": [
      "Removed columns with NaNs: ['hurst', 'hurst_r2']\n",
      "The Features were properly normalized using 'zscore' method.\n",
      "Outliers have been treated based on the 1.5 * IQR criterion.\n",
      "Reduced features from 38 to 6.\n",
      "Preprocessing complete. Features have been cleaned, normalized, outliers treated, and reduced.\n"
     ]
    },
    {
     "name": "stderr",
     "output_type": "stream",
     "text": [
      "C:\\Users\\alvar\\anaconda3\\envs\\Plant-Reactivity-Analysis\\lib\\site-packages\\scipy\\stats\\_stats_py.py:7030: RuntimeWarning: invalid value encountered in scalar divide\n",
      "  svar = ((n1 - 1) * v1 + (n2 - 1) * v2) / df\n"
     ]
    },
    {
     "data": {
      "text/plain": [
       "(1348, 6)"
      ]
     },
     "execution_count": 10,
     "metadata": {},
     "output_type": "execute_result"
    }
   ],
   "source": [
    "feat_dataset= FeaturesDataset(features= all_features, targets=normalized_targets, feature_labels= feature_labels)\n",
    "feat_dataset.process_features()\n",
    "feat_dataset.shape()"
   ]
  },
  {
   "cell_type": "code",
   "execution_count": 18,
   "id": "bc622e02-74ab-4db5-b1ad-a7dedb709efd",
   "metadata": {
    "scrolled": true
   },
   "outputs": [
    {
     "data": {
      "text/html": [
       "<div>\n",
       "<style scoped>\n",
       "    .dataframe tbody tr th:only-of-type {\n",
       "        vertical-align: middle;\n",
       "    }\n",
       "\n",
       "    .dataframe tbody tr th {\n",
       "        vertical-align: top;\n",
       "    }\n",
       "\n",
       "    .dataframe thead th {\n",
       "        text-align: right;\n",
       "    }\n",
       "</style>\n",
       "<table border=\"1\" class=\"dataframe\">\n",
       "  <thead>\n",
       "    <tr style=\"text-align: right;\">\n",
       "      <th></th>\n",
       "      <th>mfcc_1_avg</th>\n",
       "      <th>zero_crossing_rate</th>\n",
       "      <th>root_mean_square_energy</th>\n",
       "      <th>mean</th>\n",
       "      <th>skewness</th>\n",
       "      <th>kurtosis</th>\n",
       "    </tr>\n",
       "  </thead>\n",
       "  <tbody>\n",
       "    <tr>\n",
       "      <th>0</th>\n",
       "      <td>-0.966794</td>\n",
       "      <td>-0.498299</td>\n",
       "      <td>0.030602</td>\n",
       "      <td>0.824374</td>\n",
       "      <td>-1.468362</td>\n",
       "      <td>0.110034</td>\n",
       "    </tr>\n",
       "    <tr>\n",
       "      <th>1</th>\n",
       "      <td>0.052383</td>\n",
       "      <td>-0.498299</td>\n",
       "      <td>-0.104927</td>\n",
       "      <td>0.722830</td>\n",
       "      <td>-0.361677</td>\n",
       "      <td>-0.092082</td>\n",
       "    </tr>\n",
       "    <tr>\n",
       "      <th>2</th>\n",
       "      <td>-0.428445</td>\n",
       "      <td>-0.498299</td>\n",
       "      <td>0.153809</td>\n",
       "      <td>0.904056</td>\n",
       "      <td>1.641120</td>\n",
       "      <td>0.110034</td>\n",
       "    </tr>\n",
       "    <tr>\n",
       "      <th>3</th>\n",
       "      <td>0.653225</td>\n",
       "      <td>-0.498299</td>\n",
       "      <td>0.512618</td>\n",
       "      <td>1.152120</td>\n",
       "      <td>-0.207797</td>\n",
       "      <td>-0.101856</td>\n",
       "    </tr>\n",
       "    <tr>\n",
       "      <th>4</th>\n",
       "      <td>-1.048360</td>\n",
       "      <td>-0.498299</td>\n",
       "      <td>-0.003933</td>\n",
       "      <td>0.799949</td>\n",
       "      <td>1.162457</td>\n",
       "      <td>0.012307</td>\n",
       "    </tr>\n",
       "  </tbody>\n",
       "</table>\n",
       "</div>"
      ],
      "text/plain": [
       "   mfcc_1_avg  zero_crossing_rate  root_mean_square_energy      mean  \\\n",
       "0   -0.966794           -0.498299                 0.030602  0.824374   \n",
       "1    0.052383           -0.498299                -0.104927  0.722830   \n",
       "2   -0.428445           -0.498299                 0.153809  0.904056   \n",
       "3    0.653225           -0.498299                 0.512618  1.152120   \n",
       "4   -1.048360           -0.498299                -0.003933  0.799949   \n",
       "\n",
       "   skewness  kurtosis  \n",
       "0 -1.468362  0.110034  \n",
       "1 -0.361677 -0.092082  \n",
       "2  1.641120  0.110034  \n",
       "3 -0.207797 -0.101856  \n",
       "4  1.162457  0.012307  "
      ]
     },
     "execution_count": 18,
     "metadata": {},
     "output_type": "execute_result"
    }
   ],
   "source": [
    "num_feat= len(feat_dataset.get_labels())\n",
    "feat_dataset.head()"
   ]
  },
  {
   "cell_type": "code",
   "execution_count": 12,
   "id": "51931a58-a107-4466-9169-922529b2836d",
   "metadata": {},
   "outputs": [],
   "source": [
    "train_loader, val_loader, test_loader = feat_dataset.split_dataset_in_loaders(test_size=0.3, val_size=0.5, random_state=42)"
   ]
  },
  {
   "cell_type": "markdown",
   "id": "7f86f6f5-14f2-44ed-9dda-c6fd5ba81886",
   "metadata": {},
   "source": [
    "## Search"
   ]
  },
  {
   "cell_type": "code",
   "execution_count": 20,
   "id": "ef49cbb5-24ed-421c-a1af-96cd567a224e",
   "metadata": {
    "scrolled": true
   },
   "outputs": [
    {
     "name": "stdout",
     "output_type": "stream",
     "text": [
      "Epoch 1/5, Training Loss: 0.4968, Training Accuracy: 0.7561, Validation Loss: 0.4181\n",
      "Epoch 2/5, Training Loss: 0.3919, Training Accuracy: 0.8070, Validation Loss: 0.4245\n",
      "Epoch 3/5, Training Loss: 0.3662, Training Accuracy: 0.8250, Validation Loss: 0.6467\n",
      "Epoch 4/5, Training Loss: 0.4330, Training Accuracy: 0.8176, Validation Loss: 0.3990\n",
      "Epoch 5/5, Training Loss: 0.3651, Training Accuracy: 0.8356, Validation Loss: 0.3861\n",
      "Epoch 1/5, Training Loss: 0.5348, Training Accuracy: 0.7190, Validation Loss: 0.3824\n",
      "Epoch 2/5, Training Loss: 0.4174, Training Accuracy: 0.8028, Validation Loss: 0.4389\n",
      "Epoch 3/5, Training Loss: 0.4103, Training Accuracy: 0.8049, Validation Loss: 0.5529\n",
      "Epoch 4/5, Training Loss: 0.4137, Training Accuracy: 0.8038, Validation Loss: 0.3675\n",
      "Epoch 5/5, Training Loss: 0.4219, Training Accuracy: 0.7996, Validation Loss: 0.4612\n",
      "Epoch 1/5, Training Loss: 0.6602, Training Accuracy: 0.6299, Validation Loss: 0.4180\n",
      "Epoch 2/5, Training Loss: 0.5101, Training Accuracy: 0.7253, Validation Loss: 0.4273\n",
      "Epoch 3/5, Training Loss: 0.4559, Training Accuracy: 0.7688, Validation Loss: 0.5472\n",
      "Epoch 4/5, Training Loss: 0.4607, Training Accuracy: 0.7646, Validation Loss: 0.4606\n",
      "Early stopping triggered\n",
      "Early stopping triggered after 3 epochs\n",
      "Epoch 1/5, Training Loss: 0.7337, Training Accuracy: 0.6352, Validation Loss: 0.5540\n",
      "Epoch 2/5, Training Loss: 0.5850, Training Accuracy: 0.7211, Validation Loss: 0.4410\n",
      "Epoch 3/5, Training Loss: 0.6393, Training Accuracy: 0.7306, Validation Loss: 0.4312\n",
      "Epoch 4/5, Training Loss: 0.6198, Training Accuracy: 0.7370, Validation Loss: 0.4207\n",
      "Epoch 5/5, Training Loss: 0.5733, Training Accuracy: 0.7264, Validation Loss: 0.6337\n",
      "Epoch 1/5, Training Loss: 0.5794, Training Accuracy: 0.7402, Validation Loss: 0.4862\n",
      "Epoch 2/5, Training Loss: 0.4047, Training Accuracy: 0.8187, Validation Loss: 0.4551\n",
      "Epoch 3/5, Training Loss: 0.3419, Training Accuracy: 0.8452, Validation Loss: 0.4208\n",
      "Epoch 4/5, Training Loss: 0.3826, Training Accuracy: 0.8271, Validation Loss: 0.3723\n",
      "Epoch 5/5, Training Loss: 0.3500, Training Accuracy: 0.8324, Validation Loss: 0.5060\n",
      "Epoch 1/5, Training Loss: 0.6442, Training Accuracy: 0.7275, Validation Loss: 0.4270\n",
      "Epoch 2/5, Training Loss: 0.4591, Training Accuracy: 0.7932, Validation Loss: 0.3934\n",
      "Epoch 3/5, Training Loss: 0.4482, Training Accuracy: 0.7943, Validation Loss: 0.4276\n",
      "Epoch 4/5, Training Loss: 0.4483, Training Accuracy: 0.7890, Validation Loss: 0.4095\n",
      "Epoch 5/5, Training Loss: 0.4211, Training Accuracy: 0.8081, Validation Loss: 0.3637\n",
      "Epoch 1/5, Training Loss: 1.0657, Training Accuracy: 0.6670, Validation Loss: 0.5168\n",
      "Epoch 2/5, Training Loss: 0.4678, Training Accuracy: 0.7731, Validation Loss: 0.4023\n",
      "Epoch 3/5, Training Loss: 0.4442, Training Accuracy: 0.7858, Validation Loss: 0.4573\n",
      "Epoch 4/5, Training Loss: 0.4145, Training Accuracy: 0.7922, Validation Loss: 0.4135\n",
      "Epoch 5/5, Training Loss: 0.5517, Training Accuracy: 0.7699, Validation Loss: 0.4812\n",
      "Early stopping triggered\n",
      "Early stopping triggered after 3 epochs\n",
      "Epoch 1/5, Training Loss: 1.3479, Training Accuracy: 0.6193, Validation Loss: 0.4661\n",
      "Epoch 2/5, Training Loss: 0.7038, Training Accuracy: 0.7020, Validation Loss: 0.4387\n",
      "Epoch 3/5, Training Loss: 0.6389, Training Accuracy: 0.6850, Validation Loss: 0.4924\n",
      "Epoch 4/5, Training Loss: 0.6519, Training Accuracy: 0.6766, Validation Loss: 0.4805\n",
      "Epoch 5/5, Training Loss: 0.6102, Training Accuracy: 0.7200, Validation Loss: 0.4399\n",
      "Early stopping triggered\n",
      "Early stopping triggered after 3 epochs\n",
      "Epoch 1/5, Training Loss: 0.5519, Training Accuracy: 0.6575, Validation Loss: 0.4997\n",
      "Epoch 2/5, Training Loss: 0.4151, Training Accuracy: 0.7794, Validation Loss: 0.3911\n",
      "Epoch 3/5, Training Loss: 0.3633, Training Accuracy: 0.8240, Validation Loss: 0.3666\n",
      "Epoch 4/5, Training Loss: 0.3426, Training Accuracy: 0.8515, Validation Loss: 0.3653\n",
      "Epoch 5/5, Training Loss: 0.3444, Training Accuracy: 0.8409, Validation Loss: 0.3362\n",
      "Epoch 1/5, Training Loss: 0.5864, Training Accuracy: 0.6405, Validation Loss: 0.5001\n",
      "Epoch 2/5, Training Loss: 0.4468, Training Accuracy: 0.7614, Validation Loss: 0.4207\n",
      "Epoch 3/5, Training Loss: 0.3997, Training Accuracy: 0.7996, Validation Loss: 0.3794\n",
      "Epoch 4/5, Training Loss: 0.3851, Training Accuracy: 0.8155, Validation Loss: 0.3766\n",
      "Epoch 5/5, Training Loss: 0.3610, Training Accuracy: 0.8314, Validation Loss: 0.3695\n",
      "Epoch 1/5, Training Loss: 0.5207, Training Accuracy: 0.6840, Validation Loss: 0.3909\n",
      "Epoch 2/5, Training Loss: 0.3674, Training Accuracy: 0.8240, Validation Loss: 0.3594\n",
      "Epoch 3/5, Training Loss: 0.3395, Training Accuracy: 0.8314, Validation Loss: 0.3643\n",
      "Epoch 4/5, Training Loss: 0.3398, Training Accuracy: 0.8335, Validation Loss: 0.3571\n",
      "Epoch 5/5, Training Loss: 0.3231, Training Accuracy: 0.8537, Validation Loss: 0.4277\n",
      "Epoch 1/5, Training Loss: 0.5745, Training Accuracy: 0.6501, Validation Loss: 0.4749\n",
      "Epoch 2/5, Training Loss: 0.4275, Training Accuracy: 0.7625, Validation Loss: 0.3908\n",
      "Epoch 3/5, Training Loss: 0.3975, Training Accuracy: 0.8123, Validation Loss: 0.3585\n",
      "Epoch 4/5, Training Loss: 0.3612, Training Accuracy: 0.8218, Validation Loss: 0.3611\n",
      "Epoch 5/5, Training Loss: 0.3621, Training Accuracy: 0.8303, Validation Loss: 0.3240\n",
      "Epoch 1/5, Training Loss: 0.5043, Training Accuracy: 0.7158, Validation Loss: 0.4043\n",
      "Epoch 2/5, Training Loss: 0.3813, Training Accuracy: 0.8314, Validation Loss: 0.3712\n",
      "Epoch 3/5, Training Loss: 0.3636, Training Accuracy: 0.8378, Validation Loss: 0.4032\n",
      "Epoch 4/5, Training Loss: 0.3390, Training Accuracy: 0.8515, Validation Loss: 0.3448\n",
      "Epoch 5/5, Training Loss: 0.3194, Training Accuracy: 0.8600, Validation Loss: 0.3643\n",
      "Epoch 1/5, Training Loss: 0.5296, Training Accuracy: 0.6946, Validation Loss: 0.4485\n",
      "Epoch 2/5, Training Loss: 0.4077, Training Accuracy: 0.8006, Validation Loss: 0.3813\n",
      "Epoch 3/5, Training Loss: 0.3741, Training Accuracy: 0.8208, Validation Loss: 0.3796\n",
      "Epoch 4/5, Training Loss: 0.3500, Training Accuracy: 0.8240, Validation Loss: 0.3464\n",
      "Epoch 5/5, Training Loss: 0.3445, Training Accuracy: 0.8441, Validation Loss: 0.3492\n",
      "Epoch 1/5, Training Loss: 0.5019, Training Accuracy: 0.7031, Validation Loss: 0.3815\n",
      "Epoch 2/5, Training Loss: 0.3562, Training Accuracy: 0.8324, Validation Loss: 0.3518\n",
      "Epoch 3/5, Training Loss: 0.3500, Training Accuracy: 0.8356, Validation Loss: 0.3598\n",
      "Epoch 4/5, Training Loss: 0.3305, Training Accuracy: 0.8568, Validation Loss: 0.3297\n",
      "Epoch 5/5, Training Loss: 0.3125, Training Accuracy: 0.8558, Validation Loss: 0.4745\n",
      "Epoch 1/5, Training Loss: 0.4932, Training Accuracy: 0.7147, Validation Loss: 0.4095\n",
      "Epoch 2/5, Training Loss: 0.4144, Training Accuracy: 0.7943, Validation Loss: 0.3929\n",
      "Epoch 3/5, Training Loss: 0.3757, Training Accuracy: 0.8218, Validation Loss: 0.3558\n",
      "Epoch 4/5, Training Loss: 0.3528, Training Accuracy: 0.8324, Validation Loss: 0.3591\n",
      "Epoch 5/5, Training Loss: 0.3430, Training Accuracy: 0.8314, Validation Loss: 0.3706\n"
     ]
    }
   ],
   "source": [
    "input_size= num_feat\n",
    "output_size= 2\n",
    "num_epochs = 5\n",
    "\n",
    "param_grid = {\n",
    "    'learning_rate': [0.1, 0.01],\n",
    "    'dense_units': [64, 128],\n",
    "    'dense_layers': [1, 2],\n",
    "    'dropout_rate': [0.25, 0.5]\n",
    "}\n",
    "\n",
    "tuner = HyperparameterTuner(FullyConnectedClassifier, param_grid, train_loader, val_loader, num_epochs, input_size, output_size)\n",
    "best_params, all_results = tuner.tune()"
   ]
  },
  {
   "cell_type": "code",
   "execution_count": null,
   "id": "4172f121-7629-460b-83de-63c157de000a",
   "metadata": {},
   "outputs": [],
   "source": [
    "print(\"Best Hyperparameters: \\n\", best_params)"
   ]
  },
  {
   "cell_type": "code",
   "execution_count": null,
   "id": "c2858e1b-897d-4756-bc8a-220bec77b148",
   "metadata": {},
   "outputs": [],
   "source": [
    "all_results.head(15)"
   ]
  },
  {
   "cell_type": "code",
   "execution_count": null,
   "id": "94fbf31d-8086-459e-a4c0-dc5cc6ad78e8",
   "metadata": {},
   "outputs": [],
   "source": [
    "klk"
   ]
  },
  {
   "cell_type": "code",
   "execution_count": null,
   "id": "7da457ba-e609-4aac-83a5-a6f6169a520a",
   "metadata": {},
   "outputs": [],
   "source": [
    "print(best_hyperparameters)"
   ]
  },
  {
   "cell_type": "markdown",
   "id": "a55a29ad-f615-4ea0-8b6f-f92ce79d125b",
   "metadata": {},
   "source": [
    "## Model"
   ]
  },
  {
   "cell_type": "code",
   "execution_count": null,
   "id": "47a5c218-a6b0-43ba-9b66-0002bc2bf05a",
   "metadata": {},
   "outputs": [],
   "source": [
    "num_epochs = 5  # Number of training epochs"
   ]
  },
  {
   "cell_type": "code",
   "execution_count": null,
   "id": "9063b66a-2db4-4295-bafb-09347e0b0ca4",
   "metadata": {},
   "outputs": [],
   "source": [
    "model = FullyConnectedClassifier(\n",
    "    input_size=5,  # Example input size\n",
    "    hidden_layers=[128, 64],  # Two hidden layers with 128 and 64 units respectively\n",
    "    output_size=2,  # Example output size\n",
    "    dropout_rate=0.5,\n",
    "    learning_rate=0.001\n",
    ")"
   ]
  },
  {
   "cell_type": "code",
   "execution_count": null,
   "id": "922201a6-7c48-4915-9733-434a8ce3831a",
   "metadata": {},
   "outputs": [],
   "source": [
    "model.train_model(train_loader, val_loader, num_epochs)"
   ]
  },
  {
   "cell_type": "code",
   "execution_count": null,
   "id": "780fd1cc-6d6c-47e3-aa01-9be0615186f4",
   "metadata": {},
   "outputs": [],
   "source": [
    "test_predictions = model.predict(test_loader)"
   ]
  },
  {
   "cell_type": "code",
   "execution_count": null,
   "id": "fc8da217-de67-4d9f-ae1d-036f51e4f073",
   "metadata": {},
   "outputs": [],
   "source": [
    "actual_labels = []\n",
    "for _, labels in test_loader:\n",
    "    actual_labels.extend(labels.tolist())"
   ]
  },
  {
   "cell_type": "code",
   "execution_count": null,
   "id": "2609c48b-aecf-463b-a3c4-70a543a054e6",
   "metadata": {},
   "outputs": [],
   "source": [
    "correct_predictions = sum(p == t for p, t in zip(test_predictions, actual_labels))\n",
    "accuracy = correct_predictions / len(actual_labels)\n",
    "print(f\"Accuracy: {accuracy:.4f}\")\n"
   ]
  },
  {
   "cell_type": "code",
   "execution_count": null,
   "id": "1ec56b49-e194-4244-88eb-a4fb3483cdf0",
   "metadata": {},
   "outputs": [],
   "source": [
    "from sklearn.metrics import precision_score, recall_score, f1_score, confusion_matrix\n",
    "\n",
    "# Assuming your task is a classification task\n",
    "precision = precision_score(actual_labels, test_predictions, average='macro')\n",
    "recall = recall_score(actual_labels, test_predictions, average='macro')\n",
    "f1 = f1_score(actual_labels, test_predictions, average='macro')\n",
    "\n",
    "print(f\"Precision: {precision:.4f}\")\n",
    "print(f\"Recall: {recall:.4f}\")\n",
    "print(f\"F1-Score: {f1:.4f}\")\n",
    "\n",
    "# Confusion Matrix\n",
    "conf_matrix = confusion_matrix(actual_labels, test_predictions)\n",
    "print(\"Confusion Matrix:\\n\", conf_matrix)\n"
   ]
  }
 ],
 "metadata": {
  "kernelspec": {
   "display_name": "Python 3 (ipykernel)",
   "language": "python",
   "name": "python3"
  },
  "language_info": {
   "codemirror_mode": {
    "name": "ipython",
    "version": 3
   },
   "file_extension": ".py",
   "mimetype": "text/x-python",
   "name": "python",
   "nbconvert_exporter": "python",
   "pygments_lexer": "ipython3",
   "version": "3.10.13"
  }
 },
 "nbformat": 4,
 "nbformat_minor": 5
}
