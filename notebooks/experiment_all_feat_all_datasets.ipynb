{
 "cells": [
  {
   "cell_type": "markdown",
   "id": "501268a1-2347-46dd-ae4e-d4424b0261a9",
   "metadata": {},
   "source": [
    "# Experiment Eurythmy Letter"
   ]
  },
  {
   "cell_type": "code",
   "execution_count": 1,
   "id": "551bf376-9979-4c51-a261-8e974501da9b",
   "metadata": {},
   "outputs": [],
   "source": [
    "from PlantReactivityAnalysis.features.features_dataset import FeaturesDataset\n",
    "from PlantReactivityAnalysis.models.experiment import Experiment\n",
    "import PlantReactivityAnalysis.models.help_experiment as he\n",
    "from PlantReactivityAnalysis.config import PROCESSED_DATA_DIR"
   ]
  },
  {
   "cell_type": "code",
   "execution_count": 2,
   "id": "2e27e9cd-2454-4464-b7ec-7ebf191103ea",
   "metadata": {},
   "outputs": [],
   "source": [
    "import numpy as np\n",
    "import pandas as pd\n",
    "pd.set_option('display.max_columns', None)\n",
    "pd.set_option('display.max_rows', None)"
   ]
  },
  {
   "cell_type": "code",
   "execution_count": 3,
   "id": "c96c1d22-0262-4a37-9282-1048692a1346",
   "metadata": {},
   "outputs": [],
   "source": [
    "norm_letters_signal_dataset_path = r\"../data/processed/feat_norm_letters_1_1_dataset.pkl\""
   ]
  },
  {
   "cell_type": "code",
   "execution_count": 4,
   "id": "9bb4c1df-5fa6-4920-9c26-031f14f4f05c",
   "metadata": {},
   "outputs": [],
   "source": [
    "classifier_par_dict = {\n",
    "            \"svm\": np.array([0.001, 0.01, 0.5, 1.0, 5.0, 10.0, 20.0]),\n",
    "            \"svm_rbf\": np.array([0.001, 0.01, 0.5, 1.0, 5.0, 10.0, 20.0]),\n",
    "            \"randomforest\": np.array([10, 25, 50, 100, 200, 500]),\n",
    "            \"gradientboosting\": np.array([10, 25, 50, 100, 200, 500]),\n",
    "            \"extratrees\": np.array([10, 25, 50, 100, 200, 500])\n",
    "        }"
   ]
  },
  {
   "cell_type": "markdown",
   "id": "7cc3aed1-2590-4f12-8611-08649b524222",
   "metadata": {},
   "source": [
    "# Preparation"
   ]
  },
  {
   "cell_type": "code",
   "execution_count": 5,
   "id": "4ad9fb76-7d52-4a35-aff5-07f4bd70bf63",
   "metadata": {
    "scrolled": true
   },
   "outputs": [
    {
     "name": "stdout",
     "output_type": "stream",
     "text": [
      "Processing Dataset 1\n",
      "Removing columns with NaN values: ['kurtosis', 'skewness']\n",
      "Variable features were properly normalized using 'zscore' method.\n",
      "Applied z-score normalization.\n",
      "Variable features were properly normalized using 'zscore' method.\n",
      "Applied z-score normalization.\n",
      "Variable features were properly normalized using 'zscore' method.\n",
      "Applied z-score normalization.\n",
      "Processing Dataset 2\n",
      "Removing columns with NaN values: ['kurtosis', 'skewness']\n",
      "Processing Dataset 3\n",
      "No columns with NaN values found.\n",
      "Variable features were properly normalized using 'zscore' method.\n",
      "Applied z-score normalization.\n",
      "Variable features were properly normalized using 'zscore' method.\n",
      "Applied z-score normalization.\n",
      "Variable features were properly normalized using 'zscore' method.\n",
      "Applied z-score normalization.\n",
      "Processing Dataset 4\n",
      "No columns with NaN values found.\n",
      "Processing Dataset 5\n",
      "Removing columns with NaN values: ['kurtosis', 'skewness']\n",
      "Variable features were properly normalized using 'zscore' method.\n",
      "Applied z-score normalization.\n",
      "Variable features were properly normalized using 'zscore' method.\n",
      "Applied z-score normalization.\n",
      "Variable features were properly normalized using 'zscore' method.\n",
      "Applied z-score normalization.\n",
      "Processing Dataset 6\n",
      "Removing columns with NaN values: ['kurtosis', 'skewness']\n",
      "Processing Dataset 7\n",
      "No columns with NaN values found.\n",
      "Variable features were properly normalized using 'zscore' method.\n",
      "Applied z-score normalization.\n",
      "Variable features were properly normalized using 'zscore' method.\n",
      "Applied z-score normalization.\n",
      "Variable features were properly normalized using 'zscore' method.\n",
      "Applied z-score normalization.\n",
      "Processing Dataset 8\n",
      "No columns with NaN values found.\n"
     ]
    }
   ],
   "source": [
    "datasets= he.collect_all_rqs_data(reduce_variables=False)"
   ]
  },
  {
   "cell_type": "markdown",
   "id": "2518c098-1edb-4e4e-8998-18553d44bd8a",
   "metadata": {},
   "source": [
    "# RQX"
   ]
  },
  {
   "cell_type": "code",
   "execution_count": null,
   "id": "8ae7151f-9736-4766-aa2c-c186da471e6d",
   "metadata": {},
   "outputs": [
    {
     "name": "stdout",
     "output_type": "stream",
     "text": [
      "Now processing Dataset 1...\n",
      "  Processing RQ 1 within Dataset 1...\n",
      "Running experiments for svm\n",
      "Running experiments for svm_rbf\n",
      "Running experiments for randomforest\n",
      "Running experiments for gradientboosting\n",
      "Running experiments for extratrees\n",
      "  Processing RQ 2 within Dataset 1...\n",
      "Running experiments for svm\n",
      "Running experiments for svm_rbf\n",
      "Running experiments for randomforest\n",
      "Running experiments for gradientboosting\n",
      "Running experiments for extratrees\n"
     ]
    }
   ],
   "source": [
    "results = {}  # Initialize an empty dictionary to store results\n",
    "\n",
    "for ds in range(1, 9):  # For each dataset\n",
    "    print(f\"Now processing Dataset {ds}...\")  # Print the current dataset being processed\n",
    "    results[ds] = {}  # Initialize a nested dictionary for each dataset\n",
    "    for rq in [1, 2, 5]:  # For each research question\n",
    "        print(f\"  Processing RQ {rq} within Dataset {ds}...\")  # Print the current RQ being processed\n",
    "        # Assuming datasets is a predefined structure with your data\n",
    "        train_df, test_df = datasets[ds][rq]\n",
    "        experiment = Experiment(train_df, test_df, 'target')\n",
    "        experiment.run_all_models(classifier_par_dict)\n",
    "        \n",
    "        # Store the results of the experiment, along with the dataset and RQ identifiers\n",
    "        results[ds][rq] = experiment.results\n"
   ]
  },
  {
   "cell_type": "code",
   "execution_count": null,
   "id": "070e639c-3c15-48ff-961f-0e670e9a3f17",
   "metadata": {},
   "outputs": [],
   "source": [
    "import pandas as pd\n",
    "\n",
    "# Prepare a list to hold all rows before creating the DataFrame\n",
    "rows = []\n",
    "\n",
    "# Iterate over the nested structure to access each experiment's results\n",
    "for ds, rqs in results.items():\n",
    "    for rq, experiments in rqs.items():\n",
    "        for experiment_result in experiments:\n",
    "            model_name, param, f1, accuracy, precision, recall = experiment_result\n",
    "            rows.append({\n",
    "                'Dataset': ds,\n",
    "                'RQ': rq,\n",
    "                'Model': model_name,\n",
    "                'Parameter': param,\n",
    "                'F1 Score': f1,\n",
    "                'Accuracy': accuracy,\n",
    "                'Precision': precision,\n",
    "                'Recall': recall\n",
    "            })\n",
    "\n",
    "# Convert the list of dictionaries into a DataFrame\n",
    "df_results = pd.DataFrame(rows)\n",
    "\n",
    "# Save the DataFrame to a CSV file\n",
    "csv_file_path = \"all_feaet_experiment_results.csv\"\n",
    "df_results.to_csv(csv_file_path, index=False)"
   ]
  }
 ],
 "metadata": {
  "kernelspec": {
   "display_name": "Python (Plant-Reactivity-Analysis)",
   "language": "python",
   "name": "myenv"
  },
  "language_info": {
   "codemirror_mode": {
    "name": "ipython",
    "version": 3
   },
   "file_extension": ".py",
   "mimetype": "text/x-python",
   "name": "python",
   "nbconvert_exporter": "python",
   "pygments_lexer": "ipython3",
   "version": "3.10.13"
  }
 },
 "nbformat": 4,
 "nbformat_minor": 5
}
