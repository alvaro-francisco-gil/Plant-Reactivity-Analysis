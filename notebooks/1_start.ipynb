{
 "cells": [
  {
   "cell_type": "code",
   "execution_count": 1,
   "id": "6ff7f1bd-c41d-4644-9f13-eaad82972569",
   "metadata": {},
   "outputs": [
    {
     "name": "stdout",
     "output_type": "stream",
     "text": [
      "conda 23.1.0\n"
     ]
    }
   ],
   "source": [
    "!conda --version   # or `$CONDA_EXE --version` in some environments"
   ]
  },
  {
   "cell_type": "code",
   "execution_count": 2,
   "id": "8b03009c-a9a6-4d22-8783-6de2b13d020e",
   "metadata": {},
   "outputs": [
    {
     "name": "stdout",
     "output_type": "stream",
     "text": [
      "GNU Make 4.4.1\n",
      "Built for Windows32\n",
      "Copyright (C) 1988-2023 Free Software Foundation, Inc.\n",
      "License GPLv3+: GNU GPL version 3 or later <https://gnu.org/licenses/gpl.html>\n",
      "This is free software: you are free to change and redistribute it.\n",
      "There is NO WARRANTY, to the extent permitted by law.\n"
     ]
    }
   ],
   "source": [
    "!make --version"
   ]
  },
  {
   "cell_type": "code",
   "execution_count": 3,
   "id": "285a0ee4-6cf0-49c3-bf2a-4e4bdf479db0",
   "metadata": {},
   "outputs": [
    {
     "name": "stdout",
     "output_type": "stream",
     "text": [
      "git version 2.34.1.windows.1\n"
     ]
    }
   ],
   "source": [
    "!git --version"
   ]
  },
  {
   "cell_type": "code",
   "execution_count": 4,
   "id": "03ba289c-0bad-4fe5-b80a-3b0d0263c216",
   "metadata": {},
   "outputs": [
    {
     "name": "stdout",
     "output_type": "stream",
     "text": [
      "Cookiecutter 2.5.0 from C:\\Users\\alvar\\anaconda3\\envs\\Plant-Reactivity-Analysis\\lib\\site-packages (Python 3.10.13 | packaged by Anaconda, Inc. | (main, Sep 11 2023, 13:24:38) [MSC v.1916 64 bit (AMD64)])\n"
     ]
    }
   ],
   "source": [
    "!cookiecutter --version"
   ]
  },
  {
   "cell_type": "code",
   "execution_count": 9,
   "id": "f9414f0f-437a-447d-b1f2-9fff3f77d281",
   "metadata": {},
   "outputs": [],
   "source": [
    "# %load ../README.md\n",
    "Plant-Reactivity-Analysis\n",
    "==============================\n",
    "\n",
    "The code explores the hypothesis that plants can detect and respond to human movements, especially eurythmy gestures, using plant-based electrical signals. We develop various machine learning models to interpret these signals, treating plants as biosensors for human motion.\n",
    "\n",
    "Project Organization\n",
    "------------\n",
    "\n",
    "    ├── LICENSE\n",
    "    ├── Makefile           <- Makefile with commands like `make data` or `make train`\n",
    "    ├── README.md          <- The top-level README for developers using this project.\n",
    "    ├── data\n",
    "    │   ├── external       <- Data from third party sources.\n",
    "    │   ├── interim        <- Intermediate data that has been transformed.\n",
    "    │   ├── processed      <- The final, canonical data sets for modeling.\n",
    "    │   └── raw            <- The original, immutable data dump.\n",
    "    │\n",
    "    ├── docs               <- A default Sphinx project; see sphinx-doc.org for details\n",
    "    │\n",
    "    ├── models             <- Trained and serialized models, model predictions, or model summaries\n",
    "    │\n",
    "    ├── notebooks          <- Jupyter notebooks. Naming convention is a number (for ordering),\n",
    "    │                         the creator's initials, and a short `-` delimited description, e.g.\n",
    "    │                         `1.0-jqp-initial-data-exploration`.\n",
    "    │\n",
    "    ├── references         <- Data dictionaries, manuals, and all other explanatory materials.\n",
    "    │\n",
    "    ├── reports            <- Generated analysis as HTML, PDF, LaTeX, etc.\n",
    "    │   └── figures        <- Generated graphics and figures to be used in reporting\n",
    "    │\n",
    "    ├── requirements.txt   <- The requirements file for reproducing the analysis environment, e.g.\n",
    "    │                         generated with `pip freeze > requirements.txt`\n",
    "    │\n",
    "    ├── setup.py           <- makes project pip installable (pip install -e .) so src can be imported\n",
    "    ├── src                <- Source code for use in this project.\n",
    "    │   ├── __init__.py    <- Makes src a Python module\n",
    "    │   │\n",
    "    │   ├── data           <- Scripts to download or generate data\n",
    "    │   │   └── make_dataset.py\n",
    "    │   │\n",
    "    │   ├── features       <- Scripts to turn raw data into features for modeling\n",
    "    │   │   └── build_features.py\n",
    "    │   │\n",
    "    │   ├── models         <- Scripts to train models and then use trained models to make\n",
    "    │   │   │                 predictions\n",
    "    │   │   ├── predict_model.py\n",
    "    │   │   └── train_model.py\n",
    "    │   │\n",
    "    │   └── visualization  <- Scripts to create exploratory and results oriented visualizations\n",
    "    │       └── visualize.py\n",
    "    │\n",
    "    └── tox.ini            <- tox file with settings for running tox; see tox.readthedocs.io\n",
    "\n",
    "\n",
    "--------\n",
    "\n",
    "<p><small>Project based on the <a target=\"_blank\" href=\"https://drivendata.github.io/cookiecutter-data-science/\">cookiecutter data science project template</a>. #cookiecutterdatascience</small></p>\n"
   ]
  },
  {
   "cell_type": "code",
   "execution_count": 14,
   "id": "c43ddcb5-7922-48a0-bcb3-2b5c2e96c14d",
   "metadata": {},
   "outputs": [],
   "source": [
    "# %load ../requirements.txt\n",
    "# local package\n",
    "-e .\n",
    "\n",
    "# external requirements\n",
    "click\n",
    "Sphinx\n",
    "coverage\n",
    "awscli\n",
    "flake8\n",
    "python-dotenv>=0.5.1\n"
   ]
  },
  {
   "cell_type": "code",
   "execution_count": 6,
   "id": "f61c48c3-d831-44ca-9b93-dd09625e1706",
   "metadata": {},
   "outputs": [
    {
     "name": "stdout",
     "output_type": "stream",
     "text": [
      "\n",
      "     active environment : Plant-Reactivity-Analysis\n",
      "    active env location : C:\\Users\\alvar\\anaconda3\\envs\\Plant-Reactivity-Analysis\n",
      "            shell level : 1\n",
      "       user config file : C:\\Users\\alvar\\.condarc\n",
      " populated config files : C:\\Users\\alvar\\.condarc\n",
      "          conda version : 23.1.0\n",
      "    conda-build version : 3.22.0\n",
      "         python version : 3.9.13.final.0\n",
      "       virtual packages : __archspec=1=x86_64\n",
      "                          __win=0=0\n",
      "       base environment : C:\\Users\\alvar\\anaconda3  (writable)\n",
      "      conda av data dir : C:\\Users\\alvar\\anaconda3\\etc\\conda\n",
      "  conda av metadata url : None\n",
      "           channel URLs : https://repo.anaconda.com/pkgs/main/win-64\n",
      "                          https://repo.anaconda.com/pkgs/main/noarch\n",
      "                          https://repo.anaconda.com/pkgs/r/win-64\n",
      "                          https://repo.anaconda.com/pkgs/r/noarch\n",
      "                          https://repo.anaconda.com/pkgs/msys2/win-64\n",
      "                          https://repo.anaconda.com/pkgs/msys2/noarch\n",
      "          package cache : C:\\Users\\alvar\\anaconda3\\pkgs\n",
      "                          C:\\Users\\alvar\\.conda\\pkgs\n",
      "                          C:\\Users\\alvar\\AppData\\Local\\conda\\conda\\pkgs\n",
      "       envs directories : C:\\Users\\alvar\\anaconda3\\envs\n",
      "                          C:\\Users\\alvar\\.conda\\envs\n",
      "                          C:\\Users\\alvar\\AppData\\Local\\conda\\conda\\envs\n",
      "               platform : win-64\n",
      "             user-agent : conda/23.1.0 requests/2.28.1 CPython/3.9.13 Windows/10 Windows/10.0.22621\n",
      "          administrator : True\n",
      "             netrc file : None\n",
      "           offline mode : False\n",
      "\n"
     ]
    }
   ],
   "source": [
    "!conda info"
   ]
  },
  {
   "cell_type": "code",
   "execution_count": 16,
   "id": "af6c4dc7-66c0-406d-9b5b-80fa85511208",
   "metadata": {},
   "outputs": [
    {
     "name": "stderr",
     "output_type": "stream",
     "text": [
      "make: *** No rule to make target 'requirements'.  Stop.\n"
     ]
    }
   ],
   "source": [
    "!make requirements"
   ]
  },
  {
   "cell_type": "code",
   "execution_count": 17,
   "id": "cdff5a3d-7048-4252-8911-115d2dee8c22",
   "metadata": {},
   "outputs": [
    {
     "ename": "ModuleNotFoundError",
     "evalue": "No module named 'src'",
     "output_type": "error",
     "traceback": [
      "\u001b[1;31m---------------------------------------------------------------------------\u001b[0m",
      "\u001b[1;31mModuleNotFoundError\u001b[0m                       Traceback (most recent call last)",
      "Cell \u001b[1;32mIn[17], line 1\u001b[0m\n\u001b[1;32m----> 1\u001b[0m \u001b[38;5;28;01mimport\u001b[39;00m \u001b[38;5;21;01msrc\u001b[39;00m\n",
      "\u001b[1;31mModuleNotFoundError\u001b[0m: No module named 'src'"
     ]
    }
   ],
   "source": [
    "import src"
   ]
  },
  {
   "cell_type": "code",
   "execution_count": null,
   "id": "a693515d-a647-40f7-abd1-5b38f4c2c422",
   "metadata": {},
   "outputs": [],
   "source": []
  },
  {
   "cell_type": "code",
   "execution_count": null,
   "id": "9dba103c-782f-4b7e-9520-d6809858d218",
   "metadata": {},
   "outputs": [],
   "source": []
  },
  {
   "cell_type": "code",
   "execution_count": null,
   "id": "50c86aa3-b015-49b9-8a96-192705b96a0e",
   "metadata": {},
   "outputs": [],
   "source": []
  },
  {
   "cell_type": "code",
   "execution_count": null,
   "id": "9a2a6f12-aa29-42f9-b3b0-e692ab6b14ee",
   "metadata": {},
   "outputs": [],
   "source": []
  },
  {
   "cell_type": "code",
   "execution_count": null,
   "id": "cc47e459-57cd-4209-883d-4031f01e2169",
   "metadata": {},
   "outputs": [],
   "source": []
  },
  {
   "cell_type": "code",
   "execution_count": null,
   "id": "a77dd193-9ecf-419d-a3cb-702575af6c7f",
   "metadata": {},
   "outputs": [],
   "source": []
  },
  {
   "cell_type": "code",
   "execution_count": null,
   "id": "178231db-5348-4e71-81e5-bad792c45daf",
   "metadata": {},
   "outputs": [],
   "source": []
  }
 ],
 "metadata": {
  "kernelspec": {
   "display_name": "Python 3 (ipykernel)",
   "language": "python",
   "name": "python3"
  },
  "language_info": {
   "codemirror_mode": {
    "name": "ipython",
    "version": 3
   },
   "file_extension": ".py",
   "mimetype": "text/x-python",
   "name": "python",
   "nbconvert_exporter": "python",
   "pygments_lexer": "ipython3",
   "version": "3.10.13"
  }
 },
 "nbformat": 4,
 "nbformat_minor": 5
}
