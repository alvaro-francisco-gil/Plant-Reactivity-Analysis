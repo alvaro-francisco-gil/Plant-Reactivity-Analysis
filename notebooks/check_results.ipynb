{
 "cells": [
  {
   "cell_type": "code",
   "execution_count": 1,
   "id": "1789386e-4d19-4392-ba06-48a22b438a15",
   "metadata": {},
   "outputs": [],
   "source": [
    "import pandas as pd\n",
    "pd.set_option('display.max_rows', None)"
   ]
  },
  {
   "cell_type": "code",
   "execution_count": 2,
   "id": "6f716f96-255b-498a-baeb-e08b356cc264",
   "metadata": {},
   "outputs": [
    {
     "data": {
      "text/plain": [
       "(12, 11)"
      ]
     },
     "execution_count": 2,
     "metadata": {},
     "output_type": "execute_result"
    }
   ],
   "source": [
    "file_path = r\"results.csv\"\n",
    "df = pd.read_csv(file_path)\n",
    "df.shape"
   ]
  },
  {
   "cell_type": "code",
   "execution_count": 3,
   "id": "f468f118-b740-4157-abec-2eb0f144c7c1",
   "metadata": {},
   "outputs": [
    {
     "data": {
      "text/html": [
       "<div>\n",
       "<style scoped>\n",
       "    .dataframe tbody tr th:only-of-type {\n",
       "        vertical-align: middle;\n",
       "    }\n",
       "\n",
       "    .dataframe tbody tr th {\n",
       "        vertical-align: top;\n",
       "    }\n",
       "\n",
       "    .dataframe thead th {\n",
       "        text-align: right;\n",
       "    }\n",
       "</style>\n",
       "<table border=\"1\" class=\"dataframe\">\n",
       "  <thead>\n",
       "    <tr style=\"text-align: right;\">\n",
       "      <th></th>\n",
       "      <th>Dataset</th>\n",
       "      <th>RQ</th>\n",
       "      <th>Window Size</th>\n",
       "      <th>Hop Length</th>\n",
       "      <th>Corr Tres/ PCA Dim</th>\n",
       "      <th>Model</th>\n",
       "      <th>Parameter</th>\n",
       "      <th>F1 Score</th>\n",
       "      <th>Accuracy</th>\n",
       "      <th>Precision</th>\n",
       "      <th>Recall</th>\n",
       "    </tr>\n",
       "  </thead>\n",
       "  <tbody>\n",
       "    <tr>\n",
       "      <th>0</th>\n",
       "      <td>1</td>\n",
       "      <td>1</td>\n",
       "      <td>1</td>\n",
       "      <td>1.0</td>\n",
       "      <td>0.7</td>\n",
       "      <td>svm</td>\n",
       "      <td>{'C': 0.1, 'gamma': 'scale', 'kernel': 'linear'}</td>\n",
       "      <td>0.720855</td>\n",
       "      <td>0.724662</td>\n",
       "      <td>0.734103</td>\n",
       "      <td>0.724662</td>\n",
       "    </tr>\n",
       "    <tr>\n",
       "      <th>1</th>\n",
       "      <td>1</td>\n",
       "      <td>1</td>\n",
       "      <td>1</td>\n",
       "      <td>1.0</td>\n",
       "      <td>0.7</td>\n",
       "      <td>svm</td>\n",
       "      <td>{'C': 0.1, 'gamma': 'scale', 'kernel': 'rbf'}</td>\n",
       "      <td>0.704987</td>\n",
       "      <td>0.710586</td>\n",
       "      <td>0.723644</td>\n",
       "      <td>0.710586</td>\n",
       "    </tr>\n",
       "    <tr>\n",
       "      <th>2</th>\n",
       "      <td>1</td>\n",
       "      <td>1</td>\n",
       "      <td>1</td>\n",
       "      <td>0.5</td>\n",
       "      <td>0.8</td>\n",
       "      <td>svm</td>\n",
       "      <td>{'C': 0.1, 'gamma': 'scale', 'kernel': 'linear'}</td>\n",
       "      <td>0.729146</td>\n",
       "      <td>0.733671</td>\n",
       "      <td>0.746361</td>\n",
       "      <td>0.733671</td>\n",
       "    </tr>\n",
       "    <tr>\n",
       "      <th>3</th>\n",
       "      <td>1</td>\n",
       "      <td>1</td>\n",
       "      <td>1</td>\n",
       "      <td>0.5</td>\n",
       "      <td>0.8</td>\n",
       "      <td>randomforest</td>\n",
       "      <td>{'max_depth': None, 'min_samples_split': 2, 'n...</td>\n",
       "      <td>0.750036</td>\n",
       "      <td>0.752815</td>\n",
       "      <td>0.761348</td>\n",
       "      <td>0.752815</td>\n",
       "    </tr>\n",
       "    <tr>\n",
       "      <th>4</th>\n",
       "      <td>1</td>\n",
       "      <td>1</td>\n",
       "      <td>1</td>\n",
       "      <td>0.5</td>\n",
       "      <td>0.8</td>\n",
       "      <td>gradientboosting</td>\n",
       "      <td>{'learning_rate': 0.1, 'max_depth': 3, 'n_esti...</td>\n",
       "      <td>0.744217</td>\n",
       "      <td>0.747185</td>\n",
       "      <td>0.755921</td>\n",
       "      <td>0.747185</td>\n",
       "    </tr>\n",
       "  </tbody>\n",
       "</table>\n",
       "</div>"
      ],
      "text/plain": [
       "   Dataset  RQ  Window Size  Hop Length  Corr Tres/ PCA Dim             Model  \\\n",
       "0        1   1            1         1.0                 0.7               svm   \n",
       "1        1   1            1         1.0                 0.7               svm   \n",
       "2        1   1            1         0.5                 0.8               svm   \n",
       "3        1   1            1         0.5                 0.8      randomforest   \n",
       "4        1   1            1         0.5                 0.8  gradientboosting   \n",
       "\n",
       "                                           Parameter  F1 Score  Accuracy  \\\n",
       "0   {'C': 0.1, 'gamma': 'scale', 'kernel': 'linear'}  0.720855  0.724662   \n",
       "1      {'C': 0.1, 'gamma': 'scale', 'kernel': 'rbf'}  0.704987  0.710586   \n",
       "2   {'C': 0.1, 'gamma': 'scale', 'kernel': 'linear'}  0.729146  0.733671   \n",
       "3  {'max_depth': None, 'min_samples_split': 2, 'n...  0.750036  0.752815   \n",
       "4  {'learning_rate': 0.1, 'max_depth': 3, 'n_esti...  0.744217  0.747185   \n",
       "\n",
       "   Precision    Recall  \n",
       "0   0.734103  0.724662  \n",
       "1   0.723644  0.710586  \n",
       "2   0.746361  0.733671  \n",
       "3   0.761348  0.752815  \n",
       "4   0.755921  0.747185  "
      ]
     },
     "execution_count": 3,
     "metadata": {},
     "output_type": "execute_result"
    }
   ],
   "source": [
    "df.head()"
   ]
  },
  {
   "cell_type": "code",
   "execution_count": 6,
   "id": "a9e5ca77-8c57-47c3-bb23-af8da3ed4398",
   "metadata": {},
   "outputs": [],
   "source": [
    "df_rq_2 = df[df['RQ'] == 2]\n",
    "best_accuracy_per_rq_dataset = df_rq_2.loc[df_rq_2.groupby(['Dataset', 'RQ'])['Accuracy'].idxmax()]\n",
    "best_accuracy_per_rq_dataset.head(30)\n",
    "df_rq_2.reset_index(drop=True, inplace=True)"
   ]
  },
  {
   "cell_type": "code",
   "execution_count": 7,
   "id": "4b2b16a5-1948-4ba4-84c9-263757177fbe",
   "metadata": {},
   "outputs": [
    {
     "name": "stdout",
     "output_type": "stream",
     "text": [
      "{'Dataset': 1, 'RQ': 1, 'Window Size': 1, 'Hop Length': 0.5, 'Corr Tres/ PCA Dim': 0.8, 'Model': 'randomforest', 'Parameter': \"{'max_depth': None, 'min_samples_split': 2, 'n_estimators': 100}\", 'F1 Score': 0.7500360311628221, 'Accuracy': 0.7528153153153153, 'Precision': 0.761348172721314, 'Recall': 0.7528153153153153}\n"
     ]
    }
   ],
   "source": [
    "# Find the row with the maximum 'Accuracy'\n",
    "max_accuracy_index = df_rq_2['Accuracy'].idxmax()\n",
    "\n",
    "# Select the row and convert it to a dictionary\n",
    "max_accuracy_row_dict = df_rq_2.iloc[max_accuracy_index].to_dict()\n",
    "\n",
    "# Print the dictionary\n",
    "print(max_accuracy_row_dict)"
   ]
  },
  {
   "cell_type": "code",
   "execution_count": null,
   "id": "f75cd89f-dbb7-49e4-8693-e5f5c05fa5eb",
   "metadata": {},
   "outputs": [],
   "source": [
    "df_rq_1 = df[df['RQ'] == 1]\n",
    "best_accuracy_per_rq_dataset = df_rq_1.loc[df_rq_1.groupby(['Dataset', 'RQ'])['Accuracy'].idxmax()]\n",
    "best_accuracy_per_rq_dataset.head(30)"
   ]
  },
  {
   "cell_type": "code",
   "execution_count": null,
   "id": "da25a5ba-552d-408a-9197-00404286a74c",
   "metadata": {},
   "outputs": [],
   "source": [
    "df['Window Size'].value_counts()"
   ]
  },
  {
   "cell_type": "code",
   "execution_count": null,
   "id": "d64e127d-003b-4301-85e2-21ab5dd95cc1",
   "metadata": {},
   "outputs": [],
   "source": [
    "# Count rows for every combination of 'Window Size', 'Hop Length', 'Corr Tres/ PCA Dim'\n",
    "count_rows = df.groupby(['Window Size', 'Hop Length', 'Corr Tres/ PCA Dim']).size().reset_index(name='Count')\n",
    "\n",
    "print(count_rows)\n"
   ]
  },
  {
   "cell_type": "code",
   "execution_count": null,
   "id": "86b3b277-cf31-4b19-b800-c0e8ac902d27",
   "metadata": {},
   "outputs": [],
   "source": [
    "best_accuracy_per_rq_dataset = df.loc[df.groupby(['Dataset', 'RQ'])['Accuracy'].idxmax()]\n",
    "best_accuracy_per_rq_dataset.head(30)"
   ]
  },
  {
   "cell_type": "code",
   "execution_count": null,
   "id": "a1256ddd-020d-4be0-a3f7-bf2f55e5a872",
   "metadata": {},
   "outputs": [],
   "source": [
    "best_accuracy = df.loc[df.groupby(['Dataset', 'RQ', 'Model'])['Accuracy'].idxmax()]\n",
    "best_accuracy.head(150)"
   ]
  },
  {
   "cell_type": "code",
   "execution_count": null,
   "id": "7cb5a24b-598a-4220-a37a-4b7e652783a6",
   "metadata": {},
   "outputs": [],
   "source": [
    "df['Corr Tres/ PCA Dim'].value_counts()"
   ]
  }
 ],
 "metadata": {
  "kernelspec": {
   "display_name": "Python 3 (ipykernel)",
   "language": "python",
   "name": "python3"
  },
  "language_info": {
   "codemirror_mode": {
    "name": "ipython",
    "version": 3
   },
   "file_extension": ".py",
   "mimetype": "text/x-python",
   "name": "python",
   "nbconvert_exporter": "python",
   "pygments_lexer": "ipython3",
   "version": "3.10.13"
  }
 },
 "nbformat": 4,
 "nbformat_minor": 5
}
