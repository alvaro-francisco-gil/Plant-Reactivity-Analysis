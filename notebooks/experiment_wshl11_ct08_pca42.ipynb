{
 "cells": [
  {
   "cell_type": "markdown",
   "id": "501268a1-2347-46dd-ae4e-d4424b0261a9",
   "metadata": {},
   "source": [
    "# Experiment Eurythmy Letter"
   ]
  },
  {
   "cell_type": "code",
   "execution_count": 1,
   "id": "551bf376-9979-4c51-a261-8e974501da9b",
   "metadata": {},
   "outputs": [],
   "source": [
    "from PlantReactivityAnalysis.features.features_dataset import FeaturesDataset\n",
    "from PlantReactivityAnalysis.models.experiment import Experiment\n",
    "import PlantReactivityAnalysis.models.get_dataset as gd\n",
    "import PlantReactivityAnalysis.models.parameters as param\n",
    "from PlantReactivityAnalysis.config import PROCESSED_DATA_DIR"
   ]
  },
  {
   "cell_type": "code",
   "execution_count": 2,
   "id": "2e27e9cd-2454-4464-b7ec-7ebf191103ea",
   "metadata": {},
   "outputs": [],
   "source": [
    "import numpy as np\n",
    "import pandas as pd\n",
    "pd.set_option('display.max_columns', None)\n",
    "pd.set_option('display.max_rows', None)"
   ]
  },
  {
   "cell_type": "markdown",
   "id": "7cc3aed1-2590-4f12-8611-08649b524222",
   "metadata": {},
   "source": [
    "# Preparation"
   ]
  },
  {
   "cell_type": "code",
   "execution_count": null,
   "id": "4ad9fb76-7d52-4a35-aff5-07f4bd70bf63",
   "metadata": {
    "scrolled": true
   },
   "outputs": [
    {
     "name": "stdout",
     "output_type": "stream",
     "text": [
      "\n",
      "PROCESSING DATASET 1\n",
      "Removing columns with NaN values: ['kurtosis', 'skewness']\n",
      "\n",
      "# Research Question:  1\n",
      "-Train distribution-\n",
      "Counts and Percentages:\n",
      "Class 1: Count = 3395, Percentage = 50.58%\n",
      "Class 0: Count = 3317, Percentage = 49.42%\n",
      "-Test distribution-\n",
      "Counts and Percentages:\n",
      "Class 1: Count = 846, Percentage = 50.42%\n",
      "Class 0: Count = 832, Percentage = 49.58%\n",
      "Reduced variable features from initial count to 44.\n",
      "Reduced features based on correlation threshold of 0.8\n",
      "Variable features were properly normalized using 'zscore' method.\n",
      "Applied z-score normalization.\n",
      "\n",
      "# Research Question:  2\n",
      "-Train distribution-\n",
      "Counts and Percentages:\n",
      "Class 1: Count = 1002, Percentage = 33.57%\n",
      "Class 0: Count = 998, Percentage = 33.43%\n",
      "Class 2: Count = 985, Percentage = 33.00%\n",
      "-Test distribution-\n",
      "Counts and Percentages:\n",
      "Class 0: Count = 257, Percentage = 34.40%\n",
      "Class 2: Count = 249, Percentage = 33.33%\n",
      "Class 1: Count = 241, Percentage = 32.26%\n",
      "Reduced variable features from initial count to 50.\n",
      "Reduced features based on correlation threshold of 0.8\n",
      "Variable features were properly normalized using 'zscore' method.\n",
      "Applied z-score normalization.\n",
      "\n",
      "PROCESSING DATASET 2\n",
      "Removing columns with NaN values: ['kurtosis', 'skewness']\n",
      "\n",
      "# Research Question:  1\n",
      "-Train distribution-\n",
      "Counts and Percentages:\n",
      "Class 1: Count = 3395, Percentage = 50.58%\n",
      "Class 0: Count = 3317, Percentage = 49.42%\n",
      "-Test distribution-\n",
      "Counts and Percentages:\n",
      "Class 1: Count = 846, Percentage = 50.42%\n",
      "Class 0: Count = 832, Percentage = 49.58%\n",
      "Reduced variable features from initial count to 44.\n",
      "Reduced features based on correlation threshold of 0.8\n",
      "\n",
      "# Research Question:  2\n",
      "-Train distribution-\n",
      "Counts and Percentages:\n",
      "Class 1: Count = 1002, Percentage = 33.57%\n",
      "Class 0: Count = 998, Percentage = 33.43%\n",
      "Class 2: Count = 985, Percentage = 33.00%\n",
      "-Test distribution-\n",
      "Counts and Percentages:\n",
      "Class 0: Count = 257, Percentage = 34.40%\n",
      "Class 2: Count = 249, Percentage = 33.33%\n",
      "Class 1: Count = 241, Percentage = 32.26%\n"
     ]
    }
   ],
   "source": [
    "datasets= gd.collect_all_rqs_data(corr_threshold=0.8, pca_dim=42)"
   ]
  },
  {
   "cell_type": "markdown",
   "id": "2518c098-1edb-4e4e-8998-18553d44bd8a",
   "metadata": {},
   "source": [
    "# RQX"
   ]
  },
  {
   "cell_type": "code",
   "execution_count": null,
   "id": "764f378f-2198-4829-a3c4-9d417cc90ebf",
   "metadata": {},
   "outputs": [],
   "source": [
    "%%time\n",
    "\n",
    "results = {}  # Initialize an empty dictionary to store results\n",
    "\n",
    "for ds in [15]:  # For each dataset\n",
    "    print(f\"Now processing Dataset {ds}...\")  # Print the current dataset being processed\n",
    "    results[ds] = {}  # Initialize a nested dictionary for each dataset\n",
    "    for rq in [1, 2]:  # For each research question\n",
    "        print(f\"  Processing RQ {rq} within Dataset {ds}...\")  # Print the current RQ being processed\n",
    "\n",
    "        if ds in [1,2,3,4,5,7]:\n",
    "            train_df, test_df = datasets[ds][rq]\n",
    "            experiment = Experiment(train_df, test_df, 'target')\n",
    "        else:\n",
    "            train_df, train_targets, test_df, test_targets = datasets[ds][rq]\n",
    "            experiment = Experiment.from_arrays( train_df, train_targets, test_df, test_targets)\n",
    "            \n",
    "        experiment.run_all_models(param.PARAMETER_GRID)\n",
    "        \n",
    "        # Store the results of the experiment, along with the dataset and RQ identifiers\n",
    "        results[ds][rq] = experiment.results"
   ]
  },
  {
   "cell_type": "code",
   "execution_count": null,
   "id": "44c45c6b-0dcd-4274-b31a-57aec837a118",
   "metadata": {},
   "outputs": [],
   "source": [
    "klk"
   ]
  },
  {
   "cell_type": "code",
   "execution_count": null,
   "id": "8ae7151f-9736-4766-aa2c-c186da471e6d",
   "metadata": {},
   "outputs": [],
   "source": [
    "%%time\n",
    "\n",
    "results = {}  # Initialize an empty dictionary to store results\n",
    "\n",
    "for ds in [1,2,3,4,5,7,8,9,10,11,12,13,15]:  # For each dataset\n",
    "    print(f\"Now processing Dataset {ds}...\")  # Print the current dataset being processed\n",
    "    results[ds] = {}  # Initialize a nested dictionary for each dataset\n",
    "    for rq in [1, 2]:  # For each research question\n",
    "        print(f\"  Processing RQ {rq} within Dataset {ds}...\")  # Print the current RQ being processed\n",
    "\n",
    "        if ds in [1,2,3,4,5,7]:\n",
    "            train_df, test_df = datasets[ds][rq]\n",
    "            experiment = Experiment(train_df, test_df, 'target')\n",
    "        else:\n",
    "            train_df, train_targets, test_df, test_targets = datasets[ds][rq]\n",
    "            experiment = Experiment.from_arrays( train_df, train_targets, test_df, test_targets)\n",
    "            \n",
    "        experiment.run_all_models(param.PARAMETER_GRID)\n",
    "        \n",
    "        # Store the results of the experiment, along with the dataset and RQ identifiers\n",
    "        results[ds][rq] = experiment.results"
   ]
  },
  {
   "cell_type": "code",
   "execution_count": null,
   "id": "070e639c-3c15-48ff-961f-0e670e9a3f17",
   "metadata": {},
   "outputs": [],
   "source": [
    "# Prepare a list to hold all rows before creating the DataFrame\n",
    "rows = []\n",
    "\n",
    "# Iterate over the nested structure to access each experiment's results\n",
    "for ds, rqs in results.items():\n",
    "    for rq, experiments in rqs.items():\n",
    "        for experiment_result in experiments:\n",
    "            rows.append({\n",
    "                'Dataset': ds,\n",
    "                'RQ': rq,\n",
    "                'Model': experiment_result['model_name'],\n",
    "                'Parameter': experiment_result['parameters'],\n",
    "                'F1 Score': experiment_result['f1'],\n",
    "                'Accuracy': experiment_result['accuracy'],\n",
    "                'Precision': experiment_result['precision'],\n",
    "                'Recall': experiment_result['recall']\n",
    "            })\n",
    "\n",
    "# Convert the list of dictionaries into a DataFrame\n",
    "df_results = pd.DataFrame(rows)\n",
    "\n",
    "# Save the DataFrame to a CSV file\n",
    "csv_file_path = \"results_wshl11_ct0.8.csv\"\n",
    "df_results.to_csv(csv_file_path, index=False)"
   ]
  }
 ],
 "metadata": {
  "kernelspec": {
   "display_name": "Python (Plant-Reactivity-Analysis)",
   "language": "python",
   "name": "myenv"
  },
  "language_info": {
   "codemirror_mode": {
    "name": "ipython",
    "version": 3
   },
   "file_extension": ".py",
   "mimetype": "text/x-python",
   "name": "python",
   "nbconvert_exporter": "python",
   "pygments_lexer": "ipython3",
   "version": "3.10.13"
  }
 },
 "nbformat": 4,
 "nbformat_minor": 5
}
