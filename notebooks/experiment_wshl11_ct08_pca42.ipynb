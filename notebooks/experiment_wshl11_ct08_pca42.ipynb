{
 "cells": [
  {
   "cell_type": "markdown",
   "id": "501268a1-2347-46dd-ae4e-d4424b0261a9",
   "metadata": {},
   "source": [
    "# Experiment Eurythmy Letter"
   ]
  },
  {
   "cell_type": "code",
   "execution_count": 1,
   "id": "551bf376-9979-4c51-a261-8e974501da9b",
   "metadata": {},
   "outputs": [],
   "source": [
    "from PlantReactivityAnalysis.features.features_dataset import FeaturesDataset\n",
    "from PlantReactivityAnalysis.models.experiment import Experiment\n",
    "import PlantReactivityAnalysis.models.get_dataset as gd\n",
    "import PlantReactivityAnalysis.models.parameters as param\n",
    "from PlantReactivityAnalysis.config import PROCESSED_DATA_DIR"
   ]
  },
  {
   "cell_type": "code",
   "execution_count": 2,
   "id": "2e27e9cd-2454-4464-b7ec-7ebf191103ea",
   "metadata": {},
   "outputs": [],
   "source": [
    "import numpy as np\n",
    "import pandas as pd\n",
    "pd.set_option('display.max_columns', None)\n",
    "pd.set_option('display.max_rows', None)"
   ]
  },
  {
   "cell_type": "markdown",
   "id": "7cc3aed1-2590-4f12-8611-08649b524222",
   "metadata": {},
   "source": [
    "# Preparation"
   ]
  },
  {
   "cell_type": "code",
   "execution_count": 3,
   "id": "4ad9fb76-7d52-4a35-aff5-07f4bd70bf63",
   "metadata": {
    "scrolled": true
   },
   "outputs": [
    {
     "name": "stdout",
     "output_type": "stream",
     "text": [
      "\n",
      "PROCESSING DATASET 1\n",
      "Removing columns with NaN values: ['kurtosis', 'skewness']\n",
      "\n",
      "# Research Question:  1\n",
      "-Train distribution-\n",
      "Counts and Percentages:\n",
      "Class 1: Count = 3395, Percentage = 50.58%\n",
      "Class 0: Count = 3317, Percentage = 49.42%\n",
      "-Test distribution-\n",
      "Counts and Percentages:\n",
      "Class 1: Count = 846, Percentage = 50.42%\n",
      "Class 0: Count = 832, Percentage = 49.58%\n",
      "Reduced variable features from initial count to 44.\n",
      "Reduced features based on correlation threshold of 0.8\n",
      "Variable features were properly normalized using 'zscore' method.\n",
      "Applied z-score normalization.\n",
      "\n",
      "# Research Question:  2\n",
      "-Train distribution-\n",
      "Counts and Percentages:\n",
      "Class 1: Count = 1002, Percentage = 33.57%\n",
      "Class 0: Count = 998, Percentage = 33.43%\n",
      "Class 2: Count = 985, Percentage = 33.00%\n",
      "-Test distribution-\n",
      "Counts and Percentages:\n",
      "Class 0: Count = 257, Percentage = 34.40%\n",
      "Class 2: Count = 249, Percentage = 33.33%\n",
      "Class 1: Count = 241, Percentage = 32.26%\n",
      "Reduced variable features from initial count to 50.\n",
      "Reduced features based on correlation threshold of 0.8\n",
      "Variable features were properly normalized using 'zscore' method.\n",
      "Applied z-score normalization.\n",
      "\n",
      "PROCESSING DATASET 2\n",
      "Removing columns with NaN values: ['kurtosis', 'skewness']\n",
      "\n",
      "# Research Question:  1\n",
      "-Train distribution-\n",
      "Counts and Percentages:\n",
      "Class 1: Count = 3395, Percentage = 50.58%\n",
      "Class 0: Count = 3317, Percentage = 49.42%\n",
      "-Test distribution-\n",
      "Counts and Percentages:\n",
      "Class 1: Count = 846, Percentage = 50.42%\n",
      "Class 0: Count = 832, Percentage = 49.58%\n",
      "Reduced variable features from initial count to 44.\n",
      "Reduced features based on correlation threshold of 0.8\n",
      "\n",
      "# Research Question:  2\n",
      "-Train distribution-\n",
      "Counts and Percentages:\n",
      "Class 1: Count = 1002, Percentage = 33.57%\n",
      "Class 0: Count = 998, Percentage = 33.43%\n",
      "Class 2: Count = 985, Percentage = 33.00%\n",
      "-Test distribution-\n",
      "Counts and Percentages:\n",
      "Class 0: Count = 257, Percentage = 34.40%\n",
      "Class 2: Count = 249, Percentage = 33.33%\n",
      "Class 1: Count = 241, Percentage = 32.26%\n",
      "Reduced variable features from initial count to 50.\n",
      "Reduced features based on correlation threshold of 0.8\n",
      "\n",
      "PROCESSING DATASET 3\n",
      "No columns with NaN values found.\n",
      "\n",
      "# Research Question:  1\n",
      "-Train distribution-\n",
      "Counts and Percentages:\n",
      "Class 1: Count = 3394, Percentage = 50.74%\n",
      "Class 0: Count = 3295, Percentage = 49.26%\n",
      "-Test distribution-\n",
      "Counts and Percentages:\n",
      "Class 0: Count = 852, Percentage = 50.93%\n",
      "Class 1: Count = 821, Percentage = 49.07%\n",
      "Reduced variable features from initial count to 48.\n",
      "Reduced features based on correlation threshold of 0.8\n",
      "Variable features were properly normalized using 'zscore' method.\n",
      "Applied z-score normalization.\n",
      "\n",
      "# Research Question:  2\n",
      "-Train distribution-\n",
      "Counts and Percentages:\n",
      "Class 0: Count = 1007, Percentage = 33.91%\n",
      "Class 1: Count = 993, Percentage = 33.43%\n",
      "Class 2: Count = 970, Percentage = 32.66%\n",
      "-Test distribution-\n",
      "Counts and Percentages:\n",
      "Class 2: Count = 259, Percentage = 34.86%\n",
      "Class 0: Count = 242, Percentage = 32.57%\n",
      "Class 1: Count = 242, Percentage = 32.57%\n",
      "Reduced variable features from initial count to 47.\n",
      "Reduced features based on correlation threshold of 0.8\n",
      "Variable features were properly normalized using 'zscore' method.\n",
      "Applied z-score normalization.\n",
      "\n",
      "PROCESSING DATASET 4\n",
      "No columns with NaN values found.\n",
      "\n",
      "# Research Question:  1\n",
      "-Train distribution-\n",
      "Counts and Percentages:\n",
      "Class 1: Count = 3394, Percentage = 50.74%\n",
      "Class 0: Count = 3295, Percentage = 49.26%\n",
      "-Test distribution-\n",
      "Counts and Percentages:\n",
      "Class 0: Count = 852, Percentage = 50.93%\n",
      "Class 1: Count = 821, Percentage = 49.07%\n",
      "Reduced variable features from initial count to 48.\n",
      "Reduced features based on correlation threshold of 0.8\n",
      "\n",
      "# Research Question:  2\n",
      "-Train distribution-\n",
      "Counts and Percentages:\n",
      "Class 0: Count = 1007, Percentage = 33.91%\n",
      "Class 1: Count = 993, Percentage = 33.43%\n",
      "Class 2: Count = 970, Percentage = 32.66%\n",
      "-Test distribution-\n",
      "Counts and Percentages:\n",
      "Class 2: Count = 259, Percentage = 34.86%\n",
      "Class 0: Count = 242, Percentage = 32.57%\n",
      "Class 1: Count = 242, Percentage = 32.57%\n",
      "Reduced variable features from initial count to 47.\n",
      "Reduced features based on correlation threshold of 0.8\n",
      "\n",
      "PROCESSING DATASET 5\n",
      "Removing columns with NaN values: ['kurtosis', 'skewness']\n",
      "\n",
      "# Research Question:  1\n",
      "-Train distribution-\n",
      "Counts and Percentages:\n",
      "Class 1: Count = 3395, Percentage = 50.58%\n",
      "Class 0: Count = 3317, Percentage = 49.42%\n",
      "-Test distribution-\n",
      "Counts and Percentages:\n",
      "Class 1: Count = 846, Percentage = 50.42%\n",
      "Class 0: Count = 832, Percentage = 49.58%\n",
      "Reduced variable features from initial count to 44.\n",
      "Reduced features based on correlation threshold of 0.8\n",
      "Variable features were properly normalized using 'zscore' method.\n",
      "Applied z-score normalization.\n",
      "\n",
      "# Research Question:  2\n",
      "-Train distribution-\n",
      "Counts and Percentages:\n",
      "Class 1: Count = 1002, Percentage = 33.57%\n",
      "Class 0: Count = 998, Percentage = 33.43%\n",
      "Class 2: Count = 985, Percentage = 33.00%\n",
      "-Test distribution-\n",
      "Counts and Percentages:\n",
      "Class 0: Count = 257, Percentage = 34.40%\n",
      "Class 2: Count = 249, Percentage = 33.33%\n",
      "Class 1: Count = 241, Percentage = 32.26%\n",
      "Reduced variable features from initial count to 48.\n",
      "Reduced features based on correlation threshold of 0.8\n",
      "Variable features were properly normalized using 'zscore' method.\n",
      "Applied z-score normalization.\n",
      "\n",
      "PROCESSING DATASET 7\n",
      "No columns with NaN values found.\n",
      "\n",
      "# Research Question:  1\n",
      "-Train distribution-\n",
      "Counts and Percentages:\n",
      "Class 1: Count = 3394, Percentage = 50.74%\n",
      "Class 0: Count = 3295, Percentage = 49.26%\n",
      "-Test distribution-\n",
      "Counts and Percentages:\n",
      "Class 0: Count = 852, Percentage = 50.93%\n",
      "Class 1: Count = 821, Percentage = 49.07%\n",
      "Reduced variable features from initial count to 46.\n",
      "Reduced features based on correlation threshold of 0.8\n",
      "Variable features were properly normalized using 'zscore' method.\n",
      "Applied z-score normalization.\n",
      "\n",
      "# Research Question:  2\n",
      "-Train distribution-\n",
      "Counts and Percentages:\n",
      "Class 0: Count = 1007, Percentage = 33.91%\n",
      "Class 1: Count = 993, Percentage = 33.43%\n",
      "Class 2: Count = 970, Percentage = 32.66%\n",
      "-Test distribution-\n",
      "Counts and Percentages:\n",
      "Class 2: Count = 259, Percentage = 34.86%\n",
      "Class 0: Count = 242, Percentage = 32.57%\n",
      "Class 1: Count = 242, Percentage = 32.57%\n",
      "Reduced variable features from initial count to 44.\n",
      "Reduced features based on correlation threshold of 0.8\n",
      "Variable features were properly normalized using 'zscore' method.\n",
      "Applied z-score normalization.\n",
      "\n",
      "PROCESSING DATASET 9\n",
      "Removing columns with NaN values: ['kurtosis', 'skewness']\n",
      "\n",
      "# Research Question:  1\n",
      "-Train distribution-\n",
      "Counts and Percentages:\n",
      "Class 1: Count = 3395, Percentage = 50.58%\n",
      "Class 0: Count = 3317, Percentage = 49.42%\n",
      "-Test distribution-\n",
      "Counts and Percentages:\n",
      "Class 1: Count = 846, Percentage = 50.42%\n",
      "Class 0: Count = 832, Percentage = 49.58%\n",
      "Variable features were properly normalized using 'zscore' method.\n",
      "Applied z-score normalization.\n",
      "\n",
      "# Research Question:  2\n",
      "-Train distribution-\n",
      "Counts and Percentages:\n",
      "Class 1: Count = 1002, Percentage = 33.57%\n",
      "Class 0: Count = 998, Percentage = 33.43%\n",
      "Class 2: Count = 985, Percentage = 33.00%\n",
      "-Test distribution-\n",
      "Counts and Percentages:\n",
      "Class 0: Count = 257, Percentage = 34.40%\n",
      "Class 2: Count = 249, Percentage = 33.33%\n",
      "Class 1: Count = 241, Percentage = 32.26%\n",
      "Variable features were properly normalized using 'zscore' method.\n",
      "Applied z-score normalization.\n",
      "\n",
      "PROCESSING DATASET 10\n",
      "Removing columns with NaN values: ['kurtosis', 'skewness']\n",
      "\n",
      "# Research Question:  1\n",
      "-Train distribution-\n",
      "Counts and Percentages:\n",
      "Class 1: Count = 3395, Percentage = 50.58%\n",
      "Class 0: Count = 3317, Percentage = 49.42%\n",
      "-Test distribution-\n",
      "Counts and Percentages:\n",
      "Class 1: Count = 846, Percentage = 50.42%\n",
      "Class 0: Count = 832, Percentage = 49.58%\n",
      "\n",
      "# Research Question:  2\n",
      "-Train distribution-\n",
      "Counts and Percentages:\n",
      "Class 1: Count = 1002, Percentage = 33.57%\n",
      "Class 0: Count = 998, Percentage = 33.43%\n",
      "Class 2: Count = 985, Percentage = 33.00%\n",
      "-Test distribution-\n",
      "Counts and Percentages:\n",
      "Class 0: Count = 257, Percentage = 34.40%\n",
      "Class 2: Count = 249, Percentage = 33.33%\n",
      "Class 1: Count = 241, Percentage = 32.26%\n",
      "\n",
      "PROCESSING DATASET 11\n",
      "Removing columns with NaN values: ['kurtosis', 'skewness']\n",
      "\n",
      "# Research Question:  1\n",
      "-Train distribution-\n",
      "Counts and Percentages:\n",
      "Class 1: Count = 3395, Percentage = 50.58%\n",
      "Class 0: Count = 3317, Percentage = 49.42%\n",
      "-Test distribution-\n",
      "Counts and Percentages:\n",
      "Class 1: Count = 846, Percentage = 50.42%\n",
      "Class 0: Count = 832, Percentage = 49.58%\n",
      "Variable features were properly normalized using 'zscore' method.\n",
      "Applied z-score normalization.\n",
      "\n",
      "# Research Question:  2\n",
      "-Train distribution-\n",
      "Counts and Percentages:\n",
      "Class 1: Count = 1002, Percentage = 33.57%\n",
      "Class 0: Count = 998, Percentage = 33.43%\n",
      "Class 2: Count = 985, Percentage = 33.00%\n",
      "-Test distribution-\n",
      "Counts and Percentages:\n",
      "Class 0: Count = 257, Percentage = 34.40%\n",
      "Class 2: Count = 249, Percentage = 33.33%\n",
      "Class 1: Count = 241, Percentage = 32.26%\n",
      "Variable features were properly normalized using 'zscore' method.\n",
      "Applied z-score normalization.\n",
      "\n",
      "PROCESSING DATASET 12\n",
      "Removing columns with NaN values: ['kurtosis', 'skewness']\n",
      "\n",
      "# Research Question:  1\n",
      "-Train distribution-\n",
      "Counts and Percentages:\n",
      "Class 1: Count = 3395, Percentage = 50.58%\n",
      "Class 0: Count = 3317, Percentage = 49.42%\n",
      "-Test distribution-\n",
      "Counts and Percentages:\n",
      "Class 1: Count = 846, Percentage = 50.42%\n",
      "Class 0: Count = 832, Percentage = 49.58%\n",
      "\n",
      "# Research Question:  2\n",
      "-Train distribution-\n",
      "Counts and Percentages:\n",
      "Class 1: Count = 1002, Percentage = 33.57%\n",
      "Class 0: Count = 998, Percentage = 33.43%\n",
      "Class 2: Count = 985, Percentage = 33.00%\n",
      "-Test distribution-\n",
      "Counts and Percentages:\n",
      "Class 0: Count = 257, Percentage = 34.40%\n",
      "Class 2: Count = 249, Percentage = 33.33%\n",
      "Class 1: Count = 241, Percentage = 32.26%\n",
      "\n",
      "PROCESSING DATASET 13\n",
      "No columns with NaN values found.\n",
      "\n",
      "# Research Question:  1\n",
      "-Train distribution-\n",
      "Counts and Percentages:\n",
      "Class 1: Count = 3394, Percentage = 50.74%\n",
      "Class 0: Count = 3295, Percentage = 49.26%\n",
      "-Test distribution-\n",
      "Counts and Percentages:\n",
      "Class 0: Count = 852, Percentage = 50.93%\n",
      "Class 1: Count = 821, Percentage = 49.07%\n",
      "Variable features were properly normalized using 'zscore' method.\n",
      "Applied z-score normalization.\n",
      "\n",
      "# Research Question:  2\n",
      "-Train distribution-\n",
      "Counts and Percentages:\n",
      "Class 0: Count = 1007, Percentage = 33.91%\n",
      "Class 1: Count = 993, Percentage = 33.43%\n",
      "Class 2: Count = 970, Percentage = 32.66%\n",
      "-Test distribution-\n",
      "Counts and Percentages:\n",
      "Class 2: Count = 259, Percentage = 34.86%\n",
      "Class 0: Count = 242, Percentage = 32.57%\n",
      "Class 1: Count = 242, Percentage = 32.57%\n",
      "Variable features were properly normalized using 'zscore' method.\n",
      "Applied z-score normalization.\n",
      "\n",
      "PROCESSING DATASET 15\n",
      "No columns with NaN values found.\n",
      "\n",
      "# Research Question:  1\n",
      "-Train distribution-\n",
      "Counts and Percentages:\n",
      "Class 1: Count = 3394, Percentage = 50.74%\n",
      "Class 0: Count = 3295, Percentage = 49.26%\n",
      "-Test distribution-\n",
      "Counts and Percentages:\n",
      "Class 0: Count = 852, Percentage = 50.93%\n",
      "Class 1: Count = 821, Percentage = 49.07%\n",
      "Variable features were properly normalized using 'zscore' method.\n",
      "Applied z-score normalization.\n",
      "\n",
      "# Research Question:  2\n",
      "-Train distribution-\n",
      "Counts and Percentages:\n",
      "Class 0: Count = 1007, Percentage = 33.91%\n",
      "Class 1: Count = 993, Percentage = 33.43%\n",
      "Class 2: Count = 970, Percentage = 32.66%\n",
      "-Test distribution-\n",
      "Counts and Percentages:\n",
      "Class 2: Count = 259, Percentage = 34.86%\n",
      "Class 0: Count = 242, Percentage = 32.57%\n",
      "Class 1: Count = 242, Percentage = 32.57%\n",
      "Variable features were properly normalized using 'zscore' method.\n",
      "Applied z-score normalization.\n"
     ]
    }
   ],
   "source": [
    "datasets= gd.collect_all_rqs_data(corr_threshold=0.8, pca_dim=42)"
   ]
  },
  {
   "cell_type": "markdown",
   "id": "2518c098-1edb-4e4e-8998-18553d44bd8a",
   "metadata": {},
   "source": [
    "# RQX"
   ]
  },
  {
   "cell_type": "code",
   "execution_count": null,
   "id": "8ae7151f-9736-4766-aa2c-c186da471e6d",
   "metadata": {
    "scrolled": true
   },
   "outputs": [
    {
     "name": "stdout",
     "output_type": "stream",
     "text": [
      "Now processing Dataset 1...\n",
      "  Processing RQ 1 within Dataset 1...\n",
      "Running experiments for svm with params: {'C': 0.1, 'gamma': 'scale', 'kernel': 'linear'}\n"
     ]
    },
    {
     "name": "stderr",
     "output_type": "stream",
     "text": [
      "C:\\Users\\alvar\\anaconda3\\envs\\Plant-Reactivity-Analysis\\lib\\site-packages\\sklearn\\base.py:464: UserWarning: X does not have valid feature names, but SVC was fitted with feature names\n",
      "  warnings.warn(\n"
     ]
    },
    {
     "name": "stdout",
     "output_type": "stream",
     "text": [
      "Running experiments for svm with params: {'C': 0.1, 'gamma': 'scale', 'kernel': 'rbf'}\n"
     ]
    },
    {
     "name": "stderr",
     "output_type": "stream",
     "text": [
      "C:\\Users\\alvar\\anaconda3\\envs\\Plant-Reactivity-Analysis\\lib\\site-packages\\sklearn\\base.py:464: UserWarning: X does not have valid feature names, but SVC was fitted with feature names\n",
      "  warnings.warn(\n"
     ]
    },
    {
     "name": "stdout",
     "output_type": "stream",
     "text": [
      "Running experiments for svm with params: {'C': 0.1, 'gamma': 'auto', 'kernel': 'linear'}\n"
     ]
    },
    {
     "name": "stderr",
     "output_type": "stream",
     "text": [
      "C:\\Users\\alvar\\anaconda3\\envs\\Plant-Reactivity-Analysis\\lib\\site-packages\\sklearn\\base.py:464: UserWarning: X does not have valid feature names, but SVC was fitted with feature names\n",
      "  warnings.warn(\n"
     ]
    },
    {
     "name": "stdout",
     "output_type": "stream",
     "text": [
      "Running experiments for svm with params: {'C': 0.1, 'gamma': 'auto', 'kernel': 'rbf'}\n"
     ]
    },
    {
     "name": "stderr",
     "output_type": "stream",
     "text": [
      "C:\\Users\\alvar\\anaconda3\\envs\\Plant-Reactivity-Analysis\\lib\\site-packages\\sklearn\\base.py:464: UserWarning: X does not have valid feature names, but SVC was fitted with feature names\n",
      "  warnings.warn(\n"
     ]
    },
    {
     "name": "stdout",
     "output_type": "stream",
     "text": [
      "Running experiments for svm with params: {'C': 1, 'gamma': 'scale', 'kernel': 'linear'}\n"
     ]
    },
    {
     "name": "stderr",
     "output_type": "stream",
     "text": [
      "C:\\Users\\alvar\\anaconda3\\envs\\Plant-Reactivity-Analysis\\lib\\site-packages\\sklearn\\base.py:464: UserWarning: X does not have valid feature names, but SVC was fitted with feature names\n",
      "  warnings.warn(\n"
     ]
    },
    {
     "name": "stdout",
     "output_type": "stream",
     "text": [
      "Running experiments for svm with params: {'C': 1, 'gamma': 'scale', 'kernel': 'rbf'}\n"
     ]
    },
    {
     "name": "stderr",
     "output_type": "stream",
     "text": [
      "C:\\Users\\alvar\\anaconda3\\envs\\Plant-Reactivity-Analysis\\lib\\site-packages\\sklearn\\base.py:464: UserWarning: X does not have valid feature names, but SVC was fitted with feature names\n",
      "  warnings.warn(\n"
     ]
    },
    {
     "name": "stdout",
     "output_type": "stream",
     "text": [
      "Running experiments for svm with params: {'C': 1, 'gamma': 'auto', 'kernel': 'linear'}\n"
     ]
    },
    {
     "name": "stderr",
     "output_type": "stream",
     "text": [
      "C:\\Users\\alvar\\anaconda3\\envs\\Plant-Reactivity-Analysis\\lib\\site-packages\\sklearn\\base.py:464: UserWarning: X does not have valid feature names, but SVC was fitted with feature names\n",
      "  warnings.warn(\n"
     ]
    },
    {
     "name": "stdout",
     "output_type": "stream",
     "text": [
      "Running experiments for svm with params: {'C': 1, 'gamma': 'auto', 'kernel': 'rbf'}\n"
     ]
    },
    {
     "name": "stderr",
     "output_type": "stream",
     "text": [
      "C:\\Users\\alvar\\anaconda3\\envs\\Plant-Reactivity-Analysis\\lib\\site-packages\\sklearn\\base.py:464: UserWarning: X does not have valid feature names, but SVC was fitted with feature names\n",
      "  warnings.warn(\n"
     ]
    },
    {
     "name": "stdout",
     "output_type": "stream",
     "text": [
      "Running experiments for svm with params: {'C': 10, 'gamma': 'scale', 'kernel': 'linear'}\n"
     ]
    },
    {
     "name": "stderr",
     "output_type": "stream",
     "text": [
      "C:\\Users\\alvar\\anaconda3\\envs\\Plant-Reactivity-Analysis\\lib\\site-packages\\sklearn\\base.py:464: UserWarning: X does not have valid feature names, but SVC was fitted with feature names\n",
      "  warnings.warn(\n"
     ]
    },
    {
     "name": "stdout",
     "output_type": "stream",
     "text": [
      "Running experiments for svm with params: {'C': 10, 'gamma': 'scale', 'kernel': 'rbf'}\n"
     ]
    },
    {
     "name": "stderr",
     "output_type": "stream",
     "text": [
      "C:\\Users\\alvar\\anaconda3\\envs\\Plant-Reactivity-Analysis\\lib\\site-packages\\sklearn\\base.py:464: UserWarning: X does not have valid feature names, but SVC was fitted with feature names\n",
      "  warnings.warn(\n"
     ]
    },
    {
     "name": "stdout",
     "output_type": "stream",
     "text": [
      "Running experiments for svm with params: {'C': 10, 'gamma': 'auto', 'kernel': 'linear'}\n"
     ]
    },
    {
     "name": "stderr",
     "output_type": "stream",
     "text": [
      "C:\\Users\\alvar\\anaconda3\\envs\\Plant-Reactivity-Analysis\\lib\\site-packages\\sklearn\\base.py:464: UserWarning: X does not have valid feature names, but SVC was fitted with feature names\n",
      "  warnings.warn(\n"
     ]
    },
    {
     "name": "stdout",
     "output_type": "stream",
     "text": [
      "Running experiments for svm with params: {'C': 10, 'gamma': 'auto', 'kernel': 'rbf'}\n"
     ]
    },
    {
     "name": "stderr",
     "output_type": "stream",
     "text": [
      "C:\\Users\\alvar\\anaconda3\\envs\\Plant-Reactivity-Analysis\\lib\\site-packages\\sklearn\\base.py:464: UserWarning: X does not have valid feature names, but SVC was fitted with feature names\n",
      "  warnings.warn(\n"
     ]
    },
    {
     "name": "stdout",
     "output_type": "stream",
     "text": [
      "Running experiments for randomforest with params: {'max_depth': None, 'min_samples_split': 2, 'n_estimators': 100}\n"
     ]
    },
    {
     "name": "stderr",
     "output_type": "stream",
     "text": [
      "C:\\Users\\alvar\\anaconda3\\envs\\Plant-Reactivity-Analysis\\lib\\site-packages\\sklearn\\base.py:464: UserWarning: X does not have valid feature names, but RandomForestClassifier was fitted with feature names\n",
      "  warnings.warn(\n"
     ]
    },
    {
     "name": "stdout",
     "output_type": "stream",
     "text": [
      "Running experiments for randomforest with params: {'max_depth': None, 'min_samples_split': 2, 'n_estimators': 200}\n"
     ]
    },
    {
     "name": "stderr",
     "output_type": "stream",
     "text": [
      "C:\\Users\\alvar\\anaconda3\\envs\\Plant-Reactivity-Analysis\\lib\\site-packages\\sklearn\\base.py:464: UserWarning: X does not have valid feature names, but RandomForestClassifier was fitted with feature names\n",
      "  warnings.warn(\n"
     ]
    },
    {
     "name": "stdout",
     "output_type": "stream",
     "text": [
      "Running experiments for randomforest with params: {'max_depth': None, 'min_samples_split': 2, 'n_estimators': 300}\n"
     ]
    },
    {
     "name": "stderr",
     "output_type": "stream",
     "text": [
      "C:\\Users\\alvar\\anaconda3\\envs\\Plant-Reactivity-Analysis\\lib\\site-packages\\sklearn\\base.py:464: UserWarning: X does not have valid feature names, but RandomForestClassifier was fitted with feature names\n",
      "  warnings.warn(\n"
     ]
    },
    {
     "name": "stdout",
     "output_type": "stream",
     "text": [
      "Running experiments for randomforest with params: {'max_depth': None, 'min_samples_split': 5, 'n_estimators': 100}\n"
     ]
    },
    {
     "name": "stderr",
     "output_type": "stream",
     "text": [
      "C:\\Users\\alvar\\anaconda3\\envs\\Plant-Reactivity-Analysis\\lib\\site-packages\\sklearn\\base.py:464: UserWarning: X does not have valid feature names, but RandomForestClassifier was fitted with feature names\n",
      "  warnings.warn(\n"
     ]
    },
    {
     "name": "stdout",
     "output_type": "stream",
     "text": [
      "Running experiments for randomforest with params: {'max_depth': None, 'min_samples_split': 5, 'n_estimators': 200}\n"
     ]
    },
    {
     "name": "stderr",
     "output_type": "stream",
     "text": [
      "C:\\Users\\alvar\\anaconda3\\envs\\Plant-Reactivity-Analysis\\lib\\site-packages\\sklearn\\base.py:464: UserWarning: X does not have valid feature names, but RandomForestClassifier was fitted with feature names\n",
      "  warnings.warn(\n"
     ]
    },
    {
     "name": "stdout",
     "output_type": "stream",
     "text": [
      "Running experiments for randomforest with params: {'max_depth': None, 'min_samples_split': 5, 'n_estimators': 300}\n"
     ]
    },
    {
     "name": "stderr",
     "output_type": "stream",
     "text": [
      "C:\\Users\\alvar\\anaconda3\\envs\\Plant-Reactivity-Analysis\\lib\\site-packages\\sklearn\\base.py:464: UserWarning: X does not have valid feature names, but RandomForestClassifier was fitted with feature names\n",
      "  warnings.warn(\n"
     ]
    },
    {
     "name": "stdout",
     "output_type": "stream",
     "text": [
      "Running experiments for randomforest with params: {'max_depth': 10, 'min_samples_split': 2, 'n_estimators': 100}\n"
     ]
    },
    {
     "name": "stderr",
     "output_type": "stream",
     "text": [
      "C:\\Users\\alvar\\anaconda3\\envs\\Plant-Reactivity-Analysis\\lib\\site-packages\\sklearn\\base.py:464: UserWarning: X does not have valid feature names, but RandomForestClassifier was fitted with feature names\n",
      "  warnings.warn(\n"
     ]
    },
    {
     "name": "stdout",
     "output_type": "stream",
     "text": [
      "Running experiments for randomforest with params: {'max_depth': 10, 'min_samples_split': 2, 'n_estimators': 200}\n"
     ]
    },
    {
     "name": "stderr",
     "output_type": "stream",
     "text": [
      "C:\\Users\\alvar\\anaconda3\\envs\\Plant-Reactivity-Analysis\\lib\\site-packages\\sklearn\\base.py:464: UserWarning: X does not have valid feature names, but RandomForestClassifier was fitted with feature names\n",
      "  warnings.warn(\n"
     ]
    },
    {
     "name": "stdout",
     "output_type": "stream",
     "text": [
      "Running experiments for randomforest with params: {'max_depth': 10, 'min_samples_split': 2, 'n_estimators': 300}\n"
     ]
    },
    {
     "name": "stderr",
     "output_type": "stream",
     "text": [
      "C:\\Users\\alvar\\anaconda3\\envs\\Plant-Reactivity-Analysis\\lib\\site-packages\\sklearn\\base.py:464: UserWarning: X does not have valid feature names, but RandomForestClassifier was fitted with feature names\n",
      "  warnings.warn(\n"
     ]
    },
    {
     "name": "stdout",
     "output_type": "stream",
     "text": [
      "Running experiments for randomforest with params: {'max_depth': 10, 'min_samples_split': 5, 'n_estimators': 100}\n"
     ]
    },
    {
     "name": "stderr",
     "output_type": "stream",
     "text": [
      "C:\\Users\\alvar\\anaconda3\\envs\\Plant-Reactivity-Analysis\\lib\\site-packages\\sklearn\\base.py:464: UserWarning: X does not have valid feature names, but RandomForestClassifier was fitted with feature names\n",
      "  warnings.warn(\n"
     ]
    },
    {
     "name": "stdout",
     "output_type": "stream",
     "text": [
      "Running experiments for randomforest with params: {'max_depth': 10, 'min_samples_split': 5, 'n_estimators': 200}\n"
     ]
    },
    {
     "name": "stderr",
     "output_type": "stream",
     "text": [
      "C:\\Users\\alvar\\anaconda3\\envs\\Plant-Reactivity-Analysis\\lib\\site-packages\\sklearn\\base.py:464: UserWarning: X does not have valid feature names, but RandomForestClassifier was fitted with feature names\n",
      "  warnings.warn(\n"
     ]
    },
    {
     "name": "stdout",
     "output_type": "stream",
     "text": [
      "Running experiments for randomforest with params: {'max_depth': 10, 'min_samples_split': 5, 'n_estimators': 300}\n"
     ]
    },
    {
     "name": "stderr",
     "output_type": "stream",
     "text": [
      "C:\\Users\\alvar\\anaconda3\\envs\\Plant-Reactivity-Analysis\\lib\\site-packages\\sklearn\\base.py:464: UserWarning: X does not have valid feature names, but RandomForestClassifier was fitted with feature names\n",
      "  warnings.warn(\n"
     ]
    },
    {
     "name": "stdout",
     "output_type": "stream",
     "text": [
      "Running experiments for randomforest with params: {'max_depth': 20, 'min_samples_split': 2, 'n_estimators': 100}\n"
     ]
    },
    {
     "name": "stderr",
     "output_type": "stream",
     "text": [
      "C:\\Users\\alvar\\anaconda3\\envs\\Plant-Reactivity-Analysis\\lib\\site-packages\\sklearn\\base.py:464: UserWarning: X does not have valid feature names, but RandomForestClassifier was fitted with feature names\n",
      "  warnings.warn(\n"
     ]
    },
    {
     "name": "stdout",
     "output_type": "stream",
     "text": [
      "Running experiments for randomforest with params: {'max_depth': 20, 'min_samples_split': 2, 'n_estimators': 200}\n"
     ]
    },
    {
     "name": "stderr",
     "output_type": "stream",
     "text": [
      "C:\\Users\\alvar\\anaconda3\\envs\\Plant-Reactivity-Analysis\\lib\\site-packages\\sklearn\\base.py:464: UserWarning: X does not have valid feature names, but RandomForestClassifier was fitted with feature names\n",
      "  warnings.warn(\n"
     ]
    },
    {
     "name": "stdout",
     "output_type": "stream",
     "text": [
      "Running experiments for randomforest with params: {'max_depth': 20, 'min_samples_split': 2, 'n_estimators': 300}\n"
     ]
    },
    {
     "name": "stderr",
     "output_type": "stream",
     "text": [
      "C:\\Users\\alvar\\anaconda3\\envs\\Plant-Reactivity-Analysis\\lib\\site-packages\\sklearn\\base.py:464: UserWarning: X does not have valid feature names, but RandomForestClassifier was fitted with feature names\n",
      "  warnings.warn(\n"
     ]
    },
    {
     "name": "stdout",
     "output_type": "stream",
     "text": [
      "Running experiments for randomforest with params: {'max_depth': 20, 'min_samples_split': 5, 'n_estimators': 100}\n"
     ]
    },
    {
     "name": "stderr",
     "output_type": "stream",
     "text": [
      "C:\\Users\\alvar\\anaconda3\\envs\\Plant-Reactivity-Analysis\\lib\\site-packages\\sklearn\\base.py:464: UserWarning: X does not have valid feature names, but RandomForestClassifier was fitted with feature names\n",
      "  warnings.warn(\n"
     ]
    },
    {
     "name": "stdout",
     "output_type": "stream",
     "text": [
      "Running experiments for randomforest with params: {'max_depth': 20, 'min_samples_split': 5, 'n_estimators': 200}\n"
     ]
    },
    {
     "name": "stderr",
     "output_type": "stream",
     "text": [
      "C:\\Users\\alvar\\anaconda3\\envs\\Plant-Reactivity-Analysis\\lib\\site-packages\\sklearn\\base.py:464: UserWarning: X does not have valid feature names, but RandomForestClassifier was fitted with feature names\n",
      "  warnings.warn(\n"
     ]
    },
    {
     "name": "stdout",
     "output_type": "stream",
     "text": [
      "Running experiments for randomforest with params: {'max_depth': 20, 'min_samples_split': 5, 'n_estimators': 300}\n"
     ]
    },
    {
     "name": "stderr",
     "output_type": "stream",
     "text": [
      "C:\\Users\\alvar\\anaconda3\\envs\\Plant-Reactivity-Analysis\\lib\\site-packages\\sklearn\\base.py:464: UserWarning: X does not have valid feature names, but RandomForestClassifier was fitted with feature names\n",
      "  warnings.warn(\n"
     ]
    },
    {
     "name": "stdout",
     "output_type": "stream",
     "text": [
      "Running experiments for gradientboosting with params: {'learning_rate': 0.1, 'max_depth': 3, 'n_estimators': 100}\n"
     ]
    },
    {
     "name": "stderr",
     "output_type": "stream",
     "text": [
      "C:\\Users\\alvar\\anaconda3\\envs\\Plant-Reactivity-Analysis\\lib\\site-packages\\sklearn\\base.py:464: UserWarning: X does not have valid feature names, but GradientBoostingClassifier was fitted with feature names\n",
      "  warnings.warn(\n"
     ]
    },
    {
     "name": "stdout",
     "output_type": "stream",
     "text": [
      "Running experiments for gradientboosting with params: {'learning_rate': 0.1, 'max_depth': 3, 'n_estimators': 200}\n"
     ]
    },
    {
     "name": "stderr",
     "output_type": "stream",
     "text": [
      "C:\\Users\\alvar\\anaconda3\\envs\\Plant-Reactivity-Analysis\\lib\\site-packages\\sklearn\\base.py:464: UserWarning: X does not have valid feature names, but GradientBoostingClassifier was fitted with feature names\n",
      "  warnings.warn(\n"
     ]
    },
    {
     "name": "stdout",
     "output_type": "stream",
     "text": [
      "Running experiments for gradientboosting with params: {'learning_rate': 0.1, 'max_depth': 5, 'n_estimators': 100}\n"
     ]
    },
    {
     "name": "stderr",
     "output_type": "stream",
     "text": [
      "C:\\Users\\alvar\\anaconda3\\envs\\Plant-Reactivity-Analysis\\lib\\site-packages\\sklearn\\base.py:464: UserWarning: X does not have valid feature names, but GradientBoostingClassifier was fitted with feature names\n",
      "  warnings.warn(\n"
     ]
    },
    {
     "name": "stdout",
     "output_type": "stream",
     "text": [
      "Running experiments for gradientboosting with params: {'learning_rate': 0.1, 'max_depth': 5, 'n_estimators': 200}\n"
     ]
    },
    {
     "name": "stderr",
     "output_type": "stream",
     "text": [
      "C:\\Users\\alvar\\anaconda3\\envs\\Plant-Reactivity-Analysis\\lib\\site-packages\\sklearn\\base.py:464: UserWarning: X does not have valid feature names, but GradientBoostingClassifier was fitted with feature names\n",
      "  warnings.warn(\n"
     ]
    },
    {
     "name": "stdout",
     "output_type": "stream",
     "text": [
      "Running experiments for gradientboosting with params: {'learning_rate': 0.05, 'max_depth': 3, 'n_estimators': 100}\n"
     ]
    },
    {
     "name": "stderr",
     "output_type": "stream",
     "text": [
      "C:\\Users\\alvar\\anaconda3\\envs\\Plant-Reactivity-Analysis\\lib\\site-packages\\sklearn\\base.py:464: UserWarning: X does not have valid feature names, but GradientBoostingClassifier was fitted with feature names\n",
      "  warnings.warn(\n"
     ]
    },
    {
     "name": "stdout",
     "output_type": "stream",
     "text": [
      "Running experiments for gradientboosting with params: {'learning_rate': 0.05, 'max_depth': 3, 'n_estimators': 200}\n"
     ]
    },
    {
     "name": "stderr",
     "output_type": "stream",
     "text": [
      "C:\\Users\\alvar\\anaconda3\\envs\\Plant-Reactivity-Analysis\\lib\\site-packages\\sklearn\\base.py:464: UserWarning: X does not have valid feature names, but GradientBoostingClassifier was fitted with feature names\n",
      "  warnings.warn(\n"
     ]
    },
    {
     "name": "stdout",
     "output_type": "stream",
     "text": [
      "Running experiments for gradientboosting with params: {'learning_rate': 0.05, 'max_depth': 5, 'n_estimators': 100}\n"
     ]
    },
    {
     "name": "stderr",
     "output_type": "stream",
     "text": [
      "C:\\Users\\alvar\\anaconda3\\envs\\Plant-Reactivity-Analysis\\lib\\site-packages\\sklearn\\base.py:464: UserWarning: X does not have valid feature names, but GradientBoostingClassifier was fitted with feature names\n",
      "  warnings.warn(\n"
     ]
    },
    {
     "name": "stdout",
     "output_type": "stream",
     "text": [
      "Running experiments for gradientboosting with params: {'learning_rate': 0.05, 'max_depth': 5, 'n_estimators': 200}\n"
     ]
    },
    {
     "name": "stderr",
     "output_type": "stream",
     "text": [
      "C:\\Users\\alvar\\anaconda3\\envs\\Plant-Reactivity-Analysis\\lib\\site-packages\\sklearn\\base.py:464: UserWarning: X does not have valid feature names, but GradientBoostingClassifier was fitted with feature names\n",
      "  warnings.warn(\n"
     ]
    },
    {
     "name": "stdout",
     "output_type": "stream",
     "text": [
      "Running experiments for extratrees with params: {'max_depth': None, 'min_samples_split': 2, 'n_estimators': 100}\n"
     ]
    },
    {
     "name": "stderr",
     "output_type": "stream",
     "text": [
      "C:\\Users\\alvar\\anaconda3\\envs\\Plant-Reactivity-Analysis\\lib\\site-packages\\sklearn\\base.py:464: UserWarning: X does not have valid feature names, but ExtraTreesClassifier was fitted with feature names\n",
      "  warnings.warn(\n"
     ]
    },
    {
     "name": "stdout",
     "output_type": "stream",
     "text": [
      "Running experiments for extratrees with params: {'max_depth': None, 'min_samples_split': 2, 'n_estimators': 200}\n"
     ]
    },
    {
     "name": "stderr",
     "output_type": "stream",
     "text": [
      "C:\\Users\\alvar\\anaconda3\\envs\\Plant-Reactivity-Analysis\\lib\\site-packages\\sklearn\\base.py:464: UserWarning: X does not have valid feature names, but ExtraTreesClassifier was fitted with feature names\n",
      "  warnings.warn(\n"
     ]
    },
    {
     "name": "stdout",
     "output_type": "stream",
     "text": [
      "Running experiments for extratrees with params: {'max_depth': None, 'min_samples_split': 5, 'n_estimators': 100}\n"
     ]
    },
    {
     "name": "stderr",
     "output_type": "stream",
     "text": [
      "C:\\Users\\alvar\\anaconda3\\envs\\Plant-Reactivity-Analysis\\lib\\site-packages\\sklearn\\base.py:464: UserWarning: X does not have valid feature names, but ExtraTreesClassifier was fitted with feature names\n",
      "  warnings.warn(\n"
     ]
    },
    {
     "name": "stdout",
     "output_type": "stream",
     "text": [
      "Running experiments for extratrees with params: {'max_depth': None, 'min_samples_split': 5, 'n_estimators': 200}\n"
     ]
    },
    {
     "name": "stderr",
     "output_type": "stream",
     "text": [
      "C:\\Users\\alvar\\anaconda3\\envs\\Plant-Reactivity-Analysis\\lib\\site-packages\\sklearn\\base.py:464: UserWarning: X does not have valid feature names, but ExtraTreesClassifier was fitted with feature names\n",
      "  warnings.warn(\n"
     ]
    },
    {
     "name": "stdout",
     "output_type": "stream",
     "text": [
      "Running experiments for extratrees with params: {'max_depth': 20, 'min_samples_split': 2, 'n_estimators': 100}\n"
     ]
    },
    {
     "name": "stderr",
     "output_type": "stream",
     "text": [
      "C:\\Users\\alvar\\anaconda3\\envs\\Plant-Reactivity-Analysis\\lib\\site-packages\\sklearn\\base.py:464: UserWarning: X does not have valid feature names, but ExtraTreesClassifier was fitted with feature names\n",
      "  warnings.warn(\n"
     ]
    },
    {
     "name": "stdout",
     "output_type": "stream",
     "text": [
      "Running experiments for extratrees with params: {'max_depth': 20, 'min_samples_split': 2, 'n_estimators': 200}\n"
     ]
    },
    {
     "name": "stderr",
     "output_type": "stream",
     "text": [
      "C:\\Users\\alvar\\anaconda3\\envs\\Plant-Reactivity-Analysis\\lib\\site-packages\\sklearn\\base.py:464: UserWarning: X does not have valid feature names, but ExtraTreesClassifier was fitted with feature names\n",
      "  warnings.warn(\n"
     ]
    },
    {
     "name": "stdout",
     "output_type": "stream",
     "text": [
      "Running experiments for extratrees with params: {'max_depth': 20, 'min_samples_split': 5, 'n_estimators': 100}\n"
     ]
    },
    {
     "name": "stderr",
     "output_type": "stream",
     "text": [
      "C:\\Users\\alvar\\anaconda3\\envs\\Plant-Reactivity-Analysis\\lib\\site-packages\\sklearn\\base.py:464: UserWarning: X does not have valid feature names, but ExtraTreesClassifier was fitted with feature names\n",
      "  warnings.warn(\n"
     ]
    },
    {
     "name": "stdout",
     "output_type": "stream",
     "text": [
      "Running experiments for extratrees with params: {'max_depth': 20, 'min_samples_split': 5, 'n_estimators': 200}\n"
     ]
    },
    {
     "name": "stderr",
     "output_type": "stream",
     "text": [
      "C:\\Users\\alvar\\anaconda3\\envs\\Plant-Reactivity-Analysis\\lib\\site-packages\\sklearn\\base.py:464: UserWarning: X does not have valid feature names, but ExtraTreesClassifier was fitted with feature names\n",
      "  warnings.warn(\n",
      "C:\\Users\\alvar\\anaconda3\\envs\\Plant-Reactivity-Analysis\\lib\\site-packages\\sklearn\\base.py:464: UserWarning: X does not have valid feature names, but GaussianNB was fitted with feature names\n",
      "  warnings.warn(\n",
      "C:\\Users\\alvar\\anaconda3\\envs\\Plant-Reactivity-Analysis\\lib\\site-packages\\sklearn\\base.py:464: UserWarning: X does not have valid feature names, but GaussianNB was fitted with feature names\n",
      "  warnings.warn(\n",
      "C:\\Users\\alvar\\anaconda3\\envs\\Plant-Reactivity-Analysis\\lib\\site-packages\\sklearn\\base.py:464: UserWarning: X does not have valid feature names, but GaussianNB was fitted with feature names\n",
      "  warnings.warn(\n"
     ]
    },
    {
     "name": "stdout",
     "output_type": "stream",
     "text": [
      "Running experiments for gaussiannb with params: {'var_smoothing': 1e-09}\n",
      "Running experiments for gaussiannb with params: {'var_smoothing': 1e-08}\n",
      "Running experiments for gaussiannb with params: {'var_smoothing': 1e-10}\n",
      "Running experiments for adaboost with params: {'learning_rate': 0.1, 'n_estimators': 50}\n"
     ]
    },
    {
     "name": "stderr",
     "output_type": "stream",
     "text": [
      "C:\\Users\\alvar\\anaconda3\\envs\\Plant-Reactivity-Analysis\\lib\\site-packages\\sklearn\\base.py:464: UserWarning: X does not have valid feature names, but AdaBoostClassifier was fitted with feature names\n",
      "  warnings.warn(\n"
     ]
    },
    {
     "name": "stdout",
     "output_type": "stream",
     "text": [
      "Running experiments for adaboost with params: {'learning_rate': 0.1, 'n_estimators': 100}\n"
     ]
    },
    {
     "name": "stderr",
     "output_type": "stream",
     "text": [
      "C:\\Users\\alvar\\anaconda3\\envs\\Plant-Reactivity-Analysis\\lib\\site-packages\\sklearn\\base.py:464: UserWarning: X does not have valid feature names, but AdaBoostClassifier was fitted with feature names\n",
      "  warnings.warn(\n"
     ]
    },
    {
     "name": "stdout",
     "output_type": "stream",
     "text": [
      "Running experiments for adaboost with params: {'learning_rate': 1.0, 'n_estimators': 50}\n"
     ]
    },
    {
     "name": "stderr",
     "output_type": "stream",
     "text": [
      "C:\\Users\\alvar\\anaconda3\\envs\\Plant-Reactivity-Analysis\\lib\\site-packages\\sklearn\\base.py:464: UserWarning: X does not have valid feature names, but AdaBoostClassifier was fitted with feature names\n",
      "  warnings.warn(\n"
     ]
    },
    {
     "name": "stdout",
     "output_type": "stream",
     "text": [
      "Running experiments for adaboost with params: {'learning_rate': 1.0, 'n_estimators': 100}\n"
     ]
    },
    {
     "name": "stderr",
     "output_type": "stream",
     "text": [
      "C:\\Users\\alvar\\anaconda3\\envs\\Plant-Reactivity-Analysis\\lib\\site-packages\\sklearn\\base.py:464: UserWarning: X does not have valid feature names, but AdaBoostClassifier was fitted with feature names\n",
      "  warnings.warn(\n"
     ]
    },
    {
     "name": "stdout",
     "output_type": "stream",
     "text": [
      "Running experiments for logisticregression with params: {'C': 0.1, 'solver': 'liblinear'}\n",
      "Running experiments for logisticregression with params: {'C': 0.1, 'solver': 'lbfgs'}\n"
     ]
    },
    {
     "name": "stderr",
     "output_type": "stream",
     "text": [
      "C:\\Users\\alvar\\anaconda3\\envs\\Plant-Reactivity-Analysis\\lib\\site-packages\\sklearn\\base.py:464: UserWarning: X does not have valid feature names, but LogisticRegression was fitted with feature names\n",
      "  warnings.warn(\n",
      "C:\\Users\\alvar\\anaconda3\\envs\\Plant-Reactivity-Analysis\\lib\\site-packages\\sklearn\\base.py:464: UserWarning: X does not have valid feature names, but LogisticRegression was fitted with feature names\n",
      "  warnings.warn(\n"
     ]
    },
    {
     "name": "stdout",
     "output_type": "stream",
     "text": [
      "Running experiments for logisticregression with params: {'C': 1, 'solver': 'liblinear'}\n",
      "Running experiments for logisticregression with params: {'C': 1, 'solver': 'lbfgs'}\n"
     ]
    },
    {
     "name": "stderr",
     "output_type": "stream",
     "text": [
      "C:\\Users\\alvar\\anaconda3\\envs\\Plant-Reactivity-Analysis\\lib\\site-packages\\sklearn\\base.py:464: UserWarning: X does not have valid feature names, but LogisticRegression was fitted with feature names\n",
      "  warnings.warn(\n",
      "C:\\Users\\alvar\\anaconda3\\envs\\Plant-Reactivity-Analysis\\lib\\site-packages\\sklearn\\base.py:464: UserWarning: X does not have valid feature names, but LogisticRegression was fitted with feature names\n",
      "  warnings.warn(\n"
     ]
    },
    {
     "name": "stdout",
     "output_type": "stream",
     "text": [
      "Running experiments for logisticregression with params: {'C': 10, 'solver': 'liblinear'}\n",
      "Running experiments for logisticregression with params: {'C': 10, 'solver': 'lbfgs'}\n"
     ]
    },
    {
     "name": "stderr",
     "output_type": "stream",
     "text": [
      "C:\\Users\\alvar\\anaconda3\\envs\\Plant-Reactivity-Analysis\\lib\\site-packages\\sklearn\\base.py:464: UserWarning: X does not have valid feature names, but LogisticRegression was fitted with feature names\n",
      "  warnings.warn(\n",
      "C:\\Users\\alvar\\anaconda3\\envs\\Plant-Reactivity-Analysis\\lib\\site-packages\\sklearn\\base.py:464: UserWarning: X does not have valid feature names, but LogisticRegression was fitted with feature names\n",
      "  warnings.warn(\n",
      "C:\\Users\\alvar\\anaconda3\\envs\\Plant-Reactivity-Analysis\\lib\\site-packages\\sklearn\\base.py:464: UserWarning: X does not have valid feature names, but KNeighborsClassifier was fitted with feature names\n",
      "  warnings.warn(\n"
     ]
    },
    {
     "name": "stdout",
     "output_type": "stream",
     "text": [
      "Running experiments for kneighbors with params: {'n_neighbors': 5, 'weights': 'uniform'}\n",
      "Running experiments for kneighbors with params: {'n_neighbors': 5, 'weights': 'distance'}\n",
      "Running experiments for kneighbors with params: {'n_neighbors': 10, 'weights': 'uniform'}\n"
     ]
    },
    {
     "name": "stderr",
     "output_type": "stream",
     "text": [
      "C:\\Users\\alvar\\anaconda3\\envs\\Plant-Reactivity-Analysis\\lib\\site-packages\\sklearn\\base.py:464: UserWarning: X does not have valid feature names, but KNeighborsClassifier was fitted with feature names\n",
      "  warnings.warn(\n",
      "C:\\Users\\alvar\\anaconda3\\envs\\Plant-Reactivity-Analysis\\lib\\site-packages\\sklearn\\base.py:464: UserWarning: X does not have valid feature names, but KNeighborsClassifier was fitted with feature names\n",
      "  warnings.warn(\n"
     ]
    },
    {
     "name": "stdout",
     "output_type": "stream",
     "text": [
      "Running experiments for kneighbors with params: {'n_neighbors': 10, 'weights': 'distance'}\n",
      "Running experiments for kneighbors with params: {'n_neighbors': 15, 'weights': 'uniform'}\n"
     ]
    },
    {
     "name": "stderr",
     "output_type": "stream",
     "text": [
      "C:\\Users\\alvar\\anaconda3\\envs\\Plant-Reactivity-Analysis\\lib\\site-packages\\sklearn\\base.py:464: UserWarning: X does not have valid feature names, but KNeighborsClassifier was fitted with feature names\n",
      "  warnings.warn(\n",
      "C:\\Users\\alvar\\anaconda3\\envs\\Plant-Reactivity-Analysis\\lib\\site-packages\\sklearn\\base.py:464: UserWarning: X does not have valid feature names, but KNeighborsClassifier was fitted with feature names\n",
      "  warnings.warn(\n"
     ]
    },
    {
     "name": "stdout",
     "output_type": "stream",
     "text": [
      "Running experiments for kneighbors with params: {'n_neighbors': 15, 'weights': 'distance'}\n",
      "Running experiments for lgbm with params: {'learning_rate': 0.1, 'n_estimators': 100, 'num_leaves': 31}\n",
      "[LightGBM] [Warning] Found whitespace in feature_names, replace with underlines\n",
      "[LightGBM] [Info] Number of positive: 3395, number of negative: 3317\n",
      "[LightGBM] [Info] Auto-choosing col-wise multi-threading, the overhead of testing was 0.003287 seconds.\n",
      "You can set `force_col_wise=true` to remove the overhead.\n",
      "[LightGBM] [Info] Total Bins 10826\n",
      "[LightGBM] [Info] Number of data points in the train set: 6712, number of used features: 43\n",
      "[LightGBM] [Info] [binary:BoostFromScore]: pavg=0.505810 -> initscore=0.023243\n",
      "[LightGBM] [Info] Start training from score 0.023243\n"
     ]
    },
    {
     "name": "stderr",
     "output_type": "stream",
     "text": [
      "C:\\Users\\alvar\\anaconda3\\envs\\Plant-Reactivity-Analysis\\lib\\site-packages\\sklearn\\base.py:464: UserWarning: X does not have valid feature names, but KNeighborsClassifier was fitted with feature names\n",
      "  warnings.warn(\n"
     ]
    },
    {
     "name": "stdout",
     "output_type": "stream",
     "text": [
      "Running experiments for lgbm with params: {'learning_rate': 0.1, 'n_estimators': 100, 'num_leaves': 64}\n",
      "[LightGBM] [Warning] Found whitespace in feature_names, replace with underlines\n",
      "[LightGBM] [Info] Number of positive: 3395, number of negative: 3317\n",
      "[LightGBM] [Info] Auto-choosing col-wise multi-threading, the overhead of testing was 0.001893 seconds.\n",
      "You can set `force_col_wise=true` to remove the overhead.\n",
      "[LightGBM] [Info] Total Bins 10826\n",
      "[LightGBM] [Info] Number of data points in the train set: 6712, number of used features: 43\n",
      "[LightGBM] [Info] [binary:BoostFromScore]: pavg=0.505810 -> initscore=0.023243\n",
      "[LightGBM] [Info] Start training from score 0.023243\n",
      "Running experiments for lgbm with params: {'learning_rate': 0.1, 'n_estimators': 200, 'num_leaves': 31}\n",
      "[LightGBM] [Warning] Found whitespace in feature_names, replace with underlines\n",
      "[LightGBM] [Info] Number of positive: 3395, number of negative: 3317\n",
      "[LightGBM] [Info] Auto-choosing col-wise multi-threading, the overhead of testing was 0.002073 seconds.\n",
      "You can set `force_col_wise=true` to remove the overhead.\n",
      "[LightGBM] [Info] Total Bins 10826\n",
      "[LightGBM] [Info] Number of data points in the train set: 6712, number of used features: 43\n",
      "[LightGBM] [Info] [binary:BoostFromScore]: pavg=0.505810 -> initscore=0.023243\n",
      "[LightGBM] [Info] Start training from score 0.023243\n",
      "Running experiments for lgbm with params: {'learning_rate': 0.1, 'n_estimators': 200, 'num_leaves': 64}\n",
      "[LightGBM] [Warning] Found whitespace in feature_names, replace with underlines\n",
      "[LightGBM] [Info] Number of positive: 3395, number of negative: 3317\n",
      "[LightGBM] [Info] Auto-choosing col-wise multi-threading, the overhead of testing was 0.002339 seconds.\n",
      "You can set `force_col_wise=true` to remove the overhead.\n",
      "[LightGBM] [Info] Total Bins 10826\n",
      "[LightGBM] [Info] Number of data points in the train set: 6712, number of used features: 43\n",
      "[LightGBM] [Info] [binary:BoostFromScore]: pavg=0.505810 -> initscore=0.023243\n",
      "[LightGBM] [Info] Start training from score 0.023243\n",
      "Running experiments for lgbm with params: {'learning_rate': 0.05, 'n_estimators': 100, 'num_leaves': 31}\n",
      "[LightGBM] [Warning] Found whitespace in feature_names, replace with underlines\n",
      "[LightGBM] [Info] Number of positive: 3395, number of negative: 3317\n",
      "[LightGBM] [Info] Auto-choosing col-wise multi-threading, the overhead of testing was 0.001878 seconds.\n",
      "You can set `force_col_wise=true` to remove the overhead.\n",
      "[LightGBM] [Info] Total Bins 10826\n",
      "[LightGBM] [Info] Number of data points in the train set: 6712, number of used features: 43\n",
      "[LightGBM] [Info] [binary:BoostFromScore]: pavg=0.505810 -> initscore=0.023243\n",
      "[LightGBM] [Info] Start training from score 0.023243\n",
      "Running experiments for lgbm with params: {'learning_rate': 0.05, 'n_estimators': 100, 'num_leaves': 64}\n",
      "[LightGBM] [Warning] Found whitespace in feature_names, replace with underlines\n",
      "[LightGBM] [Info] Number of positive: 3395, number of negative: 3317\n",
      "[LightGBM] [Info] Auto-choosing col-wise multi-threading, the overhead of testing was 0.001870 seconds.\n",
      "You can set `force_col_wise=true` to remove the overhead.\n",
      "[LightGBM] [Info] Total Bins 10826\n",
      "[LightGBM] [Info] Number of data points in the train set: 6712, number of used features: 43\n",
      "[LightGBM] [Info] [binary:BoostFromScore]: pavg=0.505810 -> initscore=0.023243\n",
      "[LightGBM] [Info] Start training from score 0.023243\n",
      "Running experiments for lgbm with params: {'learning_rate': 0.05, 'n_estimators': 200, 'num_leaves': 31}\n",
      "[LightGBM] [Warning] Found whitespace in feature_names, replace with underlines\n",
      "[LightGBM] [Info] Number of positive: 3395, number of negative: 3317\n",
      "[LightGBM] [Info] Auto-choosing col-wise multi-threading, the overhead of testing was 0.001834 seconds.\n",
      "You can set `force_col_wise=true` to remove the overhead.\n",
      "[LightGBM] [Info] Total Bins 10826\n",
      "[LightGBM] [Info] Number of data points in the train set: 6712, number of used features: 43\n",
      "[LightGBM] [Info] [binary:BoostFromScore]: pavg=0.505810 -> initscore=0.023243\n",
      "[LightGBM] [Info] Start training from score 0.023243\n",
      "Running experiments for lgbm with params: {'learning_rate': 0.05, 'n_estimators': 200, 'num_leaves': 64}\n",
      "[LightGBM] [Warning] Found whitespace in feature_names, replace with underlines\n",
      "[LightGBM] [Info] Number of positive: 3395, number of negative: 3317\n",
      "[LightGBM] [Info] Auto-choosing col-wise multi-threading, the overhead of testing was 0.001824 seconds.\n",
      "You can set `force_col_wise=true` to remove the overhead.\n",
      "[LightGBM] [Info] Total Bins 10826\n",
      "[LightGBM] [Info] Number of data points in the train set: 6712, number of used features: 43\n",
      "[LightGBM] [Info] [binary:BoostFromScore]: pavg=0.505810 -> initscore=0.023243\n",
      "[LightGBM] [Info] Start training from score 0.023243\n",
      "Running experiments for xgb with params: {'learning_rate': 0.1, 'max_depth': 3, 'n_estimators': 100}\n",
      "Running experiments for xgb with params: {'learning_rate': 0.1, 'max_depth': 3, 'n_estimators': 200}\n",
      "Running experiments for xgb with params: {'learning_rate': 0.1, 'max_depth': 6, 'n_estimators': 100}\n",
      "Running experiments for xgb with params: {'learning_rate': 0.1, 'max_depth': 6, 'n_estimators': 200}\n",
      "Running experiments for xgb with params: {'learning_rate': 0.05, 'max_depth': 3, 'n_estimators': 100}\n",
      "Running experiments for xgb with params: {'learning_rate': 0.05, 'max_depth': 3, 'n_estimators': 200}\n",
      "Running experiments for xgb with params: {'learning_rate': 0.05, 'max_depth': 6, 'n_estimators': 100}\n",
      "Running experiments for xgb with params: {'learning_rate': 0.05, 'max_depth': 6, 'n_estimators': 200}\n",
      "  Processing RQ 2 within Dataset 1...\n",
      "Running experiments for svm with params: {'C': 0.1, 'gamma': 'scale', 'kernel': 'linear'}\n"
     ]
    },
    {
     "name": "stderr",
     "output_type": "stream",
     "text": [
      "C:\\Users\\alvar\\anaconda3\\envs\\Plant-Reactivity-Analysis\\lib\\site-packages\\sklearn\\base.py:464: UserWarning: X does not have valid feature names, but SVC was fitted with feature names\n",
      "  warnings.warn(\n"
     ]
    },
    {
     "name": "stdout",
     "output_type": "stream",
     "text": [
      "Running experiments for svm with params: {'C': 0.1, 'gamma': 'scale', 'kernel': 'rbf'}\n"
     ]
    },
    {
     "name": "stderr",
     "output_type": "stream",
     "text": [
      "C:\\Users\\alvar\\anaconda3\\envs\\Plant-Reactivity-Analysis\\lib\\site-packages\\sklearn\\base.py:464: UserWarning: X does not have valid feature names, but SVC was fitted with feature names\n",
      "  warnings.warn(\n"
     ]
    },
    {
     "name": "stdout",
     "output_type": "stream",
     "text": [
      "Running experiments for svm with params: {'C': 0.1, 'gamma': 'auto', 'kernel': 'linear'}\n"
     ]
    },
    {
     "name": "stderr",
     "output_type": "stream",
     "text": [
      "C:\\Users\\alvar\\anaconda3\\envs\\Plant-Reactivity-Analysis\\lib\\site-packages\\sklearn\\base.py:464: UserWarning: X does not have valid feature names, but SVC was fitted with feature names\n",
      "  warnings.warn(\n"
     ]
    },
    {
     "name": "stdout",
     "output_type": "stream",
     "text": [
      "Running experiments for svm with params: {'C': 0.1, 'gamma': 'auto', 'kernel': 'rbf'}\n"
     ]
    },
    {
     "name": "stderr",
     "output_type": "stream",
     "text": [
      "C:\\Users\\alvar\\anaconda3\\envs\\Plant-Reactivity-Analysis\\lib\\site-packages\\sklearn\\base.py:464: UserWarning: X does not have valid feature names, but SVC was fitted with feature names\n",
      "  warnings.warn(\n"
     ]
    },
    {
     "name": "stdout",
     "output_type": "stream",
     "text": [
      "Running experiments for svm with params: {'C': 1, 'gamma': 'scale', 'kernel': 'linear'}\n"
     ]
    },
    {
     "name": "stderr",
     "output_type": "stream",
     "text": [
      "C:\\Users\\alvar\\anaconda3\\envs\\Plant-Reactivity-Analysis\\lib\\site-packages\\sklearn\\base.py:464: UserWarning: X does not have valid feature names, but SVC was fitted with feature names\n",
      "  warnings.warn(\n"
     ]
    },
    {
     "name": "stdout",
     "output_type": "stream",
     "text": [
      "Running experiments for svm with params: {'C': 1, 'gamma': 'scale', 'kernel': 'rbf'}\n"
     ]
    },
    {
     "name": "stderr",
     "output_type": "stream",
     "text": [
      "C:\\Users\\alvar\\anaconda3\\envs\\Plant-Reactivity-Analysis\\lib\\site-packages\\sklearn\\base.py:464: UserWarning: X does not have valid feature names, but SVC was fitted with feature names\n",
      "  warnings.warn(\n"
     ]
    },
    {
     "name": "stdout",
     "output_type": "stream",
     "text": [
      "Running experiments for svm with params: {'C': 1, 'gamma': 'auto', 'kernel': 'linear'}\n"
     ]
    },
    {
     "name": "stderr",
     "output_type": "stream",
     "text": [
      "C:\\Users\\alvar\\anaconda3\\envs\\Plant-Reactivity-Analysis\\lib\\site-packages\\sklearn\\base.py:464: UserWarning: X does not have valid feature names, but SVC was fitted with feature names\n",
      "  warnings.warn(\n"
     ]
    },
    {
     "name": "stdout",
     "output_type": "stream",
     "text": [
      "Running experiments for svm with params: {'C': 1, 'gamma': 'auto', 'kernel': 'rbf'}\n"
     ]
    },
    {
     "name": "stderr",
     "output_type": "stream",
     "text": [
      "C:\\Users\\alvar\\anaconda3\\envs\\Plant-Reactivity-Analysis\\lib\\site-packages\\sklearn\\base.py:464: UserWarning: X does not have valid feature names, but SVC was fitted with feature names\n",
      "  warnings.warn(\n"
     ]
    },
    {
     "name": "stdout",
     "output_type": "stream",
     "text": [
      "Running experiments for svm with params: {'C': 10, 'gamma': 'scale', 'kernel': 'linear'}\n"
     ]
    },
    {
     "name": "stderr",
     "output_type": "stream",
     "text": [
      "C:\\Users\\alvar\\anaconda3\\envs\\Plant-Reactivity-Analysis\\lib\\site-packages\\sklearn\\base.py:464: UserWarning: X does not have valid feature names, but SVC was fitted with feature names\n",
      "  warnings.warn(\n"
     ]
    },
    {
     "name": "stdout",
     "output_type": "stream",
     "text": [
      "Running experiments for svm with params: {'C': 10, 'gamma': 'scale', 'kernel': 'rbf'}\n"
     ]
    },
    {
     "name": "stderr",
     "output_type": "stream",
     "text": [
      "C:\\Users\\alvar\\anaconda3\\envs\\Plant-Reactivity-Analysis\\lib\\site-packages\\sklearn\\base.py:464: UserWarning: X does not have valid feature names, but SVC was fitted with feature names\n",
      "  warnings.warn(\n"
     ]
    },
    {
     "name": "stdout",
     "output_type": "stream",
     "text": [
      "Running experiments for svm with params: {'C': 10, 'gamma': 'auto', 'kernel': 'linear'}\n"
     ]
    },
    {
     "name": "stderr",
     "output_type": "stream",
     "text": [
      "C:\\Users\\alvar\\anaconda3\\envs\\Plant-Reactivity-Analysis\\lib\\site-packages\\sklearn\\base.py:464: UserWarning: X does not have valid feature names, but SVC was fitted with feature names\n",
      "  warnings.warn(\n"
     ]
    },
    {
     "name": "stdout",
     "output_type": "stream",
     "text": [
      "Running experiments for svm with params: {'C': 10, 'gamma': 'auto', 'kernel': 'rbf'}\n"
     ]
    },
    {
     "name": "stderr",
     "output_type": "stream",
     "text": [
      "C:\\Users\\alvar\\anaconda3\\envs\\Plant-Reactivity-Analysis\\lib\\site-packages\\sklearn\\base.py:464: UserWarning: X does not have valid feature names, but SVC was fitted with feature names\n",
      "  warnings.warn(\n"
     ]
    },
    {
     "name": "stdout",
     "output_type": "stream",
     "text": [
      "Running experiments for randomforest with params: {'max_depth': None, 'min_samples_split': 2, 'n_estimators': 100}\n"
     ]
    },
    {
     "name": "stderr",
     "output_type": "stream",
     "text": [
      "C:\\Users\\alvar\\anaconda3\\envs\\Plant-Reactivity-Analysis\\lib\\site-packages\\sklearn\\base.py:464: UserWarning: X does not have valid feature names, but RandomForestClassifier was fitted with feature names\n",
      "  warnings.warn(\n"
     ]
    },
    {
     "name": "stdout",
     "output_type": "stream",
     "text": [
      "Running experiments for randomforest with params: {'max_depth': None, 'min_samples_split': 2, 'n_estimators': 200}\n"
     ]
    },
    {
     "name": "stderr",
     "output_type": "stream",
     "text": [
      "C:\\Users\\alvar\\anaconda3\\envs\\Plant-Reactivity-Analysis\\lib\\site-packages\\sklearn\\base.py:464: UserWarning: X does not have valid feature names, but RandomForestClassifier was fitted with feature names\n",
      "  warnings.warn(\n"
     ]
    },
    {
     "name": "stdout",
     "output_type": "stream",
     "text": [
      "Running experiments for randomforest with params: {'max_depth': None, 'min_samples_split': 2, 'n_estimators': 300}\n"
     ]
    },
    {
     "name": "stderr",
     "output_type": "stream",
     "text": [
      "C:\\Users\\alvar\\anaconda3\\envs\\Plant-Reactivity-Analysis\\lib\\site-packages\\sklearn\\base.py:464: UserWarning: X does not have valid feature names, but RandomForestClassifier was fitted with feature names\n",
      "  warnings.warn(\n"
     ]
    },
    {
     "name": "stdout",
     "output_type": "stream",
     "text": [
      "Running experiments for randomforest with params: {'max_depth': None, 'min_samples_split': 5, 'n_estimators': 100}\n"
     ]
    },
    {
     "name": "stderr",
     "output_type": "stream",
     "text": [
      "C:\\Users\\alvar\\anaconda3\\envs\\Plant-Reactivity-Analysis\\lib\\site-packages\\sklearn\\base.py:464: UserWarning: X does not have valid feature names, but RandomForestClassifier was fitted with feature names\n",
      "  warnings.warn(\n"
     ]
    },
    {
     "name": "stdout",
     "output_type": "stream",
     "text": [
      "Running experiments for randomforest with params: {'max_depth': None, 'min_samples_split': 5, 'n_estimators': 200}\n"
     ]
    },
    {
     "name": "stderr",
     "output_type": "stream",
     "text": [
      "C:\\Users\\alvar\\anaconda3\\envs\\Plant-Reactivity-Analysis\\lib\\site-packages\\sklearn\\base.py:464: UserWarning: X does not have valid feature names, but RandomForestClassifier was fitted with feature names\n",
      "  warnings.warn(\n"
     ]
    },
    {
     "name": "stdout",
     "output_type": "stream",
     "text": [
      "Running experiments for randomforest with params: {'max_depth': None, 'min_samples_split': 5, 'n_estimators': 300}\n"
     ]
    },
    {
     "name": "stderr",
     "output_type": "stream",
     "text": [
      "C:\\Users\\alvar\\anaconda3\\envs\\Plant-Reactivity-Analysis\\lib\\site-packages\\sklearn\\base.py:464: UserWarning: X does not have valid feature names, but RandomForestClassifier was fitted with feature names\n",
      "  warnings.warn(\n"
     ]
    },
    {
     "name": "stdout",
     "output_type": "stream",
     "text": [
      "Running experiments for randomforest with params: {'max_depth': 10, 'min_samples_split': 2, 'n_estimators': 100}\n"
     ]
    },
    {
     "name": "stderr",
     "output_type": "stream",
     "text": [
      "C:\\Users\\alvar\\anaconda3\\envs\\Plant-Reactivity-Analysis\\lib\\site-packages\\sklearn\\base.py:464: UserWarning: X does not have valid feature names, but RandomForestClassifier was fitted with feature names\n",
      "  warnings.warn(\n"
     ]
    },
    {
     "name": "stdout",
     "output_type": "stream",
     "text": [
      "Running experiments for randomforest with params: {'max_depth': 10, 'min_samples_split': 2, 'n_estimators': 200}\n"
     ]
    },
    {
     "name": "stderr",
     "output_type": "stream",
     "text": [
      "C:\\Users\\alvar\\anaconda3\\envs\\Plant-Reactivity-Analysis\\lib\\site-packages\\sklearn\\base.py:464: UserWarning: X does not have valid feature names, but RandomForestClassifier was fitted with feature names\n",
      "  warnings.warn(\n"
     ]
    },
    {
     "name": "stdout",
     "output_type": "stream",
     "text": [
      "Running experiments for randomforest with params: {'max_depth': 10, 'min_samples_split': 2, 'n_estimators': 300}\n"
     ]
    },
    {
     "name": "stderr",
     "output_type": "stream",
     "text": [
      "C:\\Users\\alvar\\anaconda3\\envs\\Plant-Reactivity-Analysis\\lib\\site-packages\\sklearn\\base.py:464: UserWarning: X does not have valid feature names, but RandomForestClassifier was fitted with feature names\n",
      "  warnings.warn(\n"
     ]
    },
    {
     "name": "stdout",
     "output_type": "stream",
     "text": [
      "Running experiments for randomforest with params: {'max_depth': 10, 'min_samples_split': 5, 'n_estimators': 100}\n"
     ]
    },
    {
     "name": "stderr",
     "output_type": "stream",
     "text": [
      "C:\\Users\\alvar\\anaconda3\\envs\\Plant-Reactivity-Analysis\\lib\\site-packages\\sklearn\\base.py:464: UserWarning: X does not have valid feature names, but RandomForestClassifier was fitted with feature names\n",
      "  warnings.warn(\n"
     ]
    },
    {
     "name": "stdout",
     "output_type": "stream",
     "text": [
      "Running experiments for randomforest with params: {'max_depth': 10, 'min_samples_split': 5, 'n_estimators': 200}\n"
     ]
    },
    {
     "name": "stderr",
     "output_type": "stream",
     "text": [
      "C:\\Users\\alvar\\anaconda3\\envs\\Plant-Reactivity-Analysis\\lib\\site-packages\\sklearn\\base.py:464: UserWarning: X does not have valid feature names, but RandomForestClassifier was fitted with feature names\n",
      "  warnings.warn(\n"
     ]
    },
    {
     "name": "stdout",
     "output_type": "stream",
     "text": [
      "Running experiments for randomforest with params: {'max_depth': 10, 'min_samples_split': 5, 'n_estimators': 300}\n"
     ]
    },
    {
     "name": "stderr",
     "output_type": "stream",
     "text": [
      "C:\\Users\\alvar\\anaconda3\\envs\\Plant-Reactivity-Analysis\\lib\\site-packages\\sklearn\\base.py:464: UserWarning: X does not have valid feature names, but RandomForestClassifier was fitted with feature names\n",
      "  warnings.warn(\n"
     ]
    },
    {
     "name": "stdout",
     "output_type": "stream",
     "text": [
      "Running experiments for randomforest with params: {'max_depth': 20, 'min_samples_split': 2, 'n_estimators': 100}\n"
     ]
    },
    {
     "name": "stderr",
     "output_type": "stream",
     "text": [
      "C:\\Users\\alvar\\anaconda3\\envs\\Plant-Reactivity-Analysis\\lib\\site-packages\\sklearn\\base.py:464: UserWarning: X does not have valid feature names, but RandomForestClassifier was fitted with feature names\n",
      "  warnings.warn(\n"
     ]
    },
    {
     "name": "stdout",
     "output_type": "stream",
     "text": [
      "Running experiments for randomforest with params: {'max_depth': 20, 'min_samples_split': 2, 'n_estimators': 200}\n"
     ]
    },
    {
     "name": "stderr",
     "output_type": "stream",
     "text": [
      "C:\\Users\\alvar\\anaconda3\\envs\\Plant-Reactivity-Analysis\\lib\\site-packages\\sklearn\\base.py:464: UserWarning: X does not have valid feature names, but RandomForestClassifier was fitted with feature names\n",
      "  warnings.warn(\n"
     ]
    },
    {
     "name": "stdout",
     "output_type": "stream",
     "text": [
      "Running experiments for randomforest with params: {'max_depth': 20, 'min_samples_split': 2, 'n_estimators': 300}\n"
     ]
    },
    {
     "name": "stderr",
     "output_type": "stream",
     "text": [
      "C:\\Users\\alvar\\anaconda3\\envs\\Plant-Reactivity-Analysis\\lib\\site-packages\\sklearn\\base.py:464: UserWarning: X does not have valid feature names, but RandomForestClassifier was fitted with feature names\n",
      "  warnings.warn(\n"
     ]
    },
    {
     "name": "stdout",
     "output_type": "stream",
     "text": [
      "Running experiments for randomforest with params: {'max_depth': 20, 'min_samples_split': 5, 'n_estimators': 100}\n"
     ]
    },
    {
     "name": "stderr",
     "output_type": "stream",
     "text": [
      "C:\\Users\\alvar\\anaconda3\\envs\\Plant-Reactivity-Analysis\\lib\\site-packages\\sklearn\\base.py:464: UserWarning: X does not have valid feature names, but RandomForestClassifier was fitted with feature names\n",
      "  warnings.warn(\n"
     ]
    },
    {
     "name": "stdout",
     "output_type": "stream",
     "text": [
      "Running experiments for randomforest with params: {'max_depth': 20, 'min_samples_split': 5, 'n_estimators': 200}\n"
     ]
    },
    {
     "name": "stderr",
     "output_type": "stream",
     "text": [
      "C:\\Users\\alvar\\anaconda3\\envs\\Plant-Reactivity-Analysis\\lib\\site-packages\\sklearn\\base.py:464: UserWarning: X does not have valid feature names, but RandomForestClassifier was fitted with feature names\n",
      "  warnings.warn(\n"
     ]
    },
    {
     "name": "stdout",
     "output_type": "stream",
     "text": [
      "Running experiments for randomforest with params: {'max_depth': 20, 'min_samples_split': 5, 'n_estimators': 300}\n"
     ]
    },
    {
     "name": "stderr",
     "output_type": "stream",
     "text": [
      "C:\\Users\\alvar\\anaconda3\\envs\\Plant-Reactivity-Analysis\\lib\\site-packages\\sklearn\\base.py:464: UserWarning: X does not have valid feature names, but RandomForestClassifier was fitted with feature names\n",
      "  warnings.warn(\n"
     ]
    },
    {
     "name": "stdout",
     "output_type": "stream",
     "text": [
      "Running experiments for gradientboosting with params: {'learning_rate': 0.1, 'max_depth': 3, 'n_estimators': 100}\n"
     ]
    },
    {
     "name": "stderr",
     "output_type": "stream",
     "text": [
      "C:\\Users\\alvar\\anaconda3\\envs\\Plant-Reactivity-Analysis\\lib\\site-packages\\sklearn\\base.py:464: UserWarning: X does not have valid feature names, but GradientBoostingClassifier was fitted with feature names\n",
      "  warnings.warn(\n"
     ]
    },
    {
     "name": "stdout",
     "output_type": "stream",
     "text": [
      "Running experiments for gradientboosting with params: {'learning_rate': 0.1, 'max_depth': 3, 'n_estimators': 200}\n"
     ]
    },
    {
     "name": "stderr",
     "output_type": "stream",
     "text": [
      "C:\\Users\\alvar\\anaconda3\\envs\\Plant-Reactivity-Analysis\\lib\\site-packages\\sklearn\\base.py:464: UserWarning: X does not have valid feature names, but GradientBoostingClassifier was fitted with feature names\n",
      "  warnings.warn(\n"
     ]
    },
    {
     "name": "stdout",
     "output_type": "stream",
     "text": [
      "Running experiments for gradientboosting with params: {'learning_rate': 0.1, 'max_depth': 5, 'n_estimators': 100}\n"
     ]
    },
    {
     "name": "stderr",
     "output_type": "stream",
     "text": [
      "C:\\Users\\alvar\\anaconda3\\envs\\Plant-Reactivity-Analysis\\lib\\site-packages\\sklearn\\base.py:464: UserWarning: X does not have valid feature names, but GradientBoostingClassifier was fitted with feature names\n",
      "  warnings.warn(\n"
     ]
    },
    {
     "name": "stdout",
     "output_type": "stream",
     "text": [
      "Running experiments for gradientboosting with params: {'learning_rate': 0.1, 'max_depth': 5, 'n_estimators': 200}\n"
     ]
    },
    {
     "name": "stderr",
     "output_type": "stream",
     "text": [
      "C:\\Users\\alvar\\anaconda3\\envs\\Plant-Reactivity-Analysis\\lib\\site-packages\\sklearn\\base.py:464: UserWarning: X does not have valid feature names, but GradientBoostingClassifier was fitted with feature names\n",
      "  warnings.warn(\n"
     ]
    },
    {
     "name": "stdout",
     "output_type": "stream",
     "text": [
      "Running experiments for gradientboosting with params: {'learning_rate': 0.05, 'max_depth': 3, 'n_estimators': 100}\n"
     ]
    },
    {
     "name": "stderr",
     "output_type": "stream",
     "text": [
      "C:\\Users\\alvar\\anaconda3\\envs\\Plant-Reactivity-Analysis\\lib\\site-packages\\sklearn\\base.py:464: UserWarning: X does not have valid feature names, but GradientBoostingClassifier was fitted with feature names\n",
      "  warnings.warn(\n"
     ]
    },
    {
     "name": "stdout",
     "output_type": "stream",
     "text": [
      "Running experiments for gradientboosting with params: {'learning_rate': 0.05, 'max_depth': 3, 'n_estimators': 200}\n"
     ]
    },
    {
     "name": "stderr",
     "output_type": "stream",
     "text": [
      "C:\\Users\\alvar\\anaconda3\\envs\\Plant-Reactivity-Analysis\\lib\\site-packages\\sklearn\\base.py:464: UserWarning: X does not have valid feature names, but GradientBoostingClassifier was fitted with feature names\n",
      "  warnings.warn(\n"
     ]
    },
    {
     "name": "stdout",
     "output_type": "stream",
     "text": [
      "Running experiments for gradientboosting with params: {'learning_rate': 0.05, 'max_depth': 5, 'n_estimators': 100}\n"
     ]
    },
    {
     "name": "stderr",
     "output_type": "stream",
     "text": [
      "C:\\Users\\alvar\\anaconda3\\envs\\Plant-Reactivity-Analysis\\lib\\site-packages\\sklearn\\base.py:464: UserWarning: X does not have valid feature names, but GradientBoostingClassifier was fitted with feature names\n",
      "  warnings.warn(\n"
     ]
    },
    {
     "name": "stdout",
     "output_type": "stream",
     "text": [
      "Running experiments for gradientboosting with params: {'learning_rate': 0.05, 'max_depth': 5, 'n_estimators': 200}\n"
     ]
    },
    {
     "name": "stderr",
     "output_type": "stream",
     "text": [
      "C:\\Users\\alvar\\anaconda3\\envs\\Plant-Reactivity-Analysis\\lib\\site-packages\\sklearn\\base.py:464: UserWarning: X does not have valid feature names, but GradientBoostingClassifier was fitted with feature names\n",
      "  warnings.warn(\n"
     ]
    },
    {
     "name": "stdout",
     "output_type": "stream",
     "text": [
      "Running experiments for extratrees with params: {'max_depth': None, 'min_samples_split': 2, 'n_estimators': 100}\n"
     ]
    },
    {
     "name": "stderr",
     "output_type": "stream",
     "text": [
      "C:\\Users\\alvar\\anaconda3\\envs\\Plant-Reactivity-Analysis\\lib\\site-packages\\sklearn\\base.py:464: UserWarning: X does not have valid feature names, but ExtraTreesClassifier was fitted with feature names\n",
      "  warnings.warn(\n"
     ]
    },
    {
     "name": "stdout",
     "output_type": "stream",
     "text": [
      "Running experiments for extratrees with params: {'max_depth': None, 'min_samples_split': 2, 'n_estimators': 200}\n"
     ]
    },
    {
     "name": "stderr",
     "output_type": "stream",
     "text": [
      "C:\\Users\\alvar\\anaconda3\\envs\\Plant-Reactivity-Analysis\\lib\\site-packages\\sklearn\\base.py:464: UserWarning: X does not have valid feature names, but ExtraTreesClassifier was fitted with feature names\n",
      "  warnings.warn(\n"
     ]
    },
    {
     "name": "stdout",
     "output_type": "stream",
     "text": [
      "Running experiments for extratrees with params: {'max_depth': None, 'min_samples_split': 5, 'n_estimators': 100}\n"
     ]
    },
    {
     "name": "stderr",
     "output_type": "stream",
     "text": [
      "C:\\Users\\alvar\\anaconda3\\envs\\Plant-Reactivity-Analysis\\lib\\site-packages\\sklearn\\base.py:464: UserWarning: X does not have valid feature names, but ExtraTreesClassifier was fitted with feature names\n",
      "  warnings.warn(\n"
     ]
    },
    {
     "name": "stdout",
     "output_type": "stream",
     "text": [
      "Running experiments for extratrees with params: {'max_depth': None, 'min_samples_split': 5, 'n_estimators': 200}\n"
     ]
    },
    {
     "name": "stderr",
     "output_type": "stream",
     "text": [
      "C:\\Users\\alvar\\anaconda3\\envs\\Plant-Reactivity-Analysis\\lib\\site-packages\\sklearn\\base.py:464: UserWarning: X does not have valid feature names, but ExtraTreesClassifier was fitted with feature names\n",
      "  warnings.warn(\n"
     ]
    },
    {
     "name": "stdout",
     "output_type": "stream",
     "text": [
      "Running experiments for extratrees with params: {'max_depth': 20, 'min_samples_split': 2, 'n_estimators': 100}\n"
     ]
    },
    {
     "name": "stderr",
     "output_type": "stream",
     "text": [
      "C:\\Users\\alvar\\anaconda3\\envs\\Plant-Reactivity-Analysis\\lib\\site-packages\\sklearn\\base.py:464: UserWarning: X does not have valid feature names, but ExtraTreesClassifier was fitted with feature names\n",
      "  warnings.warn(\n"
     ]
    },
    {
     "name": "stdout",
     "output_type": "stream",
     "text": [
      "Running experiments for extratrees with params: {'max_depth': 20, 'min_samples_split': 2, 'n_estimators': 200}\n"
     ]
    },
    {
     "name": "stderr",
     "output_type": "stream",
     "text": [
      "C:\\Users\\alvar\\anaconda3\\envs\\Plant-Reactivity-Analysis\\lib\\site-packages\\sklearn\\base.py:464: UserWarning: X does not have valid feature names, but ExtraTreesClassifier was fitted with feature names\n",
      "  warnings.warn(\n"
     ]
    },
    {
     "name": "stdout",
     "output_type": "stream",
     "text": [
      "Running experiments for extratrees with params: {'max_depth': 20, 'min_samples_split': 5, 'n_estimators': 100}\n"
     ]
    },
    {
     "name": "stderr",
     "output_type": "stream",
     "text": [
      "C:\\Users\\alvar\\anaconda3\\envs\\Plant-Reactivity-Analysis\\lib\\site-packages\\sklearn\\base.py:464: UserWarning: X does not have valid feature names, but ExtraTreesClassifier was fitted with feature names\n",
      "  warnings.warn(\n"
     ]
    },
    {
     "name": "stdout",
     "output_type": "stream",
     "text": [
      "Running experiments for extratrees with params: {'max_depth': 20, 'min_samples_split': 5, 'n_estimators': 200}\n"
     ]
    },
    {
     "name": "stderr",
     "output_type": "stream",
     "text": [
      "C:\\Users\\alvar\\anaconda3\\envs\\Plant-Reactivity-Analysis\\lib\\site-packages\\sklearn\\base.py:464: UserWarning: X does not have valid feature names, but ExtraTreesClassifier was fitted with feature names\n",
      "  warnings.warn(\n",
      "C:\\Users\\alvar\\anaconda3\\envs\\Plant-Reactivity-Analysis\\lib\\site-packages\\sklearn\\base.py:464: UserWarning: X does not have valid feature names, but GaussianNB was fitted with feature names\n",
      "  warnings.warn(\n",
      "C:\\Users\\alvar\\anaconda3\\envs\\Plant-Reactivity-Analysis\\lib\\site-packages\\sklearn\\base.py:464: UserWarning: X does not have valid feature names, but GaussianNB was fitted with feature names\n",
      "  warnings.warn(\n",
      "C:\\Users\\alvar\\anaconda3\\envs\\Plant-Reactivity-Analysis\\lib\\site-packages\\sklearn\\base.py:464: UserWarning: X does not have valid feature names, but GaussianNB was fitted with feature names\n",
      "  warnings.warn(\n"
     ]
    },
    {
     "name": "stdout",
     "output_type": "stream",
     "text": [
      "Running experiments for gaussiannb with params: {'var_smoothing': 1e-09}\n",
      "Running experiments for gaussiannb with params: {'var_smoothing': 1e-08}\n",
      "Running experiments for gaussiannb with params: {'var_smoothing': 1e-10}\n",
      "Running experiments for adaboost with params: {'learning_rate': 0.1, 'n_estimators': 50}\n"
     ]
    },
    {
     "name": "stderr",
     "output_type": "stream",
     "text": [
      "C:\\Users\\alvar\\anaconda3\\envs\\Plant-Reactivity-Analysis\\lib\\site-packages\\sklearn\\base.py:464: UserWarning: X does not have valid feature names, but AdaBoostClassifier was fitted with feature names\n",
      "  warnings.warn(\n"
     ]
    },
    {
     "name": "stdout",
     "output_type": "stream",
     "text": [
      "Running experiments for adaboost with params: {'learning_rate': 0.1, 'n_estimators': 100}\n"
     ]
    },
    {
     "name": "stderr",
     "output_type": "stream",
     "text": [
      "C:\\Users\\alvar\\anaconda3\\envs\\Plant-Reactivity-Analysis\\lib\\site-packages\\sklearn\\base.py:464: UserWarning: X does not have valid feature names, but AdaBoostClassifier was fitted with feature names\n",
      "  warnings.warn(\n"
     ]
    },
    {
     "name": "stdout",
     "output_type": "stream",
     "text": [
      "Running experiments for adaboost with params: {'learning_rate': 1.0, 'n_estimators': 50}\n"
     ]
    },
    {
     "name": "stderr",
     "output_type": "stream",
     "text": [
      "C:\\Users\\alvar\\anaconda3\\envs\\Plant-Reactivity-Analysis\\lib\\site-packages\\sklearn\\base.py:464: UserWarning: X does not have valid feature names, but AdaBoostClassifier was fitted with feature names\n",
      "  warnings.warn(\n"
     ]
    },
    {
     "name": "stdout",
     "output_type": "stream",
     "text": [
      "Running experiments for adaboost with params: {'learning_rate': 1.0, 'n_estimators': 100}\n"
     ]
    },
    {
     "name": "stderr",
     "output_type": "stream",
     "text": [
      "C:\\Users\\alvar\\anaconda3\\envs\\Plant-Reactivity-Analysis\\lib\\site-packages\\sklearn\\base.py:464: UserWarning: X does not have valid feature names, but AdaBoostClassifier was fitted with feature names\n",
      "  warnings.warn(\n",
      "C:\\Users\\alvar\\anaconda3\\envs\\Plant-Reactivity-Analysis\\lib\\site-packages\\sklearn\\base.py:464: UserWarning: X does not have valid feature names, but LogisticRegression was fitted with feature names\n",
      "  warnings.warn(\n"
     ]
    },
    {
     "name": "stdout",
     "output_type": "stream",
     "text": [
      "Running experiments for logisticregression with params: {'C': 0.1, 'solver': 'liblinear'}\n",
      "Running experiments for logisticregression with params: {'C': 0.1, 'solver': 'lbfgs'}\n"
     ]
    },
    {
     "name": "stderr",
     "output_type": "stream",
     "text": [
      "C:\\Users\\alvar\\anaconda3\\envs\\Plant-Reactivity-Analysis\\lib\\site-packages\\sklearn\\base.py:464: UserWarning: X does not have valid feature names, but LogisticRegression was fitted with feature names\n",
      "  warnings.warn(\n",
      "C:\\Users\\alvar\\anaconda3\\envs\\Plant-Reactivity-Analysis\\lib\\site-packages\\sklearn\\base.py:464: UserWarning: X does not have valid feature names, but LogisticRegression was fitted with feature names\n",
      "  warnings.warn(\n"
     ]
    },
    {
     "name": "stdout",
     "output_type": "stream",
     "text": [
      "Running experiments for logisticregression with params: {'C': 1, 'solver': 'liblinear'}\n",
      "Running experiments for logisticregression with params: {'C': 1, 'solver': 'lbfgs'}\n"
     ]
    },
    {
     "name": "stderr",
     "output_type": "stream",
     "text": [
      "C:\\Users\\alvar\\anaconda3\\envs\\Plant-Reactivity-Analysis\\lib\\site-packages\\sklearn\\base.py:464: UserWarning: X does not have valid feature names, but LogisticRegression was fitted with feature names\n",
      "  warnings.warn(\n",
      "C:\\Users\\alvar\\anaconda3\\envs\\Plant-Reactivity-Analysis\\lib\\site-packages\\sklearn\\base.py:464: UserWarning: X does not have valid feature names, but LogisticRegression was fitted with feature names\n",
      "  warnings.warn(\n"
     ]
    },
    {
     "name": "stdout",
     "output_type": "stream",
     "text": [
      "Running experiments for logisticregression with params: {'C': 10, 'solver': 'liblinear'}\n",
      "Running experiments for logisticregression with params: {'C': 10, 'solver': 'lbfgs'}\n"
     ]
    },
    {
     "name": "stderr",
     "output_type": "stream",
     "text": [
      "C:\\Users\\alvar\\anaconda3\\envs\\Plant-Reactivity-Analysis\\lib\\site-packages\\sklearn\\base.py:464: UserWarning: X does not have valid feature names, but LogisticRegression was fitted with feature names\n",
      "  warnings.warn(\n",
      "C:\\Users\\alvar\\anaconda3\\envs\\Plant-Reactivity-Analysis\\lib\\site-packages\\sklearn\\base.py:464: UserWarning: X does not have valid feature names, but KNeighborsClassifier was fitted with feature names\n",
      "  warnings.warn(\n",
      "C:\\Users\\alvar\\anaconda3\\envs\\Plant-Reactivity-Analysis\\lib\\site-packages\\sklearn\\base.py:464: UserWarning: X does not have valid feature names, but KNeighborsClassifier was fitted with feature names\n",
      "  warnings.warn(\n"
     ]
    },
    {
     "name": "stdout",
     "output_type": "stream",
     "text": [
      "Running experiments for kneighbors with params: {'n_neighbors': 5, 'weights': 'uniform'}\n",
      "Running experiments for kneighbors with params: {'n_neighbors': 5, 'weights': 'distance'}\n",
      "Running experiments for kneighbors with params: {'n_neighbors': 10, 'weights': 'uniform'}\n",
      "Running experiments for kneighbors with params: {'n_neighbors': 10, 'weights': 'distance'}\n"
     ]
    },
    {
     "name": "stderr",
     "output_type": "stream",
     "text": [
      "C:\\Users\\alvar\\anaconda3\\envs\\Plant-Reactivity-Analysis\\lib\\site-packages\\sklearn\\base.py:464: UserWarning: X does not have valid feature names, but KNeighborsClassifier was fitted with feature names\n",
      "  warnings.warn(\n",
      "C:\\Users\\alvar\\anaconda3\\envs\\Plant-Reactivity-Analysis\\lib\\site-packages\\sklearn\\base.py:464: UserWarning: X does not have valid feature names, but KNeighborsClassifier was fitted with feature names\n",
      "  warnings.warn(\n"
     ]
    },
    {
     "name": "stdout",
     "output_type": "stream",
     "text": [
      "Running experiments for kneighbors with params: {'n_neighbors': 15, 'weights': 'uniform'}\n",
      "Running experiments for kneighbors with params: {'n_neighbors': 15, 'weights': 'distance'}\n"
     ]
    },
    {
     "name": "stderr",
     "output_type": "stream",
     "text": [
      "C:\\Users\\alvar\\anaconda3\\envs\\Plant-Reactivity-Analysis\\lib\\site-packages\\sklearn\\base.py:464: UserWarning: X does not have valid feature names, but KNeighborsClassifier was fitted with feature names\n",
      "  warnings.warn(\n",
      "C:\\Users\\alvar\\anaconda3\\envs\\Plant-Reactivity-Analysis\\lib\\site-packages\\sklearn\\base.py:464: UserWarning: X does not have valid feature names, but KNeighborsClassifier was fitted with feature names\n",
      "  warnings.warn(\n"
     ]
    },
    {
     "name": "stdout",
     "output_type": "stream",
     "text": [
      "Running experiments for lgbm with params: {'learning_rate': 0.1, 'n_estimators': 100, 'num_leaves': 31}\n",
      "[LightGBM] [Warning] Found whitespace in feature_names, replace with underlines\n",
      "[LightGBM] [Info] Auto-choosing col-wise multi-threading, the overhead of testing was 0.001134 seconds.\n",
      "You can set `force_col_wise=true` to remove the overhead.\n",
      "[LightGBM] [Info] Total Bins 12271\n",
      "[LightGBM] [Info] Number of data points in the train set: 2985, number of used features: 49\n",
      "[LightGBM] [Info] Start training from score -1.095602\n",
      "[LightGBM] [Info] Start training from score -1.091602\n",
      "[LightGBM] [Info] Start training from score -1.108713\n",
      "Running experiments for lgbm with params: {'learning_rate': 0.1, 'n_estimators': 100, 'num_leaves': 64}\n",
      "[LightGBM] [Warning] Found whitespace in feature_names, replace with underlines\n",
      "[LightGBM] [Info] Auto-choosing col-wise multi-threading, the overhead of testing was 0.001151 seconds.\n",
      "You can set `force_col_wise=true` to remove the overhead.\n",
      "[LightGBM] [Info] Total Bins 12271\n",
      "[LightGBM] [Info] Number of data points in the train set: 2985, number of used features: 49\n",
      "[LightGBM] [Info] Start training from score -1.095602\n",
      "[LightGBM] [Info] Start training from score -1.091602\n",
      "[LightGBM] [Info] Start training from score -1.108713\n",
      "Running experiments for lgbm with params: {'learning_rate': 0.1, 'n_estimators': 200, 'num_leaves': 31}\n",
      "[LightGBM] [Warning] Found whitespace in feature_names, replace with underlines\n",
      "[LightGBM] [Info] Auto-choosing col-wise multi-threading, the overhead of testing was 0.001339 seconds.\n",
      "You can set `force_col_wise=true` to remove the overhead.\n",
      "[LightGBM] [Info] Total Bins 12271\n",
      "[LightGBM] [Info] Number of data points in the train set: 2985, number of used features: 49\n",
      "[LightGBM] [Info] Start training from score -1.095602\n",
      "[LightGBM] [Info] Start training from score -1.091602\n",
      "[LightGBM] [Info] Start training from score -1.108713\n",
      "Running experiments for lgbm with params: {'learning_rate': 0.1, 'n_estimators': 200, 'num_leaves': 64}\n",
      "[LightGBM] [Warning] Found whitespace in feature_names, replace with underlines\n",
      "[LightGBM] [Info] Auto-choosing col-wise multi-threading, the overhead of testing was 0.001092 seconds.\n",
      "You can set `force_col_wise=true` to remove the overhead.\n",
      "[LightGBM] [Info] Total Bins 12271\n",
      "[LightGBM] [Info] Number of data points in the train set: 2985, number of used features: 49\n",
      "[LightGBM] [Info] Start training from score -1.095602\n",
      "[LightGBM] [Info] Start training from score -1.091602\n",
      "[LightGBM] [Info] Start training from score -1.108713\n",
      "Running experiments for lgbm with params: {'learning_rate': 0.05, 'n_estimators': 100, 'num_leaves': 31}\n",
      "[LightGBM] [Warning] Found whitespace in feature_names, replace with underlines\n",
      "[LightGBM] [Info] Auto-choosing col-wise multi-threading, the overhead of testing was 0.001111 seconds.\n",
      "You can set `force_col_wise=true` to remove the overhead.\n",
      "[LightGBM] [Info] Total Bins 12271\n",
      "[LightGBM] [Info] Number of data points in the train set: 2985, number of used features: 49\n",
      "[LightGBM] [Info] Start training from score -1.095602\n",
      "[LightGBM] [Info] Start training from score -1.091602\n",
      "[LightGBM] [Info] Start training from score -1.108713\n",
      "Running experiments for lgbm with params: {'learning_rate': 0.05, 'n_estimators': 100, 'num_leaves': 64}\n",
      "[LightGBM] [Warning] Found whitespace in feature_names, replace with underlines\n",
      "[LightGBM] [Info] Auto-choosing col-wise multi-threading, the overhead of testing was 0.000814 seconds.\n",
      "You can set `force_col_wise=true` to remove the overhead.\n",
      "[LightGBM] [Info] Total Bins 12271\n",
      "[LightGBM] [Info] Number of data points in the train set: 2985, number of used features: 49\n",
      "[LightGBM] [Info] Start training from score -1.095602\n",
      "[LightGBM] [Info] Start training from score -1.091602\n",
      "[LightGBM] [Info] Start training from score -1.108713\n",
      "Running experiments for lgbm with params: {'learning_rate': 0.05, 'n_estimators': 200, 'num_leaves': 31}\n",
      "[LightGBM] [Warning] Found whitespace in feature_names, replace with underlines\n",
      "[LightGBM] [Info] Auto-choosing col-wise multi-threading, the overhead of testing was 0.000783 seconds.\n",
      "You can set `force_col_wise=true` to remove the overhead.\n",
      "[LightGBM] [Info] Total Bins 12271\n",
      "[LightGBM] [Info] Number of data points in the train set: 2985, number of used features: 49\n",
      "[LightGBM] [Info] Start training from score -1.095602\n",
      "[LightGBM] [Info] Start training from score -1.091602\n",
      "[LightGBM] [Info] Start training from score -1.108713\n",
      "Running experiments for lgbm with params: {'learning_rate': 0.05, 'n_estimators': 200, 'num_leaves': 64}\n",
      "[LightGBM] [Warning] Found whitespace in feature_names, replace with underlines\n",
      "[LightGBM] [Info] Auto-choosing col-wise multi-threading, the overhead of testing was 0.001055 seconds.\n",
      "You can set `force_col_wise=true` to remove the overhead.\n",
      "[LightGBM] [Info] Total Bins 12271\n",
      "[LightGBM] [Info] Number of data points in the train set: 2985, number of used features: 49\n",
      "[LightGBM] [Info] Start training from score -1.095602\n",
      "[LightGBM] [Info] Start training from score -1.091602\n",
      "[LightGBM] [Info] Start training from score -1.108713\n",
      "Running experiments for xgb with params: {'learning_rate': 0.1, 'max_depth': 3, 'n_estimators': 100}\n",
      "Running experiments for xgb with params: {'learning_rate': 0.1, 'max_depth': 3, 'n_estimators': 200}\n",
      "Running experiments for xgb with params: {'learning_rate': 0.1, 'max_depth': 6, 'n_estimators': 100}\n",
      "Running experiments for xgb with params: {'learning_rate': 0.1, 'max_depth': 6, 'n_estimators': 200}\n",
      "Running experiments for xgb with params: {'learning_rate': 0.05, 'max_depth': 3, 'n_estimators': 100}\n",
      "Running experiments for xgb with params: {'learning_rate': 0.05, 'max_depth': 3, 'n_estimators': 200}\n",
      "Running experiments for xgb with params: {'learning_rate': 0.05, 'max_depth': 6, 'n_estimators': 100}\n",
      "Running experiments for xgb with params: {'learning_rate': 0.05, 'max_depth': 6, 'n_estimators': 200}\n",
      "Now processing Dataset 2...\n",
      "  Processing RQ 1 within Dataset 2...\n",
      "Running experiments for randomforest with params: {'max_depth': None, 'min_samples_split': 2, 'n_estimators': 100}\n"
     ]
    },
    {
     "name": "stderr",
     "output_type": "stream",
     "text": [
      "C:\\Users\\alvar\\anaconda3\\envs\\Plant-Reactivity-Analysis\\lib\\site-packages\\sklearn\\base.py:464: UserWarning: X does not have valid feature names, but RandomForestClassifier was fitted with feature names\n",
      "  warnings.warn(\n"
     ]
    },
    {
     "name": "stdout",
     "output_type": "stream",
     "text": [
      "Running experiments for randomforest with params: {'max_depth': None, 'min_samples_split': 2, 'n_estimators': 200}\n"
     ]
    },
    {
     "name": "stderr",
     "output_type": "stream",
     "text": [
      "C:\\Users\\alvar\\anaconda3\\envs\\Plant-Reactivity-Analysis\\lib\\site-packages\\sklearn\\base.py:464: UserWarning: X does not have valid feature names, but RandomForestClassifier was fitted with feature names\n",
      "  warnings.warn(\n"
     ]
    },
    {
     "name": "stdout",
     "output_type": "stream",
     "text": [
      "Running experiments for randomforest with params: {'max_depth': None, 'min_samples_split': 2, 'n_estimators': 300}\n"
     ]
    },
    {
     "name": "stderr",
     "output_type": "stream",
     "text": [
      "C:\\Users\\alvar\\anaconda3\\envs\\Plant-Reactivity-Analysis\\lib\\site-packages\\sklearn\\base.py:464: UserWarning: X does not have valid feature names, but RandomForestClassifier was fitted with feature names\n",
      "  warnings.warn(\n"
     ]
    },
    {
     "name": "stdout",
     "output_type": "stream",
     "text": [
      "Running experiments for randomforest with params: {'max_depth': None, 'min_samples_split': 5, 'n_estimators': 100}\n"
     ]
    },
    {
     "name": "stderr",
     "output_type": "stream",
     "text": [
      "C:\\Users\\alvar\\anaconda3\\envs\\Plant-Reactivity-Analysis\\lib\\site-packages\\sklearn\\base.py:464: UserWarning: X does not have valid feature names, but RandomForestClassifier was fitted with feature names\n",
      "  warnings.warn(\n"
     ]
    },
    {
     "name": "stdout",
     "output_type": "stream",
     "text": [
      "Running experiments for randomforest with params: {'max_depth': None, 'min_samples_split': 5, 'n_estimators': 200}\n"
     ]
    },
    {
     "name": "stderr",
     "output_type": "stream",
     "text": [
      "C:\\Users\\alvar\\anaconda3\\envs\\Plant-Reactivity-Analysis\\lib\\site-packages\\sklearn\\base.py:464: UserWarning: X does not have valid feature names, but RandomForestClassifier was fitted with feature names\n",
      "  warnings.warn(\n"
     ]
    },
    {
     "name": "stdout",
     "output_type": "stream",
     "text": [
      "Running experiments for randomforest with params: {'max_depth': None, 'min_samples_split': 5, 'n_estimators': 300}\n"
     ]
    },
    {
     "name": "stderr",
     "output_type": "stream",
     "text": [
      "C:\\Users\\alvar\\anaconda3\\envs\\Plant-Reactivity-Analysis\\lib\\site-packages\\sklearn\\base.py:464: UserWarning: X does not have valid feature names, but RandomForestClassifier was fitted with feature names\n",
      "  warnings.warn(\n"
     ]
    },
    {
     "name": "stdout",
     "output_type": "stream",
     "text": [
      "Running experiments for randomforest with params: {'max_depth': 10, 'min_samples_split': 2, 'n_estimators': 100}\n"
     ]
    },
    {
     "name": "stderr",
     "output_type": "stream",
     "text": [
      "C:\\Users\\alvar\\anaconda3\\envs\\Plant-Reactivity-Analysis\\lib\\site-packages\\sklearn\\base.py:464: UserWarning: X does not have valid feature names, but RandomForestClassifier was fitted with feature names\n",
      "  warnings.warn(\n"
     ]
    },
    {
     "name": "stdout",
     "output_type": "stream",
     "text": [
      "Running experiments for randomforest with params: {'max_depth': 10, 'min_samples_split': 2, 'n_estimators': 200}\n"
     ]
    },
    {
     "name": "stderr",
     "output_type": "stream",
     "text": [
      "C:\\Users\\alvar\\anaconda3\\envs\\Plant-Reactivity-Analysis\\lib\\site-packages\\sklearn\\base.py:464: UserWarning: X does not have valid feature names, but RandomForestClassifier was fitted with feature names\n",
      "  warnings.warn(\n"
     ]
    },
    {
     "name": "stdout",
     "output_type": "stream",
     "text": [
      "Running experiments for randomforest with params: {'max_depth': 10, 'min_samples_split': 2, 'n_estimators': 300}\n"
     ]
    },
    {
     "name": "stderr",
     "output_type": "stream",
     "text": [
      "C:\\Users\\alvar\\anaconda3\\envs\\Plant-Reactivity-Analysis\\lib\\site-packages\\sklearn\\base.py:464: UserWarning: X does not have valid feature names, but RandomForestClassifier was fitted with feature names\n",
      "  warnings.warn(\n"
     ]
    },
    {
     "name": "stdout",
     "output_type": "stream",
     "text": [
      "Running experiments for randomforest with params: {'max_depth': 10, 'min_samples_split': 5, 'n_estimators': 100}\n"
     ]
    },
    {
     "name": "stderr",
     "output_type": "stream",
     "text": [
      "C:\\Users\\alvar\\anaconda3\\envs\\Plant-Reactivity-Analysis\\lib\\site-packages\\sklearn\\base.py:464: UserWarning: X does not have valid feature names, but RandomForestClassifier was fitted with feature names\n",
      "  warnings.warn(\n"
     ]
    },
    {
     "name": "stdout",
     "output_type": "stream",
     "text": [
      "Running experiments for randomforest with params: {'max_depth': 10, 'min_samples_split': 5, 'n_estimators': 200}\n"
     ]
    },
    {
     "name": "stderr",
     "output_type": "stream",
     "text": [
      "C:\\Users\\alvar\\anaconda3\\envs\\Plant-Reactivity-Analysis\\lib\\site-packages\\sklearn\\base.py:464: UserWarning: X does not have valid feature names, but RandomForestClassifier was fitted with feature names\n",
      "  warnings.warn(\n"
     ]
    },
    {
     "name": "stdout",
     "output_type": "stream",
     "text": [
      "Running experiments for randomforest with params: {'max_depth': 10, 'min_samples_split': 5, 'n_estimators': 300}\n"
     ]
    },
    {
     "name": "stderr",
     "output_type": "stream",
     "text": [
      "C:\\Users\\alvar\\anaconda3\\envs\\Plant-Reactivity-Analysis\\lib\\site-packages\\sklearn\\base.py:464: UserWarning: X does not have valid feature names, but RandomForestClassifier was fitted with feature names\n",
      "  warnings.warn(\n"
     ]
    },
    {
     "name": "stdout",
     "output_type": "stream",
     "text": [
      "Running experiments for randomforest with params: {'max_depth': 20, 'min_samples_split': 2, 'n_estimators': 100}\n"
     ]
    },
    {
     "name": "stderr",
     "output_type": "stream",
     "text": [
      "C:\\Users\\alvar\\anaconda3\\envs\\Plant-Reactivity-Analysis\\lib\\site-packages\\sklearn\\base.py:464: UserWarning: X does not have valid feature names, but RandomForestClassifier was fitted with feature names\n",
      "  warnings.warn(\n"
     ]
    },
    {
     "name": "stdout",
     "output_type": "stream",
     "text": [
      "Running experiments for randomforest with params: {'max_depth': 20, 'min_samples_split': 2, 'n_estimators': 200}\n"
     ]
    },
    {
     "name": "stderr",
     "output_type": "stream",
     "text": [
      "C:\\Users\\alvar\\anaconda3\\envs\\Plant-Reactivity-Analysis\\lib\\site-packages\\sklearn\\base.py:464: UserWarning: X does not have valid feature names, but RandomForestClassifier was fitted with feature names\n",
      "  warnings.warn(\n"
     ]
    },
    {
     "name": "stdout",
     "output_type": "stream",
     "text": [
      "Running experiments for randomforest with params: {'max_depth': 20, 'min_samples_split': 2, 'n_estimators': 300}\n"
     ]
    },
    {
     "name": "stderr",
     "output_type": "stream",
     "text": [
      "C:\\Users\\alvar\\anaconda3\\envs\\Plant-Reactivity-Analysis\\lib\\site-packages\\sklearn\\base.py:464: UserWarning: X does not have valid feature names, but RandomForestClassifier was fitted with feature names\n",
      "  warnings.warn(\n"
     ]
    },
    {
     "name": "stdout",
     "output_type": "stream",
     "text": [
      "Running experiments for randomforest with params: {'max_depth': 20, 'min_samples_split': 5, 'n_estimators': 100}\n"
     ]
    },
    {
     "name": "stderr",
     "output_type": "stream",
     "text": [
      "C:\\Users\\alvar\\anaconda3\\envs\\Plant-Reactivity-Analysis\\lib\\site-packages\\sklearn\\base.py:464: UserWarning: X does not have valid feature names, but RandomForestClassifier was fitted with feature names\n",
      "  warnings.warn(\n"
     ]
    },
    {
     "name": "stdout",
     "output_type": "stream",
     "text": [
      "Running experiments for randomforest with params: {'max_depth': 20, 'min_samples_split': 5, 'n_estimators': 200}\n"
     ]
    },
    {
     "name": "stderr",
     "output_type": "stream",
     "text": [
      "C:\\Users\\alvar\\anaconda3\\envs\\Plant-Reactivity-Analysis\\lib\\site-packages\\sklearn\\base.py:464: UserWarning: X does not have valid feature names, but RandomForestClassifier was fitted with feature names\n",
      "  warnings.warn(\n"
     ]
    },
    {
     "name": "stdout",
     "output_type": "stream",
     "text": [
      "Running experiments for randomforest with params: {'max_depth': 20, 'min_samples_split': 5, 'n_estimators': 300}\n"
     ]
    },
    {
     "name": "stderr",
     "output_type": "stream",
     "text": [
      "C:\\Users\\alvar\\anaconda3\\envs\\Plant-Reactivity-Analysis\\lib\\site-packages\\sklearn\\base.py:464: UserWarning: X does not have valid feature names, but RandomForestClassifier was fitted with feature names\n",
      "  warnings.warn(\n"
     ]
    },
    {
     "name": "stdout",
     "output_type": "stream",
     "text": [
      "Running experiments for gradientboosting with params: {'learning_rate': 0.1, 'max_depth': 3, 'n_estimators': 100}\n"
     ]
    },
    {
     "name": "stderr",
     "output_type": "stream",
     "text": [
      "C:\\Users\\alvar\\anaconda3\\envs\\Plant-Reactivity-Analysis\\lib\\site-packages\\sklearn\\base.py:464: UserWarning: X does not have valid feature names, but GradientBoostingClassifier was fitted with feature names\n",
      "  warnings.warn(\n"
     ]
    },
    {
     "name": "stdout",
     "output_type": "stream",
     "text": [
      "Running experiments for gradientboosting with params: {'learning_rate': 0.1, 'max_depth': 3, 'n_estimators': 200}\n"
     ]
    },
    {
     "name": "stderr",
     "output_type": "stream",
     "text": [
      "C:\\Users\\alvar\\anaconda3\\envs\\Plant-Reactivity-Analysis\\lib\\site-packages\\sklearn\\base.py:464: UserWarning: X does not have valid feature names, but GradientBoostingClassifier was fitted with feature names\n",
      "  warnings.warn(\n"
     ]
    },
    {
     "name": "stdout",
     "output_type": "stream",
     "text": [
      "Running experiments for gradientboosting with params: {'learning_rate': 0.1, 'max_depth': 5, 'n_estimators': 100}\n"
     ]
    },
    {
     "name": "stderr",
     "output_type": "stream",
     "text": [
      "C:\\Users\\alvar\\anaconda3\\envs\\Plant-Reactivity-Analysis\\lib\\site-packages\\sklearn\\base.py:464: UserWarning: X does not have valid feature names, but GradientBoostingClassifier was fitted with feature names\n",
      "  warnings.warn(\n"
     ]
    },
    {
     "name": "stdout",
     "output_type": "stream",
     "text": [
      "Running experiments for gradientboosting with params: {'learning_rate': 0.1, 'max_depth': 5, 'n_estimators': 200}\n"
     ]
    },
    {
     "name": "stderr",
     "output_type": "stream",
     "text": [
      "C:\\Users\\alvar\\anaconda3\\envs\\Plant-Reactivity-Analysis\\lib\\site-packages\\sklearn\\base.py:464: UserWarning: X does not have valid feature names, but GradientBoostingClassifier was fitted with feature names\n",
      "  warnings.warn(\n"
     ]
    },
    {
     "name": "stdout",
     "output_type": "stream",
     "text": [
      "Running experiments for gradientboosting with params: {'learning_rate': 0.05, 'max_depth': 3, 'n_estimators': 100}\n"
     ]
    },
    {
     "name": "stderr",
     "output_type": "stream",
     "text": [
      "C:\\Users\\alvar\\anaconda3\\envs\\Plant-Reactivity-Analysis\\lib\\site-packages\\sklearn\\base.py:464: UserWarning: X does not have valid feature names, but GradientBoostingClassifier was fitted with feature names\n",
      "  warnings.warn(\n"
     ]
    },
    {
     "name": "stdout",
     "output_type": "stream",
     "text": [
      "Running experiments for gradientboosting with params: {'learning_rate': 0.05, 'max_depth': 3, 'n_estimators': 200}\n"
     ]
    },
    {
     "name": "stderr",
     "output_type": "stream",
     "text": [
      "C:\\Users\\alvar\\anaconda3\\envs\\Plant-Reactivity-Analysis\\lib\\site-packages\\sklearn\\base.py:464: UserWarning: X does not have valid feature names, but GradientBoostingClassifier was fitted with feature names\n",
      "  warnings.warn(\n"
     ]
    },
    {
     "name": "stdout",
     "output_type": "stream",
     "text": [
      "Running experiments for gradientboosting with params: {'learning_rate': 0.05, 'max_depth': 5, 'n_estimators': 100}\n"
     ]
    },
    {
     "name": "stderr",
     "output_type": "stream",
     "text": [
      "C:\\Users\\alvar\\anaconda3\\envs\\Plant-Reactivity-Analysis\\lib\\site-packages\\sklearn\\base.py:464: UserWarning: X does not have valid feature names, but GradientBoostingClassifier was fitted with feature names\n",
      "  warnings.warn(\n"
     ]
    },
    {
     "name": "stdout",
     "output_type": "stream",
     "text": [
      "Running experiments for gradientboosting with params: {'learning_rate': 0.05, 'max_depth': 5, 'n_estimators': 200}\n"
     ]
    },
    {
     "name": "stderr",
     "output_type": "stream",
     "text": [
      "C:\\Users\\alvar\\anaconda3\\envs\\Plant-Reactivity-Analysis\\lib\\site-packages\\sklearn\\base.py:464: UserWarning: X does not have valid feature names, but GradientBoostingClassifier was fitted with feature names\n",
      "  warnings.warn(\n"
     ]
    },
    {
     "name": "stdout",
     "output_type": "stream",
     "text": [
      "Running experiments for extratrees with params: {'max_depth': None, 'min_samples_split': 2, 'n_estimators': 100}\n"
     ]
    },
    {
     "name": "stderr",
     "output_type": "stream",
     "text": [
      "C:\\Users\\alvar\\anaconda3\\envs\\Plant-Reactivity-Analysis\\lib\\site-packages\\sklearn\\base.py:464: UserWarning: X does not have valid feature names, but ExtraTreesClassifier was fitted with feature names\n",
      "  warnings.warn(\n"
     ]
    },
    {
     "name": "stdout",
     "output_type": "stream",
     "text": [
      "Running experiments for extratrees with params: {'max_depth': None, 'min_samples_split': 2, 'n_estimators': 200}\n"
     ]
    },
    {
     "name": "stderr",
     "output_type": "stream",
     "text": [
      "C:\\Users\\alvar\\anaconda3\\envs\\Plant-Reactivity-Analysis\\lib\\site-packages\\sklearn\\base.py:464: UserWarning: X does not have valid feature names, but ExtraTreesClassifier was fitted with feature names\n",
      "  warnings.warn(\n"
     ]
    },
    {
     "name": "stdout",
     "output_type": "stream",
     "text": [
      "Running experiments for extratrees with params: {'max_depth': None, 'min_samples_split': 5, 'n_estimators': 100}\n"
     ]
    },
    {
     "name": "stderr",
     "output_type": "stream",
     "text": [
      "C:\\Users\\alvar\\anaconda3\\envs\\Plant-Reactivity-Analysis\\lib\\site-packages\\sklearn\\base.py:464: UserWarning: X does not have valid feature names, but ExtraTreesClassifier was fitted with feature names\n",
      "  warnings.warn(\n"
     ]
    },
    {
     "name": "stdout",
     "output_type": "stream",
     "text": [
      "Running experiments for extratrees with params: {'max_depth': None, 'min_samples_split': 5, 'n_estimators': 200}\n"
     ]
    },
    {
     "name": "stderr",
     "output_type": "stream",
     "text": [
      "C:\\Users\\alvar\\anaconda3\\envs\\Plant-Reactivity-Analysis\\lib\\site-packages\\sklearn\\base.py:464: UserWarning: X does not have valid feature names, but ExtraTreesClassifier was fitted with feature names\n",
      "  warnings.warn(\n"
     ]
    },
    {
     "name": "stdout",
     "output_type": "stream",
     "text": [
      "Running experiments for extratrees with params: {'max_depth': 20, 'min_samples_split': 2, 'n_estimators': 100}\n"
     ]
    },
    {
     "name": "stderr",
     "output_type": "stream",
     "text": [
      "C:\\Users\\alvar\\anaconda3\\envs\\Plant-Reactivity-Analysis\\lib\\site-packages\\sklearn\\base.py:464: UserWarning: X does not have valid feature names, but ExtraTreesClassifier was fitted with feature names\n",
      "  warnings.warn(\n"
     ]
    },
    {
     "name": "stdout",
     "output_type": "stream",
     "text": [
      "Running experiments for extratrees with params: {'max_depth': 20, 'min_samples_split': 2, 'n_estimators': 200}\n"
     ]
    },
    {
     "name": "stderr",
     "output_type": "stream",
     "text": [
      "C:\\Users\\alvar\\anaconda3\\envs\\Plant-Reactivity-Analysis\\lib\\site-packages\\sklearn\\base.py:464: UserWarning: X does not have valid feature names, but ExtraTreesClassifier was fitted with feature names\n",
      "  warnings.warn(\n"
     ]
    },
    {
     "name": "stdout",
     "output_type": "stream",
     "text": [
      "Running experiments for extratrees with params: {'max_depth': 20, 'min_samples_split': 5, 'n_estimators': 100}\n"
     ]
    },
    {
     "name": "stderr",
     "output_type": "stream",
     "text": [
      "C:\\Users\\alvar\\anaconda3\\envs\\Plant-Reactivity-Analysis\\lib\\site-packages\\sklearn\\base.py:464: UserWarning: X does not have valid feature names, but ExtraTreesClassifier was fitted with feature names\n",
      "  warnings.warn(\n"
     ]
    },
    {
     "name": "stdout",
     "output_type": "stream",
     "text": [
      "Running experiments for extratrees with params: {'max_depth': 20, 'min_samples_split': 5, 'n_estimators': 200}\n"
     ]
    },
    {
     "name": "stderr",
     "output_type": "stream",
     "text": [
      "C:\\Users\\alvar\\anaconda3\\envs\\Plant-Reactivity-Analysis\\lib\\site-packages\\sklearn\\base.py:464: UserWarning: X does not have valid feature names, but ExtraTreesClassifier was fitted with feature names\n",
      "  warnings.warn(\n",
      "C:\\Users\\alvar\\anaconda3\\envs\\Plant-Reactivity-Analysis\\lib\\site-packages\\sklearn\\base.py:464: UserWarning: X does not have valid feature names, but GaussianNB was fitted with feature names\n",
      "  warnings.warn(\n",
      "C:\\Users\\alvar\\anaconda3\\envs\\Plant-Reactivity-Analysis\\lib\\site-packages\\sklearn\\base.py:464: UserWarning: X does not have valid feature names, but GaussianNB was fitted with feature names\n",
      "  warnings.warn(\n",
      "C:\\Users\\alvar\\anaconda3\\envs\\Plant-Reactivity-Analysis\\lib\\site-packages\\sklearn\\base.py:464: UserWarning: X does not have valid feature names, but GaussianNB was fitted with feature names\n",
      "  warnings.warn(\n"
     ]
    },
    {
     "name": "stdout",
     "output_type": "stream",
     "text": [
      "Running experiments for gaussiannb with params: {'var_smoothing': 1e-09}\n",
      "Running experiments for gaussiannb with params: {'var_smoothing': 1e-08}\n",
      "Running experiments for gaussiannb with params: {'var_smoothing': 1e-10}\n",
      "Running experiments for adaboost with params: {'learning_rate': 0.1, 'n_estimators': 50}\n"
     ]
    },
    {
     "name": "stderr",
     "output_type": "stream",
     "text": [
      "C:\\Users\\alvar\\anaconda3\\envs\\Plant-Reactivity-Analysis\\lib\\site-packages\\sklearn\\base.py:464: UserWarning: X does not have valid feature names, but AdaBoostClassifier was fitted with feature names\n",
      "  warnings.warn(\n"
     ]
    },
    {
     "name": "stdout",
     "output_type": "stream",
     "text": [
      "Running experiments for adaboost with params: {'learning_rate': 0.1, 'n_estimators': 100}\n"
     ]
    },
    {
     "name": "stderr",
     "output_type": "stream",
     "text": [
      "C:\\Users\\alvar\\anaconda3\\envs\\Plant-Reactivity-Analysis\\lib\\site-packages\\sklearn\\base.py:464: UserWarning: X does not have valid feature names, but AdaBoostClassifier was fitted with feature names\n",
      "  warnings.warn(\n"
     ]
    },
    {
     "name": "stdout",
     "output_type": "stream",
     "text": [
      "Running experiments for adaboost with params: {'learning_rate': 1.0, 'n_estimators': 50}\n"
     ]
    },
    {
     "name": "stderr",
     "output_type": "stream",
     "text": [
      "C:\\Users\\alvar\\anaconda3\\envs\\Plant-Reactivity-Analysis\\lib\\site-packages\\sklearn\\base.py:464: UserWarning: X does not have valid feature names, but AdaBoostClassifier was fitted with feature names\n",
      "  warnings.warn(\n"
     ]
    },
    {
     "name": "stdout",
     "output_type": "stream",
     "text": [
      "Running experiments for adaboost with params: {'learning_rate': 1.0, 'n_estimators': 100}\n"
     ]
    },
    {
     "name": "stderr",
     "output_type": "stream",
     "text": [
      "C:\\Users\\alvar\\anaconda3\\envs\\Plant-Reactivity-Analysis\\lib\\site-packages\\sklearn\\base.py:464: UserWarning: X does not have valid feature names, but AdaBoostClassifier was fitted with feature names\n",
      "  warnings.warn(\n"
     ]
    },
    {
     "name": "stdout",
     "output_type": "stream",
     "text": [
      "Running experiments for logisticregression with params: {'C': 0.1, 'solver': 'liblinear'}\n"
     ]
    },
    {
     "name": "stderr",
     "output_type": "stream",
     "text": [
      "C:\\Users\\alvar\\anaconda3\\envs\\Plant-Reactivity-Analysis\\lib\\site-packages\\sklearn\\base.py:464: UserWarning: X does not have valid feature names, but LogisticRegression was fitted with feature names\n",
      "  warnings.warn(\n",
      "C:\\Users\\alvar\\anaconda3\\envs\\Plant-Reactivity-Analysis\\lib\\site-packages\\sklearn\\base.py:464: UserWarning: X does not have valid feature names, but LogisticRegression was fitted with feature names\n",
      "  warnings.warn(\n"
     ]
    },
    {
     "name": "stdout",
     "output_type": "stream",
     "text": [
      "Running experiments for logisticregression with params: {'C': 0.1, 'solver': 'lbfgs'}\n",
      "Running experiments for logisticregression with params: {'C': 1, 'solver': 'liblinear'}\n"
     ]
    },
    {
     "name": "stderr",
     "output_type": "stream",
     "text": [
      "C:\\Users\\alvar\\anaconda3\\envs\\Plant-Reactivity-Analysis\\lib\\site-packages\\sklearn\\base.py:464: UserWarning: X does not have valid feature names, but LogisticRegression was fitted with feature names\n",
      "  warnings.warn(\n",
      "C:\\Users\\alvar\\anaconda3\\envs\\Plant-Reactivity-Analysis\\lib\\site-packages\\sklearn\\base.py:464: UserWarning: X does not have valid feature names, but LogisticRegression was fitted with feature names\n",
      "  warnings.warn(\n"
     ]
    },
    {
     "name": "stdout",
     "output_type": "stream",
     "text": [
      "Running experiments for logisticregression with params: {'C': 1, 'solver': 'lbfgs'}\n",
      "Running experiments for logisticregression with params: {'C': 10, 'solver': 'liblinear'}\n"
     ]
    },
    {
     "name": "stderr",
     "output_type": "stream",
     "text": [
      "C:\\Users\\alvar\\anaconda3\\envs\\Plant-Reactivity-Analysis\\lib\\site-packages\\sklearn\\base.py:464: UserWarning: X does not have valid feature names, but LogisticRegression was fitted with feature names\n",
      "  warnings.warn(\n",
      "C:\\Users\\alvar\\anaconda3\\envs\\Plant-Reactivity-Analysis\\lib\\site-packages\\sklearn\\base.py:464: UserWarning: X does not have valid feature names, but LogisticRegression was fitted with feature names\n",
      "  warnings.warn(\n",
      "C:\\Users\\alvar\\anaconda3\\envs\\Plant-Reactivity-Analysis\\lib\\site-packages\\sklearn\\base.py:464: UserWarning: X does not have valid feature names, but KNeighborsClassifier was fitted with feature names\n",
      "  warnings.warn(\n"
     ]
    },
    {
     "name": "stdout",
     "output_type": "stream",
     "text": [
      "Running experiments for logisticregression with params: {'C': 10, 'solver': 'lbfgs'}\n",
      "Running experiments for kneighbors with params: {'n_neighbors': 5, 'weights': 'uniform'}\n",
      "Running experiments for kneighbors with params: {'n_neighbors': 5, 'weights': 'distance'}\n",
      "Running experiments for kneighbors with params: {'n_neighbors': 10, 'weights': 'uniform'}\n"
     ]
    },
    {
     "name": "stderr",
     "output_type": "stream",
     "text": [
      "C:\\Users\\alvar\\anaconda3\\envs\\Plant-Reactivity-Analysis\\lib\\site-packages\\sklearn\\base.py:464: UserWarning: X does not have valid feature names, but KNeighborsClassifier was fitted with feature names\n",
      "  warnings.warn(\n",
      "C:\\Users\\alvar\\anaconda3\\envs\\Plant-Reactivity-Analysis\\lib\\site-packages\\sklearn\\base.py:464: UserWarning: X does not have valid feature names, but KNeighborsClassifier was fitted with feature names\n",
      "  warnings.warn(\n"
     ]
    },
    {
     "name": "stdout",
     "output_type": "stream",
     "text": [
      "Running experiments for kneighbors with params: {'n_neighbors': 10, 'weights': 'distance'}\n",
      "Running experiments for kneighbors with params: {'n_neighbors': 15, 'weights': 'uniform'}\n"
     ]
    },
    {
     "name": "stderr",
     "output_type": "stream",
     "text": [
      "C:\\Users\\alvar\\anaconda3\\envs\\Plant-Reactivity-Analysis\\lib\\site-packages\\sklearn\\base.py:464: UserWarning: X does not have valid feature names, but KNeighborsClassifier was fitted with feature names\n",
      "  warnings.warn(\n",
      "C:\\Users\\alvar\\anaconda3\\envs\\Plant-Reactivity-Analysis\\lib\\site-packages\\sklearn\\base.py:464: UserWarning: X does not have valid feature names, but KNeighborsClassifier was fitted with feature names\n",
      "  warnings.warn(\n"
     ]
    },
    {
     "name": "stdout",
     "output_type": "stream",
     "text": [
      "Running experiments for kneighbors with params: {'n_neighbors': 15, 'weights': 'distance'}\n",
      "Running experiments for lgbm with params: {'learning_rate': 0.1, 'n_estimators': 100, 'num_leaves': 31}\n",
      "[LightGBM] [Warning] Found whitespace in feature_names, replace with underlines\n",
      "[LightGBM] [Info] Number of positive: 3395, number of negative: 3317\n",
      "[LightGBM] [Info] Auto-choosing col-wise multi-threading, the overhead of testing was 0.001830 seconds.\n",
      "You can set `force_col_wise=true` to remove the overhead.\n",
      "[LightGBM] [Info] Total Bins 10832\n",
      "[LightGBM] [Info] Number of data points in the train set: 6712, number of used features: 43\n",
      "[LightGBM] [Info] [binary:BoostFromScore]: pavg=0.505810 -> initscore=0.023243\n",
      "[LightGBM] [Info] Start training from score 0.023243\n"
     ]
    },
    {
     "name": "stderr",
     "output_type": "stream",
     "text": [
      "C:\\Users\\alvar\\anaconda3\\envs\\Plant-Reactivity-Analysis\\lib\\site-packages\\sklearn\\base.py:464: UserWarning: X does not have valid feature names, but KNeighborsClassifier was fitted with feature names\n",
      "  warnings.warn(\n"
     ]
    },
    {
     "name": "stdout",
     "output_type": "stream",
     "text": [
      "Running experiments for lgbm with params: {'learning_rate': 0.1, 'n_estimators': 100, 'num_leaves': 64}\n",
      "[LightGBM] [Warning] Found whitespace in feature_names, replace with underlines\n",
      "[LightGBM] [Info] Number of positive: 3395, number of negative: 3317\n",
      "[LightGBM] [Info] Auto-choosing col-wise multi-threading, the overhead of testing was 0.001828 seconds.\n",
      "You can set `force_col_wise=true` to remove the overhead.\n",
      "[LightGBM] [Info] Total Bins 10832\n",
      "[LightGBM] [Info] Number of data points in the train set: 6712, number of used features: 43\n",
      "[LightGBM] [Info] [binary:BoostFromScore]: pavg=0.505810 -> initscore=0.023243\n",
      "[LightGBM] [Info] Start training from score 0.023243\n",
      "Running experiments for lgbm with params: {'learning_rate': 0.1, 'n_estimators': 200, 'num_leaves': 31}\n",
      "[LightGBM] [Warning] Found whitespace in feature_names, replace with underlines\n",
      "[LightGBM] [Info] Number of positive: 3395, number of negative: 3317\n",
      "[LightGBM] [Info] Auto-choosing col-wise multi-threading, the overhead of testing was 0.001725 seconds.\n",
      "You can set `force_col_wise=true` to remove the overhead.\n",
      "[LightGBM] [Info] Total Bins 10832\n",
      "[LightGBM] [Info] Number of data points in the train set: 6712, number of used features: 43\n",
      "[LightGBM] [Info] [binary:BoostFromScore]: pavg=0.505810 -> initscore=0.023243\n",
      "[LightGBM] [Info] Start training from score 0.023243\n",
      "Running experiments for lgbm with params: {'learning_rate': 0.1, 'n_estimators': 200, 'num_leaves': 64}\n",
      "[LightGBM] [Warning] Found whitespace in feature_names, replace with underlines\n",
      "[LightGBM] [Info] Number of positive: 3395, number of negative: 3317\n",
      "[LightGBM] [Info] Auto-choosing col-wise multi-threading, the overhead of testing was 0.001558 seconds.\n",
      "You can set `force_col_wise=true` to remove the overhead.\n",
      "[LightGBM] [Info] Total Bins 10832\n",
      "[LightGBM] [Info] Number of data points in the train set: 6712, number of used features: 43\n",
      "[LightGBM] [Info] [binary:BoostFromScore]: pavg=0.505810 -> initscore=0.023243\n",
      "[LightGBM] [Info] Start training from score 0.023243\n",
      "Running experiments for lgbm with params: {'learning_rate': 0.05, 'n_estimators': 100, 'num_leaves': 31}\n",
      "[LightGBM] [Warning] Found whitespace in feature_names, replace with underlines\n",
      "[LightGBM] [Info] Number of positive: 3395, number of negative: 3317\n",
      "[LightGBM] [Info] Auto-choosing col-wise multi-threading, the overhead of testing was 0.001832 seconds.\n",
      "You can set `force_col_wise=true` to remove the overhead.\n",
      "[LightGBM] [Info] Total Bins 10832\n",
      "[LightGBM] [Info] Number of data points in the train set: 6712, number of used features: 43\n",
      "[LightGBM] [Info] [binary:BoostFromScore]: pavg=0.505810 -> initscore=0.023243\n",
      "[LightGBM] [Info] Start training from score 0.023243\n",
      "Running experiments for lgbm with params: {'learning_rate': 0.05, 'n_estimators': 100, 'num_leaves': 64}\n",
      "[LightGBM] [Warning] Found whitespace in feature_names, replace with underlines\n",
      "[LightGBM] [Info] Number of positive: 3395, number of negative: 3317\n",
      "[LightGBM] [Info] Auto-choosing col-wise multi-threading, the overhead of testing was 0.001795 seconds.\n",
      "You can set `force_col_wise=true` to remove the overhead.\n",
      "[LightGBM] [Info] Total Bins 10832\n",
      "[LightGBM] [Info] Number of data points in the train set: 6712, number of used features: 43\n",
      "[LightGBM] [Info] [binary:BoostFromScore]: pavg=0.505810 -> initscore=0.023243\n",
      "[LightGBM] [Info] Start training from score 0.023243\n",
      "Running experiments for lgbm with params: {'learning_rate': 0.05, 'n_estimators': 200, 'num_leaves': 31}\n",
      "[LightGBM] [Warning] Found whitespace in feature_names, replace with underlines\n",
      "[LightGBM] [Info] Number of positive: 3395, number of negative: 3317\n",
      "[LightGBM] [Info] Auto-choosing col-wise multi-threading, the overhead of testing was 0.001726 seconds.\n",
      "You can set `force_col_wise=true` to remove the overhead.\n",
      "[LightGBM] [Info] Total Bins 10832\n",
      "[LightGBM] [Info] Number of data points in the train set: 6712, number of used features: 43\n",
      "[LightGBM] [Info] [binary:BoostFromScore]: pavg=0.505810 -> initscore=0.023243\n",
      "[LightGBM] [Info] Start training from score 0.023243\n",
      "Running experiments for lgbm with params: {'learning_rate': 0.05, 'n_estimators': 200, 'num_leaves': 64}\n",
      "[LightGBM] [Warning] Found whitespace in feature_names, replace with underlines\n",
      "[LightGBM] [Info] Number of positive: 3395, number of negative: 3317\n",
      "[LightGBM] [Info] Auto-choosing col-wise multi-threading, the overhead of testing was 0.001738 seconds.\n",
      "You can set `force_col_wise=true` to remove the overhead.\n",
      "[LightGBM] [Info] Total Bins 10832\n",
      "[LightGBM] [Info] Number of data points in the train set: 6712, number of used features: 43\n",
      "[LightGBM] [Info] [binary:BoostFromScore]: pavg=0.505810 -> initscore=0.023243\n",
      "[LightGBM] [Info] Start training from score 0.023243\n",
      "Running experiments for xgb with params: {'learning_rate': 0.1, 'max_depth': 3, 'n_estimators': 100}\n",
      "Running experiments for xgb with params: {'learning_rate': 0.1, 'max_depth': 3, 'n_estimators': 200}\n",
      "Running experiments for xgb with params: {'learning_rate': 0.1, 'max_depth': 6, 'n_estimators': 100}\n",
      "Running experiments for xgb with params: {'learning_rate': 0.1, 'max_depth': 6, 'n_estimators': 200}\n",
      "Running experiments for xgb with params: {'learning_rate': 0.05, 'max_depth': 3, 'n_estimators': 100}\n",
      "Running experiments for xgb with params: {'learning_rate': 0.05, 'max_depth': 3, 'n_estimators': 200}\n",
      "Running experiments for xgb with params: {'learning_rate': 0.05, 'max_depth': 6, 'n_estimators': 100}\n",
      "Running experiments for xgb with params: {'learning_rate': 0.05, 'max_depth': 6, 'n_estimators': 200}\n",
      "  Processing RQ 2 within Dataset 2...\n",
      "Running experiments for randomforest with params: {'max_depth': None, 'min_samples_split': 2, 'n_estimators': 100}\n"
     ]
    },
    {
     "name": "stderr",
     "output_type": "stream",
     "text": [
      "C:\\Users\\alvar\\anaconda3\\envs\\Plant-Reactivity-Analysis\\lib\\site-packages\\sklearn\\base.py:464: UserWarning: X does not have valid feature names, but RandomForestClassifier was fitted with feature names\n",
      "  warnings.warn(\n"
     ]
    },
    {
     "name": "stdout",
     "output_type": "stream",
     "text": [
      "Running experiments for randomforest with params: {'max_depth': None, 'min_samples_split': 2, 'n_estimators': 200}\n"
     ]
    },
    {
     "name": "stderr",
     "output_type": "stream",
     "text": [
      "C:\\Users\\alvar\\anaconda3\\envs\\Plant-Reactivity-Analysis\\lib\\site-packages\\sklearn\\base.py:464: UserWarning: X does not have valid feature names, but RandomForestClassifier was fitted with feature names\n",
      "  warnings.warn(\n"
     ]
    },
    {
     "name": "stdout",
     "output_type": "stream",
     "text": [
      "Running experiments for randomforest with params: {'max_depth': None, 'min_samples_split': 2, 'n_estimators': 300}\n"
     ]
    },
    {
     "name": "stderr",
     "output_type": "stream",
     "text": [
      "C:\\Users\\alvar\\anaconda3\\envs\\Plant-Reactivity-Analysis\\lib\\site-packages\\sklearn\\base.py:464: UserWarning: X does not have valid feature names, but RandomForestClassifier was fitted with feature names\n",
      "  warnings.warn(\n"
     ]
    },
    {
     "name": "stdout",
     "output_type": "stream",
     "text": [
      "Running experiments for randomforest with params: {'max_depth': None, 'min_samples_split': 5, 'n_estimators': 100}\n"
     ]
    },
    {
     "name": "stderr",
     "output_type": "stream",
     "text": [
      "C:\\Users\\alvar\\anaconda3\\envs\\Plant-Reactivity-Analysis\\lib\\site-packages\\sklearn\\base.py:464: UserWarning: X does not have valid feature names, but RandomForestClassifier was fitted with feature names\n",
      "  warnings.warn(\n"
     ]
    },
    {
     "name": "stdout",
     "output_type": "stream",
     "text": [
      "Running experiments for randomforest with params: {'max_depth': None, 'min_samples_split': 5, 'n_estimators': 200}\n"
     ]
    },
    {
     "name": "stderr",
     "output_type": "stream",
     "text": [
      "C:\\Users\\alvar\\anaconda3\\envs\\Plant-Reactivity-Analysis\\lib\\site-packages\\sklearn\\base.py:464: UserWarning: X does not have valid feature names, but RandomForestClassifier was fitted with feature names\n",
      "  warnings.warn(\n"
     ]
    },
    {
     "name": "stdout",
     "output_type": "stream",
     "text": [
      "Running experiments for randomforest with params: {'max_depth': None, 'min_samples_split': 5, 'n_estimators': 300}\n"
     ]
    },
    {
     "name": "stderr",
     "output_type": "stream",
     "text": [
      "C:\\Users\\alvar\\anaconda3\\envs\\Plant-Reactivity-Analysis\\lib\\site-packages\\sklearn\\base.py:464: UserWarning: X does not have valid feature names, but RandomForestClassifier was fitted with feature names\n",
      "  warnings.warn(\n"
     ]
    },
    {
     "name": "stdout",
     "output_type": "stream",
     "text": [
      "Running experiments for randomforest with params: {'max_depth': 10, 'min_samples_split': 2, 'n_estimators': 100}\n"
     ]
    },
    {
     "name": "stderr",
     "output_type": "stream",
     "text": [
      "C:\\Users\\alvar\\anaconda3\\envs\\Plant-Reactivity-Analysis\\lib\\site-packages\\sklearn\\base.py:464: UserWarning: X does not have valid feature names, but RandomForestClassifier was fitted with feature names\n",
      "  warnings.warn(\n"
     ]
    },
    {
     "name": "stdout",
     "output_type": "stream",
     "text": [
      "Running experiments for randomforest with params: {'max_depth': 10, 'min_samples_split': 2, 'n_estimators': 200}\n"
     ]
    },
    {
     "name": "stderr",
     "output_type": "stream",
     "text": [
      "C:\\Users\\alvar\\anaconda3\\envs\\Plant-Reactivity-Analysis\\lib\\site-packages\\sklearn\\base.py:464: UserWarning: X does not have valid feature names, but RandomForestClassifier was fitted with feature names\n",
      "  warnings.warn(\n"
     ]
    },
    {
     "name": "stdout",
     "output_type": "stream",
     "text": [
      "Running experiments for randomforest with params: {'max_depth': 10, 'min_samples_split': 2, 'n_estimators': 300}\n"
     ]
    },
    {
     "name": "stderr",
     "output_type": "stream",
     "text": [
      "C:\\Users\\alvar\\anaconda3\\envs\\Plant-Reactivity-Analysis\\lib\\site-packages\\sklearn\\base.py:464: UserWarning: X does not have valid feature names, but RandomForestClassifier was fitted with feature names\n",
      "  warnings.warn(\n"
     ]
    },
    {
     "name": "stdout",
     "output_type": "stream",
     "text": [
      "Running experiments for randomforest with params: {'max_depth': 10, 'min_samples_split': 5, 'n_estimators': 100}\n"
     ]
    },
    {
     "name": "stderr",
     "output_type": "stream",
     "text": [
      "C:\\Users\\alvar\\anaconda3\\envs\\Plant-Reactivity-Analysis\\lib\\site-packages\\sklearn\\base.py:464: UserWarning: X does not have valid feature names, but RandomForestClassifier was fitted with feature names\n",
      "  warnings.warn(\n"
     ]
    },
    {
     "name": "stdout",
     "output_type": "stream",
     "text": [
      "Running experiments for randomforest with params: {'max_depth': 10, 'min_samples_split': 5, 'n_estimators': 200}\n"
     ]
    },
    {
     "name": "stderr",
     "output_type": "stream",
     "text": [
      "C:\\Users\\alvar\\anaconda3\\envs\\Plant-Reactivity-Analysis\\lib\\site-packages\\sklearn\\base.py:464: UserWarning: X does not have valid feature names, but RandomForestClassifier was fitted with feature names\n",
      "  warnings.warn(\n"
     ]
    },
    {
     "name": "stdout",
     "output_type": "stream",
     "text": [
      "Running experiments for randomforest with params: {'max_depth': 10, 'min_samples_split': 5, 'n_estimators': 300}\n"
     ]
    },
    {
     "name": "stderr",
     "output_type": "stream",
     "text": [
      "C:\\Users\\alvar\\anaconda3\\envs\\Plant-Reactivity-Analysis\\lib\\site-packages\\sklearn\\base.py:464: UserWarning: X does not have valid feature names, but RandomForestClassifier was fitted with feature names\n",
      "  warnings.warn(\n"
     ]
    },
    {
     "name": "stdout",
     "output_type": "stream",
     "text": [
      "Running experiments for randomforest with params: {'max_depth': 20, 'min_samples_split': 2, 'n_estimators': 100}\n"
     ]
    },
    {
     "name": "stderr",
     "output_type": "stream",
     "text": [
      "C:\\Users\\alvar\\anaconda3\\envs\\Plant-Reactivity-Analysis\\lib\\site-packages\\sklearn\\base.py:464: UserWarning: X does not have valid feature names, but RandomForestClassifier was fitted with feature names\n",
      "  warnings.warn(\n"
     ]
    },
    {
     "name": "stdout",
     "output_type": "stream",
     "text": [
      "Running experiments for randomforest with params: {'max_depth': 20, 'min_samples_split': 2, 'n_estimators': 200}\n"
     ]
    },
    {
     "name": "stderr",
     "output_type": "stream",
     "text": [
      "C:\\Users\\alvar\\anaconda3\\envs\\Plant-Reactivity-Analysis\\lib\\site-packages\\sklearn\\base.py:464: UserWarning: X does not have valid feature names, but RandomForestClassifier was fitted with feature names\n",
      "  warnings.warn(\n"
     ]
    },
    {
     "name": "stdout",
     "output_type": "stream",
     "text": [
      "Running experiments for randomforest with params: {'max_depth': 20, 'min_samples_split': 2, 'n_estimators': 300}\n"
     ]
    },
    {
     "name": "stderr",
     "output_type": "stream",
     "text": [
      "C:\\Users\\alvar\\anaconda3\\envs\\Plant-Reactivity-Analysis\\lib\\site-packages\\sklearn\\base.py:464: UserWarning: X does not have valid feature names, but RandomForestClassifier was fitted with feature names\n",
      "  warnings.warn(\n"
     ]
    },
    {
     "name": "stdout",
     "output_type": "stream",
     "text": [
      "Running experiments for randomforest with params: {'max_depth': 20, 'min_samples_split': 5, 'n_estimators': 100}\n"
     ]
    },
    {
     "name": "stderr",
     "output_type": "stream",
     "text": [
      "C:\\Users\\alvar\\anaconda3\\envs\\Plant-Reactivity-Analysis\\lib\\site-packages\\sklearn\\base.py:464: UserWarning: X does not have valid feature names, but RandomForestClassifier was fitted with feature names\n",
      "  warnings.warn(\n"
     ]
    },
    {
     "name": "stdout",
     "output_type": "stream",
     "text": [
      "Running experiments for randomforest with params: {'max_depth': 20, 'min_samples_split': 5, 'n_estimators': 200}\n"
     ]
    },
    {
     "name": "stderr",
     "output_type": "stream",
     "text": [
      "C:\\Users\\alvar\\anaconda3\\envs\\Plant-Reactivity-Analysis\\lib\\site-packages\\sklearn\\base.py:464: UserWarning: X does not have valid feature names, but RandomForestClassifier was fitted with feature names\n",
      "  warnings.warn(\n"
     ]
    },
    {
     "name": "stdout",
     "output_type": "stream",
     "text": [
      "Running experiments for randomforest with params: {'max_depth': 20, 'min_samples_split': 5, 'n_estimators': 300}\n"
     ]
    },
    {
     "name": "stderr",
     "output_type": "stream",
     "text": [
      "C:\\Users\\alvar\\anaconda3\\envs\\Plant-Reactivity-Analysis\\lib\\site-packages\\sklearn\\base.py:464: UserWarning: X does not have valid feature names, but RandomForestClassifier was fitted with feature names\n",
      "  warnings.warn(\n"
     ]
    },
    {
     "name": "stdout",
     "output_type": "stream",
     "text": [
      "Running experiments for gradientboosting with params: {'learning_rate': 0.1, 'max_depth': 3, 'n_estimators': 100}\n"
     ]
    },
    {
     "name": "stderr",
     "output_type": "stream",
     "text": [
      "C:\\Users\\alvar\\anaconda3\\envs\\Plant-Reactivity-Analysis\\lib\\site-packages\\sklearn\\base.py:464: UserWarning: X does not have valid feature names, but GradientBoostingClassifier was fitted with feature names\n",
      "  warnings.warn(\n"
     ]
    },
    {
     "name": "stdout",
     "output_type": "stream",
     "text": [
      "Running experiments for gradientboosting with params: {'learning_rate': 0.1, 'max_depth': 3, 'n_estimators': 200}\n"
     ]
    },
    {
     "name": "stderr",
     "output_type": "stream",
     "text": [
      "C:\\Users\\alvar\\anaconda3\\envs\\Plant-Reactivity-Analysis\\lib\\site-packages\\sklearn\\base.py:464: UserWarning: X does not have valid feature names, but GradientBoostingClassifier was fitted with feature names\n",
      "  warnings.warn(\n"
     ]
    },
    {
     "name": "stdout",
     "output_type": "stream",
     "text": [
      "Running experiments for gradientboosting with params: {'learning_rate': 0.1, 'max_depth': 5, 'n_estimators': 100}\n"
     ]
    },
    {
     "name": "stderr",
     "output_type": "stream",
     "text": [
      "C:\\Users\\alvar\\anaconda3\\envs\\Plant-Reactivity-Analysis\\lib\\site-packages\\sklearn\\base.py:464: UserWarning: X does not have valid feature names, but GradientBoostingClassifier was fitted with feature names\n",
      "  warnings.warn(\n"
     ]
    },
    {
     "name": "stdout",
     "output_type": "stream",
     "text": [
      "Running experiments for gradientboosting with params: {'learning_rate': 0.1, 'max_depth': 5, 'n_estimators': 200}\n"
     ]
    },
    {
     "name": "stderr",
     "output_type": "stream",
     "text": [
      "C:\\Users\\alvar\\anaconda3\\envs\\Plant-Reactivity-Analysis\\lib\\site-packages\\sklearn\\base.py:464: UserWarning: X does not have valid feature names, but GradientBoostingClassifier was fitted with feature names\n",
      "  warnings.warn(\n"
     ]
    },
    {
     "name": "stdout",
     "output_type": "stream",
     "text": [
      "Running experiments for gradientboosting with params: {'learning_rate': 0.05, 'max_depth': 3, 'n_estimators': 100}\n"
     ]
    },
    {
     "name": "stderr",
     "output_type": "stream",
     "text": [
      "C:\\Users\\alvar\\anaconda3\\envs\\Plant-Reactivity-Analysis\\lib\\site-packages\\sklearn\\base.py:464: UserWarning: X does not have valid feature names, but GradientBoostingClassifier was fitted with feature names\n",
      "  warnings.warn(\n"
     ]
    },
    {
     "name": "stdout",
     "output_type": "stream",
     "text": [
      "Running experiments for gradientboosting with params: {'learning_rate': 0.05, 'max_depth': 3, 'n_estimators': 200}\n"
     ]
    },
    {
     "name": "stderr",
     "output_type": "stream",
     "text": [
      "C:\\Users\\alvar\\anaconda3\\envs\\Plant-Reactivity-Analysis\\lib\\site-packages\\sklearn\\base.py:464: UserWarning: X does not have valid feature names, but GradientBoostingClassifier was fitted with feature names\n",
      "  warnings.warn(\n"
     ]
    },
    {
     "name": "stdout",
     "output_type": "stream",
     "text": [
      "Running experiments for gradientboosting with params: {'learning_rate': 0.05, 'max_depth': 5, 'n_estimators': 100}\n"
     ]
    },
    {
     "name": "stderr",
     "output_type": "stream",
     "text": [
      "C:\\Users\\alvar\\anaconda3\\envs\\Plant-Reactivity-Analysis\\lib\\site-packages\\sklearn\\base.py:464: UserWarning: X does not have valid feature names, but GradientBoostingClassifier was fitted with feature names\n",
      "  warnings.warn(\n"
     ]
    },
    {
     "name": "stdout",
     "output_type": "stream",
     "text": [
      "Running experiments for gradientboosting with params: {'learning_rate': 0.05, 'max_depth': 5, 'n_estimators': 200}\n"
     ]
    },
    {
     "name": "stderr",
     "output_type": "stream",
     "text": [
      "C:\\Users\\alvar\\anaconda3\\envs\\Plant-Reactivity-Analysis\\lib\\site-packages\\sklearn\\base.py:464: UserWarning: X does not have valid feature names, but GradientBoostingClassifier was fitted with feature names\n",
      "  warnings.warn(\n"
     ]
    },
    {
     "name": "stdout",
     "output_type": "stream",
     "text": [
      "Running experiments for extratrees with params: {'max_depth': None, 'min_samples_split': 2, 'n_estimators': 100}\n"
     ]
    },
    {
     "name": "stderr",
     "output_type": "stream",
     "text": [
      "C:\\Users\\alvar\\anaconda3\\envs\\Plant-Reactivity-Analysis\\lib\\site-packages\\sklearn\\base.py:464: UserWarning: X does not have valid feature names, but ExtraTreesClassifier was fitted with feature names\n",
      "  warnings.warn(\n"
     ]
    },
    {
     "name": "stdout",
     "output_type": "stream",
     "text": [
      "Running experiments for extratrees with params: {'max_depth': None, 'min_samples_split': 2, 'n_estimators': 200}\n"
     ]
    },
    {
     "name": "stderr",
     "output_type": "stream",
     "text": [
      "C:\\Users\\alvar\\anaconda3\\envs\\Plant-Reactivity-Analysis\\lib\\site-packages\\sklearn\\base.py:464: UserWarning: X does not have valid feature names, but ExtraTreesClassifier was fitted with feature names\n",
      "  warnings.warn(\n"
     ]
    },
    {
     "name": "stdout",
     "output_type": "stream",
     "text": [
      "Running experiments for extratrees with params: {'max_depth': None, 'min_samples_split': 5, 'n_estimators': 100}\n"
     ]
    },
    {
     "name": "stderr",
     "output_type": "stream",
     "text": [
      "C:\\Users\\alvar\\anaconda3\\envs\\Plant-Reactivity-Analysis\\lib\\site-packages\\sklearn\\base.py:464: UserWarning: X does not have valid feature names, but ExtraTreesClassifier was fitted with feature names\n",
      "  warnings.warn(\n"
     ]
    },
    {
     "name": "stdout",
     "output_type": "stream",
     "text": [
      "Running experiments for extratrees with params: {'max_depth': None, 'min_samples_split': 5, 'n_estimators': 200}\n"
     ]
    },
    {
     "name": "stderr",
     "output_type": "stream",
     "text": [
      "C:\\Users\\alvar\\anaconda3\\envs\\Plant-Reactivity-Analysis\\lib\\site-packages\\sklearn\\base.py:464: UserWarning: X does not have valid feature names, but ExtraTreesClassifier was fitted with feature names\n",
      "  warnings.warn(\n"
     ]
    },
    {
     "name": "stdout",
     "output_type": "stream",
     "text": [
      "Running experiments for extratrees with params: {'max_depth': 20, 'min_samples_split': 2, 'n_estimators': 100}\n"
     ]
    },
    {
     "name": "stderr",
     "output_type": "stream",
     "text": [
      "C:\\Users\\alvar\\anaconda3\\envs\\Plant-Reactivity-Analysis\\lib\\site-packages\\sklearn\\base.py:464: UserWarning: X does not have valid feature names, but ExtraTreesClassifier was fitted with feature names\n",
      "  warnings.warn(\n"
     ]
    },
    {
     "name": "stdout",
     "output_type": "stream",
     "text": [
      "Running experiments for extratrees with params: {'max_depth': 20, 'min_samples_split': 2, 'n_estimators': 200}\n"
     ]
    },
    {
     "name": "stderr",
     "output_type": "stream",
     "text": [
      "C:\\Users\\alvar\\anaconda3\\envs\\Plant-Reactivity-Analysis\\lib\\site-packages\\sklearn\\base.py:464: UserWarning: X does not have valid feature names, but ExtraTreesClassifier was fitted with feature names\n",
      "  warnings.warn(\n"
     ]
    },
    {
     "name": "stdout",
     "output_type": "stream",
     "text": [
      "Running experiments for extratrees with params: {'max_depth': 20, 'min_samples_split': 5, 'n_estimators': 100}\n"
     ]
    },
    {
     "name": "stderr",
     "output_type": "stream",
     "text": [
      "C:\\Users\\alvar\\anaconda3\\envs\\Plant-Reactivity-Analysis\\lib\\site-packages\\sklearn\\base.py:464: UserWarning: X does not have valid feature names, but ExtraTreesClassifier was fitted with feature names\n",
      "  warnings.warn(\n"
     ]
    },
    {
     "name": "stdout",
     "output_type": "stream",
     "text": [
      "Running experiments for extratrees with params: {'max_depth': 20, 'min_samples_split': 5, 'n_estimators': 200}\n"
     ]
    },
    {
     "name": "stderr",
     "output_type": "stream",
     "text": [
      "C:\\Users\\alvar\\anaconda3\\envs\\Plant-Reactivity-Analysis\\lib\\site-packages\\sklearn\\base.py:464: UserWarning: X does not have valid feature names, but ExtraTreesClassifier was fitted with feature names\n",
      "  warnings.warn(\n"
     ]
    },
    {
     "name": "stdout",
     "output_type": "stream",
     "text": [
      "Running experiments for gaussiannb with params: {'var_smoothing': 1e-09}\n",
      "Running experiments for gaussiannb with params: {'var_smoothing': 1e-08}\n",
      "Running experiments for gaussiannb with params: {'var_smoothing': 1e-10}\n",
      "Running experiments for adaboost with params: {'learning_rate': 0.1, 'n_estimators': 50}\n"
     ]
    },
    {
     "name": "stderr",
     "output_type": "stream",
     "text": [
      "C:\\Users\\alvar\\anaconda3\\envs\\Plant-Reactivity-Analysis\\lib\\site-packages\\sklearn\\base.py:464: UserWarning: X does not have valid feature names, but GaussianNB was fitted with feature names\n",
      "  warnings.warn(\n",
      "C:\\Users\\alvar\\anaconda3\\envs\\Plant-Reactivity-Analysis\\lib\\site-packages\\sklearn\\base.py:464: UserWarning: X does not have valid feature names, but GaussianNB was fitted with feature names\n",
      "  warnings.warn(\n",
      "C:\\Users\\alvar\\anaconda3\\envs\\Plant-Reactivity-Analysis\\lib\\site-packages\\sklearn\\base.py:464: UserWarning: X does not have valid feature names, but GaussianNB was fitted with feature names\n",
      "  warnings.warn(\n",
      "C:\\Users\\alvar\\anaconda3\\envs\\Plant-Reactivity-Analysis\\lib\\site-packages\\sklearn\\base.py:464: UserWarning: X does not have valid feature names, but AdaBoostClassifier was fitted with feature names\n",
      "  warnings.warn(\n"
     ]
    },
    {
     "name": "stdout",
     "output_type": "stream",
     "text": [
      "Running experiments for adaboost with params: {'learning_rate': 0.1, 'n_estimators': 100}\n"
     ]
    },
    {
     "name": "stderr",
     "output_type": "stream",
     "text": [
      "C:\\Users\\alvar\\anaconda3\\envs\\Plant-Reactivity-Analysis\\lib\\site-packages\\sklearn\\base.py:464: UserWarning: X does not have valid feature names, but AdaBoostClassifier was fitted with feature names\n",
      "  warnings.warn(\n"
     ]
    },
    {
     "name": "stdout",
     "output_type": "stream",
     "text": [
      "Running experiments for adaboost with params: {'learning_rate': 1.0, 'n_estimators': 50}\n"
     ]
    },
    {
     "name": "stderr",
     "output_type": "stream",
     "text": [
      "C:\\Users\\alvar\\anaconda3\\envs\\Plant-Reactivity-Analysis\\lib\\site-packages\\sklearn\\base.py:464: UserWarning: X does not have valid feature names, but AdaBoostClassifier was fitted with feature names\n",
      "  warnings.warn(\n"
     ]
    },
    {
     "name": "stdout",
     "output_type": "stream",
     "text": [
      "Running experiments for adaboost with params: {'learning_rate': 1.0, 'n_estimators': 100}\n"
     ]
    },
    {
     "name": "stderr",
     "output_type": "stream",
     "text": [
      "C:\\Users\\alvar\\anaconda3\\envs\\Plant-Reactivity-Analysis\\lib\\site-packages\\sklearn\\base.py:464: UserWarning: X does not have valid feature names, but AdaBoostClassifier was fitted with feature names\n",
      "  warnings.warn(\n",
      "C:\\Users\\alvar\\anaconda3\\envs\\Plant-Reactivity-Analysis\\lib\\site-packages\\sklearn\\base.py:464: UserWarning: X does not have valid feature names, but LogisticRegression was fitted with feature names\n",
      "  warnings.warn(\n"
     ]
    },
    {
     "name": "stdout",
     "output_type": "stream",
     "text": [
      "Running experiments for logisticregression with params: {'C': 0.1, 'solver': 'liblinear'}\n",
      "Running experiments for logisticregression with params: {'C': 0.1, 'solver': 'lbfgs'}\n",
      "Running experiments for logisticregression with params: {'C': 1, 'solver': 'liblinear'}\n"
     ]
    },
    {
     "name": "stderr",
     "output_type": "stream",
     "text": [
      "C:\\Users\\alvar\\anaconda3\\envs\\Plant-Reactivity-Analysis\\lib\\site-packages\\sklearn\\base.py:464: UserWarning: X does not have valid feature names, but LogisticRegression was fitted with feature names\n",
      "  warnings.warn(\n",
      "C:\\Users\\alvar\\anaconda3\\envs\\Plant-Reactivity-Analysis\\lib\\site-packages\\sklearn\\metrics\\_classification.py:1469: UndefinedMetricWarning: Precision is ill-defined and being set to 0.0 in labels with no predicted samples. Use `zero_division` parameter to control this behavior.\n",
      "  _warn_prf(average, modifier, msg_start, len(result))\n",
      "C:\\Users\\alvar\\anaconda3\\envs\\Plant-Reactivity-Analysis\\lib\\site-packages\\sklearn\\base.py:464: UserWarning: X does not have valid feature names, but LogisticRegression was fitted with feature names\n",
      "  warnings.warn(\n",
      "C:\\Users\\alvar\\anaconda3\\envs\\Plant-Reactivity-Analysis\\lib\\site-packages\\sklearn\\base.py:464: UserWarning: X does not have valid feature names, but LogisticRegression was fitted with feature names\n",
      "  warnings.warn(\n",
      "C:\\Users\\alvar\\anaconda3\\envs\\Plant-Reactivity-Analysis\\lib\\site-packages\\sklearn\\metrics\\_classification.py:1469: UndefinedMetricWarning: Precision is ill-defined and being set to 0.0 in labels with no predicted samples. Use `zero_division` parameter to control this behavior.\n",
      "  _warn_prf(average, modifier, msg_start, len(result))\n"
     ]
    },
    {
     "name": "stdout",
     "output_type": "stream",
     "text": [
      "Running experiments for logisticregression with params: {'C': 1, 'solver': 'lbfgs'}\n",
      "Running experiments for logisticregression with params: {'C': 10, 'solver': 'liblinear'}\n",
      "Running experiments for logisticregression with params: {'C': 10, 'solver': 'lbfgs'}\n"
     ]
    },
    {
     "name": "stderr",
     "output_type": "stream",
     "text": [
      "C:\\Users\\alvar\\anaconda3\\envs\\Plant-Reactivity-Analysis\\lib\\site-packages\\sklearn\\base.py:464: UserWarning: X does not have valid feature names, but LogisticRegression was fitted with feature names\n",
      "  warnings.warn(\n",
      "C:\\Users\\alvar\\anaconda3\\envs\\Plant-Reactivity-Analysis\\lib\\site-packages\\sklearn\\base.py:464: UserWarning: X does not have valid feature names, but LogisticRegression was fitted with feature names\n",
      "  warnings.warn(\n",
      "C:\\Users\\alvar\\anaconda3\\envs\\Plant-Reactivity-Analysis\\lib\\site-packages\\sklearn\\metrics\\_classification.py:1469: UndefinedMetricWarning: Precision is ill-defined and being set to 0.0 in labels with no predicted samples. Use `zero_division` parameter to control this behavior.\n",
      "  _warn_prf(average, modifier, msg_start, len(result))\n",
      "C:\\Users\\alvar\\anaconda3\\envs\\Plant-Reactivity-Analysis\\lib\\site-packages\\sklearn\\base.py:464: UserWarning: X does not have valid feature names, but KNeighborsClassifier was fitted with feature names\n",
      "  warnings.warn(\n"
     ]
    },
    {
     "name": "stdout",
     "output_type": "stream",
     "text": [
      "Running experiments for kneighbors with params: {'n_neighbors': 5, 'weights': 'uniform'}\n",
      "Running experiments for kneighbors with params: {'n_neighbors': 5, 'weights': 'distance'}\n",
      "Running experiments for kneighbors with params: {'n_neighbors': 10, 'weights': 'uniform'}\n"
     ]
    },
    {
     "name": "stderr",
     "output_type": "stream",
     "text": [
      "C:\\Users\\alvar\\anaconda3\\envs\\Plant-Reactivity-Analysis\\lib\\site-packages\\sklearn\\base.py:464: UserWarning: X does not have valid feature names, but KNeighborsClassifier was fitted with feature names\n",
      "  warnings.warn(\n",
      "C:\\Users\\alvar\\anaconda3\\envs\\Plant-Reactivity-Analysis\\lib\\site-packages\\sklearn\\base.py:464: UserWarning: X does not have valid feature names, but KNeighborsClassifier was fitted with feature names\n",
      "  warnings.warn(\n"
     ]
    },
    {
     "name": "stdout",
     "output_type": "stream",
     "text": [
      "Running experiments for kneighbors with params: {'n_neighbors': 10, 'weights': 'distance'}\n",
      "Running experiments for kneighbors with params: {'n_neighbors': 15, 'weights': 'uniform'}\n"
     ]
    },
    {
     "name": "stderr",
     "output_type": "stream",
     "text": [
      "C:\\Users\\alvar\\anaconda3\\envs\\Plant-Reactivity-Analysis\\lib\\site-packages\\sklearn\\base.py:464: UserWarning: X does not have valid feature names, but KNeighborsClassifier was fitted with feature names\n",
      "  warnings.warn(\n",
      "C:\\Users\\alvar\\anaconda3\\envs\\Plant-Reactivity-Analysis\\lib\\site-packages\\sklearn\\base.py:464: UserWarning: X does not have valid feature names, but KNeighborsClassifier was fitted with feature names\n",
      "  warnings.warn(\n"
     ]
    },
    {
     "name": "stdout",
     "output_type": "stream",
     "text": [
      "Running experiments for kneighbors with params: {'n_neighbors': 15, 'weights': 'distance'}\n",
      "Running experiments for lgbm with params: {'learning_rate': 0.1, 'n_estimators': 100, 'num_leaves': 31}\n",
      "[LightGBM] [Warning] Found whitespace in feature_names, replace with underlines\n",
      "[LightGBM] [Info] Auto-choosing col-wise multi-threading, the overhead of testing was 0.002461 seconds.\n",
      "You can set `force_col_wise=true` to remove the overhead.\n",
      "[LightGBM] [Info] Total Bins 12313\n",
      "[LightGBM] [Info] Number of data points in the train set: 2985, number of used features: 49\n",
      "[LightGBM] [Info] Start training from score -1.095602\n",
      "[LightGBM] [Info] Start training from score -1.091602\n",
      "[LightGBM] [Info] Start training from score -1.108713\n"
     ]
    },
    {
     "name": "stderr",
     "output_type": "stream",
     "text": [
      "C:\\Users\\alvar\\anaconda3\\envs\\Plant-Reactivity-Analysis\\lib\\site-packages\\sklearn\\base.py:464: UserWarning: X does not have valid feature names, but KNeighborsClassifier was fitted with feature names\n",
      "  warnings.warn(\n"
     ]
    },
    {
     "name": "stdout",
     "output_type": "stream",
     "text": [
      "Running experiments for lgbm with params: {'learning_rate': 0.1, 'n_estimators': 100, 'num_leaves': 64}\n",
      "[LightGBM] [Warning] Found whitespace in feature_names, replace with underlines\n",
      "[LightGBM] [Info] Auto-choosing col-wise multi-threading, the overhead of testing was 0.001552 seconds.\n",
      "You can set `force_col_wise=true` to remove the overhead.\n",
      "[LightGBM] [Info] Total Bins 12313\n",
      "[LightGBM] [Info] Number of data points in the train set: 2985, number of used features: 49\n",
      "[LightGBM] [Info] Start training from score -1.095602\n",
      "[LightGBM] [Info] Start training from score -1.091602\n",
      "[LightGBM] [Info] Start training from score -1.108713\n",
      "Running experiments for lgbm with params: {'learning_rate': 0.1, 'n_estimators': 200, 'num_leaves': 31}\n",
      "[LightGBM] [Warning] Found whitespace in feature_names, replace with underlines\n",
      "[LightGBM] [Info] Auto-choosing col-wise multi-threading, the overhead of testing was 0.002850 seconds.\n",
      "You can set `force_col_wise=true` to remove the overhead.\n",
      "[LightGBM] [Info] Total Bins 12313\n",
      "[LightGBM] [Info] Number of data points in the train set: 2985, number of used features: 49\n",
      "[LightGBM] [Info] Start training from score -1.095602\n",
      "[LightGBM] [Info] Start training from score -1.091602\n",
      "[LightGBM] [Info] Start training from score -1.108713\n",
      "Running experiments for lgbm with params: {'learning_rate': 0.1, 'n_estimators': 200, 'num_leaves': 64}\n",
      "[LightGBM] [Warning] Found whitespace in feature_names, replace with underlines\n",
      "[LightGBM] [Info] Auto-choosing col-wise multi-threading, the overhead of testing was 0.001489 seconds.\n",
      "You can set `force_col_wise=true` to remove the overhead.\n",
      "[LightGBM] [Info] Total Bins 12313\n",
      "[LightGBM] [Info] Number of data points in the train set: 2985, number of used features: 49\n",
      "[LightGBM] [Info] Start training from score -1.095602\n",
      "[LightGBM] [Info] Start training from score -1.091602\n",
      "[LightGBM] [Info] Start training from score -1.108713\n",
      "Running experiments for lgbm with params: {'learning_rate': 0.05, 'n_estimators': 100, 'num_leaves': 31}\n",
      "[LightGBM] [Warning] Found whitespace in feature_names, replace with underlines\n",
      "[LightGBM] [Info] Auto-choosing col-wise multi-threading, the overhead of testing was 0.001798 seconds.\n",
      "You can set `force_col_wise=true` to remove the overhead.\n",
      "[LightGBM] [Info] Total Bins 12313\n",
      "[LightGBM] [Info] Number of data points in the train set: 2985, number of used features: 49\n",
      "[LightGBM] [Info] Start training from score -1.095602\n",
      "[LightGBM] [Info] Start training from score -1.091602\n",
      "[LightGBM] [Info] Start training from score -1.108713\n",
      "Running experiments for lgbm with params: {'learning_rate': 0.05, 'n_estimators': 100, 'num_leaves': 64}\n",
      "[LightGBM] [Warning] Found whitespace in feature_names, replace with underlines\n",
      "[LightGBM] [Info] Auto-choosing col-wise multi-threading, the overhead of testing was 0.002059 seconds.\n",
      "You can set `force_col_wise=true` to remove the overhead.\n",
      "[LightGBM] [Info] Total Bins 12313\n",
      "[LightGBM] [Info] Number of data points in the train set: 2985, number of used features: 49\n",
      "[LightGBM] [Info] Start training from score -1.095602\n",
      "[LightGBM] [Info] Start training from score -1.091602\n",
      "[LightGBM] [Info] Start training from score -1.108713\n",
      "Running experiments for lgbm with params: {'learning_rate': 0.05, 'n_estimators': 200, 'num_leaves': 31}\n",
      "[LightGBM] [Warning] Found whitespace in feature_names, replace with underlines\n",
      "[LightGBM] [Info] Auto-choosing col-wise multi-threading, the overhead of testing was 0.001348 seconds.\n",
      "You can set `force_col_wise=true` to remove the overhead.\n",
      "[LightGBM] [Info] Total Bins 12313\n",
      "[LightGBM] [Info] Number of data points in the train set: 2985, number of used features: 49\n",
      "[LightGBM] [Info] Start training from score -1.095602\n",
      "[LightGBM] [Info] Start training from score -1.091602\n",
      "[LightGBM] [Info] Start training from score -1.108713\n",
      "Running experiments for lgbm with params: {'learning_rate': 0.05, 'n_estimators': 200, 'num_leaves': 64}\n",
      "[LightGBM] [Warning] Found whitespace in feature_names, replace with underlines\n",
      "[LightGBM] [Info] Auto-choosing col-wise multi-threading, the overhead of testing was 0.001673 seconds.\n",
      "You can set `force_col_wise=true` to remove the overhead.\n",
      "[LightGBM] [Info] Total Bins 12313\n",
      "[LightGBM] [Info] Number of data points in the train set: 2985, number of used features: 49\n",
      "[LightGBM] [Info] Start training from score -1.095602\n",
      "[LightGBM] [Info] Start training from score -1.091602\n",
      "[LightGBM] [Info] Start training from score -1.108713\n",
      "Running experiments for xgb with params: {'learning_rate': 0.1, 'max_depth': 3, 'n_estimators': 100}\n",
      "Running experiments for xgb with params: {'learning_rate': 0.1, 'max_depth': 3, 'n_estimators': 200}\n",
      "Running experiments for xgb with params: {'learning_rate': 0.1, 'max_depth': 6, 'n_estimators': 100}\n",
      "Running experiments for xgb with params: {'learning_rate': 0.1, 'max_depth': 6, 'n_estimators': 200}\n",
      "Running experiments for xgb with params: {'learning_rate': 0.05, 'max_depth': 3, 'n_estimators': 100}\n",
      "Running experiments for xgb with params: {'learning_rate': 0.05, 'max_depth': 3, 'n_estimators': 200}\n",
      "Running experiments for xgb with params: {'learning_rate': 0.05, 'max_depth': 6, 'n_estimators': 100}\n",
      "Running experiments for xgb with params: {'learning_rate': 0.05, 'max_depth': 6, 'n_estimators': 200}\n",
      "Now processing Dataset 3...\n",
      "  Processing RQ 1 within Dataset 3...\n",
      "Running experiments for svm with params: {'C': 0.1, 'gamma': 'scale', 'kernel': 'linear'}\n"
     ]
    },
    {
     "name": "stderr",
     "output_type": "stream",
     "text": [
      "C:\\Users\\alvar\\anaconda3\\envs\\Plant-Reactivity-Analysis\\lib\\site-packages\\sklearn\\base.py:464: UserWarning: X does not have valid feature names, but SVC was fitted with feature names\n",
      "  warnings.warn(\n"
     ]
    },
    {
     "name": "stdout",
     "output_type": "stream",
     "text": [
      "Running experiments for svm with params: {'C': 0.1, 'gamma': 'scale', 'kernel': 'rbf'}\n"
     ]
    },
    {
     "name": "stderr",
     "output_type": "stream",
     "text": [
      "C:\\Users\\alvar\\anaconda3\\envs\\Plant-Reactivity-Analysis\\lib\\site-packages\\sklearn\\base.py:464: UserWarning: X does not have valid feature names, but SVC was fitted with feature names\n",
      "  warnings.warn(\n"
     ]
    },
    {
     "name": "stdout",
     "output_type": "stream",
     "text": [
      "Running experiments for svm with params: {'C': 0.1, 'gamma': 'auto', 'kernel': 'linear'}\n"
     ]
    },
    {
     "name": "stderr",
     "output_type": "stream",
     "text": [
      "C:\\Users\\alvar\\anaconda3\\envs\\Plant-Reactivity-Analysis\\lib\\site-packages\\sklearn\\base.py:464: UserWarning: X does not have valid feature names, but SVC was fitted with feature names\n",
      "  warnings.warn(\n"
     ]
    },
    {
     "name": "stdout",
     "output_type": "stream",
     "text": [
      "Running experiments for svm with params: {'C': 0.1, 'gamma': 'auto', 'kernel': 'rbf'}\n"
     ]
    },
    {
     "name": "stderr",
     "output_type": "stream",
     "text": [
      "C:\\Users\\alvar\\anaconda3\\envs\\Plant-Reactivity-Analysis\\lib\\site-packages\\sklearn\\base.py:464: UserWarning: X does not have valid feature names, but SVC was fitted with feature names\n",
      "  warnings.warn(\n"
     ]
    },
    {
     "name": "stdout",
     "output_type": "stream",
     "text": [
      "Running experiments for svm with params: {'C': 1, 'gamma': 'scale', 'kernel': 'linear'}\n"
     ]
    },
    {
     "name": "stderr",
     "output_type": "stream",
     "text": [
      "C:\\Users\\alvar\\anaconda3\\envs\\Plant-Reactivity-Analysis\\lib\\site-packages\\sklearn\\base.py:464: UserWarning: X does not have valid feature names, but SVC was fitted with feature names\n",
      "  warnings.warn(\n"
     ]
    },
    {
     "name": "stdout",
     "output_type": "stream",
     "text": [
      "Running experiments for svm with params: {'C': 1, 'gamma': 'scale', 'kernel': 'rbf'}\n"
     ]
    },
    {
     "name": "stderr",
     "output_type": "stream",
     "text": [
      "C:\\Users\\alvar\\anaconda3\\envs\\Plant-Reactivity-Analysis\\lib\\site-packages\\sklearn\\base.py:464: UserWarning: X does not have valid feature names, but SVC was fitted with feature names\n",
      "  warnings.warn(\n"
     ]
    },
    {
     "name": "stdout",
     "output_type": "stream",
     "text": [
      "Running experiments for svm with params: {'C': 1, 'gamma': 'auto', 'kernel': 'linear'}\n"
     ]
    },
    {
     "name": "stderr",
     "output_type": "stream",
     "text": [
      "C:\\Users\\alvar\\anaconda3\\envs\\Plant-Reactivity-Analysis\\lib\\site-packages\\sklearn\\base.py:464: UserWarning: X does not have valid feature names, but SVC was fitted with feature names\n",
      "  warnings.warn(\n"
     ]
    },
    {
     "name": "stdout",
     "output_type": "stream",
     "text": [
      "Running experiments for svm with params: {'C': 1, 'gamma': 'auto', 'kernel': 'rbf'}\n"
     ]
    },
    {
     "name": "stderr",
     "output_type": "stream",
     "text": [
      "C:\\Users\\alvar\\anaconda3\\envs\\Plant-Reactivity-Analysis\\lib\\site-packages\\sklearn\\base.py:464: UserWarning: X does not have valid feature names, but SVC was fitted with feature names\n",
      "  warnings.warn(\n"
     ]
    },
    {
     "name": "stdout",
     "output_type": "stream",
     "text": [
      "Running experiments for svm with params: {'C': 10, 'gamma': 'scale', 'kernel': 'linear'}\n"
     ]
    },
    {
     "name": "stderr",
     "output_type": "stream",
     "text": [
      "C:\\Users\\alvar\\anaconda3\\envs\\Plant-Reactivity-Analysis\\lib\\site-packages\\sklearn\\base.py:464: UserWarning: X does not have valid feature names, but SVC was fitted with feature names\n",
      "  warnings.warn(\n"
     ]
    },
    {
     "name": "stdout",
     "output_type": "stream",
     "text": [
      "Running experiments for svm with params: {'C': 10, 'gamma': 'scale', 'kernel': 'rbf'}\n"
     ]
    },
    {
     "name": "stderr",
     "output_type": "stream",
     "text": [
      "C:\\Users\\alvar\\anaconda3\\envs\\Plant-Reactivity-Analysis\\lib\\site-packages\\sklearn\\base.py:464: UserWarning: X does not have valid feature names, but SVC was fitted with feature names\n",
      "  warnings.warn(\n"
     ]
    },
    {
     "name": "stdout",
     "output_type": "stream",
     "text": [
      "Running experiments for svm with params: {'C': 10, 'gamma': 'auto', 'kernel': 'linear'}\n"
     ]
    },
    {
     "name": "stderr",
     "output_type": "stream",
     "text": [
      "C:\\Users\\alvar\\anaconda3\\envs\\Plant-Reactivity-Analysis\\lib\\site-packages\\sklearn\\base.py:464: UserWarning: X does not have valid feature names, but SVC was fitted with feature names\n",
      "  warnings.warn(\n"
     ]
    },
    {
     "name": "stdout",
     "output_type": "stream",
     "text": [
      "Running experiments for svm with params: {'C': 10, 'gamma': 'auto', 'kernel': 'rbf'}\n"
     ]
    },
    {
     "name": "stderr",
     "output_type": "stream",
     "text": [
      "C:\\Users\\alvar\\anaconda3\\envs\\Plant-Reactivity-Analysis\\lib\\site-packages\\sklearn\\base.py:464: UserWarning: X does not have valid feature names, but SVC was fitted with feature names\n",
      "  warnings.warn(\n"
     ]
    },
    {
     "name": "stdout",
     "output_type": "stream",
     "text": [
      "Running experiments for randomforest with params: {'max_depth': None, 'min_samples_split': 2, 'n_estimators': 100}\n"
     ]
    },
    {
     "name": "stderr",
     "output_type": "stream",
     "text": [
      "C:\\Users\\alvar\\anaconda3\\envs\\Plant-Reactivity-Analysis\\lib\\site-packages\\sklearn\\base.py:464: UserWarning: X does not have valid feature names, but RandomForestClassifier was fitted with feature names\n",
      "  warnings.warn(\n"
     ]
    },
    {
     "name": "stdout",
     "output_type": "stream",
     "text": [
      "Running experiments for randomforest with params: {'max_depth': None, 'min_samples_split': 2, 'n_estimators': 200}\n"
     ]
    },
    {
     "name": "stderr",
     "output_type": "stream",
     "text": [
      "C:\\Users\\alvar\\anaconda3\\envs\\Plant-Reactivity-Analysis\\lib\\site-packages\\sklearn\\base.py:464: UserWarning: X does not have valid feature names, but RandomForestClassifier was fitted with feature names\n",
      "  warnings.warn(\n"
     ]
    },
    {
     "name": "stdout",
     "output_type": "stream",
     "text": [
      "Running experiments for randomforest with params: {'max_depth': None, 'min_samples_split': 2, 'n_estimators': 300}\n"
     ]
    },
    {
     "name": "stderr",
     "output_type": "stream",
     "text": [
      "C:\\Users\\alvar\\anaconda3\\envs\\Plant-Reactivity-Analysis\\lib\\site-packages\\sklearn\\base.py:464: UserWarning: X does not have valid feature names, but RandomForestClassifier was fitted with feature names\n",
      "  warnings.warn(\n"
     ]
    },
    {
     "name": "stdout",
     "output_type": "stream",
     "text": [
      "Running experiments for randomforest with params: {'max_depth': None, 'min_samples_split': 5, 'n_estimators': 100}\n"
     ]
    },
    {
     "name": "stderr",
     "output_type": "stream",
     "text": [
      "C:\\Users\\alvar\\anaconda3\\envs\\Plant-Reactivity-Analysis\\lib\\site-packages\\sklearn\\base.py:464: UserWarning: X does not have valid feature names, but RandomForestClassifier was fitted with feature names\n",
      "  warnings.warn(\n"
     ]
    },
    {
     "name": "stdout",
     "output_type": "stream",
     "text": [
      "Running experiments for randomforest with params: {'max_depth': None, 'min_samples_split': 5, 'n_estimators': 200}\n"
     ]
    },
    {
     "name": "stderr",
     "output_type": "stream",
     "text": [
      "C:\\Users\\alvar\\anaconda3\\envs\\Plant-Reactivity-Analysis\\lib\\site-packages\\sklearn\\base.py:464: UserWarning: X does not have valid feature names, but RandomForestClassifier was fitted with feature names\n",
      "  warnings.warn(\n"
     ]
    },
    {
     "name": "stdout",
     "output_type": "stream",
     "text": [
      "Running experiments for randomforest with params: {'max_depth': None, 'min_samples_split': 5, 'n_estimators': 300}\n"
     ]
    },
    {
     "name": "stderr",
     "output_type": "stream",
     "text": [
      "C:\\Users\\alvar\\anaconda3\\envs\\Plant-Reactivity-Analysis\\lib\\site-packages\\sklearn\\base.py:464: UserWarning: X does not have valid feature names, but RandomForestClassifier was fitted with feature names\n",
      "  warnings.warn(\n"
     ]
    },
    {
     "name": "stdout",
     "output_type": "stream",
     "text": [
      "Running experiments for randomforest with params: {'max_depth': 10, 'min_samples_split': 2, 'n_estimators': 100}\n"
     ]
    },
    {
     "name": "stderr",
     "output_type": "stream",
     "text": [
      "C:\\Users\\alvar\\anaconda3\\envs\\Plant-Reactivity-Analysis\\lib\\site-packages\\sklearn\\base.py:464: UserWarning: X does not have valid feature names, but RandomForestClassifier was fitted with feature names\n",
      "  warnings.warn(\n"
     ]
    },
    {
     "name": "stdout",
     "output_type": "stream",
     "text": [
      "Running experiments for randomforest with params: {'max_depth': 10, 'min_samples_split': 2, 'n_estimators': 200}\n"
     ]
    },
    {
     "name": "stderr",
     "output_type": "stream",
     "text": [
      "C:\\Users\\alvar\\anaconda3\\envs\\Plant-Reactivity-Analysis\\lib\\site-packages\\sklearn\\base.py:464: UserWarning: X does not have valid feature names, but RandomForestClassifier was fitted with feature names\n",
      "  warnings.warn(\n"
     ]
    },
    {
     "name": "stdout",
     "output_type": "stream",
     "text": [
      "Running experiments for randomforest with params: {'max_depth': 10, 'min_samples_split': 2, 'n_estimators': 300}\n"
     ]
    },
    {
     "name": "stderr",
     "output_type": "stream",
     "text": [
      "C:\\Users\\alvar\\anaconda3\\envs\\Plant-Reactivity-Analysis\\lib\\site-packages\\sklearn\\base.py:464: UserWarning: X does not have valid feature names, but RandomForestClassifier was fitted with feature names\n",
      "  warnings.warn(\n"
     ]
    },
    {
     "name": "stdout",
     "output_type": "stream",
     "text": [
      "Running experiments for randomforest with params: {'max_depth': 10, 'min_samples_split': 5, 'n_estimators': 100}\n"
     ]
    },
    {
     "name": "stderr",
     "output_type": "stream",
     "text": [
      "C:\\Users\\alvar\\anaconda3\\envs\\Plant-Reactivity-Analysis\\lib\\site-packages\\sklearn\\base.py:464: UserWarning: X does not have valid feature names, but RandomForestClassifier was fitted with feature names\n",
      "  warnings.warn(\n"
     ]
    },
    {
     "name": "stdout",
     "output_type": "stream",
     "text": [
      "Running experiments for randomforest with params: {'max_depth': 10, 'min_samples_split': 5, 'n_estimators': 200}\n"
     ]
    },
    {
     "name": "stderr",
     "output_type": "stream",
     "text": [
      "C:\\Users\\alvar\\anaconda3\\envs\\Plant-Reactivity-Analysis\\lib\\site-packages\\sklearn\\base.py:464: UserWarning: X does not have valid feature names, but RandomForestClassifier was fitted with feature names\n",
      "  warnings.warn(\n"
     ]
    },
    {
     "name": "stdout",
     "output_type": "stream",
     "text": [
      "Running experiments for randomforest with params: {'max_depth': 10, 'min_samples_split': 5, 'n_estimators': 300}\n"
     ]
    },
    {
     "name": "stderr",
     "output_type": "stream",
     "text": [
      "C:\\Users\\alvar\\anaconda3\\envs\\Plant-Reactivity-Analysis\\lib\\site-packages\\sklearn\\base.py:464: UserWarning: X does not have valid feature names, but RandomForestClassifier was fitted with feature names\n",
      "  warnings.warn(\n"
     ]
    },
    {
     "name": "stdout",
     "output_type": "stream",
     "text": [
      "Running experiments for randomforest with params: {'max_depth': 20, 'min_samples_split': 2, 'n_estimators': 100}\n"
     ]
    },
    {
     "name": "stderr",
     "output_type": "stream",
     "text": [
      "C:\\Users\\alvar\\anaconda3\\envs\\Plant-Reactivity-Analysis\\lib\\site-packages\\sklearn\\base.py:464: UserWarning: X does not have valid feature names, but RandomForestClassifier was fitted with feature names\n",
      "  warnings.warn(\n"
     ]
    },
    {
     "name": "stdout",
     "output_type": "stream",
     "text": [
      "Running experiments for randomforest with params: {'max_depth': 20, 'min_samples_split': 2, 'n_estimators': 200}\n"
     ]
    },
    {
     "name": "stderr",
     "output_type": "stream",
     "text": [
      "C:\\Users\\alvar\\anaconda3\\envs\\Plant-Reactivity-Analysis\\lib\\site-packages\\sklearn\\base.py:464: UserWarning: X does not have valid feature names, but RandomForestClassifier was fitted with feature names\n",
      "  warnings.warn(\n"
     ]
    },
    {
     "name": "stdout",
     "output_type": "stream",
     "text": [
      "Running experiments for randomforest with params: {'max_depth': 20, 'min_samples_split': 2, 'n_estimators': 300}\n"
     ]
    },
    {
     "name": "stderr",
     "output_type": "stream",
     "text": [
      "C:\\Users\\alvar\\anaconda3\\envs\\Plant-Reactivity-Analysis\\lib\\site-packages\\sklearn\\base.py:464: UserWarning: X does not have valid feature names, but RandomForestClassifier was fitted with feature names\n",
      "  warnings.warn(\n"
     ]
    },
    {
     "name": "stdout",
     "output_type": "stream",
     "text": [
      "Running experiments for randomforest with params: {'max_depth': 20, 'min_samples_split': 5, 'n_estimators': 100}\n"
     ]
    },
    {
     "name": "stderr",
     "output_type": "stream",
     "text": [
      "C:\\Users\\alvar\\anaconda3\\envs\\Plant-Reactivity-Analysis\\lib\\site-packages\\sklearn\\base.py:464: UserWarning: X does not have valid feature names, but RandomForestClassifier was fitted with feature names\n",
      "  warnings.warn(\n"
     ]
    },
    {
     "name": "stdout",
     "output_type": "stream",
     "text": [
      "Running experiments for randomforest with params: {'max_depth': 20, 'min_samples_split': 5, 'n_estimators': 200}\n"
     ]
    },
    {
     "name": "stderr",
     "output_type": "stream",
     "text": [
      "C:\\Users\\alvar\\anaconda3\\envs\\Plant-Reactivity-Analysis\\lib\\site-packages\\sklearn\\base.py:464: UserWarning: X does not have valid feature names, but RandomForestClassifier was fitted with feature names\n",
      "  warnings.warn(\n"
     ]
    },
    {
     "name": "stdout",
     "output_type": "stream",
     "text": [
      "Running experiments for randomforest with params: {'max_depth': 20, 'min_samples_split': 5, 'n_estimators': 300}\n"
     ]
    },
    {
     "name": "stderr",
     "output_type": "stream",
     "text": [
      "C:\\Users\\alvar\\anaconda3\\envs\\Plant-Reactivity-Analysis\\lib\\site-packages\\sklearn\\base.py:464: UserWarning: X does not have valid feature names, but RandomForestClassifier was fitted with feature names\n",
      "  warnings.warn(\n"
     ]
    },
    {
     "name": "stdout",
     "output_type": "stream",
     "text": [
      "Running experiments for gradientboosting with params: {'learning_rate': 0.1, 'max_depth': 3, 'n_estimators': 100}\n"
     ]
    },
    {
     "name": "stderr",
     "output_type": "stream",
     "text": [
      "C:\\Users\\alvar\\anaconda3\\envs\\Plant-Reactivity-Analysis\\lib\\site-packages\\sklearn\\base.py:464: UserWarning: X does not have valid feature names, but GradientBoostingClassifier was fitted with feature names\n",
      "  warnings.warn(\n"
     ]
    },
    {
     "name": "stdout",
     "output_type": "stream",
     "text": [
      "Running experiments for gradientboosting with params: {'learning_rate': 0.1, 'max_depth': 3, 'n_estimators': 200}\n"
     ]
    },
    {
     "name": "stderr",
     "output_type": "stream",
     "text": [
      "C:\\Users\\alvar\\anaconda3\\envs\\Plant-Reactivity-Analysis\\lib\\site-packages\\sklearn\\base.py:464: UserWarning: X does not have valid feature names, but GradientBoostingClassifier was fitted with feature names\n",
      "  warnings.warn(\n"
     ]
    },
    {
     "name": "stdout",
     "output_type": "stream",
     "text": [
      "Running experiments for gradientboosting with params: {'learning_rate': 0.1, 'max_depth': 5, 'n_estimators': 100}\n"
     ]
    },
    {
     "name": "stderr",
     "output_type": "stream",
     "text": [
      "C:\\Users\\alvar\\anaconda3\\envs\\Plant-Reactivity-Analysis\\lib\\site-packages\\sklearn\\base.py:464: UserWarning: X does not have valid feature names, but GradientBoostingClassifier was fitted with feature names\n",
      "  warnings.warn(\n"
     ]
    },
    {
     "name": "stdout",
     "output_type": "stream",
     "text": [
      "Running experiments for gradientboosting with params: {'learning_rate': 0.1, 'max_depth': 5, 'n_estimators': 200}\n"
     ]
    },
    {
     "name": "stderr",
     "output_type": "stream",
     "text": [
      "C:\\Users\\alvar\\anaconda3\\envs\\Plant-Reactivity-Analysis\\lib\\site-packages\\sklearn\\base.py:464: UserWarning: X does not have valid feature names, but GradientBoostingClassifier was fitted with feature names\n",
      "  warnings.warn(\n"
     ]
    },
    {
     "name": "stdout",
     "output_type": "stream",
     "text": [
      "Running experiments for gradientboosting with params: {'learning_rate': 0.05, 'max_depth': 3, 'n_estimators': 100}\n"
     ]
    },
    {
     "name": "stderr",
     "output_type": "stream",
     "text": [
      "C:\\Users\\alvar\\anaconda3\\envs\\Plant-Reactivity-Analysis\\lib\\site-packages\\sklearn\\base.py:464: UserWarning: X does not have valid feature names, but GradientBoostingClassifier was fitted with feature names\n",
      "  warnings.warn(\n"
     ]
    },
    {
     "name": "stdout",
     "output_type": "stream",
     "text": [
      "Running experiments for gradientboosting with params: {'learning_rate': 0.05, 'max_depth': 3, 'n_estimators': 200}\n"
     ]
    },
    {
     "name": "stderr",
     "output_type": "stream",
     "text": [
      "C:\\Users\\alvar\\anaconda3\\envs\\Plant-Reactivity-Analysis\\lib\\site-packages\\sklearn\\base.py:464: UserWarning: X does not have valid feature names, but GradientBoostingClassifier was fitted with feature names\n",
      "  warnings.warn(\n"
     ]
    },
    {
     "name": "stdout",
     "output_type": "stream",
     "text": [
      "Running experiments for gradientboosting with params: {'learning_rate': 0.05, 'max_depth': 5, 'n_estimators': 100}\n"
     ]
    },
    {
     "name": "stderr",
     "output_type": "stream",
     "text": [
      "C:\\Users\\alvar\\anaconda3\\envs\\Plant-Reactivity-Analysis\\lib\\site-packages\\sklearn\\base.py:464: UserWarning: X does not have valid feature names, but GradientBoostingClassifier was fitted with feature names\n",
      "  warnings.warn(\n"
     ]
    },
    {
     "name": "stdout",
     "output_type": "stream",
     "text": [
      "Running experiments for gradientboosting with params: {'learning_rate': 0.05, 'max_depth': 5, 'n_estimators': 200}\n"
     ]
    },
    {
     "name": "stderr",
     "output_type": "stream",
     "text": [
      "C:\\Users\\alvar\\anaconda3\\envs\\Plant-Reactivity-Analysis\\lib\\site-packages\\sklearn\\base.py:464: UserWarning: X does not have valid feature names, but GradientBoostingClassifier was fitted with feature names\n",
      "  warnings.warn(\n"
     ]
    },
    {
     "name": "stdout",
     "output_type": "stream",
     "text": [
      "Running experiments for extratrees with params: {'max_depth': None, 'min_samples_split': 2, 'n_estimators': 100}\n"
     ]
    },
    {
     "name": "stderr",
     "output_type": "stream",
     "text": [
      "C:\\Users\\alvar\\anaconda3\\envs\\Plant-Reactivity-Analysis\\lib\\site-packages\\sklearn\\base.py:464: UserWarning: X does not have valid feature names, but ExtraTreesClassifier was fitted with feature names\n",
      "  warnings.warn(\n"
     ]
    },
    {
     "name": "stdout",
     "output_type": "stream",
     "text": [
      "Running experiments for extratrees with params: {'max_depth': None, 'min_samples_split': 2, 'n_estimators': 200}\n"
     ]
    },
    {
     "name": "stderr",
     "output_type": "stream",
     "text": [
      "C:\\Users\\alvar\\anaconda3\\envs\\Plant-Reactivity-Analysis\\lib\\site-packages\\sklearn\\base.py:464: UserWarning: X does not have valid feature names, but ExtraTreesClassifier was fitted with feature names\n",
      "  warnings.warn(\n"
     ]
    },
    {
     "name": "stdout",
     "output_type": "stream",
     "text": [
      "Running experiments for extratrees with params: {'max_depth': None, 'min_samples_split': 5, 'n_estimators': 100}\n"
     ]
    },
    {
     "name": "stderr",
     "output_type": "stream",
     "text": [
      "C:\\Users\\alvar\\anaconda3\\envs\\Plant-Reactivity-Analysis\\lib\\site-packages\\sklearn\\base.py:464: UserWarning: X does not have valid feature names, but ExtraTreesClassifier was fitted with feature names\n",
      "  warnings.warn(\n"
     ]
    },
    {
     "name": "stdout",
     "output_type": "stream",
     "text": [
      "Running experiments for extratrees with params: {'max_depth': None, 'min_samples_split': 5, 'n_estimators': 200}\n"
     ]
    },
    {
     "name": "stderr",
     "output_type": "stream",
     "text": [
      "C:\\Users\\alvar\\anaconda3\\envs\\Plant-Reactivity-Analysis\\lib\\site-packages\\sklearn\\base.py:464: UserWarning: X does not have valid feature names, but ExtraTreesClassifier was fitted with feature names\n",
      "  warnings.warn(\n"
     ]
    },
    {
     "name": "stdout",
     "output_type": "stream",
     "text": [
      "Running experiments for extratrees with params: {'max_depth': 20, 'min_samples_split': 2, 'n_estimators': 100}\n"
     ]
    },
    {
     "name": "stderr",
     "output_type": "stream",
     "text": [
      "C:\\Users\\alvar\\anaconda3\\envs\\Plant-Reactivity-Analysis\\lib\\site-packages\\sklearn\\base.py:464: UserWarning: X does not have valid feature names, but ExtraTreesClassifier was fitted with feature names\n",
      "  warnings.warn(\n"
     ]
    },
    {
     "name": "stdout",
     "output_type": "stream",
     "text": [
      "Running experiments for extratrees with params: {'max_depth': 20, 'min_samples_split': 2, 'n_estimators': 200}\n"
     ]
    },
    {
     "name": "stderr",
     "output_type": "stream",
     "text": [
      "C:\\Users\\alvar\\anaconda3\\envs\\Plant-Reactivity-Analysis\\lib\\site-packages\\sklearn\\base.py:464: UserWarning: X does not have valid feature names, but ExtraTreesClassifier was fitted with feature names\n",
      "  warnings.warn(\n"
     ]
    },
    {
     "name": "stdout",
     "output_type": "stream",
     "text": [
      "Running experiments for extratrees with params: {'max_depth': 20, 'min_samples_split': 5, 'n_estimators': 100}\n"
     ]
    },
    {
     "name": "stderr",
     "output_type": "stream",
     "text": [
      "C:\\Users\\alvar\\anaconda3\\envs\\Plant-Reactivity-Analysis\\lib\\site-packages\\sklearn\\base.py:464: UserWarning: X does not have valid feature names, but ExtraTreesClassifier was fitted with feature names\n",
      "  warnings.warn(\n"
     ]
    },
    {
     "name": "stdout",
     "output_type": "stream",
     "text": [
      "Running experiments for extratrees with params: {'max_depth': 20, 'min_samples_split': 5, 'n_estimators': 200}\n"
     ]
    },
    {
     "name": "stderr",
     "output_type": "stream",
     "text": [
      "C:\\Users\\alvar\\anaconda3\\envs\\Plant-Reactivity-Analysis\\lib\\site-packages\\sklearn\\base.py:464: UserWarning: X does not have valid feature names, but ExtraTreesClassifier was fitted with feature names\n",
      "  warnings.warn(\n",
      "C:\\Users\\alvar\\anaconda3\\envs\\Plant-Reactivity-Analysis\\lib\\site-packages\\sklearn\\base.py:464: UserWarning: X does not have valid feature names, but GaussianNB was fitted with feature names\n",
      "  warnings.warn(\n"
     ]
    },
    {
     "name": "stdout",
     "output_type": "stream",
     "text": [
      "Running experiments for gaussiannb with params: {'var_smoothing': 1e-09}\n",
      "Running experiments for gaussiannb with params: {'var_smoothing': 1e-08}\n",
      "Running experiments for gaussiannb with params: {'var_smoothing': 1e-10}\n",
      "Running experiments for adaboost with params: {'learning_rate': 0.1, 'n_estimators': 50}\n"
     ]
    },
    {
     "name": "stderr",
     "output_type": "stream",
     "text": [
      "C:\\Users\\alvar\\anaconda3\\envs\\Plant-Reactivity-Analysis\\lib\\site-packages\\sklearn\\base.py:464: UserWarning: X does not have valid feature names, but GaussianNB was fitted with feature names\n",
      "  warnings.warn(\n",
      "C:\\Users\\alvar\\anaconda3\\envs\\Plant-Reactivity-Analysis\\lib\\site-packages\\sklearn\\base.py:464: UserWarning: X does not have valid feature names, but GaussianNB was fitted with feature names\n",
      "  warnings.warn(\n",
      "C:\\Users\\alvar\\anaconda3\\envs\\Plant-Reactivity-Analysis\\lib\\site-packages\\sklearn\\base.py:464: UserWarning: X does not have valid feature names, but AdaBoostClassifier was fitted with feature names\n",
      "  warnings.warn(\n"
     ]
    },
    {
     "name": "stdout",
     "output_type": "stream",
     "text": [
      "Running experiments for adaboost with params: {'learning_rate': 0.1, 'n_estimators': 100}\n"
     ]
    },
    {
     "name": "stderr",
     "output_type": "stream",
     "text": [
      "C:\\Users\\alvar\\anaconda3\\envs\\Plant-Reactivity-Analysis\\lib\\site-packages\\sklearn\\base.py:464: UserWarning: X does not have valid feature names, but AdaBoostClassifier was fitted with feature names\n",
      "  warnings.warn(\n"
     ]
    },
    {
     "name": "stdout",
     "output_type": "stream",
     "text": [
      "Running experiments for adaboost with params: {'learning_rate': 1.0, 'n_estimators': 50}\n"
     ]
    },
    {
     "name": "stderr",
     "output_type": "stream",
     "text": [
      "C:\\Users\\alvar\\anaconda3\\envs\\Plant-Reactivity-Analysis\\lib\\site-packages\\sklearn\\base.py:464: UserWarning: X does not have valid feature names, but AdaBoostClassifier was fitted with feature names\n",
      "  warnings.warn(\n"
     ]
    },
    {
     "name": "stdout",
     "output_type": "stream",
     "text": [
      "Running experiments for adaboost with params: {'learning_rate': 1.0, 'n_estimators': 100}\n"
     ]
    },
    {
     "name": "stderr",
     "output_type": "stream",
     "text": [
      "C:\\Users\\alvar\\anaconda3\\envs\\Plant-Reactivity-Analysis\\lib\\site-packages\\sklearn\\base.py:464: UserWarning: X does not have valid feature names, but AdaBoostClassifier was fitted with feature names\n",
      "  warnings.warn(\n"
     ]
    },
    {
     "name": "stdout",
     "output_type": "stream",
     "text": [
      "Running experiments for logisticregression with params: {'C': 0.1, 'solver': 'liblinear'}\n"
     ]
    },
    {
     "name": "stderr",
     "output_type": "stream",
     "text": [
      "C:\\Users\\alvar\\anaconda3\\envs\\Plant-Reactivity-Analysis\\lib\\site-packages\\sklearn\\base.py:464: UserWarning: X does not have valid feature names, but LogisticRegression was fitted with feature names\n",
      "  warnings.warn(\n",
      "C:\\Users\\alvar\\anaconda3\\envs\\Plant-Reactivity-Analysis\\lib\\site-packages\\sklearn\\base.py:464: UserWarning: X does not have valid feature names, but LogisticRegression was fitted with feature names\n",
      "  warnings.warn(\n"
     ]
    },
    {
     "name": "stdout",
     "output_type": "stream",
     "text": [
      "Running experiments for logisticregression with params: {'C': 0.1, 'solver': 'lbfgs'}\n",
      "Running experiments for logisticregression with params: {'C': 1, 'solver': 'liblinear'}\n"
     ]
    },
    {
     "name": "stderr",
     "output_type": "stream",
     "text": [
      "C:\\Users\\alvar\\anaconda3\\envs\\Plant-Reactivity-Analysis\\lib\\site-packages\\sklearn\\base.py:464: UserWarning: X does not have valid feature names, but LogisticRegression was fitted with feature names\n",
      "  warnings.warn(\n",
      "C:\\Users\\alvar\\anaconda3\\envs\\Plant-Reactivity-Analysis\\lib\\site-packages\\sklearn\\linear_model\\_logistic.py:460: ConvergenceWarning: lbfgs failed to converge (status=1):\n",
      "STOP: TOTAL NO. of ITERATIONS REACHED LIMIT.\n",
      "\n",
      "Increase the number of iterations (max_iter) or scale the data as shown in:\n",
      "    https://scikit-learn.org/stable/modules/preprocessing.html\n",
      "Please also refer to the documentation for alternative solver options:\n",
      "    https://scikit-learn.org/stable/modules/linear_model.html#logistic-regression\n",
      "  n_iter_i = _check_optimize_result(\n",
      "C:\\Users\\alvar\\anaconda3\\envs\\Plant-Reactivity-Analysis\\lib\\site-packages\\sklearn\\base.py:464: UserWarning: X does not have valid feature names, but LogisticRegression was fitted with feature names\n",
      "  warnings.warn(\n"
     ]
    },
    {
     "name": "stdout",
     "output_type": "stream",
     "text": [
      "Running experiments for logisticregression with params: {'C': 1, 'solver': 'lbfgs'}\n",
      "Running experiments for logisticregression with params: {'C': 10, 'solver': 'liblinear'}\n"
     ]
    },
    {
     "name": "stderr",
     "output_type": "stream",
     "text": [
      "C:\\Users\\alvar\\anaconda3\\envs\\Plant-Reactivity-Analysis\\lib\\site-packages\\sklearn\\base.py:464: UserWarning: X does not have valid feature names, but LogisticRegression was fitted with feature names\n",
      "  warnings.warn(\n",
      "C:\\Users\\alvar\\anaconda3\\envs\\Plant-Reactivity-Analysis\\lib\\site-packages\\sklearn\\linear_model\\_logistic.py:460: ConvergenceWarning: lbfgs failed to converge (status=1):\n",
      "STOP: TOTAL NO. of ITERATIONS REACHED LIMIT.\n",
      "\n",
      "Increase the number of iterations (max_iter) or scale the data as shown in:\n",
      "    https://scikit-learn.org/stable/modules/preprocessing.html\n",
      "Please also refer to the documentation for alternative solver options:\n",
      "    https://scikit-learn.org/stable/modules/linear_model.html#logistic-regression\n",
      "  n_iter_i = _check_optimize_result(\n",
      "C:\\Users\\alvar\\anaconda3\\envs\\Plant-Reactivity-Analysis\\lib\\site-packages\\sklearn\\base.py:464: UserWarning: X does not have valid feature names, but LogisticRegression was fitted with feature names\n",
      "  warnings.warn(\n",
      "C:\\Users\\alvar\\anaconda3\\envs\\Plant-Reactivity-Analysis\\lib\\site-packages\\sklearn\\base.py:464: UserWarning: X does not have valid feature names, but KNeighborsClassifier was fitted with feature names\n",
      "  warnings.warn(\n"
     ]
    },
    {
     "name": "stdout",
     "output_type": "stream",
     "text": [
      "Running experiments for logisticregression with params: {'C': 10, 'solver': 'lbfgs'}\n",
      "Running experiments for kneighbors with params: {'n_neighbors': 5, 'weights': 'uniform'}\n",
      "Running experiments for kneighbors with params: {'n_neighbors': 5, 'weights': 'distance'}\n",
      "Running experiments for kneighbors with params: {'n_neighbors': 10, 'weights': 'uniform'}\n"
     ]
    },
    {
     "name": "stderr",
     "output_type": "stream",
     "text": [
      "C:\\Users\\alvar\\anaconda3\\envs\\Plant-Reactivity-Analysis\\lib\\site-packages\\sklearn\\base.py:464: UserWarning: X does not have valid feature names, but KNeighborsClassifier was fitted with feature names\n",
      "  warnings.warn(\n",
      "C:\\Users\\alvar\\anaconda3\\envs\\Plant-Reactivity-Analysis\\lib\\site-packages\\sklearn\\base.py:464: UserWarning: X does not have valid feature names, but KNeighborsClassifier was fitted with feature names\n",
      "  warnings.warn(\n"
     ]
    },
    {
     "name": "stdout",
     "output_type": "stream",
     "text": [
      "Running experiments for kneighbors with params: {'n_neighbors': 10, 'weights': 'distance'}\n",
      "Running experiments for kneighbors with params: {'n_neighbors': 15, 'weights': 'uniform'}\n"
     ]
    },
    {
     "name": "stderr",
     "output_type": "stream",
     "text": [
      "C:\\Users\\alvar\\anaconda3\\envs\\Plant-Reactivity-Analysis\\lib\\site-packages\\sklearn\\base.py:464: UserWarning: X does not have valid feature names, but KNeighborsClassifier was fitted with feature names\n",
      "  warnings.warn(\n",
      "C:\\Users\\alvar\\anaconda3\\envs\\Plant-Reactivity-Analysis\\lib\\site-packages\\sklearn\\base.py:464: UserWarning: X does not have valid feature names, but KNeighborsClassifier was fitted with feature names\n",
      "  warnings.warn(\n"
     ]
    },
    {
     "name": "stdout",
     "output_type": "stream",
     "text": [
      "Running experiments for kneighbors with params: {'n_neighbors': 15, 'weights': 'distance'}\n",
      "Running experiments for lgbm with params: {'learning_rate': 0.1, 'n_estimators': 100, 'num_leaves': 31}\n"
     ]
    },
    {
     "name": "stderr",
     "output_type": "stream",
     "text": [
      "C:\\Users\\alvar\\anaconda3\\envs\\Plant-Reactivity-Analysis\\lib\\site-packages\\sklearn\\base.py:464: UserWarning: X does not have valid feature names, but KNeighborsClassifier was fitted with feature names\n",
      "  warnings.warn(\n"
     ]
    },
    {
     "name": "stdout",
     "output_type": "stream",
     "text": [
      "[LightGBM] [Warning] Found whitespace in feature_names, replace with underlines\n",
      "[LightGBM] [Info] Number of positive: 3394, number of negative: 3295\n",
      "[LightGBM] [Info] Auto-choosing col-wise multi-threading, the overhead of testing was 0.002948 seconds.\n",
      "You can set `force_col_wise=true` to remove the overhead.\n",
      "[LightGBM] [Info] Total Bins 11846\n",
      "[LightGBM] [Info] Number of data points in the train set: 6689, number of used features: 47\n",
      "[LightGBM] [Info] [binary:BoostFromScore]: pavg=0.507400 -> initscore=0.029603\n",
      "[LightGBM] [Info] Start training from score 0.029603\n",
      "Running experiments for lgbm with params: {'learning_rate': 0.1, 'n_estimators': 100, 'num_leaves': 64}\n",
      "[LightGBM] [Warning] Found whitespace in feature_names, replace with underlines\n",
      "[LightGBM] [Info] Number of positive: 3394, number of negative: 3295\n",
      "[LightGBM] [Info] Auto-choosing col-wise multi-threading, the overhead of testing was 0.002495 seconds.\n",
      "You can set `force_col_wise=true` to remove the overhead.\n",
      "[LightGBM] [Info] Total Bins 11846\n",
      "[LightGBM] [Info] Number of data points in the train set: 6689, number of used features: 47\n",
      "[LightGBM] [Info] [binary:BoostFromScore]: pavg=0.507400 -> initscore=0.029603\n",
      "[LightGBM] [Info] Start training from score 0.029603\n",
      "Running experiments for lgbm with params: {'learning_rate': 0.1, 'n_estimators': 200, 'num_leaves': 31}\n",
      "[LightGBM] [Warning] Found whitespace in feature_names, replace with underlines\n",
      "[LightGBM] [Info] Number of positive: 3394, number of negative: 3295\n",
      "[LightGBM] [Info] Auto-choosing col-wise multi-threading, the overhead of testing was 0.002425 seconds.\n",
      "You can set `force_col_wise=true` to remove the overhead.\n",
      "[LightGBM] [Info] Total Bins 11846\n",
      "[LightGBM] [Info] Number of data points in the train set: 6689, number of used features: 47\n",
      "[LightGBM] [Info] [binary:BoostFromScore]: pavg=0.507400 -> initscore=0.029603\n",
      "[LightGBM] [Info] Start training from score 0.029603\n",
      "Running experiments for lgbm with params: {'learning_rate': 0.1, 'n_estimators': 200, 'num_leaves': 64}\n",
      "[LightGBM] [Warning] Found whitespace in feature_names, replace with underlines\n",
      "[LightGBM] [Info] Number of positive: 3394, number of negative: 3295\n",
      "[LightGBM] [Info] Auto-choosing col-wise multi-threading, the overhead of testing was 0.002774 seconds.\n",
      "You can set `force_col_wise=true` to remove the overhead.\n",
      "[LightGBM] [Info] Total Bins 11846\n",
      "[LightGBM] [Info] Number of data points in the train set: 6689, number of used features: 47\n",
      "[LightGBM] [Info] [binary:BoostFromScore]: pavg=0.507400 -> initscore=0.029603\n",
      "[LightGBM] [Info] Start training from score 0.029603\n",
      "Running experiments for lgbm with params: {'learning_rate': 0.05, 'n_estimators': 100, 'num_leaves': 31}\n",
      "[LightGBM] [Warning] Found whitespace in feature_names, replace with underlines\n",
      "[LightGBM] [Info] Number of positive: 3394, number of negative: 3295\n",
      "[LightGBM] [Info] Auto-choosing col-wise multi-threading, the overhead of testing was 0.002701 seconds.\n",
      "You can set `force_col_wise=true` to remove the overhead.\n",
      "[LightGBM] [Info] Total Bins 11846\n",
      "[LightGBM] [Info] Number of data points in the train set: 6689, number of used features: 47\n",
      "[LightGBM] [Info] [binary:BoostFromScore]: pavg=0.507400 -> initscore=0.029603\n",
      "[LightGBM] [Info] Start training from score 0.029603\n",
      "Running experiments for lgbm with params: {'learning_rate': 0.05, 'n_estimators': 100, 'num_leaves': 64}\n",
      "[LightGBM] [Warning] Found whitespace in feature_names, replace with underlines\n",
      "[LightGBM] [Info] Number of positive: 3394, number of negative: 3295\n",
      "[LightGBM] [Info] Auto-choosing col-wise multi-threading, the overhead of testing was 0.003570 seconds.\n",
      "You can set `force_col_wise=true` to remove the overhead.\n",
      "[LightGBM] [Info] Total Bins 11846\n",
      "[LightGBM] [Info] Number of data points in the train set: 6689, number of used features: 47\n",
      "[LightGBM] [Info] [binary:BoostFromScore]: pavg=0.507400 -> initscore=0.029603\n",
      "[LightGBM] [Info] Start training from score 0.029603\n",
      "Running experiments for lgbm with params: {'learning_rate': 0.05, 'n_estimators': 200, 'num_leaves': 31}\n",
      "[LightGBM] [Warning] Found whitespace in feature_names, replace with underlines\n",
      "[LightGBM] [Info] Number of positive: 3394, number of negative: 3295\n",
      "[LightGBM] [Info] Auto-choosing col-wise multi-threading, the overhead of testing was 0.002684 seconds.\n",
      "You can set `force_col_wise=true` to remove the overhead.\n",
      "[LightGBM] [Info] Total Bins 11846\n",
      "[LightGBM] [Info] Number of data points in the train set: 6689, number of used features: 47\n",
      "[LightGBM] [Info] [binary:BoostFromScore]: pavg=0.507400 -> initscore=0.029603\n",
      "[LightGBM] [Info] Start training from score 0.029603\n",
      "Running experiments for lgbm with params: {'learning_rate': 0.05, 'n_estimators': 200, 'num_leaves': 64}\n",
      "[LightGBM] [Warning] Found whitespace in feature_names, replace with underlines\n",
      "[LightGBM] [Info] Number of positive: 3394, number of negative: 3295\n",
      "[LightGBM] [Info] Auto-choosing col-wise multi-threading, the overhead of testing was 0.002851 seconds.\n",
      "You can set `force_col_wise=true` to remove the overhead.\n",
      "[LightGBM] [Info] Total Bins 11846\n",
      "[LightGBM] [Info] Number of data points in the train set: 6689, number of used features: 47\n",
      "[LightGBM] [Info] [binary:BoostFromScore]: pavg=0.507400 -> initscore=0.029603\n",
      "[LightGBM] [Info] Start training from score 0.029603\n",
      "Running experiments for xgb with params: {'learning_rate': 0.1, 'max_depth': 3, 'n_estimators': 100}\n",
      "Running experiments for xgb with params: {'learning_rate': 0.1, 'max_depth': 3, 'n_estimators': 200}\n",
      "Running experiments for xgb with params: {'learning_rate': 0.1, 'max_depth': 6, 'n_estimators': 100}\n",
      "Running experiments for xgb with params: {'learning_rate': 0.1, 'max_depth': 6, 'n_estimators': 200}\n",
      "Running experiments for xgb with params: {'learning_rate': 0.05, 'max_depth': 3, 'n_estimators': 100}\n",
      "Running experiments for xgb with params: {'learning_rate': 0.05, 'max_depth': 3, 'n_estimators': 200}\n",
      "Running experiments for xgb with params: {'learning_rate': 0.05, 'max_depth': 6, 'n_estimators': 100}\n",
      "Running experiments for xgb with params: {'learning_rate': 0.05, 'max_depth': 6, 'n_estimators': 200}\n",
      "  Processing RQ 2 within Dataset 3...\n",
      "Running experiments for svm with params: {'C': 0.1, 'gamma': 'scale', 'kernel': 'linear'}\n"
     ]
    },
    {
     "name": "stderr",
     "output_type": "stream",
     "text": [
      "C:\\Users\\alvar\\anaconda3\\envs\\Plant-Reactivity-Analysis\\lib\\site-packages\\sklearn\\base.py:464: UserWarning: X does not have valid feature names, but SVC was fitted with feature names\n",
      "  warnings.warn(\n"
     ]
    },
    {
     "name": "stdout",
     "output_type": "stream",
     "text": [
      "Running experiments for svm with params: {'C': 0.1, 'gamma': 'scale', 'kernel': 'rbf'}\n"
     ]
    },
    {
     "name": "stderr",
     "output_type": "stream",
     "text": [
      "C:\\Users\\alvar\\anaconda3\\envs\\Plant-Reactivity-Analysis\\lib\\site-packages\\sklearn\\base.py:464: UserWarning: X does not have valid feature names, but SVC was fitted with feature names\n",
      "  warnings.warn(\n",
      "C:\\Users\\alvar\\anaconda3\\envs\\Plant-Reactivity-Analysis\\lib\\site-packages\\sklearn\\metrics\\_classification.py:1469: UndefinedMetricWarning: Precision is ill-defined and being set to 0.0 in labels with no predicted samples. Use `zero_division` parameter to control this behavior.\n",
      "  _warn_prf(average, modifier, msg_start, len(result))\n"
     ]
    },
    {
     "name": "stdout",
     "output_type": "stream",
     "text": [
      "Running experiments for svm with params: {'C': 0.1, 'gamma': 'auto', 'kernel': 'linear'}\n"
     ]
    },
    {
     "name": "stderr",
     "output_type": "stream",
     "text": [
      "C:\\Users\\alvar\\anaconda3\\envs\\Plant-Reactivity-Analysis\\lib\\site-packages\\sklearn\\base.py:464: UserWarning: X does not have valid feature names, but SVC was fitted with feature names\n",
      "  warnings.warn(\n"
     ]
    },
    {
     "name": "stdout",
     "output_type": "stream",
     "text": [
      "Running experiments for svm with params: {'C': 0.1, 'gamma': 'auto', 'kernel': 'rbf'}\n"
     ]
    },
    {
     "name": "stderr",
     "output_type": "stream",
     "text": [
      "C:\\Users\\alvar\\anaconda3\\envs\\Plant-Reactivity-Analysis\\lib\\site-packages\\sklearn\\base.py:464: UserWarning: X does not have valid feature names, but SVC was fitted with feature names\n",
      "  warnings.warn(\n",
      "C:\\Users\\alvar\\anaconda3\\envs\\Plant-Reactivity-Analysis\\lib\\site-packages\\sklearn\\metrics\\_classification.py:1469: UndefinedMetricWarning: Precision is ill-defined and being set to 0.0 in labels with no predicted samples. Use `zero_division` parameter to control this behavior.\n",
      "  _warn_prf(average, modifier, msg_start, len(result))\n"
     ]
    },
    {
     "name": "stdout",
     "output_type": "stream",
     "text": [
      "Running experiments for svm with params: {'C': 1, 'gamma': 'scale', 'kernel': 'linear'}\n"
     ]
    },
    {
     "name": "stderr",
     "output_type": "stream",
     "text": [
      "C:\\Users\\alvar\\anaconda3\\envs\\Plant-Reactivity-Analysis\\lib\\site-packages\\sklearn\\base.py:464: UserWarning: X does not have valid feature names, but SVC was fitted with feature names\n",
      "  warnings.warn(\n"
     ]
    },
    {
     "name": "stdout",
     "output_type": "stream",
     "text": [
      "Running experiments for svm with params: {'C': 1, 'gamma': 'scale', 'kernel': 'rbf'}\n"
     ]
    },
    {
     "name": "stderr",
     "output_type": "stream",
     "text": [
      "C:\\Users\\alvar\\anaconda3\\envs\\Plant-Reactivity-Analysis\\lib\\site-packages\\sklearn\\base.py:464: UserWarning: X does not have valid feature names, but SVC was fitted with feature names\n",
      "  warnings.warn(\n"
     ]
    },
    {
     "name": "stdout",
     "output_type": "stream",
     "text": [
      "Running experiments for svm with params: {'C': 1, 'gamma': 'auto', 'kernel': 'linear'}\n"
     ]
    },
    {
     "name": "stderr",
     "output_type": "stream",
     "text": [
      "C:\\Users\\alvar\\anaconda3\\envs\\Plant-Reactivity-Analysis\\lib\\site-packages\\sklearn\\base.py:464: UserWarning: X does not have valid feature names, but SVC was fitted with feature names\n",
      "  warnings.warn(\n"
     ]
    },
    {
     "name": "stdout",
     "output_type": "stream",
     "text": [
      "Running experiments for svm with params: {'C': 1, 'gamma': 'auto', 'kernel': 'rbf'}\n"
     ]
    },
    {
     "name": "stderr",
     "output_type": "stream",
     "text": [
      "C:\\Users\\alvar\\anaconda3\\envs\\Plant-Reactivity-Analysis\\lib\\site-packages\\sklearn\\base.py:464: UserWarning: X does not have valid feature names, but SVC was fitted with feature names\n",
      "  warnings.warn(\n"
     ]
    },
    {
     "name": "stdout",
     "output_type": "stream",
     "text": [
      "Running experiments for svm with params: {'C': 10, 'gamma': 'scale', 'kernel': 'linear'}\n"
     ]
    },
    {
     "name": "stderr",
     "output_type": "stream",
     "text": [
      "C:\\Users\\alvar\\anaconda3\\envs\\Plant-Reactivity-Analysis\\lib\\site-packages\\sklearn\\base.py:464: UserWarning: X does not have valid feature names, but SVC was fitted with feature names\n",
      "  warnings.warn(\n"
     ]
    },
    {
     "name": "stdout",
     "output_type": "stream",
     "text": [
      "Running experiments for svm with params: {'C': 10, 'gamma': 'scale', 'kernel': 'rbf'}\n"
     ]
    },
    {
     "name": "stderr",
     "output_type": "stream",
     "text": [
      "C:\\Users\\alvar\\anaconda3\\envs\\Plant-Reactivity-Analysis\\lib\\site-packages\\sklearn\\base.py:464: UserWarning: X does not have valid feature names, but SVC was fitted with feature names\n",
      "  warnings.warn(\n"
     ]
    },
    {
     "name": "stdout",
     "output_type": "stream",
     "text": [
      "Running experiments for svm with params: {'C': 10, 'gamma': 'auto', 'kernel': 'linear'}\n"
     ]
    },
    {
     "name": "stderr",
     "output_type": "stream",
     "text": [
      "C:\\Users\\alvar\\anaconda3\\envs\\Plant-Reactivity-Analysis\\lib\\site-packages\\sklearn\\base.py:464: UserWarning: X does not have valid feature names, but SVC was fitted with feature names\n",
      "  warnings.warn(\n"
     ]
    },
    {
     "name": "stdout",
     "output_type": "stream",
     "text": [
      "Running experiments for svm with params: {'C': 10, 'gamma': 'auto', 'kernel': 'rbf'}\n"
     ]
    },
    {
     "name": "stderr",
     "output_type": "stream",
     "text": [
      "C:\\Users\\alvar\\anaconda3\\envs\\Plant-Reactivity-Analysis\\lib\\site-packages\\sklearn\\base.py:464: UserWarning: X does not have valid feature names, but SVC was fitted with feature names\n",
      "  warnings.warn(\n"
     ]
    },
    {
     "name": "stdout",
     "output_type": "stream",
     "text": [
      "Running experiments for randomforest with params: {'max_depth': None, 'min_samples_split': 2, 'n_estimators': 100}\n"
     ]
    },
    {
     "name": "stderr",
     "output_type": "stream",
     "text": [
      "C:\\Users\\alvar\\anaconda3\\envs\\Plant-Reactivity-Analysis\\lib\\site-packages\\sklearn\\base.py:464: UserWarning: X does not have valid feature names, but RandomForestClassifier was fitted with feature names\n",
      "  warnings.warn(\n"
     ]
    },
    {
     "name": "stdout",
     "output_type": "stream",
     "text": [
      "Running experiments for randomforest with params: {'max_depth': None, 'min_samples_split': 2, 'n_estimators': 200}\n"
     ]
    },
    {
     "name": "stderr",
     "output_type": "stream",
     "text": [
      "C:\\Users\\alvar\\anaconda3\\envs\\Plant-Reactivity-Analysis\\lib\\site-packages\\sklearn\\base.py:464: UserWarning: X does not have valid feature names, but RandomForestClassifier was fitted with feature names\n",
      "  warnings.warn(\n"
     ]
    },
    {
     "name": "stdout",
     "output_type": "stream",
     "text": [
      "Running experiments for randomforest with params: {'max_depth': None, 'min_samples_split': 2, 'n_estimators': 300}\n"
     ]
    },
    {
     "name": "stderr",
     "output_type": "stream",
     "text": [
      "C:\\Users\\alvar\\anaconda3\\envs\\Plant-Reactivity-Analysis\\lib\\site-packages\\sklearn\\base.py:464: UserWarning: X does not have valid feature names, but RandomForestClassifier was fitted with feature names\n",
      "  warnings.warn(\n"
     ]
    },
    {
     "name": "stdout",
     "output_type": "stream",
     "text": [
      "Running experiments for randomforest with params: {'max_depth': None, 'min_samples_split': 5, 'n_estimators': 100}\n"
     ]
    },
    {
     "name": "stderr",
     "output_type": "stream",
     "text": [
      "C:\\Users\\alvar\\anaconda3\\envs\\Plant-Reactivity-Analysis\\lib\\site-packages\\sklearn\\base.py:464: UserWarning: X does not have valid feature names, but RandomForestClassifier was fitted with feature names\n",
      "  warnings.warn(\n"
     ]
    },
    {
     "name": "stdout",
     "output_type": "stream",
     "text": [
      "Running experiments for randomforest with params: {'max_depth': None, 'min_samples_split': 5, 'n_estimators': 200}\n"
     ]
    },
    {
     "name": "stderr",
     "output_type": "stream",
     "text": [
      "C:\\Users\\alvar\\anaconda3\\envs\\Plant-Reactivity-Analysis\\lib\\site-packages\\sklearn\\base.py:464: UserWarning: X does not have valid feature names, but RandomForestClassifier was fitted with feature names\n",
      "  warnings.warn(\n"
     ]
    },
    {
     "name": "stdout",
     "output_type": "stream",
     "text": [
      "Running experiments for randomforest with params: {'max_depth': None, 'min_samples_split': 5, 'n_estimators': 300}\n"
     ]
    },
    {
     "name": "stderr",
     "output_type": "stream",
     "text": [
      "C:\\Users\\alvar\\anaconda3\\envs\\Plant-Reactivity-Analysis\\lib\\site-packages\\sklearn\\base.py:464: UserWarning: X does not have valid feature names, but RandomForestClassifier was fitted with feature names\n",
      "  warnings.warn(\n"
     ]
    },
    {
     "name": "stdout",
     "output_type": "stream",
     "text": [
      "Running experiments for randomforest with params: {'max_depth': 10, 'min_samples_split': 2, 'n_estimators': 100}\n"
     ]
    },
    {
     "name": "stderr",
     "output_type": "stream",
     "text": [
      "C:\\Users\\alvar\\anaconda3\\envs\\Plant-Reactivity-Analysis\\lib\\site-packages\\sklearn\\base.py:464: UserWarning: X does not have valid feature names, but RandomForestClassifier was fitted with feature names\n",
      "  warnings.warn(\n"
     ]
    },
    {
     "name": "stdout",
     "output_type": "stream",
     "text": [
      "Running experiments for randomforest with params: {'max_depth': 10, 'min_samples_split': 2, 'n_estimators': 200}\n"
     ]
    },
    {
     "name": "stderr",
     "output_type": "stream",
     "text": [
      "C:\\Users\\alvar\\anaconda3\\envs\\Plant-Reactivity-Analysis\\lib\\site-packages\\sklearn\\base.py:464: UserWarning: X does not have valid feature names, but RandomForestClassifier was fitted with feature names\n",
      "  warnings.warn(\n"
     ]
    },
    {
     "name": "stdout",
     "output_type": "stream",
     "text": [
      "Running experiments for randomforest with params: {'max_depth': 10, 'min_samples_split': 2, 'n_estimators': 300}\n"
     ]
    },
    {
     "name": "stderr",
     "output_type": "stream",
     "text": [
      "C:\\Users\\alvar\\anaconda3\\envs\\Plant-Reactivity-Analysis\\lib\\site-packages\\sklearn\\base.py:464: UserWarning: X does not have valid feature names, but RandomForestClassifier was fitted with feature names\n",
      "  warnings.warn(\n"
     ]
    },
    {
     "name": "stdout",
     "output_type": "stream",
     "text": [
      "Running experiments for randomforest with params: {'max_depth': 10, 'min_samples_split': 5, 'n_estimators': 100}\n"
     ]
    },
    {
     "name": "stderr",
     "output_type": "stream",
     "text": [
      "C:\\Users\\alvar\\anaconda3\\envs\\Plant-Reactivity-Analysis\\lib\\site-packages\\sklearn\\base.py:464: UserWarning: X does not have valid feature names, but RandomForestClassifier was fitted with feature names\n",
      "  warnings.warn(\n"
     ]
    },
    {
     "name": "stdout",
     "output_type": "stream",
     "text": [
      "Running experiments for randomforest with params: {'max_depth': 10, 'min_samples_split': 5, 'n_estimators': 200}\n"
     ]
    },
    {
     "name": "stderr",
     "output_type": "stream",
     "text": [
      "C:\\Users\\alvar\\anaconda3\\envs\\Plant-Reactivity-Analysis\\lib\\site-packages\\sklearn\\base.py:464: UserWarning: X does not have valid feature names, but RandomForestClassifier was fitted with feature names\n",
      "  warnings.warn(\n"
     ]
    },
    {
     "name": "stdout",
     "output_type": "stream",
     "text": [
      "Running experiments for randomforest with params: {'max_depth': 10, 'min_samples_split': 5, 'n_estimators': 300}\n"
     ]
    },
    {
     "name": "stderr",
     "output_type": "stream",
     "text": [
      "C:\\Users\\alvar\\anaconda3\\envs\\Plant-Reactivity-Analysis\\lib\\site-packages\\sklearn\\base.py:464: UserWarning: X does not have valid feature names, but RandomForestClassifier was fitted with feature names\n",
      "  warnings.warn(\n"
     ]
    },
    {
     "name": "stdout",
     "output_type": "stream",
     "text": [
      "Running experiments for randomforest with params: {'max_depth': 20, 'min_samples_split': 2, 'n_estimators': 100}\n"
     ]
    },
    {
     "name": "stderr",
     "output_type": "stream",
     "text": [
      "C:\\Users\\alvar\\anaconda3\\envs\\Plant-Reactivity-Analysis\\lib\\site-packages\\sklearn\\base.py:464: UserWarning: X does not have valid feature names, but RandomForestClassifier was fitted with feature names\n",
      "  warnings.warn(\n"
     ]
    },
    {
     "name": "stdout",
     "output_type": "stream",
     "text": [
      "Running experiments for randomforest with params: {'max_depth': 20, 'min_samples_split': 2, 'n_estimators': 200}\n"
     ]
    },
    {
     "name": "stderr",
     "output_type": "stream",
     "text": [
      "C:\\Users\\alvar\\anaconda3\\envs\\Plant-Reactivity-Analysis\\lib\\site-packages\\sklearn\\base.py:464: UserWarning: X does not have valid feature names, but RandomForestClassifier was fitted with feature names\n",
      "  warnings.warn(\n"
     ]
    },
    {
     "name": "stdout",
     "output_type": "stream",
     "text": [
      "Running experiments for randomforest with params: {'max_depth': 20, 'min_samples_split': 2, 'n_estimators': 300}\n"
     ]
    },
    {
     "name": "stderr",
     "output_type": "stream",
     "text": [
      "C:\\Users\\alvar\\anaconda3\\envs\\Plant-Reactivity-Analysis\\lib\\site-packages\\sklearn\\base.py:464: UserWarning: X does not have valid feature names, but RandomForestClassifier was fitted with feature names\n",
      "  warnings.warn(\n"
     ]
    },
    {
     "name": "stdout",
     "output_type": "stream",
     "text": [
      "Running experiments for randomforest with params: {'max_depth': 20, 'min_samples_split': 5, 'n_estimators': 100}\n"
     ]
    },
    {
     "name": "stderr",
     "output_type": "stream",
     "text": [
      "C:\\Users\\alvar\\anaconda3\\envs\\Plant-Reactivity-Analysis\\lib\\site-packages\\sklearn\\base.py:464: UserWarning: X does not have valid feature names, but RandomForestClassifier was fitted with feature names\n",
      "  warnings.warn(\n"
     ]
    },
    {
     "name": "stdout",
     "output_type": "stream",
     "text": [
      "Running experiments for randomforest with params: {'max_depth': 20, 'min_samples_split': 5, 'n_estimators': 200}\n"
     ]
    },
    {
     "name": "stderr",
     "output_type": "stream",
     "text": [
      "C:\\Users\\alvar\\anaconda3\\envs\\Plant-Reactivity-Analysis\\lib\\site-packages\\sklearn\\base.py:464: UserWarning: X does not have valid feature names, but RandomForestClassifier was fitted with feature names\n",
      "  warnings.warn(\n"
     ]
    },
    {
     "name": "stdout",
     "output_type": "stream",
     "text": [
      "Running experiments for randomforest with params: {'max_depth': 20, 'min_samples_split': 5, 'n_estimators': 300}\n"
     ]
    },
    {
     "name": "stderr",
     "output_type": "stream",
     "text": [
      "C:\\Users\\alvar\\anaconda3\\envs\\Plant-Reactivity-Analysis\\lib\\site-packages\\sklearn\\base.py:464: UserWarning: X does not have valid feature names, but RandomForestClassifier was fitted with feature names\n",
      "  warnings.warn(\n"
     ]
    },
    {
     "name": "stdout",
     "output_type": "stream",
     "text": [
      "Running experiments for gradientboosting with params: {'learning_rate': 0.1, 'max_depth': 3, 'n_estimators': 100}\n"
     ]
    },
    {
     "name": "stderr",
     "output_type": "stream",
     "text": [
      "C:\\Users\\alvar\\anaconda3\\envs\\Plant-Reactivity-Analysis\\lib\\site-packages\\sklearn\\base.py:464: UserWarning: X does not have valid feature names, but GradientBoostingClassifier was fitted with feature names\n",
      "  warnings.warn(\n"
     ]
    },
    {
     "name": "stdout",
     "output_type": "stream",
     "text": [
      "Running experiments for gradientboosting with params: {'learning_rate': 0.1, 'max_depth': 3, 'n_estimators': 200}\n"
     ]
    },
    {
     "name": "stderr",
     "output_type": "stream",
     "text": [
      "C:\\Users\\alvar\\anaconda3\\envs\\Plant-Reactivity-Analysis\\lib\\site-packages\\sklearn\\base.py:464: UserWarning: X does not have valid feature names, but GradientBoostingClassifier was fitted with feature names\n",
      "  warnings.warn(\n"
     ]
    },
    {
     "name": "stdout",
     "output_type": "stream",
     "text": [
      "Running experiments for gradientboosting with params: {'learning_rate': 0.1, 'max_depth': 5, 'n_estimators': 100}\n"
     ]
    },
    {
     "name": "stderr",
     "output_type": "stream",
     "text": [
      "C:\\Users\\alvar\\anaconda3\\envs\\Plant-Reactivity-Analysis\\lib\\site-packages\\sklearn\\base.py:464: UserWarning: X does not have valid feature names, but GradientBoostingClassifier was fitted with feature names\n",
      "  warnings.warn(\n"
     ]
    },
    {
     "name": "stdout",
     "output_type": "stream",
     "text": [
      "Running experiments for gradientboosting with params: {'learning_rate': 0.1, 'max_depth': 5, 'n_estimators': 200}\n"
     ]
    },
    {
     "name": "stderr",
     "output_type": "stream",
     "text": [
      "C:\\Users\\alvar\\anaconda3\\envs\\Plant-Reactivity-Analysis\\lib\\site-packages\\sklearn\\base.py:464: UserWarning: X does not have valid feature names, but GradientBoostingClassifier was fitted with feature names\n",
      "  warnings.warn(\n"
     ]
    },
    {
     "name": "stdout",
     "output_type": "stream",
     "text": [
      "Running experiments for gradientboosting with params: {'learning_rate': 0.05, 'max_depth': 3, 'n_estimators': 100}\n"
     ]
    },
    {
     "name": "stderr",
     "output_type": "stream",
     "text": [
      "C:\\Users\\alvar\\anaconda3\\envs\\Plant-Reactivity-Analysis\\lib\\site-packages\\sklearn\\base.py:464: UserWarning: X does not have valid feature names, but GradientBoostingClassifier was fitted with feature names\n",
      "  warnings.warn(\n"
     ]
    },
    {
     "name": "stdout",
     "output_type": "stream",
     "text": [
      "Running experiments for gradientboosting with params: {'learning_rate': 0.05, 'max_depth': 3, 'n_estimators': 200}\n"
     ]
    },
    {
     "name": "stderr",
     "output_type": "stream",
     "text": [
      "C:\\Users\\alvar\\anaconda3\\envs\\Plant-Reactivity-Analysis\\lib\\site-packages\\sklearn\\base.py:464: UserWarning: X does not have valid feature names, but GradientBoostingClassifier was fitted with feature names\n",
      "  warnings.warn(\n"
     ]
    },
    {
     "name": "stdout",
     "output_type": "stream",
     "text": [
      "Running experiments for gradientboosting with params: {'learning_rate': 0.05, 'max_depth': 5, 'n_estimators': 100}\n"
     ]
    },
    {
     "name": "stderr",
     "output_type": "stream",
     "text": [
      "C:\\Users\\alvar\\anaconda3\\envs\\Plant-Reactivity-Analysis\\lib\\site-packages\\sklearn\\base.py:464: UserWarning: X does not have valid feature names, but GradientBoostingClassifier was fitted with feature names\n",
      "  warnings.warn(\n"
     ]
    },
    {
     "name": "stdout",
     "output_type": "stream",
     "text": [
      "Running experiments for gradientboosting with params: {'learning_rate': 0.05, 'max_depth': 5, 'n_estimators': 200}\n"
     ]
    },
    {
     "name": "stderr",
     "output_type": "stream",
     "text": [
      "C:\\Users\\alvar\\anaconda3\\envs\\Plant-Reactivity-Analysis\\lib\\site-packages\\sklearn\\base.py:464: UserWarning: X does not have valid feature names, but GradientBoostingClassifier was fitted with feature names\n",
      "  warnings.warn(\n"
     ]
    },
    {
     "name": "stdout",
     "output_type": "stream",
     "text": [
      "Running experiments for extratrees with params: {'max_depth': None, 'min_samples_split': 2, 'n_estimators': 100}\n"
     ]
    },
    {
     "name": "stderr",
     "output_type": "stream",
     "text": [
      "C:\\Users\\alvar\\anaconda3\\envs\\Plant-Reactivity-Analysis\\lib\\site-packages\\sklearn\\base.py:464: UserWarning: X does not have valid feature names, but ExtraTreesClassifier was fitted with feature names\n",
      "  warnings.warn(\n"
     ]
    },
    {
     "name": "stdout",
     "output_type": "stream",
     "text": [
      "Running experiments for extratrees with params: {'max_depth': None, 'min_samples_split': 2, 'n_estimators': 200}\n"
     ]
    },
    {
     "name": "stderr",
     "output_type": "stream",
     "text": [
      "C:\\Users\\alvar\\anaconda3\\envs\\Plant-Reactivity-Analysis\\lib\\site-packages\\sklearn\\base.py:464: UserWarning: X does not have valid feature names, but ExtraTreesClassifier was fitted with feature names\n",
      "  warnings.warn(\n"
     ]
    },
    {
     "name": "stdout",
     "output_type": "stream",
     "text": [
      "Running experiments for extratrees with params: {'max_depth': None, 'min_samples_split': 5, 'n_estimators': 100}\n"
     ]
    },
    {
     "name": "stderr",
     "output_type": "stream",
     "text": [
      "C:\\Users\\alvar\\anaconda3\\envs\\Plant-Reactivity-Analysis\\lib\\site-packages\\sklearn\\base.py:464: UserWarning: X does not have valid feature names, but ExtraTreesClassifier was fitted with feature names\n",
      "  warnings.warn(\n"
     ]
    },
    {
     "name": "stdout",
     "output_type": "stream",
     "text": [
      "Running experiments for extratrees with params: {'max_depth': None, 'min_samples_split': 5, 'n_estimators': 200}\n"
     ]
    },
    {
     "name": "stderr",
     "output_type": "stream",
     "text": [
      "C:\\Users\\alvar\\anaconda3\\envs\\Plant-Reactivity-Analysis\\lib\\site-packages\\sklearn\\base.py:464: UserWarning: X does not have valid feature names, but ExtraTreesClassifier was fitted with feature names\n",
      "  warnings.warn(\n"
     ]
    },
    {
     "name": "stdout",
     "output_type": "stream",
     "text": [
      "Running experiments for extratrees with params: {'max_depth': 20, 'min_samples_split': 2, 'n_estimators': 100}\n"
     ]
    },
    {
     "name": "stderr",
     "output_type": "stream",
     "text": [
      "C:\\Users\\alvar\\anaconda3\\envs\\Plant-Reactivity-Analysis\\lib\\site-packages\\sklearn\\base.py:464: UserWarning: X does not have valid feature names, but ExtraTreesClassifier was fitted with feature names\n",
      "  warnings.warn(\n"
     ]
    },
    {
     "name": "stdout",
     "output_type": "stream",
     "text": [
      "Running experiments for extratrees with params: {'max_depth': 20, 'min_samples_split': 2, 'n_estimators': 200}\n"
     ]
    },
    {
     "name": "stderr",
     "output_type": "stream",
     "text": [
      "C:\\Users\\alvar\\anaconda3\\envs\\Plant-Reactivity-Analysis\\lib\\site-packages\\sklearn\\base.py:464: UserWarning: X does not have valid feature names, but ExtraTreesClassifier was fitted with feature names\n",
      "  warnings.warn(\n"
     ]
    },
    {
     "name": "stdout",
     "output_type": "stream",
     "text": [
      "Running experiments for extratrees with params: {'max_depth': 20, 'min_samples_split': 5, 'n_estimators': 100}\n"
     ]
    },
    {
     "name": "stderr",
     "output_type": "stream",
     "text": [
      "C:\\Users\\alvar\\anaconda3\\envs\\Plant-Reactivity-Analysis\\lib\\site-packages\\sklearn\\base.py:464: UserWarning: X does not have valid feature names, but ExtraTreesClassifier was fitted with feature names\n",
      "  warnings.warn(\n"
     ]
    },
    {
     "name": "stdout",
     "output_type": "stream",
     "text": [
      "Running experiments for extratrees with params: {'max_depth': 20, 'min_samples_split': 5, 'n_estimators': 200}\n"
     ]
    },
    {
     "name": "stderr",
     "output_type": "stream",
     "text": [
      "C:\\Users\\alvar\\anaconda3\\envs\\Plant-Reactivity-Analysis\\lib\\site-packages\\sklearn\\base.py:464: UserWarning: X does not have valid feature names, but ExtraTreesClassifier was fitted with feature names\n",
      "  warnings.warn(\n",
      "C:\\Users\\alvar\\anaconda3\\envs\\Plant-Reactivity-Analysis\\lib\\site-packages\\sklearn\\base.py:464: UserWarning: X does not have valid feature names, but GaussianNB was fitted with feature names\n",
      "  warnings.warn(\n",
      "C:\\Users\\alvar\\anaconda3\\envs\\Plant-Reactivity-Analysis\\lib\\site-packages\\sklearn\\base.py:464: UserWarning: X does not have valid feature names, but GaussianNB was fitted with feature names\n",
      "  warnings.warn(\n",
      "C:\\Users\\alvar\\anaconda3\\envs\\Plant-Reactivity-Analysis\\lib\\site-packages\\sklearn\\base.py:464: UserWarning: X does not have valid feature names, but GaussianNB was fitted with feature names\n",
      "  warnings.warn(\n"
     ]
    },
    {
     "name": "stdout",
     "output_type": "stream",
     "text": [
      "Running experiments for gaussiannb with params: {'var_smoothing': 1e-09}\n",
      "Running experiments for gaussiannb with params: {'var_smoothing': 1e-08}\n",
      "Running experiments for gaussiannb with params: {'var_smoothing': 1e-10}\n",
      "Running experiments for adaboost with params: {'learning_rate': 0.1, 'n_estimators': 50}\n"
     ]
    },
    {
     "name": "stderr",
     "output_type": "stream",
     "text": [
      "C:\\Users\\alvar\\anaconda3\\envs\\Plant-Reactivity-Analysis\\lib\\site-packages\\sklearn\\base.py:464: UserWarning: X does not have valid feature names, but AdaBoostClassifier was fitted with feature names\n",
      "  warnings.warn(\n"
     ]
    },
    {
     "name": "stdout",
     "output_type": "stream",
     "text": [
      "Running experiments for adaboost with params: {'learning_rate': 0.1, 'n_estimators': 100}\n"
     ]
    },
    {
     "name": "stderr",
     "output_type": "stream",
     "text": [
      "C:\\Users\\alvar\\anaconda3\\envs\\Plant-Reactivity-Analysis\\lib\\site-packages\\sklearn\\base.py:464: UserWarning: X does not have valid feature names, but AdaBoostClassifier was fitted with feature names\n",
      "  warnings.warn(\n"
     ]
    },
    {
     "name": "stdout",
     "output_type": "stream",
     "text": [
      "Running experiments for adaboost with params: {'learning_rate': 1.0, 'n_estimators': 50}\n"
     ]
    },
    {
     "name": "stderr",
     "output_type": "stream",
     "text": [
      "C:\\Users\\alvar\\anaconda3\\envs\\Plant-Reactivity-Analysis\\lib\\site-packages\\sklearn\\base.py:464: UserWarning: X does not have valid feature names, but AdaBoostClassifier was fitted with feature names\n",
      "  warnings.warn(\n"
     ]
    },
    {
     "name": "stdout",
     "output_type": "stream",
     "text": [
      "Running experiments for adaboost with params: {'learning_rate': 1.0, 'n_estimators': 100}\n"
     ]
    },
    {
     "name": "stderr",
     "output_type": "stream",
     "text": [
      "C:\\Users\\alvar\\anaconda3\\envs\\Plant-Reactivity-Analysis\\lib\\site-packages\\sklearn\\base.py:464: UserWarning: X does not have valid feature names, but AdaBoostClassifier was fitted with feature names\n",
      "  warnings.warn(\n",
      "C:\\Users\\alvar\\anaconda3\\envs\\Plant-Reactivity-Analysis\\lib\\site-packages\\sklearn\\base.py:464: UserWarning: X does not have valid feature names, but LogisticRegression was fitted with feature names\n",
      "  warnings.warn(\n"
     ]
    },
    {
     "name": "stdout",
     "output_type": "stream",
     "text": [
      "Running experiments for logisticregression with params: {'C': 0.1, 'solver': 'liblinear'}\n",
      "Running experiments for logisticregression with params: {'C': 0.1, 'solver': 'lbfgs'}\n"
     ]
    },
    {
     "name": "stderr",
     "output_type": "stream",
     "text": [
      "C:\\Users\\alvar\\anaconda3\\envs\\Plant-Reactivity-Analysis\\lib\\site-packages\\sklearn\\base.py:464: UserWarning: X does not have valid feature names, but LogisticRegression was fitted with feature names\n",
      "  warnings.warn(\n",
      "C:\\Users\\alvar\\anaconda3\\envs\\Plant-Reactivity-Analysis\\lib\\site-packages\\sklearn\\base.py:464: UserWarning: X does not have valid feature names, but LogisticRegression was fitted with feature names\n",
      "  warnings.warn(\n"
     ]
    },
    {
     "name": "stdout",
     "output_type": "stream",
     "text": [
      "Running experiments for logisticregression with params: {'C': 1, 'solver': 'liblinear'}\n",
      "Running experiments for logisticregression with params: {'C': 1, 'solver': 'lbfgs'}\n"
     ]
    },
    {
     "name": "stderr",
     "output_type": "stream",
     "text": [
      "C:\\Users\\alvar\\anaconda3\\envs\\Plant-Reactivity-Analysis\\lib\\site-packages\\sklearn\\base.py:464: UserWarning: X does not have valid feature names, but LogisticRegression was fitted with feature names\n",
      "  warnings.warn(\n",
      "C:\\Users\\alvar\\anaconda3\\envs\\Plant-Reactivity-Analysis\\lib\\site-packages\\sklearn\\base.py:464: UserWarning: X does not have valid feature names, but LogisticRegression was fitted with feature names\n",
      "  warnings.warn(\n"
     ]
    },
    {
     "name": "stdout",
     "output_type": "stream",
     "text": [
      "Running experiments for logisticregression with params: {'C': 10, 'solver': 'liblinear'}\n",
      "Running experiments for logisticregression with params: {'C': 10, 'solver': 'lbfgs'}\n"
     ]
    },
    {
     "name": "stderr",
     "output_type": "stream",
     "text": [
      "C:\\Users\\alvar\\anaconda3\\envs\\Plant-Reactivity-Analysis\\lib\\site-packages\\sklearn\\base.py:464: UserWarning: X does not have valid feature names, but LogisticRegression was fitted with feature names\n",
      "  warnings.warn(\n",
      "C:\\Users\\alvar\\anaconda3\\envs\\Plant-Reactivity-Analysis\\lib\\site-packages\\sklearn\\base.py:464: UserWarning: X does not have valid feature names, but KNeighborsClassifier was fitted with feature names\n",
      "  warnings.warn(\n"
     ]
    },
    {
     "name": "stdout",
     "output_type": "stream",
     "text": [
      "Running experiments for kneighbors with params: {'n_neighbors': 5, 'weights': 'uniform'}\n",
      "Running experiments for kneighbors with params: {'n_neighbors': 5, 'weights': 'distance'}\n",
      "Running experiments for kneighbors with params: {'n_neighbors': 10, 'weights': 'uniform'}\n"
     ]
    },
    {
     "name": "stderr",
     "output_type": "stream",
     "text": [
      "C:\\Users\\alvar\\anaconda3\\envs\\Plant-Reactivity-Analysis\\lib\\site-packages\\sklearn\\base.py:464: UserWarning: X does not have valid feature names, but KNeighborsClassifier was fitted with feature names\n",
      "  warnings.warn(\n",
      "C:\\Users\\alvar\\anaconda3\\envs\\Plant-Reactivity-Analysis\\lib\\site-packages\\sklearn\\base.py:464: UserWarning: X does not have valid feature names, but KNeighborsClassifier was fitted with feature names\n",
      "  warnings.warn(\n"
     ]
    },
    {
     "name": "stdout",
     "output_type": "stream",
     "text": [
      "Running experiments for kneighbors with params: {'n_neighbors': 10, 'weights': 'distance'}\n",
      "Running experiments for kneighbors with params: {'n_neighbors': 15, 'weights': 'uniform'}\n"
     ]
    },
    {
     "name": "stderr",
     "output_type": "stream",
     "text": [
      "C:\\Users\\alvar\\anaconda3\\envs\\Plant-Reactivity-Analysis\\lib\\site-packages\\sklearn\\base.py:464: UserWarning: X does not have valid feature names, but KNeighborsClassifier was fitted with feature names\n",
      "  warnings.warn(\n",
      "C:\\Users\\alvar\\anaconda3\\envs\\Plant-Reactivity-Analysis\\lib\\site-packages\\sklearn\\base.py:464: UserWarning: X does not have valid feature names, but KNeighborsClassifier was fitted with feature names\n",
      "  warnings.warn(\n"
     ]
    },
    {
     "name": "stdout",
     "output_type": "stream",
     "text": [
      "Running experiments for kneighbors with params: {'n_neighbors': 15, 'weights': 'distance'}\n",
      "Running experiments for lgbm with params: {'learning_rate': 0.1, 'n_estimators': 100, 'num_leaves': 31}\n",
      "[LightGBM] [Warning] Found whitespace in feature_names, replace with underlines\n",
      "[LightGBM] [Info] Auto-choosing col-wise multi-threading, the overhead of testing was 0.001398 seconds.\n",
      "You can set `force_col_wise=true` to remove the overhead.\n",
      "[LightGBM] [Info] Total Bins 11569\n",
      "[LightGBM] [Info] Number of data points in the train set: 2970, number of used features: 46\n",
      "[LightGBM] [Info] Start training from score -1.081586\n",
      "[LightGBM] [Info] Start training from score -1.095587\n",
      "[LightGBM] [Info] Start training from score -1.119021\n"
     ]
    },
    {
     "name": "stderr",
     "output_type": "stream",
     "text": [
      "C:\\Users\\alvar\\anaconda3\\envs\\Plant-Reactivity-Analysis\\lib\\site-packages\\sklearn\\base.py:464: UserWarning: X does not have valid feature names, but KNeighborsClassifier was fitted with feature names\n",
      "  warnings.warn(\n"
     ]
    },
    {
     "name": "stdout",
     "output_type": "stream",
     "text": [
      "Running experiments for lgbm with params: {'learning_rate': 0.1, 'n_estimators': 100, 'num_leaves': 64}\n",
      "[LightGBM] [Warning] Found whitespace in feature_names, replace with underlines\n",
      "[LightGBM] [Info] Auto-choosing col-wise multi-threading, the overhead of testing was 0.001326 seconds.\n",
      "You can set `force_col_wise=true` to remove the overhead.\n",
      "[LightGBM] [Info] Total Bins 11569\n",
      "[LightGBM] [Info] Number of data points in the train set: 2970, number of used features: 46\n",
      "[LightGBM] [Info] Start training from score -1.081586\n",
      "[LightGBM] [Info] Start training from score -1.095587\n",
      "[LightGBM] [Info] Start training from score -1.119021\n",
      "Running experiments for lgbm with params: {'learning_rate': 0.1, 'n_estimators': 200, 'num_leaves': 31}\n",
      "[LightGBM] [Warning] Found whitespace in feature_names, replace with underlines\n",
      "[LightGBM] [Info] Auto-choosing col-wise multi-threading, the overhead of testing was 0.001358 seconds.\n",
      "You can set `force_col_wise=true` to remove the overhead.\n",
      "[LightGBM] [Info] Total Bins 11569\n",
      "[LightGBM] [Info] Number of data points in the train set: 2970, number of used features: 46\n",
      "[LightGBM] [Info] Start training from score -1.081586\n",
      "[LightGBM] [Info] Start training from score -1.095587\n",
      "[LightGBM] [Info] Start training from score -1.119021\n",
      "Running experiments for lgbm with params: {'learning_rate': 0.1, 'n_estimators': 200, 'num_leaves': 64}\n",
      "[LightGBM] [Warning] Found whitespace in feature_names, replace with underlines\n",
      "[LightGBM] [Info] Auto-choosing col-wise multi-threading, the overhead of testing was 0.001070 seconds.\n",
      "You can set `force_col_wise=true` to remove the overhead.\n",
      "[LightGBM] [Info] Total Bins 11569\n",
      "[LightGBM] [Info] Number of data points in the train set: 2970, number of used features: 46\n",
      "[LightGBM] [Info] Start training from score -1.081586\n",
      "[LightGBM] [Info] Start training from score -1.095587\n",
      "[LightGBM] [Info] Start training from score -1.119021\n",
      "Running experiments for lgbm with params: {'learning_rate': 0.05, 'n_estimators': 100, 'num_leaves': 31}\n",
      "[LightGBM] [Warning] Found whitespace in feature_names, replace with underlines\n",
      "[LightGBM] [Info] Auto-choosing col-wise multi-threading, the overhead of testing was 0.002202 seconds.\n",
      "You can set `force_col_wise=true` to remove the overhead.\n",
      "[LightGBM] [Info] Total Bins 11569\n",
      "[LightGBM] [Info] Number of data points in the train set: 2970, number of used features: 46\n",
      "[LightGBM] [Info] Start training from score -1.081586\n",
      "[LightGBM] [Info] Start training from score -1.095587\n",
      "[LightGBM] [Info] Start training from score -1.119021\n",
      "Running experiments for lgbm with params: {'learning_rate': 0.05, 'n_estimators': 100, 'num_leaves': 64}\n",
      "[LightGBM] [Warning] Found whitespace in feature_names, replace with underlines\n",
      "[LightGBM] [Info] Auto-choosing col-wise multi-threading, the overhead of testing was 0.000979 seconds.\n",
      "You can set `force_col_wise=true` to remove the overhead.\n",
      "[LightGBM] [Info] Total Bins 11569\n",
      "[LightGBM] [Info] Number of data points in the train set: 2970, number of used features: 46\n",
      "[LightGBM] [Info] Start training from score -1.081586\n",
      "[LightGBM] [Info] Start training from score -1.095587\n",
      "[LightGBM] [Info] Start training from score -1.119021\n",
      "Running experiments for lgbm with params: {'learning_rate': 0.05, 'n_estimators': 200, 'num_leaves': 31}\n",
      "[LightGBM] [Warning] Found whitespace in feature_names, replace with underlines\n",
      "[LightGBM] [Info] Auto-choosing col-wise multi-threading, the overhead of testing was 0.001367 seconds.\n",
      "You can set `force_col_wise=true` to remove the overhead.\n",
      "[LightGBM] [Info] Total Bins 11569\n",
      "[LightGBM] [Info] Number of data points in the train set: 2970, number of used features: 46\n",
      "[LightGBM] [Info] Start training from score -1.081586\n",
      "[LightGBM] [Info] Start training from score -1.095587\n",
      "[LightGBM] [Info] Start training from score -1.119021\n",
      "Running experiments for lgbm with params: {'learning_rate': 0.05, 'n_estimators': 200, 'num_leaves': 64}\n",
      "[LightGBM] [Warning] Found whitespace in feature_names, replace with underlines\n",
      "[LightGBM] [Info] Auto-choosing col-wise multi-threading, the overhead of testing was 0.001909 seconds.\n",
      "You can set `force_col_wise=true` to remove the overhead.\n",
      "[LightGBM] [Info] Total Bins 11569\n",
      "[LightGBM] [Info] Number of data points in the train set: 2970, number of used features: 46\n",
      "[LightGBM] [Info] Start training from score -1.081586\n",
      "[LightGBM] [Info] Start training from score -1.095587\n",
      "[LightGBM] [Info] Start training from score -1.119021\n",
      "Running experiments for xgb with params: {'learning_rate': 0.1, 'max_depth': 3, 'n_estimators': 100}\n",
      "Running experiments for xgb with params: {'learning_rate': 0.1, 'max_depth': 3, 'n_estimators': 200}\n",
      "Running experiments for xgb with params: {'learning_rate': 0.1, 'max_depth': 6, 'n_estimators': 100}\n",
      "Running experiments for xgb with params: {'learning_rate': 0.1, 'max_depth': 6, 'n_estimators': 200}\n",
      "Running experiments for xgb with params: {'learning_rate': 0.05, 'max_depth': 3, 'n_estimators': 100}\n",
      "Running experiments for xgb with params: {'learning_rate': 0.05, 'max_depth': 3, 'n_estimators': 200}\n",
      "Running experiments for xgb with params: {'learning_rate': 0.05, 'max_depth': 6, 'n_estimators': 100}\n",
      "Running experiments for xgb with params: {'learning_rate': 0.05, 'max_depth': 6, 'n_estimators': 200}\n",
      "Now processing Dataset 4...\n",
      "  Processing RQ 1 within Dataset 4...\n",
      "Running experiments for randomforest with params: {'max_depth': None, 'min_samples_split': 2, 'n_estimators': 100}\n"
     ]
    },
    {
     "name": "stderr",
     "output_type": "stream",
     "text": [
      "C:\\Users\\alvar\\anaconda3\\envs\\Plant-Reactivity-Analysis\\lib\\site-packages\\sklearn\\base.py:464: UserWarning: X does not have valid feature names, but RandomForestClassifier was fitted with feature names\n",
      "  warnings.warn(\n"
     ]
    },
    {
     "name": "stdout",
     "output_type": "stream",
     "text": [
      "Running experiments for randomforest with params: {'max_depth': None, 'min_samples_split': 2, 'n_estimators': 200}\n"
     ]
    },
    {
     "name": "stderr",
     "output_type": "stream",
     "text": [
      "C:\\Users\\alvar\\anaconda3\\envs\\Plant-Reactivity-Analysis\\lib\\site-packages\\sklearn\\base.py:464: UserWarning: X does not have valid feature names, but RandomForestClassifier was fitted with feature names\n",
      "  warnings.warn(\n"
     ]
    },
    {
     "name": "stdout",
     "output_type": "stream",
     "text": [
      "Running experiments for randomforest with params: {'max_depth': None, 'min_samples_split': 2, 'n_estimators': 300}\n"
     ]
    },
    {
     "name": "stderr",
     "output_type": "stream",
     "text": [
      "C:\\Users\\alvar\\anaconda3\\envs\\Plant-Reactivity-Analysis\\lib\\site-packages\\sklearn\\base.py:464: UserWarning: X does not have valid feature names, but RandomForestClassifier was fitted with feature names\n",
      "  warnings.warn(\n"
     ]
    },
    {
     "name": "stdout",
     "output_type": "stream",
     "text": [
      "Running experiments for randomforest with params: {'max_depth': None, 'min_samples_split': 5, 'n_estimators': 100}\n"
     ]
    },
    {
     "name": "stderr",
     "output_type": "stream",
     "text": [
      "C:\\Users\\alvar\\anaconda3\\envs\\Plant-Reactivity-Analysis\\lib\\site-packages\\sklearn\\base.py:464: UserWarning: X does not have valid feature names, but RandomForestClassifier was fitted with feature names\n",
      "  warnings.warn(\n"
     ]
    },
    {
     "name": "stdout",
     "output_type": "stream",
     "text": [
      "Running experiments for randomforest with params: {'max_depth': None, 'min_samples_split': 5, 'n_estimators': 200}\n"
     ]
    },
    {
     "name": "stderr",
     "output_type": "stream",
     "text": [
      "C:\\Users\\alvar\\anaconda3\\envs\\Plant-Reactivity-Analysis\\lib\\site-packages\\sklearn\\base.py:464: UserWarning: X does not have valid feature names, but RandomForestClassifier was fitted with feature names\n",
      "  warnings.warn(\n"
     ]
    },
    {
     "name": "stdout",
     "output_type": "stream",
     "text": [
      "Running experiments for randomforest with params: {'max_depth': None, 'min_samples_split': 5, 'n_estimators': 300}\n"
     ]
    },
    {
     "name": "stderr",
     "output_type": "stream",
     "text": [
      "C:\\Users\\alvar\\anaconda3\\envs\\Plant-Reactivity-Analysis\\lib\\site-packages\\sklearn\\base.py:464: UserWarning: X does not have valid feature names, but RandomForestClassifier was fitted with feature names\n",
      "  warnings.warn(\n"
     ]
    },
    {
     "name": "stdout",
     "output_type": "stream",
     "text": [
      "Running experiments for randomforest with params: {'max_depth': 10, 'min_samples_split': 2, 'n_estimators': 100}\n"
     ]
    },
    {
     "name": "stderr",
     "output_type": "stream",
     "text": [
      "C:\\Users\\alvar\\anaconda3\\envs\\Plant-Reactivity-Analysis\\lib\\site-packages\\sklearn\\base.py:464: UserWarning: X does not have valid feature names, but RandomForestClassifier was fitted with feature names\n",
      "  warnings.warn(\n"
     ]
    },
    {
     "name": "stdout",
     "output_type": "stream",
     "text": [
      "Running experiments for randomforest with params: {'max_depth': 10, 'min_samples_split': 2, 'n_estimators': 200}\n"
     ]
    },
    {
     "name": "stderr",
     "output_type": "stream",
     "text": [
      "C:\\Users\\alvar\\anaconda3\\envs\\Plant-Reactivity-Analysis\\lib\\site-packages\\sklearn\\base.py:464: UserWarning: X does not have valid feature names, but RandomForestClassifier was fitted with feature names\n",
      "  warnings.warn(\n"
     ]
    },
    {
     "name": "stdout",
     "output_type": "stream",
     "text": [
      "Running experiments for randomforest with params: {'max_depth': 10, 'min_samples_split': 2, 'n_estimators': 300}\n"
     ]
    },
    {
     "name": "stderr",
     "output_type": "stream",
     "text": [
      "C:\\Users\\alvar\\anaconda3\\envs\\Plant-Reactivity-Analysis\\lib\\site-packages\\sklearn\\base.py:464: UserWarning: X does not have valid feature names, but RandomForestClassifier was fitted with feature names\n",
      "  warnings.warn(\n"
     ]
    },
    {
     "name": "stdout",
     "output_type": "stream",
     "text": [
      "Running experiments for randomforest with params: {'max_depth': 10, 'min_samples_split': 5, 'n_estimators': 100}\n"
     ]
    },
    {
     "name": "stderr",
     "output_type": "stream",
     "text": [
      "C:\\Users\\alvar\\anaconda3\\envs\\Plant-Reactivity-Analysis\\lib\\site-packages\\sklearn\\base.py:464: UserWarning: X does not have valid feature names, but RandomForestClassifier was fitted with feature names\n",
      "  warnings.warn(\n"
     ]
    },
    {
     "name": "stdout",
     "output_type": "stream",
     "text": [
      "Running experiments for randomforest with params: {'max_depth': 10, 'min_samples_split': 5, 'n_estimators': 200}\n"
     ]
    },
    {
     "name": "stderr",
     "output_type": "stream",
     "text": [
      "C:\\Users\\alvar\\anaconda3\\envs\\Plant-Reactivity-Analysis\\lib\\site-packages\\sklearn\\base.py:464: UserWarning: X does not have valid feature names, but RandomForestClassifier was fitted with feature names\n",
      "  warnings.warn(\n"
     ]
    },
    {
     "name": "stdout",
     "output_type": "stream",
     "text": [
      "Running experiments for randomforest with params: {'max_depth': 10, 'min_samples_split': 5, 'n_estimators': 300}\n"
     ]
    },
    {
     "name": "stderr",
     "output_type": "stream",
     "text": [
      "C:\\Users\\alvar\\anaconda3\\envs\\Plant-Reactivity-Analysis\\lib\\site-packages\\sklearn\\base.py:464: UserWarning: X does not have valid feature names, but RandomForestClassifier was fitted with feature names\n",
      "  warnings.warn(\n"
     ]
    },
    {
     "name": "stdout",
     "output_type": "stream",
     "text": [
      "Running experiments for randomforest with params: {'max_depth': 20, 'min_samples_split': 2, 'n_estimators': 100}\n"
     ]
    },
    {
     "name": "stderr",
     "output_type": "stream",
     "text": [
      "C:\\Users\\alvar\\anaconda3\\envs\\Plant-Reactivity-Analysis\\lib\\site-packages\\sklearn\\base.py:464: UserWarning: X does not have valid feature names, but RandomForestClassifier was fitted with feature names\n",
      "  warnings.warn(\n"
     ]
    },
    {
     "name": "stdout",
     "output_type": "stream",
     "text": [
      "Running experiments for randomforest with params: {'max_depth': 20, 'min_samples_split': 2, 'n_estimators': 200}\n"
     ]
    },
    {
     "name": "stderr",
     "output_type": "stream",
     "text": [
      "C:\\Users\\alvar\\anaconda3\\envs\\Plant-Reactivity-Analysis\\lib\\site-packages\\sklearn\\base.py:464: UserWarning: X does not have valid feature names, but RandomForestClassifier was fitted with feature names\n",
      "  warnings.warn(\n"
     ]
    },
    {
     "name": "stdout",
     "output_type": "stream",
     "text": [
      "Running experiments for randomforest with params: {'max_depth': 20, 'min_samples_split': 2, 'n_estimators': 300}\n"
     ]
    },
    {
     "name": "stderr",
     "output_type": "stream",
     "text": [
      "C:\\Users\\alvar\\anaconda3\\envs\\Plant-Reactivity-Analysis\\lib\\site-packages\\sklearn\\base.py:464: UserWarning: X does not have valid feature names, but RandomForestClassifier was fitted with feature names\n",
      "  warnings.warn(\n"
     ]
    },
    {
     "name": "stdout",
     "output_type": "stream",
     "text": [
      "Running experiments for randomforest with params: {'max_depth': 20, 'min_samples_split': 5, 'n_estimators': 100}\n"
     ]
    },
    {
     "name": "stderr",
     "output_type": "stream",
     "text": [
      "C:\\Users\\alvar\\anaconda3\\envs\\Plant-Reactivity-Analysis\\lib\\site-packages\\sklearn\\base.py:464: UserWarning: X does not have valid feature names, but RandomForestClassifier was fitted with feature names\n",
      "  warnings.warn(\n"
     ]
    },
    {
     "name": "stdout",
     "output_type": "stream",
     "text": [
      "Running experiments for randomforest with params: {'max_depth': 20, 'min_samples_split': 5, 'n_estimators': 200}\n"
     ]
    },
    {
     "name": "stderr",
     "output_type": "stream",
     "text": [
      "C:\\Users\\alvar\\anaconda3\\envs\\Plant-Reactivity-Analysis\\lib\\site-packages\\sklearn\\base.py:464: UserWarning: X does not have valid feature names, but RandomForestClassifier was fitted with feature names\n",
      "  warnings.warn(\n"
     ]
    },
    {
     "name": "stdout",
     "output_type": "stream",
     "text": [
      "Running experiments for randomforest with params: {'max_depth': 20, 'min_samples_split': 5, 'n_estimators': 300}\n"
     ]
    },
    {
     "name": "stderr",
     "output_type": "stream",
     "text": [
      "C:\\Users\\alvar\\anaconda3\\envs\\Plant-Reactivity-Analysis\\lib\\site-packages\\sklearn\\base.py:464: UserWarning: X does not have valid feature names, but RandomForestClassifier was fitted with feature names\n",
      "  warnings.warn(\n"
     ]
    },
    {
     "name": "stdout",
     "output_type": "stream",
     "text": [
      "Running experiments for gradientboosting with params: {'learning_rate': 0.1, 'max_depth': 3, 'n_estimators': 100}\n"
     ]
    },
    {
     "name": "stderr",
     "output_type": "stream",
     "text": [
      "C:\\Users\\alvar\\anaconda3\\envs\\Plant-Reactivity-Analysis\\lib\\site-packages\\sklearn\\base.py:464: UserWarning: X does not have valid feature names, but GradientBoostingClassifier was fitted with feature names\n",
      "  warnings.warn(\n"
     ]
    },
    {
     "name": "stdout",
     "output_type": "stream",
     "text": [
      "Running experiments for gradientboosting with params: {'learning_rate': 0.1, 'max_depth': 3, 'n_estimators': 200}\n"
     ]
    },
    {
     "name": "stderr",
     "output_type": "stream",
     "text": [
      "C:\\Users\\alvar\\anaconda3\\envs\\Plant-Reactivity-Analysis\\lib\\site-packages\\sklearn\\base.py:464: UserWarning: X does not have valid feature names, but GradientBoostingClassifier was fitted with feature names\n",
      "  warnings.warn(\n"
     ]
    },
    {
     "name": "stdout",
     "output_type": "stream",
     "text": [
      "Running experiments for gradientboosting with params: {'learning_rate': 0.1, 'max_depth': 5, 'n_estimators': 100}\n"
     ]
    },
    {
     "name": "stderr",
     "output_type": "stream",
     "text": [
      "C:\\Users\\alvar\\anaconda3\\envs\\Plant-Reactivity-Analysis\\lib\\site-packages\\sklearn\\base.py:464: UserWarning: X does not have valid feature names, but GradientBoostingClassifier was fitted with feature names\n",
      "  warnings.warn(\n"
     ]
    },
    {
     "name": "stdout",
     "output_type": "stream",
     "text": [
      "Running experiments for gradientboosting with params: {'learning_rate': 0.1, 'max_depth': 5, 'n_estimators': 200}\n"
     ]
    },
    {
     "name": "stderr",
     "output_type": "stream",
     "text": [
      "C:\\Users\\alvar\\anaconda3\\envs\\Plant-Reactivity-Analysis\\lib\\site-packages\\sklearn\\base.py:464: UserWarning: X does not have valid feature names, but GradientBoostingClassifier was fitted with feature names\n",
      "  warnings.warn(\n"
     ]
    },
    {
     "name": "stdout",
     "output_type": "stream",
     "text": [
      "Running experiments for gradientboosting with params: {'learning_rate': 0.05, 'max_depth': 3, 'n_estimators': 100}\n"
     ]
    },
    {
     "name": "stderr",
     "output_type": "stream",
     "text": [
      "C:\\Users\\alvar\\anaconda3\\envs\\Plant-Reactivity-Analysis\\lib\\site-packages\\sklearn\\base.py:464: UserWarning: X does not have valid feature names, but GradientBoostingClassifier was fitted with feature names\n",
      "  warnings.warn(\n"
     ]
    },
    {
     "name": "stdout",
     "output_type": "stream",
     "text": [
      "Running experiments for gradientboosting with params: {'learning_rate': 0.05, 'max_depth': 3, 'n_estimators': 200}\n"
     ]
    },
    {
     "name": "stderr",
     "output_type": "stream",
     "text": [
      "C:\\Users\\alvar\\anaconda3\\envs\\Plant-Reactivity-Analysis\\lib\\site-packages\\sklearn\\base.py:464: UserWarning: X does not have valid feature names, but GradientBoostingClassifier was fitted with feature names\n",
      "  warnings.warn(\n"
     ]
    },
    {
     "name": "stdout",
     "output_type": "stream",
     "text": [
      "Running experiments for gradientboosting with params: {'learning_rate': 0.05, 'max_depth': 5, 'n_estimators': 100}\n"
     ]
    },
    {
     "name": "stderr",
     "output_type": "stream",
     "text": [
      "C:\\Users\\alvar\\anaconda3\\envs\\Plant-Reactivity-Analysis\\lib\\site-packages\\sklearn\\base.py:464: UserWarning: X does not have valid feature names, but GradientBoostingClassifier was fitted with feature names\n",
      "  warnings.warn(\n"
     ]
    },
    {
     "name": "stdout",
     "output_type": "stream",
     "text": [
      "Running experiments for gradientboosting with params: {'learning_rate': 0.05, 'max_depth': 5, 'n_estimators': 200}\n"
     ]
    },
    {
     "name": "stderr",
     "output_type": "stream",
     "text": [
      "C:\\Users\\alvar\\anaconda3\\envs\\Plant-Reactivity-Analysis\\lib\\site-packages\\sklearn\\base.py:464: UserWarning: X does not have valid feature names, but GradientBoostingClassifier was fitted with feature names\n",
      "  warnings.warn(\n"
     ]
    },
    {
     "name": "stdout",
     "output_type": "stream",
     "text": [
      "Running experiments for extratrees with params: {'max_depth': None, 'min_samples_split': 2, 'n_estimators': 100}\n"
     ]
    },
    {
     "name": "stderr",
     "output_type": "stream",
     "text": [
      "C:\\Users\\alvar\\anaconda3\\envs\\Plant-Reactivity-Analysis\\lib\\site-packages\\sklearn\\base.py:464: UserWarning: X does not have valid feature names, but ExtraTreesClassifier was fitted with feature names\n",
      "  warnings.warn(\n"
     ]
    },
    {
     "name": "stdout",
     "output_type": "stream",
     "text": [
      "Running experiments for extratrees with params: {'max_depth': None, 'min_samples_split': 2, 'n_estimators': 200}\n"
     ]
    },
    {
     "name": "stderr",
     "output_type": "stream",
     "text": [
      "C:\\Users\\alvar\\anaconda3\\envs\\Plant-Reactivity-Analysis\\lib\\site-packages\\sklearn\\base.py:464: UserWarning: X does not have valid feature names, but ExtraTreesClassifier was fitted with feature names\n",
      "  warnings.warn(\n"
     ]
    },
    {
     "name": "stdout",
     "output_type": "stream",
     "text": [
      "Running experiments for extratrees with params: {'max_depth': None, 'min_samples_split': 5, 'n_estimators': 100}\n"
     ]
    },
    {
     "name": "stderr",
     "output_type": "stream",
     "text": [
      "C:\\Users\\alvar\\anaconda3\\envs\\Plant-Reactivity-Analysis\\lib\\site-packages\\sklearn\\base.py:464: UserWarning: X does not have valid feature names, but ExtraTreesClassifier was fitted with feature names\n",
      "  warnings.warn(\n"
     ]
    },
    {
     "name": "stdout",
     "output_type": "stream",
     "text": [
      "Running experiments for extratrees with params: {'max_depth': None, 'min_samples_split': 5, 'n_estimators': 200}\n"
     ]
    },
    {
     "name": "stderr",
     "output_type": "stream",
     "text": [
      "C:\\Users\\alvar\\anaconda3\\envs\\Plant-Reactivity-Analysis\\lib\\site-packages\\sklearn\\base.py:464: UserWarning: X does not have valid feature names, but ExtraTreesClassifier was fitted with feature names\n",
      "  warnings.warn(\n"
     ]
    },
    {
     "name": "stdout",
     "output_type": "stream",
     "text": [
      "Running experiments for extratrees with params: {'max_depth': 20, 'min_samples_split': 2, 'n_estimators': 100}\n"
     ]
    },
    {
     "name": "stderr",
     "output_type": "stream",
     "text": [
      "C:\\Users\\alvar\\anaconda3\\envs\\Plant-Reactivity-Analysis\\lib\\site-packages\\sklearn\\base.py:464: UserWarning: X does not have valid feature names, but ExtraTreesClassifier was fitted with feature names\n",
      "  warnings.warn(\n"
     ]
    },
    {
     "name": "stdout",
     "output_type": "stream",
     "text": [
      "Running experiments for extratrees with params: {'max_depth': 20, 'min_samples_split': 2, 'n_estimators': 200}\n"
     ]
    },
    {
     "name": "stderr",
     "output_type": "stream",
     "text": [
      "C:\\Users\\alvar\\anaconda3\\envs\\Plant-Reactivity-Analysis\\lib\\site-packages\\sklearn\\base.py:464: UserWarning: X does not have valid feature names, but ExtraTreesClassifier was fitted with feature names\n",
      "  warnings.warn(\n"
     ]
    },
    {
     "name": "stdout",
     "output_type": "stream",
     "text": [
      "Running experiments for extratrees with params: {'max_depth': 20, 'min_samples_split': 5, 'n_estimators': 100}\n"
     ]
    },
    {
     "name": "stderr",
     "output_type": "stream",
     "text": [
      "C:\\Users\\alvar\\anaconda3\\envs\\Plant-Reactivity-Analysis\\lib\\site-packages\\sklearn\\base.py:464: UserWarning: X does not have valid feature names, but ExtraTreesClassifier was fitted with feature names\n",
      "  warnings.warn(\n"
     ]
    },
    {
     "name": "stdout",
     "output_type": "stream",
     "text": [
      "Running experiments for extratrees with params: {'max_depth': 20, 'min_samples_split': 5, 'n_estimators': 200}\n"
     ]
    },
    {
     "name": "stderr",
     "output_type": "stream",
     "text": [
      "C:\\Users\\alvar\\anaconda3\\envs\\Plant-Reactivity-Analysis\\lib\\site-packages\\sklearn\\base.py:464: UserWarning: X does not have valid feature names, but ExtraTreesClassifier was fitted with feature names\n",
      "  warnings.warn(\n",
      "C:\\Users\\alvar\\anaconda3\\envs\\Plant-Reactivity-Analysis\\lib\\site-packages\\sklearn\\base.py:464: UserWarning: X does not have valid feature names, but GaussianNB was fitted with feature names\n",
      "  warnings.warn(\n"
     ]
    },
    {
     "name": "stdout",
     "output_type": "stream",
     "text": [
      "Running experiments for gaussiannb with params: {'var_smoothing': 1e-09}\n",
      "Running experiments for gaussiannb with params: {'var_smoothing': 1e-08}\n",
      "Running experiments for gaussiannb with params: {'var_smoothing': 1e-10}\n",
      "Running experiments for adaboost with params: {'learning_rate': 0.1, 'n_estimators': 50}\n"
     ]
    },
    {
     "name": "stderr",
     "output_type": "stream",
     "text": [
      "C:\\Users\\alvar\\anaconda3\\envs\\Plant-Reactivity-Analysis\\lib\\site-packages\\sklearn\\base.py:464: UserWarning: X does not have valid feature names, but GaussianNB was fitted with feature names\n",
      "  warnings.warn(\n",
      "C:\\Users\\alvar\\anaconda3\\envs\\Plant-Reactivity-Analysis\\lib\\site-packages\\sklearn\\base.py:464: UserWarning: X does not have valid feature names, but GaussianNB was fitted with feature names\n",
      "  warnings.warn(\n",
      "C:\\Users\\alvar\\anaconda3\\envs\\Plant-Reactivity-Analysis\\lib\\site-packages\\sklearn\\base.py:464: UserWarning: X does not have valid feature names, but AdaBoostClassifier was fitted with feature names\n",
      "  warnings.warn(\n"
     ]
    },
    {
     "name": "stdout",
     "output_type": "stream",
     "text": [
      "Running experiments for adaboost with params: {'learning_rate': 0.1, 'n_estimators': 100}\n"
     ]
    },
    {
     "name": "stderr",
     "output_type": "stream",
     "text": [
      "C:\\Users\\alvar\\anaconda3\\envs\\Plant-Reactivity-Analysis\\lib\\site-packages\\sklearn\\base.py:464: UserWarning: X does not have valid feature names, but AdaBoostClassifier was fitted with feature names\n",
      "  warnings.warn(\n"
     ]
    },
    {
     "name": "stdout",
     "output_type": "stream",
     "text": [
      "Running experiments for adaboost with params: {'learning_rate': 1.0, 'n_estimators': 50}\n"
     ]
    },
    {
     "name": "stderr",
     "output_type": "stream",
     "text": [
      "C:\\Users\\alvar\\anaconda3\\envs\\Plant-Reactivity-Analysis\\lib\\site-packages\\sklearn\\base.py:464: UserWarning: X does not have valid feature names, but AdaBoostClassifier was fitted with feature names\n",
      "  warnings.warn(\n"
     ]
    },
    {
     "name": "stdout",
     "output_type": "stream",
     "text": [
      "Running experiments for adaboost with params: {'learning_rate': 1.0, 'n_estimators': 100}\n"
     ]
    },
    {
     "name": "stderr",
     "output_type": "stream",
     "text": [
      "C:\\Users\\alvar\\anaconda3\\envs\\Plant-Reactivity-Analysis\\lib\\site-packages\\sklearn\\base.py:464: UserWarning: X does not have valid feature names, but AdaBoostClassifier was fitted with feature names\n",
      "  warnings.warn(\n"
     ]
    },
    {
     "name": "stdout",
     "output_type": "stream",
     "text": [
      "Running experiments for logisticregression with params: {'C': 0.1, 'solver': 'liblinear'}\n"
     ]
    },
    {
     "name": "stderr",
     "output_type": "stream",
     "text": [
      "C:\\Users\\alvar\\anaconda3\\envs\\Plant-Reactivity-Analysis\\lib\\site-packages\\sklearn\\base.py:464: UserWarning: X does not have valid feature names, but LogisticRegression was fitted with feature names\n",
      "  warnings.warn(\n",
      "C:\\Users\\alvar\\anaconda3\\envs\\Plant-Reactivity-Analysis\\lib\\site-packages\\sklearn\\base.py:464: UserWarning: X does not have valid feature names, but LogisticRegression was fitted with feature names\n",
      "  warnings.warn(\n"
     ]
    },
    {
     "name": "stdout",
     "output_type": "stream",
     "text": [
      "Running experiments for logisticregression with params: {'C': 0.1, 'solver': 'lbfgs'}\n",
      "Running experiments for logisticregression with params: {'C': 1, 'solver': 'liblinear'}\n"
     ]
    },
    {
     "name": "stderr",
     "output_type": "stream",
     "text": [
      "C:\\Users\\alvar\\anaconda3\\envs\\Plant-Reactivity-Analysis\\lib\\site-packages\\sklearn\\base.py:464: UserWarning: X does not have valid feature names, but LogisticRegression was fitted with feature names\n",
      "  warnings.warn(\n",
      "C:\\Users\\alvar\\anaconda3\\envs\\Plant-Reactivity-Analysis\\lib\\site-packages\\sklearn\\base.py:464: UserWarning: X does not have valid feature names, but LogisticRegression was fitted with feature names\n",
      "  warnings.warn(\n"
     ]
    },
    {
     "name": "stdout",
     "output_type": "stream",
     "text": [
      "Running experiments for logisticregression with params: {'C': 1, 'solver': 'lbfgs'}\n",
      "Running experiments for logisticregression with params: {'C': 10, 'solver': 'liblinear'}\n"
     ]
    },
    {
     "name": "stderr",
     "output_type": "stream",
     "text": [
      "C:\\Users\\alvar\\anaconda3\\envs\\Plant-Reactivity-Analysis\\lib\\site-packages\\sklearn\\base.py:464: UserWarning: X does not have valid feature names, but LogisticRegression was fitted with feature names\n",
      "  warnings.warn(\n",
      "C:\\Users\\alvar\\anaconda3\\envs\\Plant-Reactivity-Analysis\\lib\\site-packages\\sklearn\\linear_model\\_logistic.py:460: ConvergenceWarning: lbfgs failed to converge (status=1):\n",
      "STOP: TOTAL NO. of ITERATIONS REACHED LIMIT.\n",
      "\n",
      "Increase the number of iterations (max_iter) or scale the data as shown in:\n",
      "    https://scikit-learn.org/stable/modules/preprocessing.html\n",
      "Please also refer to the documentation for alternative solver options:\n",
      "    https://scikit-learn.org/stable/modules/linear_model.html#logistic-regression\n",
      "  n_iter_i = _check_optimize_result(\n",
      "C:\\Users\\alvar\\anaconda3\\envs\\Plant-Reactivity-Analysis\\lib\\site-packages\\sklearn\\base.py:464: UserWarning: X does not have valid feature names, but LogisticRegression was fitted with feature names\n",
      "  warnings.warn(\n",
      "C:\\Users\\alvar\\anaconda3\\envs\\Plant-Reactivity-Analysis\\lib\\site-packages\\sklearn\\base.py:464: UserWarning: X does not have valid feature names, but KNeighborsClassifier was fitted with feature names\n",
      "  warnings.warn(\n"
     ]
    },
    {
     "name": "stdout",
     "output_type": "stream",
     "text": [
      "Running experiments for logisticregression with params: {'C': 10, 'solver': 'lbfgs'}\n",
      "Running experiments for kneighbors with params: {'n_neighbors': 5, 'weights': 'uniform'}\n",
      "Running experiments for kneighbors with params: {'n_neighbors': 5, 'weights': 'distance'}\n",
      "Running experiments for kneighbors with params: {'n_neighbors': 10, 'weights': 'uniform'}\n"
     ]
    },
    {
     "name": "stderr",
     "output_type": "stream",
     "text": [
      "C:\\Users\\alvar\\anaconda3\\envs\\Plant-Reactivity-Analysis\\lib\\site-packages\\sklearn\\base.py:464: UserWarning: X does not have valid feature names, but KNeighborsClassifier was fitted with feature names\n",
      "  warnings.warn(\n",
      "C:\\Users\\alvar\\anaconda3\\envs\\Plant-Reactivity-Analysis\\lib\\site-packages\\sklearn\\base.py:464: UserWarning: X does not have valid feature names, but KNeighborsClassifier was fitted with feature names\n",
      "  warnings.warn(\n"
     ]
    },
    {
     "name": "stdout",
     "output_type": "stream",
     "text": [
      "Running experiments for kneighbors with params: {'n_neighbors': 10, 'weights': 'distance'}\n",
      "Running experiments for kneighbors with params: {'n_neighbors': 15, 'weights': 'uniform'}\n"
     ]
    },
    {
     "name": "stderr",
     "output_type": "stream",
     "text": [
      "C:\\Users\\alvar\\anaconda3\\envs\\Plant-Reactivity-Analysis\\lib\\site-packages\\sklearn\\base.py:464: UserWarning: X does not have valid feature names, but KNeighborsClassifier was fitted with feature names\n",
      "  warnings.warn(\n",
      "C:\\Users\\alvar\\anaconda3\\envs\\Plant-Reactivity-Analysis\\lib\\site-packages\\sklearn\\base.py:464: UserWarning: X does not have valid feature names, but KNeighborsClassifier was fitted with feature names\n",
      "  warnings.warn(\n"
     ]
    },
    {
     "name": "stdout",
     "output_type": "stream",
     "text": [
      "Running experiments for kneighbors with params: {'n_neighbors': 15, 'weights': 'distance'}\n",
      "Running experiments for lgbm with params: {'learning_rate': 0.1, 'n_estimators': 100, 'num_leaves': 31}\n"
     ]
    },
    {
     "name": "stderr",
     "output_type": "stream",
     "text": [
      "C:\\Users\\alvar\\anaconda3\\envs\\Plant-Reactivity-Analysis\\lib\\site-packages\\sklearn\\base.py:464: UserWarning: X does not have valid feature names, but KNeighborsClassifier was fitted with feature names\n",
      "  warnings.warn(\n"
     ]
    },
    {
     "name": "stdout",
     "output_type": "stream",
     "text": [
      "[LightGBM] [Warning] Found whitespace in feature_names, replace with underlines\n",
      "[LightGBM] [Info] Number of positive: 3394, number of negative: 3295\n",
      "[LightGBM] [Info] Auto-choosing col-wise multi-threading, the overhead of testing was 0.002652 seconds.\n",
      "You can set `force_col_wise=true` to remove the overhead.\n",
      "[LightGBM] [Info] Total Bins 11853\n",
      "[LightGBM] [Info] Number of data points in the train set: 6689, number of used features: 47\n",
      "[LightGBM] [Info] [binary:BoostFromScore]: pavg=0.507400 -> initscore=0.029603\n",
      "[LightGBM] [Info] Start training from score 0.029603\n",
      "Running experiments for lgbm with params: {'learning_rate': 0.1, 'n_estimators': 100, 'num_leaves': 64}\n",
      "[LightGBM] [Warning] Found whitespace in feature_names, replace with underlines\n",
      "[LightGBM] [Info] Number of positive: 3394, number of negative: 3295\n",
      "[LightGBM] [Info] Auto-choosing col-wise multi-threading, the overhead of testing was 0.002316 seconds.\n",
      "You can set `force_col_wise=true` to remove the overhead.\n",
      "[LightGBM] [Info] Total Bins 11853\n",
      "[LightGBM] [Info] Number of data points in the train set: 6689, number of used features: 47\n",
      "[LightGBM] [Info] [binary:BoostFromScore]: pavg=0.507400 -> initscore=0.029603\n",
      "[LightGBM] [Info] Start training from score 0.029603\n",
      "Running experiments for lgbm with params: {'learning_rate': 0.1, 'n_estimators': 200, 'num_leaves': 31}\n",
      "[LightGBM] [Warning] Found whitespace in feature_names, replace with underlines\n",
      "[LightGBM] [Info] Number of positive: 3394, number of negative: 3295\n",
      "[LightGBM] [Info] Auto-choosing col-wise multi-threading, the overhead of testing was 0.002463 seconds.\n",
      "You can set `force_col_wise=true` to remove the overhead.\n",
      "[LightGBM] [Info] Total Bins 11853\n",
      "[LightGBM] [Info] Number of data points in the train set: 6689, number of used features: 47\n",
      "[LightGBM] [Info] [binary:BoostFromScore]: pavg=0.507400 -> initscore=0.029603\n",
      "[LightGBM] [Info] Start training from score 0.029603\n",
      "Running experiments for lgbm with params: {'learning_rate': 0.1, 'n_estimators': 200, 'num_leaves': 64}\n",
      "[LightGBM] [Warning] Found whitespace in feature_names, replace with underlines\n",
      "[LightGBM] [Info] Number of positive: 3394, number of negative: 3295\n",
      "[LightGBM] [Info] Auto-choosing col-wise multi-threading, the overhead of testing was 0.002788 seconds.\n",
      "You can set `force_col_wise=true` to remove the overhead.\n",
      "[LightGBM] [Info] Total Bins 11853\n",
      "[LightGBM] [Info] Number of data points in the train set: 6689, number of used features: 47\n",
      "[LightGBM] [Info] [binary:BoostFromScore]: pavg=0.507400 -> initscore=0.029603\n",
      "[LightGBM] [Info] Start training from score 0.029603\n",
      "Running experiments for lgbm with params: {'learning_rate': 0.05, 'n_estimators': 100, 'num_leaves': 31}\n",
      "[LightGBM] [Warning] Found whitespace in feature_names, replace with underlines\n",
      "[LightGBM] [Info] Number of positive: 3394, number of negative: 3295\n",
      "[LightGBM] [Info] Auto-choosing col-wise multi-threading, the overhead of testing was 0.002516 seconds.\n",
      "You can set `force_col_wise=true` to remove the overhead.\n",
      "[LightGBM] [Info] Total Bins 11853\n",
      "[LightGBM] [Info] Number of data points in the train set: 6689, number of used features: 47\n",
      "[LightGBM] [Info] [binary:BoostFromScore]: pavg=0.507400 -> initscore=0.029603\n",
      "[LightGBM] [Info] Start training from score 0.029603\n",
      "Running experiments for lgbm with params: {'learning_rate': 0.05, 'n_estimators': 100, 'num_leaves': 64}\n",
      "[LightGBM] [Warning] Found whitespace in feature_names, replace with underlines\n",
      "[LightGBM] [Info] Number of positive: 3394, number of negative: 3295\n",
      "[LightGBM] [Info] Auto-choosing col-wise multi-threading, the overhead of testing was 0.002687 seconds.\n",
      "You can set `force_col_wise=true` to remove the overhead.\n",
      "[LightGBM] [Info] Total Bins 11853\n",
      "[LightGBM] [Info] Number of data points in the train set: 6689, number of used features: 47\n",
      "[LightGBM] [Info] [binary:BoostFromScore]: pavg=0.507400 -> initscore=0.029603\n",
      "[LightGBM] [Info] Start training from score 0.029603\n",
      "Running experiments for lgbm with params: {'learning_rate': 0.05, 'n_estimators': 200, 'num_leaves': 31}\n",
      "[LightGBM] [Warning] Found whitespace in feature_names, replace with underlines\n",
      "[LightGBM] [Info] Number of positive: 3394, number of negative: 3295\n",
      "[LightGBM] [Info] Auto-choosing col-wise multi-threading, the overhead of testing was 0.001698 seconds.\n",
      "You can set `force_col_wise=true` to remove the overhead.\n",
      "[LightGBM] [Info] Total Bins 11853\n",
      "[LightGBM] [Info] Number of data points in the train set: 6689, number of used features: 47\n",
      "[LightGBM] [Info] [binary:BoostFromScore]: pavg=0.507400 -> initscore=0.029603\n",
      "[LightGBM] [Info] Start training from score 0.029603\n",
      "Running experiments for lgbm with params: {'learning_rate': 0.05, 'n_estimators': 200, 'num_leaves': 64}\n",
      "[LightGBM] [Warning] Found whitespace in feature_names, replace with underlines\n",
      "[LightGBM] [Info] Number of positive: 3394, number of negative: 3295\n",
      "[LightGBM] [Info] Auto-choosing col-wise multi-threading, the overhead of testing was 0.001796 seconds.\n",
      "You can set `force_col_wise=true` to remove the overhead.\n",
      "[LightGBM] [Info] Total Bins 11853\n",
      "[LightGBM] [Info] Number of data points in the train set: 6689, number of used features: 47\n",
      "[LightGBM] [Info] [binary:BoostFromScore]: pavg=0.507400 -> initscore=0.029603\n",
      "[LightGBM] [Info] Start training from score 0.029603\n",
      "Running experiments for xgb with params: {'learning_rate': 0.1, 'max_depth': 3, 'n_estimators': 100}\n",
      "Running experiments for xgb with params: {'learning_rate': 0.1, 'max_depth': 3, 'n_estimators': 200}\n",
      "Running experiments for xgb with params: {'learning_rate': 0.1, 'max_depth': 6, 'n_estimators': 100}\n",
      "Running experiments for xgb with params: {'learning_rate': 0.1, 'max_depth': 6, 'n_estimators': 200}\n",
      "Running experiments for xgb with params: {'learning_rate': 0.05, 'max_depth': 3, 'n_estimators': 100}\n",
      "Running experiments for xgb with params: {'learning_rate': 0.05, 'max_depth': 3, 'n_estimators': 200}\n",
      "Running experiments for xgb with params: {'learning_rate': 0.05, 'max_depth': 6, 'n_estimators': 100}\n",
      "Running experiments for xgb with params: {'learning_rate': 0.05, 'max_depth': 6, 'n_estimators': 200}\n",
      "  Processing RQ 2 within Dataset 4...\n",
      "Running experiments for randomforest with params: {'max_depth': None, 'min_samples_split': 2, 'n_estimators': 100}\n"
     ]
    },
    {
     "name": "stderr",
     "output_type": "stream",
     "text": [
      "C:\\Users\\alvar\\anaconda3\\envs\\Plant-Reactivity-Analysis\\lib\\site-packages\\sklearn\\base.py:464: UserWarning: X does not have valid feature names, but RandomForestClassifier was fitted with feature names\n",
      "  warnings.warn(\n"
     ]
    },
    {
     "name": "stdout",
     "output_type": "stream",
     "text": [
      "Running experiments for randomforest with params: {'max_depth': None, 'min_samples_split': 2, 'n_estimators': 200}\n"
     ]
    },
    {
     "name": "stderr",
     "output_type": "stream",
     "text": [
      "C:\\Users\\alvar\\anaconda3\\envs\\Plant-Reactivity-Analysis\\lib\\site-packages\\sklearn\\base.py:464: UserWarning: X does not have valid feature names, but RandomForestClassifier was fitted with feature names\n",
      "  warnings.warn(\n"
     ]
    },
    {
     "name": "stdout",
     "output_type": "stream",
     "text": [
      "Running experiments for randomforest with params: {'max_depth': None, 'min_samples_split': 2, 'n_estimators': 300}\n"
     ]
    }
   ],
   "source": [
    "%%time\n",
    "\n",
    "results = {}  # Initialize an empty dictionary to store results\n",
    "\n",
    "for ds in [1,2,3,4,5,7,8,9,10,11,12,13,15]:  # For each dataset\n",
    "    print(f\"Now processing Dataset {ds}...\")  # Print the current dataset being processed\n",
    "    results[ds] = {}  # Initialize a nested dictionary for each dataset\n",
    "    for rq in [1, 2]:  # For each research question\n",
    "        print(f\"  Processing RQ {rq} within Dataset {ds}...\")  # Print the current RQ being processed\n",
    "\n",
    "        if ds in [1,2,3,4,5,7]:\n",
    "            train_df, test_df = datasets[ds][rq]\n",
    "            experiment = Experiment(train_df, test_df, 'target')\n",
    "        else:\n",
    "            train_df, train_targets, test_df, test_targets = datasets[ds][rq]\n",
    "            experiment = Experiment.from_arrays(train_df, train_targets, test_df, test_targets)\n",
    "            \n",
    "        if ds in [2,4,6,8,10,12,14,16]:\n",
    "            experiment.run_all_models(param.PARAMETER_GRID_NO_SCALING)\n",
    "        else:\n",
    "            experiment.run_all_models(param.PARAMETER_GRID)\n",
    "        \n",
    "        # Store the results of the experiment, along with the dataset and RQ identifiers\n",
    "        results[ds][rq] = experiment.results"
   ]
  },
  {
   "cell_type": "code",
   "execution_count": null,
   "id": "070e639c-3c15-48ff-961f-0e670e9a3f17",
   "metadata": {},
   "outputs": [],
   "source": [
    "# Prepare a list to hold all rows before creating the DataFrame\n",
    "rows = []\n",
    "\n",
    "# Iterate over the nested structure to access each experiment's results\n",
    "for ds, rqs in results.items():\n",
    "    for rq, experiments in rqs.items():\n",
    "        for experiment_result in experiments:\n",
    "            rows.append({\n",
    "                'Dataset': ds,\n",
    "                'RQ': rq,\n",
    "                'Model': experiment_result['model_name'],\n",
    "                'Parameter': experiment_result['parameters'],\n",
    "                'F1 Score': experiment_result['f1'],\n",
    "                'Accuracy': experiment_result['accuracy'],\n",
    "                'Precision': experiment_result['precision'],\n",
    "                'Recall': experiment_result['recall']\n",
    "            })\n",
    "\n",
    "# Convert the list of dictionaries into a DataFrame\n",
    "df_results = pd.DataFrame(rows)\n",
    "\n",
    "# Save the DataFrame to a CSV file\n",
    "csv_file_path = \"results_wshl11_ct08_pca42.csv\"\n",
    "df_results.to_csv(csv_file_path, index=False)"
   ]
  }
 ],
 "metadata": {
  "kernelspec": {
   "display_name": "Python (Plant-Reactivity-Analysis)",
   "language": "python",
   "name": "myenv"
  },
  "language_info": {
   "codemirror_mode": {
    "name": "ipython",
    "version": 3
   },
   "file_extension": ".py",
   "mimetype": "text/x-python",
   "name": "python",
   "nbconvert_exporter": "python",
   "pygments_lexer": "ipython3",
   "version": "3.10.13"
  }
 },
 "nbformat": 4,
 "nbformat_minor": 5
}
