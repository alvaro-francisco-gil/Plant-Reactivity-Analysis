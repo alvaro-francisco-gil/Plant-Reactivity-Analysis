{
 "cells": [
  {
   "cell_type": "markdown",
   "id": "acf646a6-efa3-41e0-9454-51f41d501a00",
   "metadata": {},
   "source": [
    "Imports"
   ]
  },
  {
   "cell_type": "code",
   "execution_count": 1,
   "id": "d682a9ac-99fa-4394-aaff-3844701b070f",
   "metadata": {
    "scrolled": true
   },
   "outputs": [],
   "source": [
    "import sys\n",
    "sys.path.append(\"../src\")"
   ]
  },
  {
   "cell_type": "code",
   "execution_count": 2,
   "id": "d5b91abe-37c4-4478-9207-7b7d4b5daf5a",
   "metadata": {},
   "outputs": [],
   "source": [
    "import pandas as pd\n",
    "from data.wav_data_reader import WavDataReader\n",
    "from data.signal_dataset import SignalDataset\n",
    "from features.wav_feature_extractor import WavFeatureExtractor\n",
    "from features.features_dataset import FeaturesDataset\n",
    "import data.preparation_eurythmy_data as ped\n",
    "from models.fully_connected_classifier import FullyConnectedClassifier\n",
    "from evaluation.hyperparameter_tuner import HyperparameterTuner"
   ]
  },
  {
   "cell_type": "markdown",
   "id": "c1f8ae78-fa89-411a-b113-dfc46333de1f",
   "metadata": {},
   "source": [
    "Reader"
   ]
  },
  {
   "cell_type": "code",
   "execution_count": 3,
   "id": "2ab39bbd",
   "metadata": {},
   "outputs": [],
   "source": [
    "test_folder= r\"..\\data\\interim\\testing\""
   ]
  },
  {
   "cell_type": "code",
   "execution_count": 4,
   "id": "eb1dc723-ac03-42e8-b4cc-0364d069e2b1",
   "metadata": {},
   "outputs": [],
   "source": [
    "# Initialize the reader with the folder of wavs\n",
    "reader= WavDataReader(folder= test_folder)\n",
    "\n",
    "# Get the signals and the keys from the reader\n",
    "signals, ids= reader.get_values_and_keys()\n",
    "\n",
    "# Get the measurement labels from the keys of the files\n",
    "meas_df= ped.return_meas_labels_by_keys(ids)"
   ]
  },
  {
   "cell_type": "markdown",
   "id": "f94af8a1-535a-49ce-99ec-6083def60efc",
   "metadata": {},
   "source": [
    "Signal Dataset"
   ]
  },
  {
   "cell_type": "code",
   "execution_count": 5,
   "id": "66874193-cf2b-427a-9a6a-cff8cfca8d20",
   "metadata": {},
   "outputs": [],
   "source": [
    "# Initialize SignalDataset with the signals and features/labels\n",
    "signal_dataset= SignalDataset(signals= signals, features= meas_df)\n",
    "\n",
    "# Standardize Signals using Zscore\n",
    "signal_dataset.standardize_signals(\"zscore\")\n",
    "\n",
    "# Segment Signals in 1sec segments\n",
    "signal_dataset.segment_signals(segment_duration=1)\n",
    "\n",
    "# Remove signals whose values are all equal\n",
    "signal_dataset.remove_constant_signals()\n",
    "\n",
    "#Add eurythmy letter data to the features\n",
    "signal_dataset.features= ped.add_meas_letters(signal_dataset.features)"
   ]
  },
  {
   "cell_type": "markdown",
   "id": "e3700661-04d5-4b49-bc51-9c5b2b7c8e03",
   "metadata": {},
   "source": [
    "Feature Extractor"
   ]
  },
  {
   "cell_type": "code",
   "execution_count": 6,
   "id": "c88d4cbb-40d1-43e0-acc1-944e6fc20126",
   "metadata": {},
   "outputs": [],
   "source": [
    "extractor= WavFeatureExtractor(sample_rate= 10000, mfccs= True, temporal= True, statistical= True)"
   ]
  },
  {
   "cell_type": "markdown",
   "id": "d16e753e-a150-4713-89fe-ee55f0a47f4e",
   "metadata": {},
   "source": [
    "Features Dataset"
   ]
  },
  {
   "cell_type": "code",
   "execution_count": 7,
   "id": "d407d710-98f1-4a82-bba8-a976cbdfaf82",
   "metadata": {},
   "outputs": [],
   "source": [
    "feat_dataset= FeaturesDataset(signal_dataset,extractor)"
   ]
  },
  {
   "cell_type": "code",
   "execution_count": 10,
   "id": "11c94f00-f95a-4db8-8708-1696682e98f6",
   "metadata": {},
   "outputs": [],
   "source": [
    "# Save the dataset\n",
    "feat_dataset.save_to_csv(\"raw_dataset.csv\")\n",
    "feat_dataset.save(\"raw_dataset\")\n",
    "feat_dataset.features.head()"
   ]
  },
  {
   "cell_type": "code",
   "execution_count": null,
   "id": "1477be61-487c-4ba5-9311-39d00c0023ab",
   "metadata": {},
   "outputs": [],
   "source": [
    "# Preparation\n",
    "columns=['duration_seconds', 'flatness_ratio_10000','flatness_ratio_5000', 'flatness_ratio_1000', 'flatness_ratio_500','flatness_ratio_100',]\n",
    "feat_dataset.drop_columns(columns_to_drop=columns)"
   ]
  },
  {
   "cell_type": "markdown",
   "id": "24f3bd65-4f12-4f95-b675-74f23d101aa4",
   "metadata": {},
   "source": [
    "## RQ1"
   ]
  },
  {
   "cell_type": "markdown",
   "id": "52d9dc60-42bf-49e3-b9be-65982f5de922",
   "metadata": {},
   "source": [
    "Is there any difference in the signals when someone is performing eurythmy?"
   ]
  },
  {
   "cell_type": "code",
   "execution_count": null,
   "id": "75cca039-e3f3-4cd6-924c-e5773b244160",
   "metadata": {},
   "outputs": [],
   "source": [
    "# Get data and targets"
   ]
  },
  {
   "cell_type": "code",
   "execution_count": null,
   "id": "51931a58-a107-4466-9169-922529b2836d",
   "metadata": {},
   "outputs": [],
   "source": [
    "train_loader, val_loader, test_loader = feat_dataset.split_dataset_in_loaders(test_size=0.3, val_size=0.5, random_state=42)"
   ]
  },
  {
   "cell_type": "markdown",
   "id": "7f86f6f5-14f2-44ed-9dda-c6fd5ba81886",
   "metadata": {},
   "source": [
    "## Search"
   ]
  },
  {
   "cell_type": "code",
   "execution_count": null,
   "id": "ef49cbb5-24ed-421c-a1af-96cd567a224e",
   "metadata": {
    "scrolled": true
   },
   "outputs": [],
   "source": [
    "input_size= num_feat\n",
    "output_size= 2\n",
    "num_epochs = 5\n",
    "\n",
    "param_grid = {\n",
    "    'learning_rate': [0.1, 0.01],\n",
    "    'dense_units': [64, 128],\n",
    "    'dense_layers': [1, 2],\n",
    "    'dropout_rate': [0.25, 0.5]\n",
    "}\n",
    "\n",
    "tuner = HyperparameterTuner(FullyConnectedClassifier, param_grid, train_loader, val_loader, num_epochs, input_size, output_size)\n",
    "best_params, all_results = tuner.tune()"
   ]
  },
  {
   "cell_type": "code",
   "execution_count": null,
   "id": "4172f121-7629-460b-83de-63c157de000a",
   "metadata": {},
   "outputs": [],
   "source": [
    "print(\"Best Hyperparameters: \\n\", best_params)"
   ]
  },
  {
   "cell_type": "code",
   "execution_count": null,
   "id": "c2858e1b-897d-4756-bc8a-220bec77b148",
   "metadata": {},
   "outputs": [],
   "source": [
    "all_results.head(15)"
   ]
  },
  {
   "cell_type": "code",
   "execution_count": null,
   "id": "94fbf31d-8086-459e-a4c0-dc5cc6ad78e8",
   "metadata": {},
   "outputs": [],
   "source": [
    "klk"
   ]
  },
  {
   "cell_type": "markdown",
   "id": "a55a29ad-f615-4ea0-8b6f-f92ce79d125b",
   "metadata": {},
   "source": [
    "## Model"
   ]
  },
  {
   "cell_type": "code",
   "execution_count": null,
   "id": "47a5c218-a6b0-43ba-9b66-0002bc2bf05a",
   "metadata": {},
   "outputs": [],
   "source": [
    "num_epochs = 5  # Number of training epochs"
   ]
  },
  {
   "cell_type": "code",
   "execution_count": null,
   "id": "9063b66a-2db4-4295-bafb-09347e0b0ca4",
   "metadata": {},
   "outputs": [],
   "source": [
    "model = FullyConnectedClassifier(\n",
    "    input_size=5,  # Example input size\n",
    "    hidden_layers=[128, 64],  # Two hidden layers with 128 and 64 units respectively\n",
    "    output_size=2,  # Example output size\n",
    "    dropout_rate=0.5,\n",
    "    learning_rate=0.001\n",
    ")"
   ]
  },
  {
   "cell_type": "code",
   "execution_count": null,
   "id": "922201a6-7c48-4915-9733-434a8ce3831a",
   "metadata": {},
   "outputs": [],
   "source": [
    "model.train_model(train_loader, val_loader, num_epochs)"
   ]
  },
  {
   "cell_type": "code",
   "execution_count": null,
   "id": "780fd1cc-6d6c-47e3-aa01-9be0615186f4",
   "metadata": {},
   "outputs": [],
   "source": [
    "test_predictions = model.predict(test_loader)"
   ]
  },
  {
   "cell_type": "code",
   "execution_count": null,
   "id": "fc8da217-de67-4d9f-ae1d-036f51e4f073",
   "metadata": {},
   "outputs": [],
   "source": [
    "actual_labels = []\n",
    "for _, labels in test_loader:\n",
    "    actual_labels.extend(labels.tolist())"
   ]
  },
  {
   "cell_type": "code",
   "execution_count": null,
   "id": "2609c48b-aecf-463b-a3c4-70a543a054e6",
   "metadata": {},
   "outputs": [],
   "source": [
    "correct_predictions = sum(p == t for p, t in zip(test_predictions, actual_labels))\n",
    "accuracy = correct_predictions / len(actual_labels)\n",
    "print(f\"Accuracy: {accuracy:.4f}\")\n"
   ]
  },
  {
   "cell_type": "code",
   "execution_count": null,
   "id": "1ec56b49-e194-4244-88eb-a4fb3483cdf0",
   "metadata": {},
   "outputs": [],
   "source": [
    "from sklearn.metrics import precision_score, recall_score, f1_score, confusion_matrix\n",
    "\n",
    "# Assuming your task is a classification task\n",
    "precision = precision_score(actual_labels, test_predictions, average='macro')\n",
    "recall = recall_score(actual_labels, test_predictions, average='macro')\n",
    "f1 = f1_score(actual_labels, test_predictions, average='macro')\n",
    "\n",
    "print(f\"Precision: {precision:.4f}\")\n",
    "print(f\"Recall: {recall:.4f}\")\n",
    "print(f\"F1-Score: {f1:.4f}\")\n",
    "\n",
    "# Confusion Matrix\n",
    "conf_matrix = confusion_matrix(actual_labels, test_predictions)\n",
    "print(\"Confusion Matrix:\\n\", conf_matrix)\n"
   ]
  }
 ],
 "metadata": {
  "kernelspec": {
   "display_name": "Python 3 (ipykernel)",
   "language": "python",
   "name": "python3"
  },
  "language_info": {
   "codemirror_mode": {
    "name": "ipython",
    "version": 3
   },
   "file_extension": ".py",
   "mimetype": "text/x-python",
   "name": "python",
   "nbconvert_exporter": "python",
   "pygments_lexer": "ipython3",
   "version": "3.10.13"
  }
 },
 "nbformat": 4,
 "nbformat_minor": 5
}
