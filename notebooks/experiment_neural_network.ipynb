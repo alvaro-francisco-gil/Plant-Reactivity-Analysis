{
 "cells": [
  {
   "cell_type": "markdown",
   "id": "501268a1-2347-46dd-ae4e-d4424b0261a9",
   "metadata": {},
   "source": [
    "# Experiment 1: Neural Network"
   ]
  },
  {
   "cell_type": "code",
   "execution_count": 1,
   "id": "d682a9ac-99fa-4394-aaff-3844701b070f",
   "metadata": {
    "scrolled": true
   },
   "outputs": [],
   "source": [
    "import sys\n",
    "sys.path.append(\"../src\")"
   ]
  },
  {
   "cell_type": "code",
   "execution_count": 2,
   "id": "d5b91abe-37c4-4478-9207-7b7d4b5daf5a",
   "metadata": {},
   "outputs": [],
   "source": [
    "import data.preparation_eurythmy_data as ped\n",
    "from features.features_dataset import FeaturesDataset\n",
    "from models.fully_connected_classifier import FullyConnectedClassifier\n",
    "from evaluation.hyperparameter_tuner import HyperparameterTuner"
   ]
  },
  {
   "cell_type": "markdown",
   "id": "d16e753e-a150-4713-89fe-ee55f0a47f4e",
   "metadata": {},
   "source": [
    "## Import Dataset"
   ]
  },
  {
   "cell_type": "code",
   "execution_count": 3,
   "id": "d407d710-98f1-4a82-bba8-a976cbdfaf82",
   "metadata": {},
   "outputs": [],
   "source": [
    "feat_dataset_path= r\"..\\data\\processed\\features_dataset\"\n",
    "feat_dataset = FeaturesDataset.load(file_path= feat_dataset_path)"
   ]
  },
  {
   "cell_type": "code",
   "execution_count": 4,
   "id": "11c94f00-f95a-4db8-8708-1696682e98f6",
   "metadata": {},
   "outputs": [
    {
     "data": {
      "text/plain": [
       "(148682, 52)"
      ]
     },
     "execution_count": 4,
     "metadata": {},
     "output_type": "execute_result"
    }
   ],
   "source": [
    "feat_dataset.features.shape"
   ]
  },
  {
   "cell_type": "markdown",
   "id": "b53f9dd1-6bd5-4b1f-ae2a-ab0aeb3ceac0",
   "metadata": {},
   "source": [
    "## Prepare Data"
   ]
  },
  {
   "cell_type": "code",
   "execution_count": 5,
   "id": "1477be61-487c-4ba5-9311-39d00c0023ab",
   "metadata": {},
   "outputs": [],
   "source": [
    "# Drop columns\n",
    "columns=['duration_seconds', 'flatness_ratio_10000','flatness_ratio_5000', 'flatness_ratio_1000', 'flatness_ratio_500','flatness_ratio_100']\n",
    "feat_dataset.drop_columns(columns_to_drop=columns)"
   ]
  },
  {
   "cell_type": "code",
   "execution_count": 6,
   "id": "60a5e384-48e6-4564-97b7-fbd2547d2eec",
   "metadata": {},
   "outputs": [],
   "source": [
    "# Get Train and Validation Indexes\n",
    "train_indexes, val_indexes, _= ped.get_train_val_test_indexes(df= feat_dataset.features)\n",
    "\n",
    "# Split the training data\n",
    "train_feat_dataset= feat_dataset.copy()\n",
    "train_feat_dataset.features= feat_dataset.features.iloc[train_indexes]\n",
    "train_feat_dataset.features.reset_index(drop=True, inplace=True)\n",
    "\n",
    "# Split the validation data\n",
    "val_feat_dataset= feat_dataset.copy()\n",
    "val_feat_dataset.features= feat_dataset.features.iloc[val_indexes]\n",
    "val_feat_dataset.features.reset_index(drop=True, inplace=True)"
   ]
  },
  {
   "cell_type": "code",
   "execution_count": 7,
   "id": "eb1c4277-c41b-4323-9e46-b38571969375",
   "metadata": {},
   "outputs": [],
   "source": [
    "#del feat_dataset"
   ]
  },
  {
   "cell_type": "markdown",
   "id": "24f3bd65-4f12-4f95-b675-74f23d101aa4",
   "metadata": {},
   "source": [
    "## RQ1"
   ]
  },
  {
   "cell_type": "markdown",
   "id": "52d9dc60-42bf-49e3-b9be-65982f5de922",
   "metadata": {},
   "source": [
    "Is there any difference in the signals when someone is performing eurythmy?"
   ]
  },
  {
   "cell_type": "code",
   "execution_count": 8,
   "id": "4435d97a-0b9c-4e45-9f59-fe282c518fb6",
   "metadata": {},
   "outputs": [],
   "source": [
    "# Reduce the Dataset for the datapoints concerning RQ1\n",
    "\n",
    "processed_train_indexes, train_targets= ped.get_indexes_and_targets_by_rq(1, train_feat_dataset.features)\n",
    "train_feat_dataset.features= train_feat_dataset.features.iloc[processed_train_indexes]\n",
    "train_feat_dataset.features.reset_index(drop=True, inplace=True)\n",
    "\n",
    "processed_val_indexes, val_targets= ped.get_indexes_and_targets_by_rq(1, val_feat_dataset.features)\n",
    "val_feat_dataset.features= val_feat_dataset.features.iloc[processed_val_indexes]\n",
    "val_feat_dataset.features.reset_index(drop=True, inplace=True)"
   ]
  },
  {
   "cell_type": "code",
   "execution_count": 9,
   "id": "c38fd358-362a-47ad-9d2e-468a101d3bf5",
   "metadata": {},
   "outputs": [
    {
     "data": {
      "text/plain": [
       "64740"
      ]
     },
     "execution_count": 9,
     "metadata": {},
     "output_type": "execute_result"
    }
   ],
   "source": [
    "len(train_targets)"
   ]
  },
  {
   "cell_type": "code",
   "execution_count": 10,
   "id": "2d747c2b-158c-46d3-a7ab-1554a5c30d21",
   "metadata": {},
   "outputs": [
    {
     "name": "stdout",
     "output_type": "stream",
     "text": [
      "Reduced variable features from 38 to 12.\n"
     ]
    }
   ],
   "source": [
    "# Reduce the features that are correlated in the training data\n",
    "train_cols= train_feat_dataset.reduce_features(targets= train_targets, corr_threshold=0.75)\n",
    "val_feat_dataset.keep_only_specified_variable_columns(train_cols)"
   ]
  },
  {
   "cell_type": "code",
   "execution_count": 11,
   "id": "0a14a0b1-99db-4533-a149-cede11efaa32",
   "metadata": {},
   "outputs": [
    {
     "name": "stdout",
     "output_type": "stream",
     "text": [
      "Variable features were properly normalized using 'zscore' method.\n",
      "Applied z-score normalization.\n"
     ]
    }
   ],
   "source": [
    "# Normalize features\n",
    "normalization_params= train_feat_dataset.normalize_features()\n",
    "val_feat_dataset.apply_normalization(normalization_params)"
   ]
  },
  {
   "cell_type": "code",
   "execution_count": 12,
   "id": "6c970865-b9c7-4ef9-9944-e6014c62817b",
   "metadata": {},
   "outputs": [
    {
     "data": {
      "text/html": [
       "<div>\n",
       "<style scoped>\n",
       "    .dataframe tbody tr th:only-of-type {\n",
       "        vertical-align: middle;\n",
       "    }\n",
       "\n",
       "    .dataframe tbody tr th {\n",
       "        vertical-align: top;\n",
       "    }\n",
       "\n",
       "    .dataframe thead th {\n",
       "        text-align: right;\n",
       "    }\n",
       "</style>\n",
       "<table border=\"1\" class=\"dataframe\">\n",
       "  <thead>\n",
       "    <tr style=\"text-align: right;\">\n",
       "      <th></th>\n",
       "      <th>id_measurement</th>\n",
       "      <th>id_performance</th>\n",
       "      <th>datetime</th>\n",
       "      <th>plant</th>\n",
       "      <th>generation</th>\n",
       "      <th>num_eurythmy</th>\n",
       "      <th>initial_second</th>\n",
       "      <th>eurythmy_letter</th>\n",
       "      <th>mfcc_1_avg</th>\n",
       "      <th>zero_crossing_rate</th>\n",
       "      <th>root_mean_square_energy</th>\n",
       "      <th>slope_sign_changes_ratio</th>\n",
       "      <th>hjorth_mobility</th>\n",
       "      <th>hjorth_complexity</th>\n",
       "      <th>mean</th>\n",
       "      <th>variance</th>\n",
       "      <th>standard_deviation</th>\n",
       "      <th>skewness</th>\n",
       "      <th>kurtosis</th>\n",
       "      <th>dfa</th>\n",
       "    </tr>\n",
       "  </thead>\n",
       "  <tbody>\n",
       "    <tr>\n",
       "      <th>0</th>\n",
       "      <td>2</td>\n",
       "      <td>1</td>\n",
       "      <td>2023-04-29</td>\n",
       "      <td>salad</td>\n",
       "      <td>1</td>\n",
       "      <td>1</td>\n",
       "      <td>17.0</td>\n",
       "      <td>A1</td>\n",
       "      <td>0.317104</td>\n",
       "      <td>-0.587715</td>\n",
       "      <td>1.830673</td>\n",
       "      <td>-0.352106</td>\n",
       "      <td>-0.508262</td>\n",
       "      <td>-0.075092</td>\n",
       "      <td>2.213391</td>\n",
       "      <td>-0.145385</td>\n",
       "      <td>-0.524891</td>\n",
       "      <td>-0.214881</td>\n",
       "      <td>-0.061647</td>\n",
       "      <td>-0.348185</td>\n",
       "    </tr>\n",
       "    <tr>\n",
       "      <th>1</th>\n",
       "      <td>2</td>\n",
       "      <td>1</td>\n",
       "      <td>2023-04-29</td>\n",
       "      <td>salad</td>\n",
       "      <td>1</td>\n",
       "      <td>1</td>\n",
       "      <td>18.0</td>\n",
       "      <td>A1</td>\n",
       "      <td>0.333130</td>\n",
       "      <td>-0.587715</td>\n",
       "      <td>1.720997</td>\n",
       "      <td>-0.357386</td>\n",
       "      <td>-0.324904</td>\n",
       "      <td>-0.228059</td>\n",
       "      <td>2.129181</td>\n",
       "      <td>-0.143647</td>\n",
       "      <td>-0.486652</td>\n",
       "      <td>0.203625</td>\n",
       "      <td>-0.064623</td>\n",
       "      <td>-0.988416</td>\n",
       "    </tr>\n",
       "    <tr>\n",
       "      <th>2</th>\n",
       "      <td>2</td>\n",
       "      <td>1</td>\n",
       "      <td>2023-04-29</td>\n",
       "      <td>salad</td>\n",
       "      <td>1</td>\n",
       "      <td>1</td>\n",
       "      <td>19.0</td>\n",
       "      <td>A1</td>\n",
       "      <td>0.426624</td>\n",
       "      <td>-0.587715</td>\n",
       "      <td>1.339804</td>\n",
       "      <td>-0.288754</td>\n",
       "      <td>-0.335506</td>\n",
       "      <td>-0.215895</td>\n",
       "      <td>1.838362</td>\n",
       "      <td>-0.143275</td>\n",
       "      <td>-0.479176</td>\n",
       "      <td>-0.517555</td>\n",
       "      <td>-0.044271</td>\n",
       "      <td>-0.340616</td>\n",
       "    </tr>\n",
       "    <tr>\n",
       "      <th>3</th>\n",
       "      <td>2</td>\n",
       "      <td>1</td>\n",
       "      <td>2023-04-29</td>\n",
       "      <td>salad</td>\n",
       "      <td>1</td>\n",
       "      <td>1</td>\n",
       "      <td>20.0</td>\n",
       "      <td>A1</td>\n",
       "      <td>0.511142</td>\n",
       "      <td>-0.587715</td>\n",
       "      <td>1.569921</td>\n",
       "      <td>-0.272916</td>\n",
       "      <td>-0.489570</td>\n",
       "      <td>-0.087459</td>\n",
       "      <td>2.013960</td>\n",
       "      <td>-0.143551</td>\n",
       "      <td>-0.484700</td>\n",
       "      <td>0.185108</td>\n",
       "      <td>-0.031657</td>\n",
       "      <td>-0.096986</td>\n",
       "    </tr>\n",
       "    <tr>\n",
       "      <th>4</th>\n",
       "      <td>2</td>\n",
       "      <td>1</td>\n",
       "      <td>2023-04-29</td>\n",
       "      <td>salad</td>\n",
       "      <td>1</td>\n",
       "      <td>1</td>\n",
       "      <td>21.0</td>\n",
       "      <td>A1</td>\n",
       "      <td>0.394482</td>\n",
       "      <td>-0.587715</td>\n",
       "      <td>1.747919</td>\n",
       "      <td>-0.299313</td>\n",
       "      <td>-0.415282</td>\n",
       "      <td>-0.155551</td>\n",
       "      <td>2.149823</td>\n",
       "      <td>-0.143980</td>\n",
       "      <td>-0.493511</td>\n",
       "      <td>-1.157265</td>\n",
       "      <td>0.027384</td>\n",
       "      <td>-0.186334</td>\n",
       "    </tr>\n",
       "  </tbody>\n",
       "</table>\n",
       "</div>"
      ],
      "text/plain": [
       "   id_measurement  id_performance    datetime  plant  generation  \\\n",
       "0               2               1  2023-04-29  salad           1   \n",
       "1               2               1  2023-04-29  salad           1   \n",
       "2               2               1  2023-04-29  salad           1   \n",
       "3               2               1  2023-04-29  salad           1   \n",
       "4               2               1  2023-04-29  salad           1   \n",
       "\n",
       "   num_eurythmy  initial_second eurythmy_letter  mfcc_1_avg  \\\n",
       "0             1            17.0              A1    0.317104   \n",
       "1             1            18.0              A1    0.333130   \n",
       "2             1            19.0              A1    0.426624   \n",
       "3             1            20.0              A1    0.511142   \n",
       "4             1            21.0              A1    0.394482   \n",
       "\n",
       "   zero_crossing_rate  root_mean_square_energy  slope_sign_changes_ratio  \\\n",
       "0           -0.587715                 1.830673                 -0.352106   \n",
       "1           -0.587715                 1.720997                 -0.357386   \n",
       "2           -0.587715                 1.339804                 -0.288754   \n",
       "3           -0.587715                 1.569921                 -0.272916   \n",
       "4           -0.587715                 1.747919                 -0.299313   \n",
       "\n",
       "   hjorth_mobility  hjorth_complexity      mean  variance  standard_deviation  \\\n",
       "0        -0.508262          -0.075092  2.213391 -0.145385           -0.524891   \n",
       "1        -0.324904          -0.228059  2.129181 -0.143647           -0.486652   \n",
       "2        -0.335506          -0.215895  1.838362 -0.143275           -0.479176   \n",
       "3        -0.489570          -0.087459  2.013960 -0.143551           -0.484700   \n",
       "4        -0.415282          -0.155551  2.149823 -0.143980           -0.493511   \n",
       "\n",
       "   skewness  kurtosis       dfa  \n",
       "0 -0.214881 -0.061647 -0.348185  \n",
       "1  0.203625 -0.064623 -0.988416  \n",
       "2 -0.517555 -0.044271 -0.340616  \n",
       "3  0.185108 -0.031657 -0.096986  \n",
       "4 -1.157265  0.027384 -0.186334  "
      ]
     },
     "execution_count": 12,
     "metadata": {},
     "output_type": "execute_result"
    }
   ],
   "source": [
    "train_feat_dataset.features.head()"
   ]
  },
  {
   "cell_type": "code",
   "execution_count": 13,
   "id": "55003dfa-44b3-4c3c-9264-e0fe524dd042",
   "metadata": {},
   "outputs": [
    {
     "data": {
      "text/html": [
       "<div>\n",
       "<style scoped>\n",
       "    .dataframe tbody tr th:only-of-type {\n",
       "        vertical-align: middle;\n",
       "    }\n",
       "\n",
       "    .dataframe tbody tr th {\n",
       "        vertical-align: top;\n",
       "    }\n",
       "\n",
       "    .dataframe thead th {\n",
       "        text-align: right;\n",
       "    }\n",
       "</style>\n",
       "<table border=\"1\" class=\"dataframe\">\n",
       "  <thead>\n",
       "    <tr style=\"text-align: right;\">\n",
       "      <th></th>\n",
       "      <th>id_measurement</th>\n",
       "      <th>id_performance</th>\n",
       "      <th>datetime</th>\n",
       "      <th>plant</th>\n",
       "      <th>generation</th>\n",
       "      <th>num_eurythmy</th>\n",
       "      <th>initial_second</th>\n",
       "      <th>eurythmy_letter</th>\n",
       "      <th>mfcc_1_avg</th>\n",
       "      <th>zero_crossing_rate</th>\n",
       "      <th>root_mean_square_energy</th>\n",
       "      <th>slope_sign_changes_ratio</th>\n",
       "      <th>hjorth_mobility</th>\n",
       "      <th>hjorth_complexity</th>\n",
       "      <th>mean</th>\n",
       "      <th>variance</th>\n",
       "      <th>standard_deviation</th>\n",
       "      <th>skewness</th>\n",
       "      <th>kurtosis</th>\n",
       "      <th>dfa</th>\n",
       "    </tr>\n",
       "  </thead>\n",
       "  <tbody>\n",
       "    <tr>\n",
       "      <th>0</th>\n",
       "      <td>1</td>\n",
       "      <td>1</td>\n",
       "      <td>2023-04-29</td>\n",
       "      <td>salad</td>\n",
       "      <td>1</td>\n",
       "      <td>1</td>\n",
       "      <td>17.0</td>\n",
       "      <td>A1</td>\n",
       "      <td>0.448185</td>\n",
       "      <td>-0.587715</td>\n",
       "      <td>1.187843</td>\n",
       "      <td>-0.415458</td>\n",
       "      <td>-0.453143</td>\n",
       "      <td>-0.109875</td>\n",
       "      <td>1.724492</td>\n",
       "      <td>-0.147885</td>\n",
       "      <td>-0.596814</td>\n",
       "      <td>0.023204</td>\n",
       "      <td>-0.083323</td>\n",
       "      <td>-0.229328</td>\n",
       "    </tr>\n",
       "    <tr>\n",
       "      <th>1</th>\n",
       "      <td>1</td>\n",
       "      <td>1</td>\n",
       "      <td>2023-04-29</td>\n",
       "      <td>salad</td>\n",
       "      <td>1</td>\n",
       "      <td>1</td>\n",
       "      <td>18.0</td>\n",
       "      <td>A1</td>\n",
       "      <td>0.305570</td>\n",
       "      <td>-0.587715</td>\n",
       "      <td>1.322777</td>\n",
       "      <td>-0.431296</td>\n",
       "      <td>-0.458243</td>\n",
       "      <td>-0.113484</td>\n",
       "      <td>1.827075</td>\n",
       "      <td>-0.147335</td>\n",
       "      <td>-0.578232</td>\n",
       "      <td>0.891125</td>\n",
       "      <td>-0.023108</td>\n",
       "      <td>0.011637</td>\n",
       "    </tr>\n",
       "    <tr>\n",
       "      <th>2</th>\n",
       "      <td>1</td>\n",
       "      <td>1</td>\n",
       "      <td>2023-04-29</td>\n",
       "      <td>salad</td>\n",
       "      <td>1</td>\n",
       "      <td>1</td>\n",
       "      <td>19.0</td>\n",
       "      <td>A1</td>\n",
       "      <td>0.700812</td>\n",
       "      <td>-0.587715</td>\n",
       "      <td>1.025525</td>\n",
       "      <td>-0.404900</td>\n",
       "      <td>-0.255659</td>\n",
       "      <td>-0.260343</td>\n",
       "      <td>1.597624</td>\n",
       "      <td>-0.141238</td>\n",
       "      <td>-0.441610</td>\n",
       "      <td>0.102503</td>\n",
       "      <td>-0.056845</td>\n",
       "      <td>-0.542518</td>\n",
       "    </tr>\n",
       "    <tr>\n",
       "      <th>3</th>\n",
       "      <td>1</td>\n",
       "      <td>1</td>\n",
       "      <td>2023-04-29</td>\n",
       "      <td>salad</td>\n",
       "      <td>1</td>\n",
       "      <td>1</td>\n",
       "      <td>20.0</td>\n",
       "      <td>A1</td>\n",
       "      <td>0.668969</td>\n",
       "      <td>-0.587715</td>\n",
       "      <td>0.961778</td>\n",
       "      <td>-0.383782</td>\n",
       "      <td>-0.286717</td>\n",
       "      <td>-0.229320</td>\n",
       "      <td>1.533873</td>\n",
       "      <td>-0.110891</td>\n",
       "      <td>-0.105789</td>\n",
       "      <td>-0.933839</td>\n",
       "      <td>-0.001726</td>\n",
       "      <td>-0.564408</td>\n",
       "    </tr>\n",
       "    <tr>\n",
       "      <th>4</th>\n",
       "      <td>1</td>\n",
       "      <td>1</td>\n",
       "      <td>2023-04-29</td>\n",
       "      <td>salad</td>\n",
       "      <td>1</td>\n",
       "      <td>1</td>\n",
       "      <td>21.0</td>\n",
       "      <td>A1</td>\n",
       "      <td>0.948951</td>\n",
       "      <td>-0.587715</td>\n",
       "      <td>0.054221</td>\n",
       "      <td>-0.309872</td>\n",
       "      <td>-0.339063</td>\n",
       "      <td>-0.028826</td>\n",
       "      <td>0.826939</td>\n",
       "      <td>-0.111503</td>\n",
       "      <td>-0.110790</td>\n",
       "      <td>-0.013554</td>\n",
       "      <td>-0.062082</td>\n",
       "      <td>-0.498555</td>\n",
       "    </tr>\n",
       "  </tbody>\n",
       "</table>\n",
       "</div>"
      ],
      "text/plain": [
       "   id_measurement  id_performance    datetime  plant  generation  \\\n",
       "0               1               1  2023-04-29  salad           1   \n",
       "1               1               1  2023-04-29  salad           1   \n",
       "2               1               1  2023-04-29  salad           1   \n",
       "3               1               1  2023-04-29  salad           1   \n",
       "4               1               1  2023-04-29  salad           1   \n",
       "\n",
       "   num_eurythmy  initial_second eurythmy_letter  mfcc_1_avg  \\\n",
       "0             1            17.0              A1    0.448185   \n",
       "1             1            18.0              A1    0.305570   \n",
       "2             1            19.0              A1    0.700812   \n",
       "3             1            20.0              A1    0.668969   \n",
       "4             1            21.0              A1    0.948951   \n",
       "\n",
       "   zero_crossing_rate  root_mean_square_energy  slope_sign_changes_ratio  \\\n",
       "0           -0.587715                 1.187843                 -0.415458   \n",
       "1           -0.587715                 1.322777                 -0.431296   \n",
       "2           -0.587715                 1.025525                 -0.404900   \n",
       "3           -0.587715                 0.961778                 -0.383782   \n",
       "4           -0.587715                 0.054221                 -0.309872   \n",
       "\n",
       "   hjorth_mobility  hjorth_complexity      mean  variance  standard_deviation  \\\n",
       "0        -0.453143          -0.109875  1.724492 -0.147885           -0.596814   \n",
       "1        -0.458243          -0.113484  1.827075 -0.147335           -0.578232   \n",
       "2        -0.255659          -0.260343  1.597624 -0.141238           -0.441610   \n",
       "3        -0.286717          -0.229320  1.533873 -0.110891           -0.105789   \n",
       "4        -0.339063          -0.028826  0.826939 -0.111503           -0.110790   \n",
       "\n",
       "   skewness  kurtosis       dfa  \n",
       "0  0.023204 -0.083323 -0.229328  \n",
       "1  0.891125 -0.023108  0.011637  \n",
       "2  0.102503 -0.056845 -0.542518  \n",
       "3 -0.933839 -0.001726 -0.564408  \n",
       "4 -0.013554 -0.062082 -0.498555  "
      ]
     },
     "execution_count": 13,
     "metadata": {},
     "output_type": "execute_result"
    }
   ],
   "source": [
    "val_feat_dataset.features.head()"
   ]
  },
  {
   "cell_type": "code",
   "execution_count": 14,
   "id": "1387c208-a208-4544-8da6-0a9303847507",
   "metadata": {},
   "outputs": [],
   "source": [
    "train_loader= train_feat_dataset.get_variable_features_loader(train_targets)\n",
    "val_loader= val_feat_dataset.get_variable_features_loader(val_targets)"
   ]
  },
  {
   "cell_type": "markdown",
   "id": "7f86f6f5-14f2-44ed-9dda-c6fd5ba81886",
   "metadata": {},
   "source": [
    "## Search"
   ]
  },
  {
   "cell_type": "code",
   "execution_count": 15,
   "id": "bfa93376-93bd-46c4-97ca-7b0e1ba514cf",
   "metadata": {},
   "outputs": [
    {
     "name": "stdout",
     "output_type": "stream",
     "text": [
      "Counter({1: 34053, 0: 30687})\n"
     ]
    }
   ],
   "source": [
    "from collections import Counter\n",
    "\n",
    "count = Counter(train_targets)\n",
    "print(count)\n"
   ]
  },
  {
   "cell_type": "code",
   "execution_count": null,
   "id": "ef49cbb5-24ed-421c-a1af-96cd567a224e",
   "metadata": {
    "scrolled": true
   },
   "outputs": [
    {
     "name": "stdout",
     "output_type": "stream",
     "text": [
      "Epoch 1/5, Training Loss: nan, Training Accuracy: 0.4740, Validation Loss: nan\n",
      "Epoch 2/5, Training Loss: nan, Training Accuracy: 0.4740, Validation Loss: nan\n",
      "Epoch 3/5, Training Loss: nan, Training Accuracy: 0.4740, Validation Loss: nan\n",
      "Early stopping triggered\n",
      "Early stopping triggered after 3 epochs\n",
      "Epoch 1/5, Training Loss: nan, Training Accuracy: 0.4742, Validation Loss: nan\n",
      "Epoch 2/5, Training Loss: nan, Training Accuracy: 0.4740, Validation Loss: nan\n",
      "Epoch 3/5, Training Loss: nan, Training Accuracy: 0.4740, Validation Loss: nan\n",
      "Early stopping triggered\n",
      "Early stopping triggered after 3 epochs\n",
      "Epoch 1/5, Training Loss: nan, Training Accuracy: 0.4741, Validation Loss: nan\n",
      "Epoch 2/5, Training Loss: nan, Training Accuracy: 0.4740, Validation Loss: nan\n",
      "Epoch 3/5, Training Loss: nan, Training Accuracy: 0.4740, Validation Loss: nan\n",
      "Early stopping triggered\n",
      "Early stopping triggered after 3 epochs\n",
      "Epoch 1/5, Training Loss: nan, Training Accuracy: 0.4740, Validation Loss: nan\n"
     ]
    }
   ],
   "source": [
    "input_size= len(train_feat_dataset.variable_columns)\n",
    "output_size= 2\n",
    "num_epochs = 5\n",
    "\n",
    "param_grid = {\n",
    "    'learning_rate': [0.1, 0.01],\n",
    "    'dense_units': [64, 128],\n",
    "    'dense_layers': [1, 2],\n",
    "    'dropout_rate': [0.25, 0.5]\n",
    "}\n",
    "\n",
    "tuner = HyperparameterTuner(FullyConnectedClassifier, param_grid, train_loader, val_loader, num_epochs, input_size, output_size)\n",
    "best_params, all_results = tuner.tune()"
   ]
  },
  {
   "cell_type": "code",
   "execution_count": null,
   "id": "4172f121-7629-460b-83de-63c157de000a",
   "metadata": {},
   "outputs": [],
   "source": [
    "print(\"Best Hyperparameters: \\n\", best_params)"
   ]
  },
  {
   "cell_type": "code",
   "execution_count": null,
   "id": "c2858e1b-897d-4756-bc8a-220bec77b148",
   "metadata": {},
   "outputs": [],
   "source": [
    "all_results.head(15)"
   ]
  },
  {
   "cell_type": "code",
   "execution_count": null,
   "id": "94fbf31d-8086-459e-a4c0-dc5cc6ad78e8",
   "metadata": {},
   "outputs": [],
   "source": [
    "klk"
   ]
  },
  {
   "cell_type": "markdown",
   "id": "a55a29ad-f615-4ea0-8b6f-f92ce79d125b",
   "metadata": {},
   "source": [
    "## Model"
   ]
  },
  {
   "cell_type": "code",
   "execution_count": null,
   "id": "47a5c218-a6b0-43ba-9b66-0002bc2bf05a",
   "metadata": {},
   "outputs": [],
   "source": [
    "num_epochs = 5  # Number of training epochs"
   ]
  },
  {
   "cell_type": "code",
   "execution_count": null,
   "id": "9063b66a-2db4-4295-bafb-09347e0b0ca4",
   "metadata": {},
   "outputs": [],
   "source": [
    "model = FullyConnectedClassifier(\n",
    "    input_size=5,  # Example input size\n",
    "    hidden_layers=[128, 64],  # Two hidden layers with 128 and 64 units respectively\n",
    "    output_size=2,  # Example output size\n",
    "    dropout_rate=0.5,\n",
    "    learning_rate=0.001\n",
    ")"
   ]
  },
  {
   "cell_type": "code",
   "execution_count": null,
   "id": "922201a6-7c48-4915-9733-434a8ce3831a",
   "metadata": {},
   "outputs": [],
   "source": [
    "model.train_model(train_loader, val_loader, num_epochs)"
   ]
  },
  {
   "cell_type": "code",
   "execution_count": null,
   "id": "780fd1cc-6d6c-47e3-aa01-9be0615186f4",
   "metadata": {},
   "outputs": [],
   "source": [
    "test_predictions = model.predict(test_loader)"
   ]
  },
  {
   "cell_type": "code",
   "execution_count": null,
   "id": "fc8da217-de67-4d9f-ae1d-036f51e4f073",
   "metadata": {},
   "outputs": [],
   "source": [
    "actual_labels = []\n",
    "for _, labels in test_loader:\n",
    "    actual_labels.extend(labels.tolist())"
   ]
  },
  {
   "cell_type": "code",
   "execution_count": null,
   "id": "2609c48b-aecf-463b-a3c4-70a543a054e6",
   "metadata": {},
   "outputs": [],
   "source": [
    "correct_predictions = sum(p == t for p, t in zip(test_predictions, actual_labels))\n",
    "accuracy = correct_predictions / len(actual_labels)\n",
    "print(f\"Accuracy: {accuracy:.4f}\")\n"
   ]
  },
  {
   "cell_type": "code",
   "execution_count": null,
   "id": "1ec56b49-e194-4244-88eb-a4fb3483cdf0",
   "metadata": {},
   "outputs": [],
   "source": [
    "from sklearn.metrics import precision_score, recall_score, f1_score, confusion_matrix\n",
    "\n",
    "# Assuming your task is a classification task\n",
    "precision = precision_score(actual_labels, test_predictions, average='macro')\n",
    "recall = recall_score(actual_labels, test_predictions, average='macro')\n",
    "f1 = f1_score(actual_labels, test_predictions, average='macro')\n",
    "\n",
    "print(f\"Precision: {precision:.4f}\")\n",
    "print(f\"Recall: {recall:.4f}\")\n",
    "print(f\"F1-Score: {f1:.4f}\")\n",
    "\n",
    "# Confusion Matrix\n",
    "conf_matrix = confusion_matrix(actual_labels, test_predictions)\n",
    "print(\"Confusion Matrix:\\n\", conf_matrix)\n"
   ]
  }
 ],
 "metadata": {
  "kernelspec": {
   "display_name": "Python 3 (ipykernel)",
   "language": "python",
   "name": "python3"
  },
  "language_info": {
   "codemirror_mode": {
    "name": "ipython",
    "version": 3
   },
   "file_extension": ".py",
   "mimetype": "text/x-python",
   "name": "python",
   "nbconvert_exporter": "python",
   "pygments_lexer": "ipython3",
   "version": "3.10.13"
  }
 },
 "nbformat": 4,
 "nbformat_minor": 5
}
