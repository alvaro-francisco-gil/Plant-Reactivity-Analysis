{
 "cells": [
  {
   "cell_type": "markdown",
   "id": "501268a1-2347-46dd-ae4e-d4424b0261a9",
   "metadata": {},
   "source": [
    "# Experiment Eurythmy Letter"
   ]
  },
  {
   "cell_type": "code",
   "execution_count": 1,
   "id": "551bf376-9979-4c51-a261-8e974501da9b",
   "metadata": {},
   "outputs": [],
   "source": [
    "from PlantReactivityAnalysis.features.features_dataset import FeaturesDataset\n",
    "from PlantReactivityAnalysis.models.experiment import Experiment\n",
    "import PlantReactivityAnalysis.models.get_dataset as gd\n",
    "import PlantReactivityAnalysis.models.parameters as param\n",
    "from PlantReactivityAnalysis.config import PROCESSED_DATA_DIR"
   ]
  },
  {
   "cell_type": "code",
   "execution_count": 2,
   "id": "2e27e9cd-2454-4464-b7ec-7ebf191103ea",
   "metadata": {},
   "outputs": [],
   "source": [
    "import numpy as np\n",
    "import pandas as pd\n",
    "pd.set_option('display.max_columns', None)\n",
    "pd.set_option('display.max_rows', None)"
   ]
  },
  {
   "cell_type": "markdown",
   "id": "7cc3aed1-2590-4f12-8611-08649b524222",
   "metadata": {},
   "source": [
    "# Preparation"
   ]
  },
  {
   "cell_type": "code",
   "execution_count": 5,
   "id": "75549939-4d51-4ba8-8ef2-ef67fce62b09",
   "metadata": {},
   "outputs": [],
   "source": [
    "ct= 0.7\n",
    "pca= 60\n",
    "ws= 0.1\n",
    "hl= 0.1\n",
    "rqs= [5]\n",
    "dataset_ids=[1, 2, 9, 10]\n",
    "path = r\"../data/processed/feat_norm_1s_0.1_0.1_dataset.pkl\""
   ]
  },
  {
   "cell_type": "code",
   "execution_count": null,
   "id": "4ad9fb76-7d52-4a35-aff5-07f4bd70bf63",
   "metadata": {
    "scrolled": true
   },
   "outputs": [
    {
     "name": "stdout",
     "output_type": "stream",
     "text": [
      "\n",
      "PROCESSING DATASET 1\n",
      "Removing columns with NaN values: ['kurtosis', 'skewness']\n",
      "148682\n",
      "148682\n",
      "\n",
      "# Research Question:  5\n",
      "-Train distribution-\n",
      "Counts and Percentages:\n",
      "Class 0: Count = 43165, Percentage = 36.29%\n",
      "Class 1: Count = 40054, Percentage = 33.67%\n",
      "Class 2: Count = 35726, Percentage = 30.04%\n",
      "-Test distribution-\n",
      "Counts and Percentages:\n",
      "Class 0: Count = 10801, Percentage = 36.32%\n",
      "Class 1: Count = 10087, Percentage = 33.92%\n",
      "Class 2: Count = 8849, Percentage = 29.76%\n",
      "Variable features were properly normalized using 'zscore' method.\n",
      "Applied z-score normalization.\n"
     ]
    }
   ],
   "source": [
    "datasets= gd.get_datasets_by_ids(path, rqs, corr_threshold=ct, pca_dim=pca, dataset_ids= dataset_ids)"
   ]
  },
  {
   "cell_type": "markdown",
   "id": "2518c098-1edb-4e4e-8998-18553d44bd8a",
   "metadata": {},
   "source": [
    "# RQX"
   ]
  },
  {
   "cell_type": "code",
   "execution_count": null,
   "id": "8ae7151f-9736-4766-aa2c-c186da471e6d",
   "metadata": {
    "scrolled": true
   },
   "outputs": [],
   "source": [
    "%%time\n",
    "\n",
    "results = {}  # Initialize an empty dictionary to store results\n",
    "\n",
    "for ds in [1,2,3,4,5,7]#,9,10,11,12,13,15]:  # For each dataset\n",
    "    print(f\"Now processing Dataset {ds}...\")  # Print the current dataset being processed\n",
    "    results[ds] = {}  # Initialize a nested dictionary for each dataset\n",
    "    for rq in [5]:  # For each research question\n",
    "        print(f\"  Processing RQ {rq} within Dataset {ds}...\")  # Print the current RQ being processed\n",
    "\n",
    "        if ds in [1,2,3,4,5,7]:\n",
    "            train_df, test_df = datasets[ds][rq]\n",
    "            experiment = Experiment(train_df, test_df, 'target')\n",
    "        else:\n",
    "            train_df, train_targets, test_df, test_targets = datasets[ds][rq]\n",
    "            experiment = Experiment.from_arrays(train_df, train_targets, test_df, test_targets)\n",
    "            \n",
    "        if ds in [2,4,6,8,10,12,14,16]:\n",
    "            experiment.run_all_models(param.PARAMETER_GRID_NO_SCALING)\n",
    "        else:\n",
    "            experiment.run_all_models(param.PARAMETER_GRID)\n",
    "        \n",
    "        # Store the results of the experiment, along with the dataset and RQ identifiers\n",
    "        results[ds][rq] = experiment.results"
   ]
  },
  {
   "cell_type": "code",
   "execution_count": null,
   "id": "070e639c-3c15-48ff-961f-0e670e9a3f17",
   "metadata": {},
   "outputs": [],
   "source": [
    "# Prepare a list to hold all rows before creating the DataFrame\n",
    "rows = []\n",
    "\n",
    "# Iterate over the nested structure to access each experiment's results\n",
    "for ds, rqs in results.items():\n",
    "    for rq, experiments in rqs.items():\n",
    "        for experiment_result in experiments:\n",
    "            rows.append({\n",
    "                'Dataset': ds,\n",
    "                'RQ': rq,\n",
    "                'Window Size': ws,\n",
    "                'Hop Length': hl,\n",
    "                'Corr Tres/ PCA Dim': ct if ds in [1, 2, 3, 4, 5, 7] else pca,\n",
    "                'Model': experiment_result['model_name'],\n",
    "                'Parameter': str(experiment_result['parameters']),\n",
    "                'F1 Score': experiment_result['f1'],\n",
    "                'Accuracy': experiment_result['accuracy'],\n",
    "                'Precision': experiment_result['precision'],\n",
    "                'Recall': experiment_result['recall']\n",
    "            })\n",
    "\n",
    "# Convert the list of dictionaries into a DataFrame\n",
    "df_results = pd.DataFrame(rows)\n",
    "df_results.shape"
   ]
  },
  {
   "cell_type": "code",
   "execution_count": null,
   "id": "936c653c-de1d-446f-98a3-000dd0910bf9",
   "metadata": {},
   "outputs": [],
   "source": [
    "def update_csv_with_new_rows(csv_path, new_data_df):\n",
    "    try:\n",
    "        existing_data_df = pd.read_csv(csv_path)\n",
    "        print(\"read\",csv_path)\n",
    "    except FileNotFoundError:\n",
    "        existing_data_df = pd.DataFrame()\n",
    "\n",
    "    combined_df = pd.concat([existing_data_df, new_data_df], ignore_index=True).drop_duplicates()\n",
    "\n",
    "    combined_df.to_csv(csv_path, index=False)"
   ]
  },
  {
   "cell_type": "code",
   "execution_count": null,
   "id": "f4125c13-5c5c-4813-9ce9-306b97008479",
   "metadata": {},
   "outputs": [],
   "source": [
    "results_file=  r\"results.csv\"\n",
    "update_csv_with_new_rows(results_file, df_results)"
   ]
  }
 ],
 "metadata": {
  "kernelspec": {
   "display_name": "Python (Plant-Reactivity-Analysis)",
   "language": "python",
   "name": "myenv"
  },
  "language_info": {
   "codemirror_mode": {
    "name": "ipython",
    "version": 3
   },
   "file_extension": ".py",
   "mimetype": "text/x-python",
   "name": "python",
   "nbconvert_exporter": "python",
   "pygments_lexer": "ipython3",
   "version": "3.10.13"
  }
 },
 "nbformat": 4,
 "nbformat_minor": 5
}
