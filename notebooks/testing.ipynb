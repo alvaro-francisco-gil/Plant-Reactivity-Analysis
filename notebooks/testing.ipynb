{
 "cells": [
  {
   "cell_type": "code",
   "execution_count": 1,
   "id": "56743a73",
   "metadata": {},
   "outputs": [],
   "source": [
    "import warnings\n",
    "warnings.filterwarnings(\"ignore\", category=DeprecationWarning)"
   ]
  },
  {
   "cell_type": "code",
   "execution_count": 2,
   "id": "d682a9ac-99fa-4394-aaff-3844701b070f",
   "metadata": {
    "scrolled": true
   },
   "outputs": [],
   "source": [
    "import sys\n",
    "sys.path.append(\"../src/data\") "
   ]
  },
  {
   "cell_type": "code",
   "execution_count": 3,
   "id": "d5b91abe-37c4-4478-9207-7b7d4b5daf5a",
   "metadata": {},
   "outputs": [],
   "source": [
    "from wav_data_reader import WavDataReader\n",
    "from signal_dataset import SignalDataset\n",
    "from independent_wav_feature_extractor import IndependentWavFeatureExtractor\n",
    "from features_dataset import FeaturesDataset"
   ]
  },
  {
   "cell_type": "code",
   "execution_count": 4,
   "id": "2ab39bbd",
   "metadata": {},
   "outputs": [],
   "source": [
    "test_file= r\"..\\data\\interim\\testing\\#2_#12_230429_SK1_M3_BYB_Recording_2023-04-29_14.42.37.wav\""
   ]
  },
  {
   "cell_type": "code",
   "execution_count": 5,
   "id": "eb1dc723-ac03-42e8-b4cc-0364d069e2b1",
   "metadata": {
    "scrolled": true
   },
   "outputs": [
    {
     "data": {
      "text/plain": [
       "{12: array([-1.4953613e-03, -1.4953613e-03, -1.4953613e-03, ...,\n",
       "        -9.1552734e-05, -9.1552734e-05, -9.1552734e-05], dtype=float32)}"
      ]
     },
     "execution_count": 5,
     "metadata": {},
     "output_type": "execute_result"
    }
   ],
   "source": [
    "sample_rate= 10000\n",
    "reader1= WavDataReader(filename= test_file, sample_rate= sample_rate, extract_key= True)\n",
    "reader1.get_data()"
   ]
  },
  {
   "cell_type": "code",
   "execution_count": 6,
   "id": "c8552bcf",
   "metadata": {},
   "outputs": [
    {
     "data": {
      "text/plain": [
       "([array([-1.4953613e-03, -1.4953613e-03, -1.4953613e-03, ...,\n",
       "         -9.1552734e-05, -9.1552734e-05, -9.1552734e-05], dtype=float32)],\n",
       " [12])"
      ]
     },
     "execution_count": 6,
     "metadata": {},
     "output_type": "execute_result"
    }
   ],
   "source": [
    "signal_dataset1= SignalDataset(signals= reader1.get_values(), labels= reader1.get_keys(), sample_rate= 10000)\n",
    "signal_dataset1.get_data()"
   ]
  },
  {
   "cell_type": "code",
   "execution_count": 7,
   "id": "7708b2f7",
   "metadata": {},
   "outputs": [
    {
     "data": {
      "text/plain": [
       "(array([-1.4210881 , -1.4210881 , -1.4210881 , ..., -0.02705929,\n",
       "        -0.02705929, -0.02705929], dtype=float32),\n",
       " 12)"
      ]
     },
     "execution_count": 7,
     "metadata": {},
     "output_type": "execute_result"
    }
   ],
   "source": [
    "# You can choose 'peak', 'zscore', or 'min_max'\n",
    "signal_dataset1.standardize_signals(\"zscore\") \n",
    "signal_dataset1.get_datapoint_by_key(12)"
   ]
  },
  {
   "cell_type": "code",
   "execution_count": 8,
   "id": "627c63cf",
   "metadata": {},
   "outputs": [
    {
     "name": "stdout",
     "output_type": "stream",
     "text": [
      "1255080\n",
      "(array([-0.20888914, -0.20888914, -0.20888914, ..., -0.11797421,\n",
      "       -0.11797421, -0.11797421], dtype=float32), 12)\n",
      "700000\n"
     ]
    }
   ],
   "source": [
    "print(len(signal_dataset1.signals[0]/sample_rate))\n",
    "time_intervals = [(10, 80)] \n",
    "signal_dataset1.trim_signals(time_intervals)\n",
    "print(signal_dataset1.get_datapoint_by_index(0))\n",
    "print(len(signal_dataset1.signals[0]/sample_rate))"
   ]
  },
  {
   "cell_type": "code",
   "execution_count": 9,
   "id": "2bd08d93-51b0-4b85-9733-67a6740be628",
   "metadata": {},
   "outputs": [
    {
     "name": "stdout",
     "output_type": "stream",
     "text": [
      "mfcc_1_avg :  -311.14487\n",
      "mfcc_2_avg :  75.68898\n",
      "mfcc_3_avg :  30.484838\n",
      "mfcc_4_avg :  21.789635\n",
      "mfcc_5_avg :  17.456608\n",
      "mfcc_6_avg :  13.6166525\n",
      "mfcc_7_avg :  11.4525175\n",
      "mfcc_8_avg :  10.0104685\n",
      "mfcc_9_avg :  8.984079\n",
      "mfcc_10_avg :  8.19236\n",
      "mfcc_11_avg :  7.463864\n",
      "mfcc_12_avg :  6.9191155\n",
      "mfcc_13_avg :  6.4879026\n",
      "mfcc_1_std :  30.411032\n",
      "mfcc_2_std :  18.401423\n",
      "mfcc_3_std :  7.6227803\n",
      "mfcc_4_std :  3.681503\n",
      "mfcc_5_std :  3.4055789\n",
      "mfcc_6_std :  2.5050993\n",
      "mfcc_7_std :  2.229995\n",
      "mfcc_8_std :  2.0488129\n",
      "mfcc_9_std :  1.9217545\n",
      "mfcc_10_std :  1.829828\n",
      "mfcc_11_std :  1.7571698\n",
      "mfcc_12_std :  1.6609108\n",
      "mfcc_13_std :  1.6457919\n",
      "zero_crossing_rate :  1.7142857142857142e-05\n",
      "root_mean_square_energy :  1.0654374\n",
      "slope_sign_changes_ratio :  0.012814285714285714\n",
      "duration_seconds :  70.0\n",
      "flatness_ratio_10000 :  0.0\n",
      "flatness_ratio_5000 :  0.016454285714285713\n",
      "flatness_ratio_1000 :  0.11142142857142857\n",
      "flatness_ratio_500 :  0.25638285714285713\n",
      "flatness_ratio_100 :  0.7721085714285715\n",
      "hjorth_mobility :  2.7356301028631535e-06\n",
      "hjorth_complexity :  515604.27273836103\n",
      "hurst :  nan\n",
      "hurst_r2 :  nan\n",
      "mean :  0.11915098\n",
      "variance :  1.1209601\n",
      "standard_deviation :  1.0587541\n",
      "interquartile_range :  1.3940288424491882\n",
      "skewness :  0.08042018943693519\n",
      "kurtosis :  -0.2291486995625478\n",
      "dfa :  1.6919341097154146\n"
     ]
    }
   ],
   "source": [
    "extractor= IndependentWavFeatureExtractor(sample_rate= sample_rate, n_mfcc= 13, n_fft= 2000, hop_length= 500)\n",
    "features,labels= extractor.extract_all_features(signal_dataset1.signals[0])\n",
    "\n",
    "for value, label in zip(features, labels):\n",
    "    print(label,\": \",value)"
   ]
  },
  {
   "cell_type": "code",
   "execution_count": 10,
   "id": "f5f7f815-fbad-4bf2-a836-07261509a278",
   "metadata": {},
   "outputs": [
    {
     "name": "stdout",
     "output_type": "stream",
     "text": [
      "['mfcc_1_avg', 'mfcc_2_avg', 'mfcc_3_avg', 'mfcc_4_avg', 'mfcc_5_avg', 'mfcc_6_avg', 'mfcc_7_avg', 'mfcc_8_avg', 'mfcc_9_avg', 'mfcc_10_avg', 'mfcc_11_avg', 'mfcc_12_avg', 'mfcc_13_avg', 'mfcc_1_std', 'mfcc_2_std', 'mfcc_3_std', 'mfcc_4_std', 'mfcc_5_std', 'mfcc_6_std', 'mfcc_7_std', 'mfcc_8_std', 'mfcc_9_std', 'mfcc_10_std', 'mfcc_11_std', 'mfcc_12_std', 'mfcc_13_std', 'zero_crossing_rate', 'root_mean_square_energy', 'slope_sign_changes_ratio', 'duration_seconds', 'flatness_ratio_10000', 'flatness_ratio_5000', 'flatness_ratio_1000', 'flatness_ratio_500', 'flatness_ratio_100', 'hjorth_mobility', 'hjorth_complexity', 'hurst', 'hurst_r2', 'mean', 'variance', 'standard_deviation', 'interquartile_range', 'skewness', 'kurtosis', 'dfa']\n"
     ]
    }
   ],
   "source": [
    "print(labels)"
   ]
  },
  {
   "cell_type": "code",
   "execution_count": 11,
   "id": "83055df2-01f3-4529-b8af-d42256d675eb",
   "metadata": {},
   "outputs": [
    {
     "data": {
      "text/plain": [
       "([[-311.14487,\n",
       "   75.68898,\n",
       "   30.484838,\n",
       "   21.789635,\n",
       "   17.456608,\n",
       "   13.6166525,\n",
       "   11.4525175,\n",
       "   10.0104685,\n",
       "   8.984079,\n",
       "   8.19236,\n",
       "   7.463864,\n",
       "   6.9191155,\n",
       "   6.4879026,\n",
       "   30.411032,\n",
       "   18.401423,\n",
       "   7.6227803,\n",
       "   3.681503,\n",
       "   3.4055789,\n",
       "   2.5050993,\n",
       "   2.229995,\n",
       "   2.0488129,\n",
       "   1.9217545,\n",
       "   1.829828,\n",
       "   1.7571698,\n",
       "   1.6609108,\n",
       "   1.6457919,\n",
       "   1.7142857142857142e-05,\n",
       "   1.0654374,\n",
       "   0.012814285714285714,\n",
       "   70.0,\n",
       "   0.0,\n",
       "   0.016454285714285713,\n",
       "   0.11142142857142857,\n",
       "   0.25638285714285713,\n",
       "   0.7721085714285715,\n",
       "   2.7356301028631535e-06,\n",
       "   515604.27273836103,\n",
       "   nan,\n",
       "   nan,\n",
       "   0.11915098,\n",
       "   1.1209601,\n",
       "   1.0587541,\n",
       "   1.3940288424491882,\n",
       "   0.08042018943693519,\n",
       "   -0.2291486995625478,\n",
       "   1.6919341097154146]],\n",
       " [12])"
      ]
     },
     "execution_count": 11,
     "metadata": {},
     "output_type": "execute_result"
    }
   ],
   "source": [
    "feat_dataset1= FeaturesDataset(features= [features], targets=signal_dataset1.get_labels(),feature_labels=labels)\n",
    "feat_dataset1.get_data()"
   ]
  },
  {
   "cell_type": "code",
   "execution_count": 12,
   "id": "64becee5",
   "metadata": {
    "scrolled": true
   },
   "outputs": [
    {
     "name": "stdout",
     "output_type": "stream",
     "text": [
      "Removed columns with NaNs: ['hurst', 'hurst_r2']\n"
     ]
    },
    {
     "data": {
      "text/plain": [
       "([[-311.1448669433594,\n",
       "   75.68898010253906,\n",
       "   30.484838485717773,\n",
       "   21.789634704589844,\n",
       "   17.456607818603516,\n",
       "   13.616652488708496,\n",
       "   11.45251750946045,\n",
       "   10.010468482971191,\n",
       "   8.984079360961914,\n",
       "   8.192359924316406,\n",
       "   7.463863849639893,\n",
       "   6.9191155433654785,\n",
       "   6.487902641296387,\n",
       "   30.41103172302246,\n",
       "   18.40142250061035,\n",
       "   7.6227803230285645,\n",
       "   3.6815030574798584,\n",
       "   3.405578851699829,\n",
       "   2.505099296569824,\n",
       "   2.229995012283325,\n",
       "   2.0488128662109375,\n",
       "   1.9217544794082642,\n",
       "   1.8298280239105225,\n",
       "   1.7571698427200317,\n",
       "   1.6609108448028564,\n",
       "   1.6457918882369995,\n",
       "   1.7142857142857142e-05,\n",
       "   1.0654374361038208,\n",
       "   0.012814285714285714,\n",
       "   70.0,\n",
       "   0.0,\n",
       "   0.016454285714285713,\n",
       "   0.11142142857142857,\n",
       "   0.25638285714285713,\n",
       "   0.7721085714285715,\n",
       "   2.7356301028631535e-06,\n",
       "   515604.27273836103,\n",
       "   0.11915098130702972,\n",
       "   1.1209601163864136,\n",
       "   1.0587540864944458,\n",
       "   1.3940288424491882,\n",
       "   0.08042018943693519,\n",
       "   -0.2291486995625478,\n",
       "   1.6919341097154146]],\n",
       " [12])"
      ]
     },
     "execution_count": 12,
     "metadata": {},
     "output_type": "execute_result"
    }
   ],
   "source": [
    "feat_dataset1.remove_nan_columns()\n",
    "feat_dataset1.get_data()"
   ]
  },
  {
   "cell_type": "code",
   "execution_count": 13,
   "id": "e9886c6a-68aa-4acd-8b46-b1a8dabfb07d",
   "metadata": {},
   "outputs": [
    {
     "data": {
      "text/plain": [
       "['mfcc_1_avg',\n",
       " 'mfcc_2_avg',\n",
       " 'mfcc_3_avg',\n",
       " 'mfcc_4_avg',\n",
       " 'mfcc_5_avg',\n",
       " 'mfcc_6_avg',\n",
       " 'mfcc_7_avg',\n",
       " 'mfcc_8_avg',\n",
       " 'mfcc_9_avg',\n",
       " 'mfcc_10_avg',\n",
       " 'mfcc_11_avg',\n",
       " 'mfcc_12_avg',\n",
       " 'mfcc_13_avg',\n",
       " 'mfcc_1_std',\n",
       " 'mfcc_2_std',\n",
       " 'mfcc_3_std',\n",
       " 'mfcc_4_std',\n",
       " 'mfcc_5_std',\n",
       " 'mfcc_6_std',\n",
       " 'mfcc_7_std',\n",
       " 'mfcc_8_std',\n",
       " 'mfcc_9_std',\n",
       " 'mfcc_10_std',\n",
       " 'mfcc_11_std',\n",
       " 'mfcc_12_std',\n",
       " 'mfcc_13_std',\n",
       " 'zero_crossing_rate',\n",
       " 'root_mean_square_energy',\n",
       " 'slope_sign_changes_ratio',\n",
       " 'duration_seconds',\n",
       " 'flatness_ratio_10000',\n",
       " 'flatness_ratio_5000',\n",
       " 'flatness_ratio_1000',\n",
       " 'flatness_ratio_500',\n",
       " 'flatness_ratio_100',\n",
       " 'hjorth_mobility',\n",
       " 'hjorth_complexity',\n",
       " 'mean',\n",
       " 'variance',\n",
       " 'standard_deviation',\n",
       " 'interquartile_range',\n",
       " 'skewness',\n",
       " 'kurtosis',\n",
       " 'dfa']"
      ]
     },
     "execution_count": 13,
     "metadata": {},
     "output_type": "execute_result"
    }
   ],
   "source": [
    "feat_dataset1.get_labels()"
   ]
  }
 ],
 "metadata": {
  "kernelspec": {
   "display_name": "Python 3 (ipykernel)",
   "language": "python",
   "name": "python3"
  },
  "language_info": {
   "codemirror_mode": {
    "name": "ipython",
    "version": 3
   },
   "file_extension": ".py",
   "mimetype": "text/x-python",
   "name": "python",
   "nbconvert_exporter": "python",
   "pygments_lexer": "ipython3",
   "version": "3.10.13"
  }
 },
 "nbformat": 4,
 "nbformat_minor": 5
}
