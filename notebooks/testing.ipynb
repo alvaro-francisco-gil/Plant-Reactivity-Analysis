{
 "cells": [
  {
   "cell_type": "code",
   "execution_count": 15,
   "id": "d682a9ac-99fa-4394-aaff-3844701b070f",
   "metadata": {
    "scrolled": true
   },
   "outputs": [],
   "source": [
    "import sys\n",
    "sys.path.append(\"../src/data\") "
   ]
  },
  {
   "cell_type": "code",
   "execution_count": 16,
   "id": "d5b91abe-37c4-4478-9207-7b7d4b5daf5a",
   "metadata": {},
   "outputs": [],
   "source": [
    "from wav_data_reader import WavDataReader\n",
    "from independent_feature_extractor import IndependentFeatureExtractor"
   ]
  },
  {
   "cell_type": "code",
   "execution_count": 3,
   "id": "eb1dc723-ac03-42e8-b4cc-0364d069e2b1",
   "metadata": {
    "scrolled": true
   },
   "outputs": [
    {
     "name": "stdout",
     "output_type": "stream",
     "text": [
      "CPU times: total: 8.84 s\n",
      "Wall time: 11.7 s\n"
     ]
    }
   ],
   "source": [
    "%%time\n",
    "#test= WavDataReader(r\"C:\\Users\\alvar\\Documents\\GitHub\\Plant-Reactivity-Analysis\\data\\interim\\testing\")\n",
    "test= WavDataReader(r\"..\\data\\raw\\wav_files\")\n",
    "test.read_wav_files()\n",
    "audios= test.get_wav_data()\n",
    "test_audio=audios[1]"
   ]
  },
  {
   "cell_type": "code",
   "execution_count": 4,
   "id": "2bd08d93-51b0-4b85-9733-67a6740be628",
   "metadata": {},
   "outputs": [
    {
     "data": {
      "text/plain": [
       "'None'"
      ]
     },
     "execution_count": 4,
     "metadata": {},
     "output_type": "execute_result"
    }
   ],
   "source": [
    "extractor= IndependentFeatureExtractor()\n",
    "extractor.standardization"
   ]
  },
  {
   "cell_type": "code",
   "execution_count": 5,
   "id": "97d522a0-3496-47f6-a594-f821c8c339e7",
   "metadata": {},
   "outputs": [],
   "source": [
    "values, labels= extractor.extract_all_features(test_audio)"
   ]
  },
  {
   "cell_type": "code",
   "execution_count": 6,
   "id": "83055df2-01f3-4529-b8af-d42256d675eb",
   "metadata": {},
   "outputs": [
    {
     "name": "stdout",
     "output_type": "stream",
     "text": [
      "Value: -1029.6422\n",
      "Label: mfcc_1_avg\n",
      "\n",
      "Value: 65.10537\n",
      "Label: mfcc_2_avg\n",
      "\n",
      "Value: 25.714659\n",
      "Label: mfcc_3_avg\n",
      "\n",
      "Value: 19.765614\n",
      "Label: mfcc_4_avg\n",
      "\n",
      "Value: 15.519746\n",
      "Label: mfcc_5_avg\n",
      "\n",
      "Value: 12.667431\n",
      "Label: mfcc_6_avg\n",
      "\n",
      "Value: 10.698452\n",
      "Label: mfcc_7_avg\n",
      "\n",
      "Value: 9.515569\n",
      "Label: mfcc_8_avg\n",
      "\n",
      "Value: 8.692119\n",
      "Label: mfcc_9_avg\n",
      "\n",
      "Value: 8.00132\n",
      "Label: mfcc_10_avg\n",
      "\n",
      "Value: 7.379011\n",
      "Label: mfcc_11_avg\n",
      "\n",
      "Value: 6.9081907\n",
      "Label: mfcc_12_avg\n",
      "\n",
      "Value: 6.567498\n",
      "Label: mfcc_13_avg\n",
      "\n",
      "Value: 49.92998\n",
      "Label: mfcc_1_std\n",
      "\n",
      "Value: 31.472227\n",
      "Label: mfcc_2_std\n",
      "\n",
      "Value: 10.399107\n",
      "Label: mfcc_3_std\n",
      "\n",
      "Value: 6.527733\n",
      "Label: mfcc_4_std\n",
      "\n",
      "Value: 4.585277\n",
      "Label: mfcc_5_std\n",
      "\n",
      "Value: 3.294057\n",
      "Label: mfcc_6_std\n",
      "\n",
      "Value: 2.4601772\n",
      "Label: mfcc_7_std\n",
      "\n",
      "Value: 1.9006798\n",
      "Label: mfcc_8_std\n",
      "\n",
      "Value: 1.6630404\n",
      "Label: mfcc_9_std\n",
      "\n",
      "Value: 1.470505\n",
      "Label: mfcc_10_std\n",
      "\n",
      "Value: 1.3788168\n",
      "Label: mfcc_11_std\n",
      "\n",
      "Value: 1.421513\n",
      "Label: mfcc_12_std\n",
      "\n",
      "Value: 1.368111\n",
      "Label: mfcc_13_std\n",
      "\n",
      "Value: 0.00010502625656414103\n",
      "Label: zero_crossing_rate\n",
      "\n",
      "Value: 0.0004498597\n",
      "Label: root_mean_square_energy\n",
      "\n",
      "Value: 0.007751937984496124\n",
      "Label: slope_sign_changes_ratio\n",
      "\n",
      "Value: 159.96\n",
      "Label: duration_seconds\n",
      "\n",
      "Value: 0.12613465866466617\n",
      "Label: flatness_ratio_10000\n",
      "\n",
      "Value: 0.17801887971993\n",
      "Label: flatness_ratio_5000\n",
      "\n",
      "Value: 0.37127469367341837\n",
      "Label: flatness_ratio_1000\n",
      "\n",
      "Value: 0.5188659664916229\n",
      "Label: flatness_ratio_500\n",
      "\n",
      "Value: 0.9071486621655414\n",
      "Label: flatness_ratio_100\n",
      "\n",
      "Value: 3.3489961554792163e-06\n",
      "Label: hjorth_mobility\n",
      "\n",
      "Value: 421669.9519428763\n",
      "Label: hjorth_complexity\n",
      "\n",
      "Value: nan\n",
      "Label: hurst\n",
      "\n",
      "Value: nan\n",
      "Label: hurst_r2\n",
      "\n",
      "Value: -0.00015309837\n",
      "Label: mean\n",
      "\n",
      "Value: 1.7893474e-07\n",
      "Label: variance\n",
      "\n",
      "Value: 0.00042300677\n",
      "Label: standard_deviation\n",
      "\n",
      "Value: 0.00054931640625\n",
      "Label: interquartile_range\n",
      "\n",
      "Value: -1.6366847818884145\n",
      "Label: skewness\n",
      "\n",
      "Value: 2.8658663578264925\n",
      "Label: kurtosis\n",
      "\n",
      "Value: 1.5529465100151296\n",
      "Label: dfa\n",
      "\n"
     ]
    }
   ],
   "source": [
    "for value, label in zip(values, labels):\n",
    "    print(\"Value:\", value)\n",
    "    print(\"Label:\", label)\n",
    "    print()  # Add an empty line for separation"
   ]
  },
  {
   "cell_type": "code",
   "execution_count": 17,
   "id": "8793898a-60a1-4fce-a4b5-c416dca055ac",
   "metadata": {},
   "outputs": [
    {
     "ename": "TypeError",
     "evalue": "WavDataReader.__init__() got an unexpected keyword argument 'filename'",
     "output_type": "error",
     "traceback": [
      "\u001b[1;31m---------------------------------------------------------------------------\u001b[0m",
      "\u001b[1;31mTypeError\u001b[0m                                 Traceback (most recent call last)",
      "Cell \u001b[1;32mIn[17], line 2\u001b[0m\n\u001b[0;32m      1\u001b[0m test_file\u001b[38;5;241m=\u001b[39m \u001b[38;5;124mr\u001b[39m\u001b[38;5;124m\"\u001b[39m\u001b[38;5;124mC:\u001b[39m\u001b[38;5;124m\\\u001b[39m\u001b[38;5;124mUsers\u001b[39m\u001b[38;5;124m\\\u001b[39m\u001b[38;5;124malvar\u001b[39m\u001b[38;5;124m\\\u001b[39m\u001b[38;5;124mDocuments\u001b[39m\u001b[38;5;124m\\\u001b[39m\u001b[38;5;124mGitHub\u001b[39m\u001b[38;5;124m\\\u001b[39m\u001b[38;5;124mPlant-Reactivity-Analysis\u001b[39m\u001b[38;5;124m\\\u001b[39m\u001b[38;5;124mdata\u001b[39m\u001b[38;5;124m\\\u001b[39m\u001b[38;5;124minterim\u001b[39m\u001b[38;5;124m\\\u001b[39m\u001b[38;5;124mtesting\u001b[39m\u001b[38;5;124m\\\u001b[39m\u001b[38;5;124m#2_#12_230429_SK1_M3_BYB_Recording_2023-04-29_14.42.37.wav\u001b[39m\u001b[38;5;124m\"\u001b[39m\n\u001b[1;32m----> 2\u001b[0m test_reader\u001b[38;5;241m=\u001b[39m \u001b[43mWavDataReader\u001b[49m\u001b[43m(\u001b[49m\u001b[43mfilename\u001b[49m\u001b[38;5;241;43m=\u001b[39;49m\u001b[43mtest_file\u001b[49m\u001b[43m)\u001b[49m\n\u001b[0;32m      3\u001b[0m test_reader\u001b[38;5;241m.\u001b[39mget_wav_data()\n",
      "\u001b[1;31mTypeError\u001b[0m: WavDataReader.__init__() got an unexpected keyword argument 'filename'"
     ]
    }
   ],
   "source": [
    "test_file= r\"C:\\Users\\alvar\\Documents\\GitHub\\Plant-Reactivity-Analysis\\data\\interim\\testing\\#2_#12_230429_SK1_M3_BYB_Recording_2023-04-29_14.42.37.wav\"\n",
    "test_reader= WavDataReader(filename=test_file)\n",
    "test_reader.get_wav_data()"
   ]
  },
  {
   "cell_type": "code",
   "execution_count": null,
   "id": "638acdbe-9d45-4c7a-b64f-c4a179d277d0",
   "metadata": {},
   "outputs": [],
   "source": []
  },
  {
   "cell_type": "code",
   "execution_count": null,
   "id": "57ed87e6-b50e-420e-9fe0-36dcee21f09f",
   "metadata": {},
   "outputs": [],
   "source": []
  }
 ],
 "metadata": {
  "kernelspec": {
   "display_name": "Python 3 (ipykernel)",
   "language": "python",
   "name": "python3"
  },
  "language_info": {
   "codemirror_mode": {
    "name": "ipython",
    "version": 3
   },
   "file_extension": ".py",
   "mimetype": "text/x-python",
   "name": "python",
   "nbconvert_exporter": "python",
   "pygments_lexer": "ipython3",
   "version": "3.10.13"
  }
 },
 "nbformat": 4,
 "nbformat_minor": 5
}
