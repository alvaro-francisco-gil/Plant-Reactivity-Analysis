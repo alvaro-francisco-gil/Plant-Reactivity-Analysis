{
 "cells": [
  {
   "cell_type": "code",
   "execution_count": 1,
   "id": "56743a73",
   "metadata": {},
   "outputs": [],
   "source": [
    "import warnings\n",
    "warnings.filterwarnings(\"ignore\", category=DeprecationWarning)"
   ]
  },
  {
   "cell_type": "code",
   "execution_count": 4,
   "id": "d682a9ac-99fa-4394-aaff-3844701b070f",
   "metadata": {
    "scrolled": true
   },
   "outputs": [],
   "source": [
    "import sys\n",
    "sys.path.append(\"../src\") "
   ]
  },
  {
   "cell_type": "code",
   "execution_count": 5,
   "id": "d5b91abe-37c4-4478-9207-7b7d4b5daf5a",
   "metadata": {},
   "outputs": [],
   "source": [
    "from data.wav_data_reader import WavDataReader\n",
    "from data.signal_dataset import SignalDataset\n",
    "from features.independent_wav_feature_extractor import IndependentWavFeatureExtractor\n",
    "from features.features_dataset import FeaturesDataset"
   ]
  },
  {
   "cell_type": "code",
   "execution_count": null,
   "id": "2ab39bbd",
   "metadata": {},
   "outputs": [],
   "source": [
    "test_file= r\"..\\data\\interim\\testing\\#2_#12_230429_SK1_M3_BYB_Recording_2023-04-29_14.42.37.wav\""
   ]
  },
  {
   "cell_type": "code",
   "execution_count": null,
   "id": "eb1dc723-ac03-42e8-b4cc-0364d069e2b1",
   "metadata": {
    "scrolled": true
   },
   "outputs": [],
   "source": [
    "sample_rate= 10000\n",
    "reader1= WavDataReader(filename= test_file, sample_rate= sample_rate, extract_key= True)\n",
    "reader1.get_data()"
   ]
  },
  {
   "cell_type": "code",
   "execution_count": null,
   "id": "c8552bcf",
   "metadata": {},
   "outputs": [],
   "source": [
    "signal_dataset1= SignalDataset(signals= reader1.get_values(), labels= reader1.get_keys(), sample_rate= 10000)\n",
    "signal_dataset1.get_data()"
   ]
  },
  {
   "cell_type": "code",
   "execution_count": null,
   "id": "7708b2f7",
   "metadata": {},
   "outputs": [],
   "source": [
    "# You can choose 'peak', 'zscore', or 'min_max'\n",
    "signal_dataset1.standardize_signals(\"zscore\") \n",
    "signal_dataset1.get_datapoint_by_key(12)"
   ]
  },
  {
   "cell_type": "code",
   "execution_count": null,
   "id": "627c63cf",
   "metadata": {},
   "outputs": [],
   "source": [
    "print(len(signal_dataset1.signals[0]/sample_rate))\n",
    "time_intervals = [(10, 80)] \n",
    "signal_dataset1.trim_signals(time_intervals)\n",
    "print(signal_dataset1.get_datapoint_by_index(0))\n",
    "print(len(signal_dataset1.signals[0]/sample_rate))"
   ]
  },
  {
   "cell_type": "code",
   "execution_count": null,
   "id": "2bd08d93-51b0-4b85-9733-67a6740be628",
   "metadata": {},
   "outputs": [],
   "source": [
    "extractor= IndependentWavFeatureExtractor(sample_rate= sample_rate, n_mfcc= 13, n_fft= 2000, hop_length= 500)\n",
    "features,labels= extractor.extract_all_features(signal_dataset1.signals[0])\n",
    "\n",
    "for value, label in zip(features, labels):\n",
    "    print(label,\": \",value)"
   ]
  },
  {
   "cell_type": "code",
   "execution_count": null,
   "id": "f5f7f815-fbad-4bf2-a836-07261509a278",
   "metadata": {},
   "outputs": [],
   "source": [
    "print(labels)"
   ]
  },
  {
   "cell_type": "code",
   "execution_count": null,
   "id": "83055df2-01f3-4529-b8af-d42256d675eb",
   "metadata": {},
   "outputs": [],
   "source": [
    "feat_dataset1= FeaturesDataset(features= [features], targets=signal_dataset1.get_labels(),feature_labels=labels)\n",
    "feat_dataset1.get_data()"
   ]
  },
  {
   "cell_type": "code",
   "execution_count": null,
   "id": "64becee5",
   "metadata": {
    "scrolled": true
   },
   "outputs": [],
   "source": [
    "feat_dataset1.remove_nan_columns()\n",
    "feat_dataset1.get_data()"
   ]
  },
  {
   "cell_type": "code",
   "execution_count": null,
   "id": "e9886c6a-68aa-4acd-8b46-b1a8dabfb07d",
   "metadata": {},
   "outputs": [],
   "source": [
    "feat_dataset1.get_labels()"
   ]
  }
 ],
 "metadata": {
  "kernelspec": {
   "display_name": "Python 3 (ipykernel)",
   "language": "python",
   "name": "python3"
  },
  "language_info": {
   "codemirror_mode": {
    "name": "ipython",
    "version": 3
   },
   "file_extension": ".py",
   "mimetype": "text/x-python",
   "name": "python",
   "nbconvert_exporter": "python",
   "pygments_lexer": "ipython3",
   "version": "3.10.13"
  }
 },
 "nbformat": 4,
 "nbformat_minor": 5
}
