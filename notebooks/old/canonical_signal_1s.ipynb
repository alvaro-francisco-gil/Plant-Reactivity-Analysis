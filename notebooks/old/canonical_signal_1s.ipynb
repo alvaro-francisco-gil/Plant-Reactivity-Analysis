{
 "cells": [
  {
   "cell_type": "markdown",
   "id": "501268a1-2347-46dd-ae4e-d4424b0261a9",
   "metadata": {},
   "source": [
    "# Canonical Signal"
   ]
  },
  {
   "cell_type": "code",
   "execution_count": 1,
   "id": "d5b91abe-37c4-4478-9207-7b7d4b5daf5a",
   "metadata": {},
   "outputs": [],
   "source": [
    "from PlantReactivityAnalysis.data.signal_dataset import SignalDataset\n",
    "import PlantReactivityAnalysis.data.preparation_eurythmy_data as ped\n",
    "import PlantReactivityAnalysis.visualization.visualize as vis"
   ]
  },
  {
   "cell_type": "code",
   "execution_count": 2,
   "id": "e831e117-7c55-40ae-81a5-ab9359d95f84",
   "metadata": {},
   "outputs": [],
   "source": [
    "def get_class_indices(input_list):\n",
    "    class_indices = {}\n",
    "    for idx, value in enumerate(input_list):\n",
    "        if value not in class_indices:\n",
    "            class_indices[value] = []\n",
    "        class_indices[value].append(idx)\n",
    "    return class_indices"
   ]
  },
  {
   "cell_type": "markdown",
   "id": "acf646a6-efa3-41e0-9454-51f41d501a00",
   "metadata": {},
   "source": [
    "## Data Import"
   ]
  },
  {
   "cell_type": "code",
   "execution_count": 4,
   "id": "cd7698d4-110d-4c8f-9b2d-0ad9eed152a3",
   "metadata": {},
   "outputs": [
    {
     "ename": "FileNotFoundError",
     "evalue": "[Errno 2] No such file or directory: '../data/interim/norm_1s_signal_dataset.pkl'",
     "output_type": "error",
     "traceback": [
      "\u001b[1;31m---------------------------------------------------------------------------\u001b[0m",
      "\u001b[1;31mFileNotFoundError\u001b[0m                         Traceback (most recent call last)",
      "Cell \u001b[1;32mIn[4], line 2\u001b[0m\n\u001b[0;32m      1\u001b[0m norm_1s_signal_dataset_path\u001b[38;5;241m=\u001b[39m \u001b[38;5;124mr\u001b[39m\u001b[38;5;124m\"\u001b[39m\u001b[38;5;124m../data/interim/norm_1s_signal_dataset.pkl\u001b[39m\u001b[38;5;124m\"\u001b[39m\n\u001b[1;32m----> 2\u001b[0m signal_dataset \u001b[38;5;241m=\u001b[39m \u001b[43mSignalDataset\u001b[49m\u001b[38;5;241;43m.\u001b[39;49m\u001b[43mload\u001b[49m\u001b[43m(\u001b[49m\u001b[43mfile_path\u001b[49m\u001b[38;5;241;43m=\u001b[39;49m\u001b[43m \u001b[49m\u001b[43mnorm_1s_signal_dataset_path\u001b[49m\u001b[43m)\u001b[49m\n",
      "File \u001b[1;32m~\\Documents\\GitHub\\Plant-Reactivity-Analysis\\src\\PlantReactivityAnalysis\\data\\signal_dataset.py:345\u001b[0m, in \u001b[0;36mSignalDataset.load\u001b[1;34m(cls, file_path)\u001b[0m\n\u001b[0;32m    337\u001b[0m \u001b[38;5;129m@classmethod\u001b[39m\n\u001b[0;32m    338\u001b[0m \u001b[38;5;28;01mdef\u001b[39;00m \u001b[38;5;21mload\u001b[39m(\u001b[38;5;28mcls\u001b[39m, file_path):\n\u001b[0;32m    339\u001b[0m \u001b[38;5;250m    \u001b[39m\u001b[38;5;124;03m\"\"\"\u001b[39;00m\n\u001b[0;32m    340\u001b[0m \u001b[38;5;124;03m    Loads the dataset from a file.\u001b[39;00m\n\u001b[0;32m    341\u001b[0m \n\u001b[0;32m    342\u001b[0m \u001b[38;5;124;03m    :param file_path: Path to the file from which the dataset will be loaded.\u001b[39;00m\n\u001b[0;32m    343\u001b[0m \u001b[38;5;124;03m    :return: Loaded FeaturesDataset instance.\u001b[39;00m\n\u001b[0;32m    344\u001b[0m \u001b[38;5;124;03m    \"\"\"\u001b[39;00m\n\u001b[1;32m--> 345\u001b[0m     \u001b[38;5;28;01mwith\u001b[39;00m \u001b[38;5;28;43mopen\u001b[39;49m\u001b[43m(\u001b[49m\u001b[43mfile_path\u001b[49m\u001b[43m,\u001b[49m\u001b[43m \u001b[49m\u001b[38;5;124;43m\"\u001b[39;49m\u001b[38;5;124;43mrb\u001b[39;49m\u001b[38;5;124;43m\"\u001b[39;49m\u001b[43m)\u001b[49m \u001b[38;5;28;01mas\u001b[39;00m file:\n\u001b[0;32m    346\u001b[0m         \u001b[38;5;28;01mreturn\u001b[39;00m pickle\u001b[38;5;241m.\u001b[39mload(file)\n",
      "\u001b[1;31mFileNotFoundError\u001b[0m: [Errno 2] No such file or directory: '../data/interim/norm_1s_signal_dataset.pkl'"
     ]
    }
   ],
   "source": [
    "norm_1s_signal_dataset_path= r\"../data/interim/norm_1s_signal_dataset.pkl\"\n",
    "signal_dataset = SignalDataset.load(file_path= norm_1s_signal_dataset_path)"
   ]
  },
  {
   "cell_type": "markdown",
   "id": "099ecdca-37cd-4d8e-811f-16de5f2936cd",
   "metadata": {},
   "source": [
    "## Plant Signal"
   ]
  },
  {
   "cell_type": "code",
   "execution_count": null,
   "id": "af9fa340-2d02-4c1f-873a-dab79d07a442",
   "metadata": {},
   "outputs": [],
   "source": [
    "avg_signal= signal_dataset.average_signal(signal_dataset.indexes)"
   ]
  },
  {
   "cell_type": "code",
   "execution_count": null,
   "id": "9b1eca11-0e6c-4f12-9cdb-cccc96d83952",
   "metadata": {},
   "outputs": [],
   "source": [
    "vis.plot_multiple_waveforms(waveforms= [avg_signal], labels=['Average Plant Signal'])"
   ]
  },
  {
   "cell_type": "markdown",
   "id": "b4d3b854-868b-4200-93db-5b47a2750f22",
   "metadata": {},
   "source": [
    "## RQ1"
   ]
  },
  {
   "cell_type": "code",
   "execution_count": null,
   "id": "027d5832-9cb4-4380-a925-53139cf2244d",
   "metadata": {},
   "outputs": [],
   "source": [
    "rq1_signal_dataset= signal_dataset.copy()\n",
    "rq1_indexes, rq1_targets= ped.get_indexes_and_targets_by_rq(1, rq1_signal_dataset.features)\n",
    "rq1_signal_dataset.features= rq1_signal_dataset.features.iloc[rq1_indexes]\n",
    "rq1_signal_dataset.features.reset_index(drop=True, inplace=True)"
   ]
  },
  {
   "cell_type": "code",
   "execution_count": null,
   "id": "842e329a-8f1d-4aab-88d4-809280461b29",
   "metadata": {},
   "outputs": [],
   "source": [
    "rq1_classes_indices= get_class_indices(rq1_targets)"
   ]
  },
  {
   "cell_type": "code",
   "execution_count": null,
   "id": "89dd918f-bdbd-483f-90a2-a8f1fe604cc0",
   "metadata": {},
   "outputs": [],
   "source": [
    "avg_eurythmy= signal_dataset.average_signal(rq1_classes_indices[1])\n",
    "avg_control= signal_dataset.average_signal(rq1_classes_indices[0])"
   ]
  },
  {
   "cell_type": "code",
   "execution_count": null,
   "id": "70fcaf4e-f99f-4f7d-9e9d-dd078fe9ac00",
   "metadata": {},
   "outputs": [],
   "source": [
    "vis.plot_multiple_waveforms(waveforms= [avg_eurythmy, avg_control], labels=['Eurythmy','Control'], title='Canonical Comparison')"
   ]
  },
  {
   "cell_type": "markdown",
   "id": "0ae0e58a-2636-4493-b02a-73960e951f35",
   "metadata": {},
   "source": [
    "### Removing constant signals"
   ]
  },
  {
   "cell_type": "code",
   "execution_count": null,
   "id": "ee89ea6f-307f-48d3-a3f7-244d69f0f3ea",
   "metadata": {},
   "outputs": [],
   "source": [
    "rq1_signal_dataset.remove_constant_signals()"
   ]
  },
  {
   "cell_type": "code",
   "execution_count": null,
   "id": "df413fc0-7d78-43e4-8b00-e65f775ff61c",
   "metadata": {},
   "outputs": [],
   "source": [
    "rq1_signal_dataset.features.reset_index(drop=True, inplace=True)\n",
    "rq1_indexes, rq1_targets= ped.get_indexes_and_targets_by_rq(1, rq1_signal_dataset.features)\n",
    "rq1_signal_dataset.features= rq1_signal_dataset.features.iloc[rq1_indexes]\n",
    "rq1_signal_dataset.features.reset_index(drop=True, inplace=True)"
   ]
  },
  {
   "cell_type": "code",
   "execution_count": null,
   "id": "5424632b-00b8-4ffa-837c-f80d2b795b1e",
   "metadata": {},
   "outputs": [],
   "source": [
    "rq1_classes_indices= get_class_indices(rq1_targets)"
   ]
  },
  {
   "cell_type": "code",
   "execution_count": null,
   "id": "d9ae6fa5-967c-4234-9fd7-3d5483bdd613",
   "metadata": {},
   "outputs": [],
   "source": [
    "avg_eurythmy= signal_dataset.average_signal(rq1_classes_indices[1])\n",
    "avg_control= signal_dataset.average_signal(rq1_classes_indices[0])"
   ]
  },
  {
   "cell_type": "code",
   "execution_count": null,
   "id": "2bbaf482-516b-4ede-bf01-47f7ad170b86",
   "metadata": {},
   "outputs": [],
   "source": [
    "vis.plot_multiple_waveforms(waveforms= [avg_eurythmy, avg_control], labels=['Eurythmy','Control'], title='Canonical Comparison')"
   ]
  },
  {
   "cell_type": "markdown",
   "id": "31f1c3bb-7adf-4027-add4-cba0fd575c42",
   "metadata": {},
   "source": [
    "## RQ2"
   ]
  },
  {
   "cell_type": "code",
   "execution_count": null,
   "id": "2414bc52-2b58-426e-9e7d-b56e95399530",
   "metadata": {},
   "outputs": [],
   "source": [
    "rq2_signal_dataset= signal_dataset.copy()\n",
    "rq2_indexes, rq2_targets= ped.get_indexes_and_targets_by_rq(2, rq2_signal_dataset.features)\n",
    "rq2_signal_dataset.features= rq2_signal_dataset.features.iloc[rq2_indexes]\n",
    "rq2_signal_dataset.features.reset_index(drop=True, inplace=True)\n",
    "\n",
    "rq2_classes_indices= get_class_indices(rq2_targets)\n",
    "avg_A= signal_dataset.average_signal(rq2_classes_indices[0])\n",
    "avg_G= signal_dataset.average_signal(rq2_classes_indices[1])\n",
    "avg_D= signal_dataset.average_signal(rq2_classes_indices[2])\n",
    "\n",
    "vis.plot_multiple_waveforms(waveforms= [avg_A, avg_G, avg_D], labels=['A','G','D'], title='Canonical Comparison Letters')"
   ]
  },
  {
   "cell_type": "markdown",
   "id": "086a5919-ccee-4e40-991d-0bd9559a819a",
   "metadata": {},
   "source": [
    "### Removing constant signals"
   ]
  },
  {
   "cell_type": "code",
   "execution_count": null,
   "id": "7c115540-ad24-4cae-aae2-c6fbd0831d8f",
   "metadata": {},
   "outputs": [],
   "source": [
    "rq2_signal_dataset.remove_constant_signals()\n",
    "\n",
    "rq2_signal_dataset.features.reset_index(drop=True, inplace=True)\n",
    "rq2_indexes, rq2_targets= ped.get_indexes_and_targets_by_rq(2, rq2_signal_dataset.features)\n",
    "rq2_signal_dataset.features= rq2_signal_dataset.features.iloc[rq2_indexes]\n",
    "rq2_signal_dataset.features.reset_index(drop=True, inplace=True)\n",
    "\n",
    "rq2_classes_indices= get_class_indices(rq2_targets)\n",
    "avg_A= signal_dataset.average_signal(rq2_classes_indices[0])\n",
    "avg_G= signal_dataset.average_signal(rq2_classes_indices[1])\n",
    "avg_D= signal_dataset.average_signal(rq2_classes_indices[2])\n",
    "\n",
    "vis.plot_multiple_waveforms(waveforms= [avg_A, avg_G, avg_D], labels=['A','G','D'], title='Canonical Comparison Letters')"
   ]
  },
  {
   "cell_type": "code",
   "execution_count": null,
   "id": "2cbe65b7-ef0c-4a8e-b667-a9c8cd84cef6",
   "metadata": {},
   "outputs": [],
   "source": [
    "del rq2_signal_dataset"
   ]
  },
  {
   "cell_type": "markdown",
   "id": "c74949d2-62ab-4895-9b15-d3d5b682845a",
   "metadata": {},
   "source": [
    "## RQ3"
   ]
  },
  {
   "cell_type": "code",
   "execution_count": null,
   "id": "20e9c9fa-8928-4115-8639-d5c973aecdef",
   "metadata": {},
   "outputs": [],
   "source": [
    "rq3_signal_dataset= signal_dataset.copy()\n",
    "rq3_indexes, rq3_targets= ped.get_indexes_and_targets_by_rq(3, rq3_signal_dataset.features)\n",
    "rq3_signal_dataset.features= rq3_signal_dataset.features.iloc[rq3_indexes]\n",
    "rq3_signal_dataset.features.reset_index(drop=True, inplace=True)\n",
    "\n",
    "rq3_classes_indices= get_class_indices(rq3_targets)\n",
    "avg_1_2= signal_dataset.average_signal(rq3_classes_indices[0])\n",
    "avg_3_4= signal_dataset.average_signal(rq3_classes_indices[1])\n",
    "avg_5_6= signal_dataset.average_signal(rq3_classes_indices[2])\n",
    "avg_7_8= signal_dataset.average_signal(rq3_classes_indices[3])\n",
    "\n",
    "vis.plot_multiple_waveforms(waveforms= [avg_1_2, avg_3_4, avg_5_6, avg_7_8], labels=['1-2 times','3-4 times','5-6 times', '7-8 times'],\n",
    "                        title='Canonical Comparison of Habituation')"
   ]
  },
  {
   "cell_type": "markdown",
   "id": "b5b4c837-51d0-482f-85a7-54202d9c553e",
   "metadata": {},
   "source": [
    "### Removing constant signals"
   ]
  },
  {
   "cell_type": "code",
   "execution_count": null,
   "id": "f1ee4f54-e0bd-423b-9e21-e1169946e650",
   "metadata": {},
   "outputs": [],
   "source": [
    "rq3_signal_dataset.remove_constant_signals()\n",
    "\n",
    "rq3_signal_dataset.features.reset_index(drop=True, inplace=True)\n",
    "rq3_indexes, rq3_targets= ped.get_indexes_and_targets_by_rq(3, rq3_signal_dataset.features)\n",
    "rq3_signal_dataset.features= rq3_signal_dataset.features.iloc[rq3_indexes]\n",
    "rq3_signal_dataset.features.reset_index(drop=True, inplace=True)\n",
    "\n",
    "rq3_classes_indices= get_class_indices(rq3_targets)\n",
    "avg_1_2= signal_dataset.average_signal(rq3_classes_indices[0])\n",
    "avg_3_4= signal_dataset.average_signal(rq3_classes_indices[1])\n",
    "avg_5_6= signal_dataset.average_signal(rq3_classes_indices[2])\n",
    "avg_7_8= signal_dataset.average_signal(rq3_classes_indices[3])\n",
    "\n",
    "vis.plot_multiple_waveforms(waveforms= [avg_1_2, avg_3_4, avg_5_6, avg_7_8], labels=['1-2 times','3-4 times','5-6 times', '7-8 times'],\n",
    "                        title='Canonical Comparison of Habituation')"
   ]
  },
  {
   "cell_type": "markdown",
   "id": "efbce4dc-76c3-4fb0-b86b-d0be9f35e302",
   "metadata": {},
   "source": [
    "## RQ4"
   ]
  },
  {
   "cell_type": "code",
   "execution_count": null,
   "id": "a7d760ef-1086-4b2c-9bf7-1d8b8ebb738a",
   "metadata": {},
   "outputs": [],
   "source": [
    "rq4_signal_dataset= signal_dataset.copy()\n",
    "rq4_indexes, rq4_targets= ped.get_indexes_and_targets_by_rq(4, rq4_signal_dataset.features)\n",
    "rq4_signal_dataset.features= rq4_signal_dataset.features.iloc[rq4_indexes]\n",
    "rq4_signal_dataset.features.reset_index(drop=True, inplace=True)\n",
    "\n",
    "rq4_classes_indices= get_class_indices(rq4_targets)\n",
    "avg_1= signal_dataset.average_signal(rq4_classes_indices[0])\n",
    "avg_2= signal_dataset.average_signal(rq4_classes_indices[1])\n",
    "avg_3= signal_dataset.average_signal(rq4_classes_indices[2])\n",
    "avg_4= signal_dataset.average_signal(rq4_classes_indices[3])\n",
    "\n",
    "vis.plot_multiple_waveforms(waveforms= [avg_1, avg_2, avg_3, avg_4], labels=['1st rep','2nd rep','3rd rep', '4th rep'],\n",
    "                        title='Canonical Comparison of Letters repetitions')"
   ]
  },
  {
   "cell_type": "markdown",
   "id": "b3d35f60-5cd5-4752-bf0a-229fabd5b324",
   "metadata": {},
   "source": [
    "### Removing constant signals"
   ]
  },
  {
   "cell_type": "code",
   "execution_count": null,
   "id": "863fa3dc-a772-4a5f-9b8e-8c2894e78be7",
   "metadata": {},
   "outputs": [],
   "source": [
    "rq4_signal_dataset.remove_constant_signals()\n",
    "\n",
    "rq4_signal_dataset.features.reset_index(drop=True, inplace=True)\n",
    "rq4_indexes, rq4_targets= ped.get_indexes_and_targets_by_rq(4, rq4_signal_dataset.features)\n",
    "rq4_signal_dataset.features= rq4_signal_dataset.features.iloc[rq4_indexes]\n",
    "rq4_signal_dataset.features.reset_index(drop=True, inplace=True)\n",
    "\n",
    "rq4_classes_indices= get_class_indices(rq4_targets)\n",
    "avg_1= signal_dataset.average_signal(rq4_classes_indices[0])\n",
    "avg_2= signal_dataset.average_signal(rq4_classes_indices[1])\n",
    "avg_3= signal_dataset.average_signal(rq4_classes_indices[2])\n",
    "avg_4= signal_dataset.average_signal(rq4_classes_indices[3])\n",
    "\n",
    "vis.plot_multiple_waveforms(waveforms= [avg_1, avg_2, avg_3, avg_4], labels=['1st rep','2nd rep','3rd rep', '4th rep'],\n",
    "                        title='Canonical Comparison of Letters repetitions')"
   ]
  },
  {
   "cell_type": "markdown",
   "id": "ea5115f9-26c2-465f-9b6b-89852dbfcb9e",
   "metadata": {},
   "source": [
    "## RQ5"
   ]
  },
  {
   "cell_type": "code",
   "execution_count": null,
   "id": "e42bdd2d-4f87-46c6-8d35-0a37bb498fc3",
   "metadata": {},
   "outputs": [],
   "source": [
    "rq5_signal_dataset= signal_dataset.copy()\n",
    "rq5_indexes, rq5_targets= ped.get_indexes_and_targets_by_rq(5, rq5_signal_dataset.features)\n",
    "rq5_signal_dataset.features= rq5_signal_dataset.features.iloc[rq5_indexes]\n",
    "rq5_signal_dataset.features.reset_index(drop=True, inplace=True)\n",
    "\n",
    "rq5_classes_indices= get_class_indices(rq5_targets)\n",
    "avg_1= signal_dataset.average_signal(rq5_classes_indices[0])\n",
    "avg_2= signal_dataset.average_signal(rq5_classes_indices[1])\n",
    "avg_3= signal_dataset.average_signal(rq5_classes_indices[2])\n",
    "\n",
    "vis.plot_multiple_waveforms(waveforms= [avg_1, avg_2, avg_3], labels=['salad','tomato','basil'],\n",
    "                        title='Canonical Comparison of Plants')"
   ]
  },
  {
   "cell_type": "code",
   "execution_count": null,
   "id": "8554d050-5d44-4063-8064-42dc809a25f4",
   "metadata": {},
   "outputs": [],
   "source": [
    "rq5_signal_dataset.remove_constant_signals()\n",
    "\n",
    "rq5_signal_dataset.features.reset_index(drop=True, inplace=True)\n",
    "rq5_indexes, rq5_targets= ped.get_indexes_and_targets_by_rq(5, rq5_signal_dataset.features)\n",
    "rq5_signal_dataset.features= rq5_signal_dataset.features.iloc[rq5_indexes]\n",
    "rq5_signal_dataset.features.reset_index(drop=True, inplace=True)\n",
    "\n",
    "rq5_classes_indices= get_class_indices(rq5_targets)\n",
    "avg_1= signal_dataset.average_signal(rq5_classes_indices[0])\n",
    "avg_2= signal_dataset.average_signal(rq5_classes_indices[1])\n",
    "avg_3= signal_dataset.average_signal(rq5_classes_indices[2])\n",
    "\n",
    "vis.plot_multiple_waveforms(waveforms= [avg_1, avg_2, avg_3], labels=['salad','tomato','basil'],\n",
    "                        title='Canonical Comparison of Plants')"
   ]
  }
 ],
 "metadata": {
  "kernelspec": {
   "display_name": "Python 3 (ipykernel)",
   "language": "python",
   "name": "python3"
  },
  "language_info": {
   "codemirror_mode": {
    "name": "ipython",
    "version": 3
   },
   "file_extension": ".py",
   "mimetype": "text/x-python",
   "name": "python",
   "nbconvert_exporter": "python",
   "pygments_lexer": "ipython3",
   "version": "3.10.13"
  }
 },
 "nbformat": 4,
 "nbformat_minor": 5
}
