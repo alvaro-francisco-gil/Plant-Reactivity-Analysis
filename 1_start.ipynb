{
 "cells": [
  {
   "cell_type": "code",
   "execution_count": 1,
   "id": "6e494696-bf29-4a2b-84c6-0939f18bb083",
   "metadata": {},
   "outputs": [
    {
     "name": "stderr",
     "output_type": "stream",
     "text": [
      "Cloning into 'bus_number'...\n"
     ]
    }
   ],
   "source": [
    "!git clone https://github.com/hackalog/bus_number"
   ]
  },
  {
   "cell_type": "code",
   "execution_count": 2,
   "id": "d2b5bda3-2df3-40ae-a630-85b5503494b9",
   "metadata": {},
   "outputs": [
    {
     "name": "stdout",
     "output_type": "stream",
     "text": [
      "Current Directory: C:\\Users\\alvar\\Documents\\GitHub\\Plant-Reactivity-Analysis\\notebooks\n",
      "Files in Directory: ['.gitkeep', '.ipynb_checkpoints', '1_start.ipynb', 'bus_number']\n"
     ]
    }
   ],
   "source": [
    "import os\n",
    "\n",
    "# Get the current working directory\n",
    "current_directory = os.getcwd()\n",
    "\n",
    "# List files in the current directory\n",
    "files_in_directory = os.listdir(current_directory)\n",
    "\n",
    "# Print the current directory and list of files\n",
    "print(\"Current Directory:\", current_directory)\n",
    "print(\"Files in Directory:\", files_in_directory)\n"
   ]
  },
  {
   "cell_type": "code",
   "execution_count": null,
   "id": "6ff7f1bd-c41d-4644-9f13-eaad82972569",
   "metadata": {},
   "outputs": [],
   "source": []
  },
  {
   "cell_type": "code",
   "execution_count": null,
   "id": "8b03009c-a9a6-4d22-8783-6de2b13d020e",
   "metadata": {},
   "outputs": [],
   "source": []
  },
  {
   "cell_type": "code",
   "execution_count": null,
   "id": "285a0ee4-6cf0-49c3-bf2a-4e4bdf479db0",
   "metadata": {},
   "outputs": [],
   "source": []
  }
 ],
 "metadata": {
  "kernelspec": {
   "display_name": "Python 3 (ipykernel)",
   "language": "python",
   "name": "python3"
  },
  "language_info": {
   "codemirror_mode": {
    "name": "ipython",
    "version": 3
   },
   "file_extension": ".py",
   "mimetype": "text/x-python",
   "name": "python",
   "nbconvert_exporter": "python",
   "pygments_lexer": "ipython3",
   "version": "3.10.13"
  }
 },
 "nbformat": 4,
 "nbformat_minor": 5
}
